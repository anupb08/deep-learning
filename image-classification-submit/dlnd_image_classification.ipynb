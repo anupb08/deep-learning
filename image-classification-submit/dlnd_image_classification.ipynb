{
 "metadata": {
  "kernelspec": {
   "display_name": "Python [Root]",
   "language": "python",
   "name": "Python [Root]"
  },
  "language_info": {
   "codemirror_mode": {
    "name": "ipython",
    "version": 3
   },
   "file_extension": ".py",
   "mimetype": "text/x-python",
   "name": "python",
   "nbconvert_exporter": "python",
   "pygments_lexer": "ipython3",
   "version": "3.5.2"
  },
  "name": ""
 },
 "nbformat": 3,
 "nbformat_minor": 0,
 "worksheets": [
  {
   "cells": [
    {
     "cell_type": "markdown",
     "metadata": {
      "collapsed": true,
      "deletable": true,
      "editable": true
     },
     "source": [
      "# Image Classification\n",
      "In this project, you'll classify images from the [CIFAR-10 dataset](https://www.cs.toronto.edu/~kriz/cifar.html).  The dataset consists of airplanes, dogs, cats, and other objects. You'll preprocess the images, then train a convolutional neural network on all the samples. The images need to be normalized and the labels need to be one-hot encoded.  You'll get to apply what you learned and build a convolutional, max pooling, dropout, and fully connected layers.  At the end, you'll get to see your neural network's predictions on the sample images.\n",
      "## Get the Data\n",
      "Run the following cell to download the [CIFAR-10 dataset for python](https://www.cs.toronto.edu/~kriz/cifar-10-python.tar.gz)."
     ]
    },
    {
     "cell_type": "code",
     "collapsed": false,
     "input": [
      "\"\"\"\n",
      "DON'T MODIFY ANYTHING IN THIS CELL THAT IS BELOW THIS LINE\n",
      "\"\"\"\n",
      "from urllib.request import urlretrieve\n",
      "from os.path import isfile, isdir\n",
      "from tqdm import tqdm\n",
      "import problem_unittests as tests\n",
      "import tarfile\n",
      "\n",
      "cifar10_dataset_folder_path = 'cifar-10-batches-py'\n",
      "\n",
      "# Use Floyd's cifar-10 dataset if present\n",
      "floyd_cifar10_location = '/input/cifar-10/python.tar.gz'\n",
      "if isfile(floyd_cifar10_location):\n",
      "    tar_gz_path = floyd_cifar10_location\n",
      "else:\n",
      "    tar_gz_path = 'cifar-10-python.tar.gz'\n",
      "\n",
      "class DLProgress(tqdm):\n",
      "    last_block = 0\n",
      "\n",
      "    def hook(self, block_num=1, block_size=1, total_size=None):\n",
      "        self.total = total_size\n",
      "        self.update((block_num - self.last_block) * block_size)\n",
      "        self.last_block = block_num\n",
      "\n",
      "if not isfile(tar_gz_path):\n",
      "    with DLProgress(unit='B', unit_scale=True, miniters=1, desc='CIFAR-10 Dataset') as pbar:\n",
      "        urlretrieve(\n",
      "            'https://www.cs.toronto.edu/~kriz/cifar-10-python.tar.gz',\n",
      "            tar_gz_path,\n",
      "            pbar.hook)\n",
      "\n",
      "if not isdir(cifar10_dataset_folder_path):\n",
      "    with tarfile.open(tar_gz_path) as tar:\n",
      "        tar.extractall()\n",
      "        tar.close()\n",
      "\n",
      "\n",
      "tests.test_folder_path(cifar10_dataset_folder_path)"
     ],
     "language": "python",
     "metadata": {
      "deletable": true,
      "editable": true
     },
     "outputs": [
      {
       "output_type": "stream",
       "stream": "stdout",
       "text": [
        "All files found!\n"
       ]
      }
     ],
     "prompt_number": 1
    },
    {
     "cell_type": "markdown",
     "metadata": {
      "deletable": true,
      "editable": true
     },
     "source": [
      "## Explore the Data\n",
      "The dataset is broken into batches to prevent your machine from running out of memory.  The CIFAR-10 dataset consists of 5 batches, named `data_batch_1`, `data_batch_2`, etc.. Each batch contains the labels and images that are one of the following:\n",
      "* airplane\n",
      "* automobile\n",
      "* bird\n",
      "* cat\n",
      "* deer\n",
      "* dog\n",
      "* frog\n",
      "* horse\n",
      "* ship\n",
      "* truck\n",
      "\n",
      "Understanding a dataset is part of making predictions on the data.  Play around with the code cell below by changing the `batch_id` and `sample_id`. The `batch_id` is the id for a batch (1-5). The `sample_id` is the id for a image and label pair in the batch.\n",
      "\n",
      "Ask yourself \"What are all possible labels?\", \"What is the range of values for the image data?\", \"Are the labels in order or random?\".  Answers to questions like these will help you preprocess the data and end up with better predictions."
     ]
    },
    {
     "cell_type": "code",
     "collapsed": false,
     "input": [
      "%matplotlib inline\n",
      "%config InlineBackend.figure_format = 'retina'\n",
      "\n",
      "import helper\n",
      "import numpy as np\n",
      "\n",
      "# Explore the dataset\n",
      "batch_id = 1\n",
      "sample_id = 5\n",
      "helper.display_stats(cifar10_dataset_folder_path, batch_id, sample_id)"
     ],
     "language": "python",
     "metadata": {
      "deletable": true,
      "editable": true
     },
     "outputs": [
      {
       "output_type": "stream",
       "stream": "stdout",
       "text": [
        "\n",
        "Stats of batch 1:\n",
        "Samples: 10000\n",
        "Label Counts: {0: 1005, 1: 974, 2: 1032, 3: 1016, 4: 999, 5: 937, 6: 1030, 7: 1001, 8: 1025, 9: 981}\n",
        "First 20 Labels: [6, 9, 9, 4, 1, 1, 2, 7, 8, 3, 4, 7, 7, 2, 9, 9, 9, 3, 2, 6]\n",
        "\n",
        "Example of Image 5:\n",
        "Image - Min Value: 0 Max Value: 252\n",
        "Image - Shape: (32, 32, 3)\n",
        "Label - Label Id: 1 Name: automobile\n"
       ]
      },
      {
       "output_type": "display_data",
       "png": "[encoded data removed]",
       "text": [
        "<matplotlib.figure.Figure at 0x7f3ecc0e0240>"
       ]
      }
     ],
     "prompt_number": 2
    },
    {
     "cell_type": "markdown",
     "metadata": {
      "deletable": true,
      "editable": true
     },
     "source": [
      "## Implement Preprocess Functions\n",
      "### Normalize\n",
      "In the cell below, implement the `normalize` function to take in image data, `x`, and return it as a normalized Numpy array. The values should be in the range of 0 to 1, inclusive.  The return object should be the same shape as `x`."
     ]
    },
    {
     "cell_type": "code",
     "collapsed": false,
     "input": [
      "def normalize(x):\n",
      "    \"\"\"\n",
      "    Normalize a list of sample image data in the range of 0 to 1\n",
      "    : x: List of image data.  The image shape is (32, 32, 3)\n",
      "    : return: Numpy array of normalize data\n",
      "    \"\"\"\n",
      "    # TODO: Implement Function\n",
      "    a = 0\n",
      "    b = 1\n",
      "    min = x.min()\n",
      "    max = x.max()\n",
      "    XX = a + ((x - min)*(b-a))/(max-min)\n",
      "    return XX\n",
      "\n",
      "\n",
      "\"\"\"\n",
      "DON'T MODIFY ANYTHING IN THIS CELL THAT IS BELOW THIS LINE\n",
      "\"\"\"\n",
      "tests.test_normalize(normalize)"
     ],
     "language": "python",
     "metadata": {
      "deletable": true,
      "editable": true
     },
     "outputs": [
      {
       "output_type": "stream",
       "stream": "stdout",
       "text": [
        "Tests Passed\n"
       ]
      }
     ],
     "prompt_number": 3
    },
    {
     "cell_type": "markdown",
     "metadata": {
      "deletable": true,
      "editable": true
     },
     "source": [
      "### One-hot encode\n",
      "Just like the previous code cell, you'll be implementing a function for preprocessing.  This time, you'll implement the `one_hot_encode` function. The input, `x`, are a list of labels.  Implement the function to return the list of labels as One-Hot encoded Numpy array.  The possible values for labels are 0 to 9. The one-hot encoding function should return the same encoding for each value between each call to `one_hot_encode`.  Make sure to save the map of encodings outside the function.\n",
      "\n",
      "Hint: Don't reinvent the wheel."
     ]
    },
    {
     "cell_type": "code",
     "collapsed": false,
     "input": [
      "def one_hot_encode(x):\n",
      "    \"\"\"\n",
      "    One hot encode a list of sample labels. Return a one-hot encoded vector for each label.\n",
      "    : x: List of sample Labels\n",
      "    : return: Numpy array of one-hot encoded labels\n",
      "    \"\"\"\n",
      "    # TODO: Implement Function\n",
      "    n_labels = 10\n",
      "    return np.eye(n_labels)[x]\n",
      "\n",
      "\n",
      "\"\"\"\n",
      "DON'T MODIFY ANYTHING IN THIS CELL THAT IS BELOW THIS LINE\n",
      "\"\"\"\n",
      "tests.test_one_hot_encode(one_hot_encode)"
     ],
     "language": "python",
     "metadata": {
      "deletable": true,
      "editable": true
     },
     "outputs": [
      {
       "output_type": "stream",
       "stream": "stdout",
       "text": [
        "Tests Passed\n"
       ]
      }
     ],
     "prompt_number": 4
    },
    {
     "cell_type": "markdown",
     "metadata": {
      "deletable": true,
      "editable": true
     },
     "source": [
      "### Randomize Data\n",
      "As you saw from exploring the data above, the order of the samples are randomized.  It doesn't hurt to randomize it again, but you don't need to for this dataset."
     ]
    },
    {
     "cell_type": "markdown",
     "metadata": {
      "deletable": true,
      "editable": true
     },
     "source": [
      "## Preprocess all the data and save it\n",
      "Running the code cell below will preprocess all the CIFAR-10 data and save it to file. The code below also uses 10% of the training data for validation."
     ]
    },
    {
     "cell_type": "code",
     "collapsed": false,
     "input": [
      "\"\"\"\n",
      "DON'T MODIFY ANYTHING IN THIS CELL\n",
      "\"\"\"\n",
      "# Preprocess Training, Validation, and Testing Data\n",
      "helper.preprocess_and_save_data(cifar10_dataset_folder_path, normalize, one_hot_encode)"
     ],
     "language": "python",
     "metadata": {
      "deletable": true,
      "editable": true
     },
     "outputs": [],
     "prompt_number": 5
    },
    {
     "cell_type": "markdown",
     "metadata": {
      "deletable": true,
      "editable": true
     },
     "source": [
      "# Check Point\n",
      "This is your first checkpoint.  If you ever decide to come back to this notebook or have to restart the notebook, you can start from here.  The preprocessed data has been saved to disk."
     ]
    },
    {
     "cell_type": "code",
     "collapsed": true,
     "input": [
      "\"\"\"\n",
      "DON'T MODIFY ANYTHING IN THIS CELL\n",
      "\"\"\"\n",
      "import pickle\n",
      "import problem_unittests as tests\n",
      "import helper\n",
      "\n",
      "# Load the Preprocessed Validation data\n",
      "valid_features, valid_labels = pickle.load(open('preprocess_validation.p', mode='rb'))"
     ],
     "language": "python",
     "metadata": {
      "deletable": true,
      "editable": true
     },
     "outputs": [],
     "prompt_number": 6
    },
    {
     "cell_type": "markdown",
     "metadata": {
      "deletable": true,
      "editable": true
     },
     "source": [
      "## Build the network\n",
      "For the neural network, you'll build each layer into a function.  Most of the code you've seen has been outside of functions. To test your code more thoroughly, we require that you put each layer in a function.  This allows us to give you better feedback and test for simple mistakes using our unittests before you submit your project.\n",
      "\n",
      ">**Note:** If you're finding it hard to dedicate enough time for this course each week, we've provided a small shortcut to this part of the project. In the next couple of problems, you'll have the option to use classes from the [TensorFlow Layers](https://www.tensorflow.org/api_docs/python/tf/layers) or [TensorFlow Layers (contrib)](https://www.tensorflow.org/api_guides/python/contrib.layers) packages to build each layer, except the layers you build in the \"Convolutional and Max Pooling Layer\" section.  TF Layers is similar to Keras's and TFLearn's abstraction to layers, so it's easy to pickup.\n",
      "\n",
      ">However, if you would like to get the most out of this course, try to solve all the problems _without_ using anything from the TF Layers packages. You **can** still use classes from other packages that happen to have the same name as ones you find in TF Layers! For example, instead of using the TF Layers version of the `conv2d` class, [tf.layers.conv2d](https://www.tensorflow.org/api_docs/python/tf/layers/conv2d), you would want to use the TF Neural Network version of `conv2d`, [tf.nn.conv2d](https://www.tensorflow.org/api_docs/python/tf/nn/conv2d). \n",
      "\n",
      "Let's begin!\n",
      "\n",
      "### Input\n",
      "The neural network needs to read the image data, one-hot encoded labels, and dropout keep probability. Implement the following functions\n",
      "* Implement `neural_net_image_input`\n",
      " * Return a [TF Placeholder](https://www.tensorflow.org/api_docs/python/tf/placeholder)\n",
      " * Set the shape using `image_shape` with batch size set to `None`.\n",
      " * Name the TensorFlow placeholder \"x\" using the TensorFlow `name` parameter in the [TF Placeholder](https://www.tensorflow.org/api_docs/python/tf/placeholder).\n",
      "* Implement `neural_net_label_input`\n",
      " * Return a [TF Placeholder](https://www.tensorflow.org/api_docs/python/tf/placeholder)\n",
      " * Set the shape using `n_classes` with batch size set to `None`.\n",
      " * Name the TensorFlow placeholder \"y\" using the TensorFlow `name` parameter in the [TF Placeholder](https://www.tensorflow.org/api_docs/python/tf/placeholder).\n",
      "* Implement `neural_net_keep_prob_input`\n",
      " * Return a [TF Placeholder](https://www.tensorflow.org/api_docs/python/tf/placeholder) for dropout keep probability.\n",
      " * Name the TensorFlow placeholder \"keep_prob\" using the TensorFlow `name` parameter in the [TF Placeholder](https://www.tensorflow.org/api_docs/python/tf/placeholder).\n",
      "\n",
      "These names will be used at the end of the project to load your saved model.\n",
      "\n",
      "Note: `None` for shapes in TensorFlow allow for a dynamic size."
     ]
    },
    {
     "cell_type": "code",
     "collapsed": false,
     "input": [
      "import tensorflow as tf\n",
      "\n",
      "def neural_net_image_input(image_shape):\n",
      "    \"\"\"\n",
      "    Return a Tensor for a batch of image input\n",
      "    : image_shape: Shape of the images\n",
      "    : return: Tensor for image input.\n",
      "    \"\"\"\n",
      "    # TODO: Implement Function\n",
      "    image_input = tf.placeholder(tf.float32, shape=((None,) + image_shape), name=\"x\")\n",
      "    return image_input\n",
      "\n",
      "\n",
      "def neural_net_label_input(n_classes):\n",
      "    \"\"\"\n",
      "    Return a Tensor for a batch of label input\n",
      "    : n_classes: Number of classes\n",
      "    : return: Tensor for label input.\n",
      "    \"\"\"\n",
      "    # TODO: Implement Function\n",
      "    label_input = tf.placeholder(tf.float32, [None, n_classes], name=\"y\")\n",
      "    return label_input\n",
      "\n",
      "\n",
      "def neural_net_keep_prob_input():\n",
      "    \"\"\"\n",
      "    Return a Tensor for keep probability\n",
      "    : return: Tensor for keep probability.\n",
      "    \"\"\"\n",
      "    # TODO: Implement Function\n",
      "    keep_prob = tf.placeholder(tf.float32, name=\"keep_prob\")\n",
      "    return keep_prob\n",
      "\n",
      "\n",
      "\"\"\"\n",
      "DON'T MODIFY ANYTHING IN THIS CELL THAT IS BELOW THIS LINE\n",
      "\"\"\"\n",
      "tf.reset_default_graph()\n",
      "tests.test_nn_image_inputs(neural_net_image_input)\n",
      "tests.test_nn_label_inputs(neural_net_label_input)\n",
      "tests.test_nn_keep_prob_inputs(neural_net_keep_prob_input)"
     ],
     "language": "python",
     "metadata": {
      "deletable": true,
      "editable": true
     },
     "outputs": [
      {
       "output_type": "stream",
       "stream": "stdout",
       "text": [
        "Image Input Tests Passed.\n",
        "Label Input Tests Passed.\n",
        "Keep Prob Tests Passed.\n"
       ]
      }
     ],
     "prompt_number": 7
    },
    {
     "cell_type": "markdown",
     "metadata": {
      "deletable": true,
      "editable": true
     },
     "source": [
      "### Convolution and Max Pooling Layer\n",
      "Convolution layers have a lot of success with images. For this code cell, you should implement the function `conv2d_maxpool` to apply convolution then max pooling:\n",
      "* Create the weight and bias using `conv_ksize`, `conv_num_outputs` and the shape of `x_tensor`.\n",
      "* Apply a convolution to `x_tensor` using weight and `conv_strides`.\n",
      " * We recommend you use same padding, but you're welcome to use any padding.\n",
      "* Add bias\n",
      "* Add a nonlinear activation to the convolution.\n",
      "* Apply Max Pooling using `pool_ksize` and `pool_strides`.\n",
      " * We recommend you use same padding, but you're welcome to use any padding.\n",
      "\n",
      "**Note:** You **can't** use [TensorFlow Layers](https://www.tensorflow.org/api_docs/python/tf/layers) or [TensorFlow Layers (contrib)](https://www.tensorflow.org/api_guides/python/contrib.layers) for **this** layer, but you can still use TensorFlow's [Neural Network](https://www.tensorflow.org/api_docs/python/tf/nn) package. You may still use the shortcut option for all the **other** layers."
     ]
    },
    {
     "cell_type": "code",
     "collapsed": false,
     "input": [
      "def conv2d_maxpool(x_tensor, conv_num_outputs, conv_ksize, conv_strides, pool_ksize, pool_strides):\n",
      "    \"\"\"\n",
      "    Apply convolution then max pooling to x_tensor\n",
      "    :param x_tensor: TensorFlow Tensor\n",
      "    :param conv_num_outputs: Number of outputs for the convolutional layer\n",
      "    :param conv_ksize: kernal size 2-D Tuple for the convolutional layer\n",
      "    :param conv_strides: Stride 2-D Tuple for convolution\n",
      "    :param pool_ksize: kernal size 2-D Tuple for pool\n",
      "    :param pool_strides: Stride 2-D Tuple for pool\n",
      "    : return: A tensor that represents convolution and max pooling of x_tensor\n",
      "    \"\"\"\n",
      "    # TODO: Implement Function\n",
      "    dim = x_tensor.get_shape().as_list()\n",
      "    filter_size_height =  conv_ksize[0]\n",
      "    filter_size_width =  conv_ksize[1]\n",
      "    weight = tf.Variable(tf.truncated_normal([filter_size_height, filter_size_width, dim[3], conv_num_outputs], stddev=0.1))\n",
      "    bias = tf.Variable(tf.zeros(conv_num_outputs))\n",
      "    conv_layer = tf.nn.conv2d(x_tensor, weight, strides=((1,) + conv_strides+ (1,)), padding='SAME')\n",
      "    conv_layer = tf.nn.bias_add(conv_layer, bias)\n",
      "    conv_layer = tf.nn.relu(conv_layer)\n",
      "    conv_layer = tf.nn.max_pool(\n",
      "    conv_layer,\n",
      "    ksize=((1,)+pool_ksize+(1,)),\n",
      "    strides=((1,)+pool_strides+(1,)),\n",
      "    padding='SAME')\n",
      "    return conv_layer\n",
      "\n",
      "\n",
      "\"\"\"\n",
      "DON'T MODIFY ANYTHING IN THIS CELL THAT IS BELOW THIS LINE\n",
      "\"\"\"\n",
      "tests.test_con_pool(conv2d_maxpool)"
     ],
     "language": "python",
     "metadata": {
      "deletable": true,
      "editable": true
     },
     "outputs": [
      {
       "output_type": "stream",
       "stream": "stdout",
       "text": [
        "Tests Passed\n"
       ]
      }
     ],
     "prompt_number": 8
    },
    {
     "cell_type": "markdown",
     "metadata": {
      "deletable": true,
      "editable": true
     },
     "source": [
      "### Flatten Layer\n",
      "Implement the `flatten` function to change the dimension of `x_tensor` from a 4-D tensor to a 2-D tensor.  The output should be the shape (*Batch Size*, *Flattened Image Size*). Shortcut option: you can use classes from the [TensorFlow Layers](https://www.tensorflow.org/api_docs/python/tf/layers) or [TensorFlow Layers (contrib)](https://www.tensorflow.org/api_guides/python/contrib.layers) packages for this layer. For more of a challenge, only use other TensorFlow packages."
     ]
    },
    {
     "cell_type": "code",
     "collapsed": false,
     "input": [
      "def flatten(x_tensor):\n",
      "    \"\"\"\n",
      "    Flatten x_tensor to (Batch Size, Flattened Image Size)\n",
      "    : x_tensor: A tensor of size (Batch Size, ...), where ... are the image dimensions.\n",
      "    : return: A tensor of size (Batch Size, Flattened Image Size).\n",
      "    \"\"\"\n",
      "    # TODO: Implement Function\n",
      "    tensor_in_shape = x_tensor.get_shape().as_list()\n",
      "    tensor_in_flatten = tf.reshape(x_tensor, [tensor_in_shape[0] or -1, np.prod(tensor_in_shape[1:])])\n",
      "    return tensor_in_flatten\n",
      "\n",
      "\"\"\"\n",
      "DON'T MODIFY ANYTHING IN THIS CELL THAT IS BELOW THIS LINE\n",
      "\"\"\"\n",
      "tests.test_flatten(flatten)"
     ],
     "language": "python",
     "metadata": {
      "deletable": true,
      "editable": true
     },
     "outputs": [
      {
       "output_type": "stream",
       "stream": "stdout",
       "text": [
        "Tests Passed\n"
       ]
      }
     ],
     "prompt_number": 9
    },
    {
     "cell_type": "markdown",
     "metadata": {
      "deletable": true,
      "editable": true
     },
     "source": [
      "### Fully-Connected Layer\n",
      "Implement the `fully_conn` function to apply a fully connected layer to `x_tensor` with the shape (*Batch Size*, *num_outputs*). Shortcut option: you can use classes from the [TensorFlow Layers](https://www.tensorflow.org/api_docs/python/tf/layers) or [TensorFlow Layers (contrib)](https://www.tensorflow.org/api_guides/python/contrib.layers) packages for this layer. For more of a challenge, only use other TensorFlow packages."
     ]
    },
    {
     "cell_type": "code",
     "collapsed": false,
     "input": [
      "def fully_conn(x_tensor, num_outputs):\n",
      "    \"\"\"\n",
      "    Apply a fully connected layer to x_tensor using weight and bias\n",
      "    : x_tensor: A 2-D tensor where the first dimension is batch size.\n",
      "    : num_outputs: The number of output that the new tensor should be.\n",
      "    : return: A 2-D tensor where the second dimension is num_outputs.\n",
      "    \"\"\"\n",
      "    # TODO: Implement Function\n",
      "    tensor_in_shape = x_tensor.get_shape().as_list()\n",
      "    weights = tf.Variable(tf.random_normal([tensor_in_shape[1], num_outputs], stddev=0.1))\n",
      "    biases =  tf.Variable(tf.random_normal([num_outputs], stddev=0.1))\n",
      "    out = tf.add(tf.matmul(x_tensor, weights), biases)\n",
      "    out = tf.nn.relu(out)\n",
      "    return out\n",
      "\n",
      "\"\"\"\n",
      "DON'T MODIFY ANYTHING IN THIS CELL THAT IS BELOW THIS LINE\n",
      "\"\"\"\n",
      "tests.test_fully_conn(fully_conn)"
     ],
     "language": "python",
     "metadata": {
      "deletable": true,
      "editable": true
     },
     "outputs": [
      {
       "output_type": "stream",
       "stream": "stdout",
       "text": [
        "Tests Passed\n"
       ]
      }
     ],
     "prompt_number": 10
    },
    {
     "cell_type": "markdown",
     "metadata": {
      "deletable": true,
      "editable": true
     },
     "source": [
      "### Output Layer\n",
      "Implement the `output` function to apply a fully connected layer to `x_tensor` with the shape (*Batch Size*, *num_outputs*). Shortcut option: you can use classes from the [TensorFlow Layers](https://www.tensorflow.org/api_docs/python/tf/layers) or [TensorFlow Layers (contrib)](https://www.tensorflow.org/api_guides/python/contrib.layers) packages for this layer. For more of a challenge, only use other TensorFlow packages.\n",
      "\n",
      "**Note:** Activation, softmax, or cross entropy should **not** be applied to this."
     ]
    },
    {
     "cell_type": "code",
     "collapsed": false,
     "input": [
      "def output(x_tensor, num_outputs):\n",
      "    \"\"\"\n",
      "    Apply a output layer to x_tensor using weight and bias\n",
      "    : x_tensor: A 2-D tensor where the first dimension is batch size.\n",
      "    : num_outputs: The number of output that the new tensor should be.\n",
      "    : return: A 2-D tensor where the second dimension is num_outputs.\n",
      "    \"\"\"\n",
      "    # TODO: Implement Function\n",
      "    tensor_in_shape = x_tensor.get_shape().as_list()\n",
      "    weights = tf.Variable(tf.random_normal([tensor_in_shape[1], num_outputs]))\n",
      "    biases =  tf.Variable(tf.random_normal([num_outputs]))\n",
      "    out = tf.add(tf.matmul(x_tensor, weights), biases)\n",
      "    return out\n",
      "\n",
      "\n",
      "\"\"\"\n",
      "DON'T MODIFY ANYTHING IN THIS CELL THAT IS BELOW THIS LINE\n",
      "\"\"\"\n",
      "tests.test_output(output)"
     ],
     "language": "python",
     "metadata": {
      "deletable": true,
      "editable": true
     },
     "outputs": [
      {
       "output_type": "stream",
       "stream": "stdout",
       "text": [
        "Tests Passed\n"
       ]
      }
     ],
     "prompt_number": 11
    },
    {
     "cell_type": "markdown",
     "metadata": {
      "deletable": true,
      "editable": true
     },
     "source": [
      "### Create Convolutional Model\n",
      "Implement the function `conv_net` to create a convolutional neural network model. The function takes in a batch of images, `x`, and outputs logits.  Use the layers you created above to create this model:\n",
      "\n",
      "* Apply 1, 2, or 3 Convolution and Max Pool layers\n",
      "* Apply a Flatten Layer\n",
      "* Apply 1, 2, or 3 Fully Connected Layers\n",
      "* Apply an Output Layer\n",
      "* Return the output\n",
      "* Apply [TensorFlow's Dropout](https://www.tensorflow.org/api_docs/python/tf/nn/dropout) to one or more layers in the model using `keep_prob`. "
     ]
    },
    {
     "cell_type": "code",
     "collapsed": false,
     "input": [
      "def conv_net(x, keep_prob):\n",
      "    \"\"\"\n",
      "    Create a convolutional neural network model\n",
      "    : x: Placeholder tensor that holds image data.\n",
      "    : keep_prob: Placeholder tensor that hold dropout keep probability.\n",
      "    : return: Tensor that represents logits\n",
      "    \"\"\"\n",
      "    # TODO: Apply 1, 2, or 3 Convolution and Max Pool layers\n",
      "    #    Play around with different number of outputs, kernel size and stride\n",
      "    # Function Definition from Above:\n",
      "    #    conv2d_maxpool(x_tensor, conv_num_outputs, conv_ksize, conv_strides, pool_ksize, pool_strides)\n",
      "    conv_ksize = (5,5)\n",
      "    conv_strides = (1,1)\n",
      "    pool_ksize = (2,2)\n",
      "    pool_strides = (2,2)\n",
      "    conv_num_outputs = 8\n",
      "    conv = conv2d_maxpool(x, conv_num_outputs, conv_ksize, conv_strides, pool_ksize, pool_strides)\n",
      "    conv = tf.nn.dropout(conv, keep_prob=keep_prob)\n",
      "    \n",
      "    conv_num_outputs = 26\n",
      "    conv = conv2d_maxpool(conv, conv_num_outputs, conv_ksize, conv_strides, pool_ksize, pool_strides)\n",
      "    conv = tf.nn.dropout(conv, keep_prob=keep_prob)\n",
      "\n",
      "    # TODO: Apply a Flatten Layer\n",
      "    # Function Definition from Above:\n",
      "    #   flatten(x_tensor)\n",
      "    conv = flatten(conv)\n",
      "\n",
      "    # TODO: Apply 1, 2, or 3 Fully Connected Layers\n",
      "    #    Play around with different number of outputs\n",
      "    # Function Definition from Above:\n",
      "    #   fully_conn(x_tensor, num_outputs)\n",
      "    conv_num_outputs = 1000\n",
      "    conv = fully_conn(conv, conv_num_outputs)\n",
      "\n",
      "    #conv = tf.nn.relu(conv)\n",
      "    conv = tf.nn.dropout(conv, keep_prob=keep_prob)\n",
      "    \n",
      "    # TODO: Apply an Output Layer\n",
      "    #    Set this to the number of classes\n",
      "    # Function Definition from Above:\n",
      "    #   output(x_tensor, num_outputs)\n",
      "    out = output(conv, 10)\n",
      "    \n",
      "    # TODO: return output\n",
      "    return out\n",
      "\n",
      "\n",
      "\n",
      "\"\"\"\n",
      "DON'T MODIFY ANYTHING IN THIS CELL THAT IS BELOW THIS LINE\n",
      "\"\"\"\n",
      "\n",
      "##############################\n",
      "## Build the Neural Network ##\n",
      "##############################\n",
      "\n",
      "# Remove previous weights, bias, inputs, etc..\n",
      "tf.reset_default_graph()\n",
      "\n",
      "# Inputs\n",
      "x = neural_net_image_input((32, 32, 3))\n",
      "y = neural_net_label_input(10)\n",
      "keep_prob = neural_net_keep_prob_input()\n",
      "\n",
      "# Model\n",
      "logits = conv_net(x, keep_prob)\n",
      "\n",
      "# Name logits Tensor, so that is can be loaded from disk after training\n",
      "logits = tf.identity(logits, name='logits')\n",
      "\n",
      "# Loss and Optimizer\n",
      "cost = tf.reduce_mean(tf.nn.softmax_cross_entropy_with_logits(logits=logits, labels=y))\n",
      "optimizer = tf.train.AdamOptimizer().minimize(cost)\n",
      "\n",
      "# Accuracy\n",
      "correct_pred = tf.equal(tf.argmax(logits, 1), tf.argmax(y, 1))\n",
      "accuracy = tf.reduce_mean(tf.cast(correct_pred, tf.float32), name='accuracy')\n",
      "\n",
      "tests.test_conv_net(conv_net)"
     ],
     "language": "python",
     "metadata": {
      "deletable": true,
      "editable": true
     },
     "outputs": [
      {
       "output_type": "stream",
       "stream": "stdout",
       "text": [
        "Neural Network Built!\n"
       ]
      }
     ],
     "prompt_number": 12
    },
    {
     "cell_type": "markdown",
     "metadata": {
      "deletable": true,
      "editable": true
     },
     "source": [
      "## Train the Neural Network\n",
      "### Single Optimization\n",
      "Implement the function `train_neural_network` to do a single optimization.  The optimization should use `optimizer` to optimize in `session` with a `feed_dict` of the following:\n",
      "* `x` for image input\n",
      "* `y` for labels\n",
      "* `keep_prob` for keep probability for dropout\n",
      "\n",
      "This function will be called for each batch, so `tf.global_variables_initializer()` has already been called.\n",
      "\n",
      "Note: Nothing needs to be returned. This function is only optimizing the neural network."
     ]
    },
    {
     "cell_type": "code",
     "collapsed": false,
     "input": [
      "def train_neural_network(session, optimizer, keep_probability, feature_batch, label_batch):\n",
      "    \"\"\"\n",
      "    Optimize the session on a batch of images and labels\n",
      "    : session: Current TensorFlow session\n",
      "    : optimizer: TensorFlow optimizer function\n",
      "    : keep_probability: keep probability\n",
      "    : feature_batch: Batch of Numpy image data\n",
      "    : label_batch: Batch of Numpy label data\n",
      "    \"\"\"\n",
      "    # TODO: Implement Function\n",
      "    session.run(optimizer, feed_dict={ \n",
      "                x: feature_batch, \n",
      "                y: label_batch, \n",
      "                keep_prob: keep_probability})\n",
      "    pass\n",
      "\n",
      "\n",
      "\"\"\"\n",
      "DON'T MODIFY ANYTHING IN THIS CELL THAT IS BELOW THIS LINE\n",
      "\"\"\"\n",
      "tests.test_train_nn(train_neural_network)"
     ],
     "language": "python",
     "metadata": {
      "deletable": true,
      "editable": true
     },
     "outputs": [
      {
       "output_type": "stream",
       "stream": "stdout",
       "text": [
        "Tests Passed\n"
       ]
      }
     ],
     "prompt_number": 13
    },
    {
     "cell_type": "markdown",
     "metadata": {
      "deletable": true,
      "editable": true
     },
     "source": [
      "### Show Stats\n",
      "Implement the function `print_stats` to print loss and validation accuracy.  Use the global variables `valid_features` and `valid_labels` to calculate validation accuracy.  Use a keep probability of `1.0` to calculate the loss and validation accuracy."
     ]
    },
    {
     "cell_type": "code",
     "collapsed": false,
     "input": [
      "def print_stats(session, feature_batch, label_batch, cost, accuracy):\n",
      "    \"\"\"\n",
      "    Print information about loss and validation accuracy\n",
      "    : session: Current TensorFlow session\n",
      "    : feature_batch: Batch of Numpy image data\n",
      "    : label_batch: Batch of Numpy label data\n",
      "    : cost: TensorFlow cost function\n",
      "    : accuracy: TensorFlow accuracy function\n",
      "    \"\"\"\n",
      "    # TODO: Implement Function\n",
      "    loss = sess.run(cost, feed_dict={\n",
      "                x: feature_batch,\n",
      "                y: label_batch,\n",
      "                keep_prob: 1.0})\n",
      "    valid_acc = sess.run(accuracy, feed_dict={\n",
      "                x: valid_features,\n",
      "                y: valid_labels,\n",
      "                keep_prob: 1.0})\n",
      "    print('Loss: {:>10.4f} Validation Accuracy: {:.6f}'.format(loss, valid_acc))\n",
      "    \n",
      "    pass"
     ],
     "language": "python",
     "metadata": {
      "deletable": true,
      "editable": true
     },
     "outputs": [],
     "prompt_number": 14
    },
    {
     "cell_type": "markdown",
     "metadata": {
      "deletable": true,
      "editable": true
     },
     "source": [
      "### Hyperparameters\n",
      "Tune the following parameters:\n",
      "* Set `epochs` to the number of iterations until the network stops learning or start overfitting\n",
      "* Set `batch_size` to the highest number that your machine has memory for.  Most people set them to common sizes of memory:\n",
      " * 64\n",
      " * 128\n",
      " * 256\n",
      " * ...\n",
      "* Set `keep_probability` to the probability of keeping a node using dropout"
     ]
    },
    {
     "cell_type": "code",
     "collapsed": true,
     "input": [
      "# TODO: Tune Parameters\n",
      "epochs = 200\n",
      "batch_size = 32\n",
      "keep_probability = 0.5"
     ],
     "language": "python",
     "metadata": {
      "deletable": true,
      "editable": true
     },
     "outputs": [],
     "prompt_number": 15
    },
    {
     "cell_type": "markdown",
     "metadata": {
      "deletable": true,
      "editable": true
     },
     "source": [
      "### Train on a Single CIFAR-10 Batch\n",
      "Instead of training the neural network on all the CIFAR-10 batches of data, let's use a single batch. This should save time while you iterate on the model to get a better accuracy.  Once the final validation accuracy is 50% or greater, run the model on all the data in the next section."
     ]
    },
    {
     "cell_type": "code",
     "collapsed": false,
     "input": [
      "\"\"\"\n",
      "DON'T MODIFY ANYTHING IN THIS CELL\n",
      "\"\"\"\n",
      "print('Checking the Training on a Single Batch...')\n",
      "with tf.Session() as sess:\n",
      "    # Initializing the variables\n",
      "    sess.run(tf.global_variables_initializer())\n",
      "    \n",
      "    # Training cycle\n",
      "    for epoch in range(epochs):\n",
      "        batch_i = 1\n",
      "        for batch_features, batch_labels in helper.load_preprocess_training_batch(batch_i, batch_size):\n",
      "            train_neural_network(sess, optimizer, keep_probability, batch_features, batch_labels)\n",
      "        print('Epoch {:>2}, CIFAR-10 Batch {}:  '.format(epoch + 1, batch_i), end='')\n",
      "        print_stats(sess, batch_features, batch_labels, cost, accuracy)"
     ],
     "language": "python",
     "metadata": {
      "deletable": true,
      "editable": true
     },
     "outputs": [
      {
       "output_type": "stream",
       "stream": "stdout",
       "text": [
        "Checking the Training on a Single Batch...\n"
       ]
      },
      {
       "output_type": "stream",
       "stream": "stdout",
       "text": [
        "Epoch  1, CIFAR-10 Batch 1:  "
       ]
      },
      {
       "output_type": "stream",
       "stream": "stdout",
       "text": [
        "Loss:     2.3107 Validation Accuracy: 0.149600\n"
       ]
      },
      {
       "output_type": "stream",
       "stream": "stdout",
       "text": [
        "Epoch  2, CIFAR-10 Batch 1:  Loss:     2.3411 Validation Accuracy: 0.102800\n"
       ]
      },
      {
       "output_type": "stream",
       "stream": "stdout",
       "text": [
        "Epoch  3, CIFAR-10 Batch 1:  "
       ]
      },
      {
       "output_type": "stream",
       "stream": "stdout",
       "text": [
        "Loss:     2.3340 Validation Accuracy: 0.142400\n"
       ]
      },
      {
       "output_type": "stream",
       "stream": "stdout",
       "text": [
        "Epoch  4, CIFAR-10 Batch 1:  "
       ]
      },
      {
       "output_type": "stream",
       "stream": "stdout",
       "text": [
        "Loss:     2.3061 Validation Accuracy: 0.159800\n"
       ]
      },
      {
       "output_type": "stream",
       "stream": "stdout",
       "text": [
        "Epoch  5, CIFAR-10 Batch 1:  "
       ]
      },
      {
       "output_type": "stream",
       "stream": "stdout",
       "text": [
        "Loss:     2.3819 Validation Accuracy: 0.163200\n"
       ]
      },
      {
       "output_type": "stream",
       "stream": "stdout",
       "text": [
        "Epoch  6, CIFAR-10 Batch 1:  "
       ]
      },
      {
       "output_type": "stream",
       "stream": "stdout",
       "text": [
        "Loss:     2.4165 Validation Accuracy: 0.226600\n"
       ]
      },
      {
       "output_type": "stream",
       "stream": "stdout",
       "text": [
        "Epoch  7, CIFAR-10 Batch 1:  Loss:     2.4502 Validation Accuracy: 0.246600\n"
       ]
      },
      {
       "output_type": "stream",
       "stream": "stdout",
       "text": [
        "Epoch  8, CIFAR-10 Batch 1:  Loss:     2.4922 Validation Accuracy: 0.278600"
       ]
      },
      {
       "output_type": "stream",
       "stream": "stdout",
       "text": [
        "\n"
       ]
      },
      {
       "output_type": "stream",
       "stream": "stdout",
       "text": [
        "Epoch  9, CIFAR-10 Batch 1:  Loss:     2.5773 Validation Accuracy: 0.274000\n"
       ]
      },
      {
       "output_type": "stream",
       "stream": "stdout",
       "text": [
        "Epoch 10, CIFAR-10 Batch 1:  Loss:     2.6632 Validation Accuracy: 0.283000\n"
       ]
      },
      {
       "output_type": "stream",
       "stream": "stdout",
       "text": [
        "Epoch 11, CIFAR-10 Batch 1:  Loss:     2.7066 Validation Accuracy: 0.289800\n"
       ]
      },
      {
       "output_type": "stream",
       "stream": "stdout",
       "text": [
        "Epoch 12, CIFAR-10 Batch 1:  "
       ]
      },
      {
       "output_type": "stream",
       "stream": "stdout",
       "text": [
        "Loss:     2.5459 Validation Accuracy: 0.293400\n"
       ]
      },
      {
       "output_type": "stream",
       "stream": "stdout",
       "text": [
        "Epoch 13, CIFAR-10 Batch 1:  "
       ]
      },
      {
       "output_type": "stream",
       "stream": "stdout",
       "text": [
        "Loss:     2.7333 Validation Accuracy: 0.290000\n"
       ]
      },
      {
       "output_type": "stream",
       "stream": "stdout",
       "text": [
        "Epoch 14, CIFAR-10 Batch 1:  "
       ]
      },
      {
       "output_type": "stream",
       "stream": "stdout",
       "text": [
        "Loss:     2.7634 Validation Accuracy: 0.290000\n"
       ]
      },
      {
       "output_type": "stream",
       "stream": "stdout",
       "text": [
        "Epoch 15, CIFAR-10 Batch 1:  "
       ]
      },
      {
       "output_type": "stream",
       "stream": "stdout",
       "text": [
        "Loss:     2.9180 Validation Accuracy: 0.292600\n"
       ]
      },
      {
       "output_type": "stream",
       "stream": "stdout",
       "text": [
        "Epoch 16, CIFAR-10 Batch 1:  "
       ]
      },
      {
       "output_type": "stream",
       "stream": "stdout",
       "text": [
        "Loss:     2.7578 Validation Accuracy: 0.295400\n"
       ]
      },
      {
       "output_type": "stream",
       "stream": "stdout",
       "text": [
        "Epoch 17, CIFAR-10 Batch 1:  "
       ]
      },
      {
       "output_type": "stream",
       "stream": "stdout",
       "text": [
        "Loss:     3.0158 Validation Accuracy: 0.290200\n"
       ]
      },
      {
       "output_type": "stream",
       "stream": "stdout",
       "text": [
        "Epoch 18, CIFAR-10 Batch 1:  "
       ]
      },
      {
       "output_type": "stream",
       "stream": "stdout",
       "text": [
        "Loss:     2.7054 Validation Accuracy: 0.324400\n"
       ]
      },
      {
       "output_type": "stream",
       "stream": "stdout",
       "text": [
        "Epoch 19, CIFAR-10 Batch 1:  "
       ]
      },
      {
       "output_type": "stream",
       "stream": "stdout",
       "text": [
        "Loss:     2.7113 Validation Accuracy: 0.306200\n"
       ]
      },
      {
       "output_type": "stream",
       "stream": "stdout",
       "text": [
        "Epoch 20, CIFAR-10 Batch 1:  "
       ]
      },
      {
       "output_type": "stream",
       "stream": "stdout",
       "text": [
        "Loss:     2.6960 Validation Accuracy: 0.322200\n"
       ]
      },
      {
       "output_type": "stream",
       "stream": "stdout",
       "text": [
        "Epoch 21, CIFAR-10 Batch 1:  "
       ]
      },
      {
       "output_type": "stream",
       "stream": "stdout",
       "text": [
        "Loss:     2.4920 Validation Accuracy: 0.336600\n"
       ]
      },
      {
       "output_type": "stream",
       "stream": "stdout",
       "text": [
        "Epoch 22, CIFAR-10 Batch 1:  "
       ]
      },
      {
       "output_type": "stream",
       "stream": "stdout",
       "text": [
        "Loss:     2.2559 Validation Accuracy: 0.335800\n"
       ]
      },
      {
       "output_type": "stream",
       "stream": "stdout",
       "text": [
        "Epoch 23, CIFAR-10 Batch 1:  "
       ]
      },
      {
       "output_type": "stream",
       "stream": "stdout",
       "text": [
        "Loss:     2.5849 Validation Accuracy: 0.301600\n"
       ]
      },
      {
       "output_type": "stream",
       "stream": "stdout",
       "text": [
        "Epoch 24, CIFAR-10 Batch 1:  "
       ]
      },
      {
       "output_type": "stream",
       "stream": "stdout",
       "text": [
        "Loss:     2.6643 Validation Accuracy: 0.287800\n"
       ]
      },
      {
       "output_type": "stream",
       "stream": "stdout",
       "text": [
        "Epoch 25, CIFAR-10 Batch 1:  "
       ]
      },
      {
       "output_type": "stream",
       "stream": "stdout",
       "text": [
        "Loss:     2.7181 Validation Accuracy: 0.325800\n"
       ]
      },
      {
       "output_type": "stream",
       "stream": "stdout",
       "text": [
        "Epoch 26, CIFAR-10 Batch 1:  "
       ]
      },
      {
       "output_type": "stream",
       "stream": "stdout",
       "text": [
        "Loss:     2.4756 Validation Accuracy: 0.332800\n"
       ]
      },
      {
       "output_type": "stream",
       "stream": "stdout",
       "text": [
        "Epoch 27, CIFAR-10 Batch 1:  "
       ]
      },
      {
       "output_type": "stream",
       "stream": "stdout",
       "text": [
        "Loss:     2.3598 Validation Accuracy: 0.331200\n"
       ]
      },
      {
       "output_type": "stream",
       "stream": "stdout",
       "text": [
        "Epoch 28, CIFAR-10 Batch 1:  "
       ]
      },
      {
       "output_type": "stream",
       "stream": "stdout",
       "text": [
        "Loss:     2.6756 Validation Accuracy: 0.300200\n"
       ]
      },
      {
       "output_type": "stream",
       "stream": "stdout",
       "text": [
        "Epoch 29, CIFAR-10 Batch 1:  "
       ]
      },
      {
       "output_type": "stream",
       "stream": "stdout",
       "text": [
        "Loss:     2.6001 Validation Accuracy: 0.328800\n"
       ]
      },
      {
       "output_type": "stream",
       "stream": "stdout",
       "text": [
        "Epoch 30, CIFAR-10 Batch 1:  "
       ]
      },
      {
       "output_type": "stream",
       "stream": "stdout",
       "text": [
        "Loss:     2.4561 Validation Accuracy: 0.322600\n"
       ]
      },
      {
       "output_type": "stream",
       "stream": "stdout",
       "text": [
        "Epoch 31, CIFAR-10 Batch 1:  "
       ]
      },
      {
       "output_type": "stream",
       "stream": "stdout",
       "text": [
        "Loss:     2.3641 Validation Accuracy: 0.345400\n"
       ]
      },
      {
       "output_type": "stream",
       "stream": "stdout",
       "text": [
        "Epoch 32, CIFAR-10 Batch 1:  "
       ]
      },
      {
       "output_type": "stream",
       "stream": "stdout",
       "text": [
        "Loss:     2.7410 Validation Accuracy: 0.281800\n"
       ]
      },
      {
       "output_type": "stream",
       "stream": "stdout",
       "text": [
        "Epoch 33, CIFAR-10 Batch 1:  "
       ]
      },
      {
       "output_type": "stream",
       "stream": "stdout",
       "text": [
        "Loss:     2.3173 Validation Accuracy: 0.345800\n"
       ]
      },
      {
       "output_type": "stream",
       "stream": "stdout",
       "text": [
        "Epoch 34, CIFAR-10 Batch 1:  "
       ]
      },
      {
       "output_type": "stream",
       "stream": "stdout",
       "text": [
        "Loss:     2.5785 Validation Accuracy: 0.320800\n"
       ]
      },
      {
       "output_type": "stream",
       "stream": "stdout",
       "text": [
        "Epoch 35, CIFAR-10 Batch 1:  "
       ]
      },
      {
       "output_type": "stream",
       "stream": "stdout",
       "text": [
        "Loss:     2.0711 Validation Accuracy: 0.348800\n"
       ]
      },
      {
       "output_type": "stream",
       "stream": "stdout",
       "text": [
        "Epoch 36, CIFAR-10 Batch 1:  "
       ]
      },
      {
       "output_type": "stream",
       "stream": "stdout",
       "text": [
        "Loss:     2.5272 Validation Accuracy: 0.335200\n"
       ]
      },
      {
       "output_type": "stream",
       "stream": "stdout",
       "text": [
        "Epoch 37, CIFAR-10 Batch 1:  "
       ]
      },
      {
       "output_type": "stream",
       "stream": "stdout",
       "text": [
        "Loss:     2.5260 Validation Accuracy: 0.341000\n"
       ]
      },
      {
       "output_type": "stream",
       "stream": "stdout",
       "text": [
        "Epoch 38, CIFAR-10 Batch 1:  "
       ]
      },
      {
       "output_type": "stream",
       "stream": "stdout",
       "text": [
        "Loss:     2.4615 Validation Accuracy: 0.318800\n"
       ]
      },
      {
       "output_type": "stream",
       "stream": "stdout",
       "text": [
        "Epoch 39, CIFAR-10 Batch 1:  "
       ]
      },
      {
       "output_type": "stream",
       "stream": "stdout",
       "text": [
        "Loss:     2.3320 Validation Accuracy: 0.344600\n"
       ]
      },
      {
       "output_type": "stream",
       "stream": "stdout",
       "text": [
        "Epoch 40, CIFAR-10 Batch 1:  "
       ]
      },
      {
       "output_type": "stream",
       "stream": "stdout",
       "text": [
        "Loss:     2.2875 Validation Accuracy: 0.366000\n"
       ]
      },
      {
       "output_type": "stream",
       "stream": "stdout",
       "text": [
        "Epoch 41, CIFAR-10 Batch 1:  "
       ]
      },
      {
       "output_type": "stream",
       "stream": "stdout",
       "text": [
        "Loss:     2.3418 Validation Accuracy: 0.360000\n"
       ]
      },
      {
       "output_type": "stream",
       "stream": "stdout",
       "text": [
        "Epoch 42, CIFAR-10 Batch 1:  "
       ]
      },
      {
       "output_type": "stream",
       "stream": "stdout",
       "text": [
        "Loss:     2.3559 Validation Accuracy: 0.352400\n"
       ]
      },
      {
       "output_type": "stream",
       "stream": "stdout",
       "text": [
        "Epoch 43, CIFAR-10 Batch 1:  "
       ]
      },
      {
       "output_type": "stream",
       "stream": "stdout",
       "text": [
        "Loss:     2.4561 Validation Accuracy: 0.333000\n"
       ]
      },
      {
       "output_type": "stream",
       "stream": "stdout",
       "text": [
        "Epoch 44, CIFAR-10 Batch 1:  "
       ]
      },
      {
       "output_type": "stream",
       "stream": "stdout",
       "text": [
        "Loss:     2.0170 Validation Accuracy: 0.373200\n"
       ]
      },
      {
       "output_type": "stream",
       "stream": "stdout",
       "text": [
        "Epoch 45, CIFAR-10 Batch 1:  "
       ]
      },
      {
       "output_type": "stream",
       "stream": "stdout",
       "text": [
        "Loss:     2.2109 Validation Accuracy: 0.361200\n"
       ]
      },
      {
       "output_type": "stream",
       "stream": "stdout",
       "text": [
        "Epoch 46, CIFAR-10 Batch 1:  "
       ]
      },
      {
       "output_type": "stream",
       "stream": "stdout",
       "text": [
        "Loss:     2.0690 Validation Accuracy: 0.368600\n"
       ]
      },
      {
       "output_type": "stream",
       "stream": "stdout",
       "text": [
        "Epoch 47, CIFAR-10 Batch 1:  "
       ]
      },
      {
       "output_type": "stream",
       "stream": "stdout",
       "text": [
        "Loss:     2.3025 Validation Accuracy: 0.354600\n"
       ]
      },
      {
       "output_type": "stream",
       "stream": "stdout",
       "text": [
        "Epoch 48, CIFAR-10 Batch 1:  "
       ]
      },
      {
       "output_type": "stream",
       "stream": "stdout",
       "text": [
        "Loss:     2.3190 Validation Accuracy: 0.365200\n"
       ]
      },
      {
       "output_type": "stream",
       "stream": "stdout",
       "text": [
        "Epoch 49, CIFAR-10 Batch 1:  "
       ]
      },
      {
       "output_type": "stream",
       "stream": "stdout",
       "text": [
        "Loss:     2.2889 Validation Accuracy: 0.362200\n"
       ]
      },
      {
       "output_type": "stream",
       "stream": "stdout",
       "text": [
        "Epoch 50, CIFAR-10 Batch 1:  "
       ]
      },
      {
       "output_type": "stream",
       "stream": "stdout",
       "text": [
        "Loss:     2.0689 Validation Accuracy: 0.371400\n"
       ]
      },
      {
       "output_type": "stream",
       "stream": "stdout",
       "text": [
        "Epoch 51, CIFAR-10 Batch 1:  "
       ]
      },
      {
       "output_type": "stream",
       "stream": "stdout",
       "text": [
        "Loss:     2.2821 Validation Accuracy: 0.372600\n"
       ]
      },
      {
       "output_type": "stream",
       "stream": "stdout",
       "text": [
        "Epoch 52, CIFAR-10 Batch 1:  "
       ]
      },
      {
       "output_type": "stream",
       "stream": "stdout",
       "text": [
        "Loss:     2.1663 Validation Accuracy: 0.374200\n"
       ]
      },
      {
       "output_type": "stream",
       "stream": "stdout",
       "text": [
        "Epoch 53, CIFAR-10 Batch 1:  "
       ]
      },
      {
       "output_type": "stream",
       "stream": "stdout",
       "text": [
        "Loss:     2.1881 Validation Accuracy: 0.370200\n"
       ]
      },
      {
       "output_type": "stream",
       "stream": "stdout",
       "text": [
        "Epoch 54, CIFAR-10 Batch 1:  "
       ]
      },
      {
       "output_type": "stream",
       "stream": "stdout",
       "text": [
        "Loss:     2.3712 Validation Accuracy: 0.344800\n"
       ]
      },
      {
       "output_type": "stream",
       "stream": "stdout",
       "text": [
        "Epoch 55, CIFAR-10 Batch 1:  "
       ]
      },
      {
       "output_type": "stream",
       "stream": "stdout",
       "text": [
        "Loss:     2.2347 Validation Accuracy: 0.351800\n"
       ]
      },
      {
       "output_type": "stream",
       "stream": "stdout",
       "text": [
        "Epoch 56, CIFAR-10 Batch 1:  "
       ]
      },
      {
       "output_type": "stream",
       "stream": "stdout",
       "text": [
        "Loss:     2.7285 Validation Accuracy: 0.315800\n"
       ]
      },
      {
       "output_type": "stream",
       "stream": "stdout",
       "text": [
        "Epoch 57, CIFAR-10 Batch 1:  "
       ]
      },
      {
       "output_type": "stream",
       "stream": "stdout",
       "text": [
        "Loss:     2.0840 Validation Accuracy: 0.381200\n"
       ]
      },
      {
       "output_type": "stream",
       "stream": "stdout",
       "text": [
        "Epoch 58, CIFAR-10 Batch 1:  "
       ]
      },
      {
       "output_type": "stream",
       "stream": "stdout",
       "text": [
        "Loss:     2.1220 Validation Accuracy: 0.384200\n"
       ]
      },
      {
       "output_type": "stream",
       "stream": "stdout",
       "text": [
        "Epoch 59, CIFAR-10 Batch 1:  "
       ]
      },
      {
       "output_type": "stream",
       "stream": "stdout",
       "text": [
        "Loss:     2.0764 Validation Accuracy: 0.372800\n"
       ]
      },
      {
       "output_type": "stream",
       "stream": "stdout",
       "text": [
        "Epoch 60, CIFAR-10 Batch 1:  "
       ]
      },
      {
       "output_type": "stream",
       "stream": "stdout",
       "text": [
        "Loss:     1.9214 Validation Accuracy: 0.390400\n"
       ]
      },
      {
       "output_type": "stream",
       "stream": "stdout",
       "text": [
        "Epoch 61, CIFAR-10 Batch 1:  "
       ]
      },
      {
       "output_type": "stream",
       "stream": "stdout",
       "text": [
        "Loss:     2.1376 Validation Accuracy: 0.381000\n"
       ]
      },
      {
       "output_type": "stream",
       "stream": "stdout",
       "text": [
        "Epoch 62, CIFAR-10 Batch 1:  "
       ]
      },
      {
       "output_type": "stream",
       "stream": "stdout",
       "text": [
        "Loss:     2.2572 Validation Accuracy: 0.371400\n"
       ]
      },
      {
       "output_type": "stream",
       "stream": "stdout",
       "text": [
        "Epoch 63, CIFAR-10 Batch 1:  "
       ]
      },
      {
       "output_type": "stream",
       "stream": "stdout",
       "text": [
        "Loss:     2.4233 Validation Accuracy: 0.360000\n"
       ]
      },
      {
       "output_type": "stream",
       "stream": "stdout",
       "text": [
        "Epoch 64, CIFAR-10 Batch 1:  "
       ]
      },
      {
       "output_type": "stream",
       "stream": "stdout",
       "text": [
        "Loss:     2.6417 Validation Accuracy: 0.338800\n"
       ]
      },
      {
       "output_type": "stream",
       "stream": "stdout",
       "text": [
        "Epoch 65, CIFAR-10 Batch 1:  "
       ]
      },
      {
       "output_type": "stream",
       "stream": "stdout",
       "text": [
        "Loss:     2.2940 Validation Accuracy: 0.380800\n"
       ]
      },
      {
       "output_type": "stream",
       "stream": "stdout",
       "text": [
        "Epoch 66, CIFAR-10 Batch 1:  "
       ]
      },
      {
       "output_type": "stream",
       "stream": "stdout",
       "text": [
        "Loss:     2.5457 Validation Accuracy: 0.353800\n"
       ]
      },
      {
       "output_type": "stream",
       "stream": "stdout",
       "text": [
        "Epoch 67, CIFAR-10 Batch 1:  "
       ]
      },
      {
       "output_type": "stream",
       "stream": "stdout",
       "text": [
        "Loss:     2.1206 Validation Accuracy: 0.366800\n"
       ]
      },
      {
       "output_type": "stream",
       "stream": "stdout",
       "text": [
        "Epoch 68, CIFAR-10 Batch 1:  "
       ]
      },
      {
       "output_type": "stream",
       "stream": "stdout",
       "text": [
        "Loss:     2.3764 Validation Accuracy: 0.374600\n"
       ]
      },
      {
       "output_type": "stream",
       "stream": "stdout",
       "text": [
        "Epoch 69, CIFAR-10 Batch 1:  "
       ]
      },
      {
       "output_type": "stream",
       "stream": "stdout",
       "text": [
        "Loss:     2.4080 Validation Accuracy: 0.358400\n"
       ]
      },
      {
       "output_type": "stream",
       "stream": "stdout",
       "text": [
        "Epoch 70, CIFAR-10 Batch 1:  "
       ]
      },
      {
       "output_type": "stream",
       "stream": "stdout",
       "text": [
        "Loss:     2.3732 Validation Accuracy: 0.360600\n"
       ]
      },
      {
       "output_type": "stream",
       "stream": "stdout",
       "text": [
        "Epoch 71, CIFAR-10 Batch 1:  "
       ]
      },
      {
       "output_type": "stream",
       "stream": "stdout",
       "text": [
        "Loss:     2.0264 Validation Accuracy: 0.388000\n"
       ]
      },
      {
       "output_type": "stream",
       "stream": "stdout",
       "text": [
        "Epoch 72, CIFAR-10 Batch 1:  "
       ]
      },
      {
       "output_type": "stream",
       "stream": "stdout",
       "text": [
        "Loss:     1.9397 Validation Accuracy: 0.399600\n"
       ]
      },
      {
       "output_type": "stream",
       "stream": "stdout",
       "text": [
        "Epoch 73, CIFAR-10 Batch 1:  "
       ]
      },
      {
       "output_type": "stream",
       "stream": "stdout",
       "text": [
        "Loss:     2.1260 Validation Accuracy: 0.393600\n"
       ]
      },
      {
       "output_type": "stream",
       "stream": "stdout",
       "text": [
        "Epoch 74, CIFAR-10 Batch 1:  "
       ]
      },
      {
       "output_type": "stream",
       "stream": "stdout",
       "text": [
        "Loss:     1.9641 Validation Accuracy: 0.381600\n"
       ]
      },
      {
       "output_type": "stream",
       "stream": "stdout",
       "text": [
        "Epoch 75, CIFAR-10 Batch 1:  "
       ]
      },
      {
       "output_type": "stream",
       "stream": "stdout",
       "text": [
        "Loss:     2.5825 Validation Accuracy: 0.337400\n"
       ]
      },
      {
       "output_type": "stream",
       "stream": "stdout",
       "text": [
        "Epoch 76, CIFAR-10 Batch 1:  "
       ]
      },
      {
       "output_type": "stream",
       "stream": "stdout",
       "text": [
        "Loss:     2.1099 Validation Accuracy: 0.373400\n"
       ]
      },
      {
       "output_type": "stream",
       "stream": "stdout",
       "text": [
        "Epoch 77, CIFAR-10 Batch 1:  "
       ]
      },
      {
       "output_type": "stream",
       "stream": "stdout",
       "text": [
        "Loss:     1.9207 Validation Accuracy: 0.417200\n"
       ]
      },
      {
       "output_type": "stream",
       "stream": "stdout",
       "text": [
        "Epoch 78, CIFAR-10 Batch 1:  "
       ]
      },
      {
       "output_type": "stream",
       "stream": "stdout",
       "text": [
        "Loss:     1.9291 Validation Accuracy: 0.380000\n"
       ]
      },
      {
       "output_type": "stream",
       "stream": "stdout",
       "text": [
        "Epoch 79, CIFAR-10 Batch 1:  "
       ]
      },
      {
       "output_type": "stream",
       "stream": "stdout",
       "text": [
        "Loss:     2.3526 Validation Accuracy: 0.354200\n"
       ]
      },
      {
       "output_type": "stream",
       "stream": "stdout",
       "text": [
        "Epoch 80, CIFAR-10 Batch 1:  "
       ]
      },
      {
       "output_type": "stream",
       "stream": "stdout",
       "text": [
        "Loss:     2.0725 Validation Accuracy: 0.372400\n"
       ]
      },
      {
       "output_type": "stream",
       "stream": "stdout",
       "text": [
        "Epoch 81, CIFAR-10 Batch 1:  "
       ]
      },
      {
       "output_type": "stream",
       "stream": "stdout",
       "text": [
        "Loss:     2.0756 Validation Accuracy: 0.383400\n"
       ]
      },
      {
       "output_type": "stream",
       "stream": "stdout",
       "text": [
        "Epoch 82, CIFAR-10 Batch 1:  "
       ]
      },
      {
       "output_type": "stream",
       "stream": "stdout",
       "text": [
        "Loss:     2.0428 Validation Accuracy: 0.372600\n"
       ]
      },
      {
       "output_type": "stream",
       "stream": "stdout",
       "text": [
        "Epoch 83, CIFAR-10 Batch 1:  "
       ]
      },
      {
       "output_type": "stream",
       "stream": "stdout",
       "text": [
        "Loss:     1.9464 Validation Accuracy: 0.366800\n"
       ]
      },
      {
       "output_type": "stream",
       "stream": "stdout",
       "text": [
        "Epoch 84, CIFAR-10 Batch 1:  "
       ]
      },
      {
       "output_type": "stream",
       "stream": "stdout",
       "text": [
        "Loss:     1.9737 Validation Accuracy: 0.402600\n"
       ]
      },
      {
       "output_type": "stream",
       "stream": "stdout",
       "text": [
        "Epoch 85, CIFAR-10 Batch 1:  "
       ]
      },
      {
       "output_type": "stream",
       "stream": "stdout",
       "text": [
        "Loss:     2.0083 Validation Accuracy: 0.365200\n"
       ]
      },
      {
       "output_type": "stream",
       "stream": "stdout",
       "text": [
        "Epoch 86, CIFAR-10 Batch 1:  "
       ]
      },
      {
       "output_type": "stream",
       "stream": "stdout",
       "text": [
        "Loss:     2.1556 Validation Accuracy: 0.388800\n"
       ]
      },
      {
       "output_type": "stream",
       "stream": "stdout",
       "text": [
        "Epoch 87, CIFAR-10 Batch 1:  "
       ]
      },
      {
       "output_type": "stream",
       "stream": "stdout",
       "text": [
        "Loss:     1.8684 Validation Accuracy: 0.391800\n"
       ]
      },
      {
       "output_type": "stream",
       "stream": "stdout",
       "text": [
        "Epoch 88, CIFAR-10 Batch 1:  "
       ]
      },
      {
       "output_type": "stream",
       "stream": "stdout",
       "text": [
        "Loss:     1.9254 Validation Accuracy: 0.402200\n"
       ]
      },
      {
       "output_type": "stream",
       "stream": "stdout",
       "text": [
        "Epoch 89, CIFAR-10 Batch 1:  "
       ]
      },
      {
       "output_type": "stream",
       "stream": "stdout",
       "text": [
        "Loss:     2.0049 Validation Accuracy: 0.377600\n"
       ]
      },
      {
       "output_type": "stream",
       "stream": "stdout",
       "text": [
        "Epoch 90, CIFAR-10 Batch 1:  "
       ]
      },
      {
       "output_type": "stream",
       "stream": "stdout",
       "text": [
        "Loss:     2.0608 Validation Accuracy: 0.384000\n"
       ]
      },
      {
       "output_type": "stream",
       "stream": "stdout",
       "text": [
        "Epoch 91, CIFAR-10 Batch 1:  "
       ]
      },
      {
       "output_type": "stream",
       "stream": "stdout",
       "text": [
        "Loss:     1.6530 Validation Accuracy: 0.427800\n"
       ]
      },
      {
       "output_type": "stream",
       "stream": "stdout",
       "text": [
        "Epoch 92, CIFAR-10 Batch 1:  "
       ]
      },
      {
       "output_type": "stream",
       "stream": "stdout",
       "text": [
        "Loss:     1.9265 Validation Accuracy: 0.393200\n"
       ]
      },
      {
       "output_type": "stream",
       "stream": "stdout",
       "text": [
        "Epoch 93, CIFAR-10 Batch 1:  "
       ]
      },
      {
       "output_type": "stream",
       "stream": "stdout",
       "text": [
        "Loss:     1.8944 Validation Accuracy: 0.374200\n"
       ]
      },
      {
       "output_type": "stream",
       "stream": "stdout",
       "text": [
        "Epoch 94, CIFAR-10 Batch 1:  "
       ]
      },
      {
       "output_type": "stream",
       "stream": "stdout",
       "text": [
        "Loss:     1.9032 Validation Accuracy: 0.392000\n"
       ]
      },
      {
       "output_type": "stream",
       "stream": "stdout",
       "text": [
        "Epoch 95, CIFAR-10 Batch 1:  "
       ]
      },
      {
       "output_type": "stream",
       "stream": "stdout",
       "text": [
        "Loss:     1.5721 Validation Accuracy: 0.414200\n"
       ]
      },
      {
       "output_type": "stream",
       "stream": "stdout",
       "text": [
        "Epoch 96, CIFAR-10 Batch 1:  "
       ]
      },
      {
       "output_type": "stream",
       "stream": "stdout",
       "text": [
        "Loss:     1.8797 Validation Accuracy: 0.400600\n"
       ]
      },
      {
       "output_type": "stream",
       "stream": "stdout",
       "text": [
        "Epoch 97, CIFAR-10 Batch 1:  "
       ]
      },
      {
       "output_type": "stream",
       "stream": "stdout",
       "text": [
        "Loss:     1.6556 Validation Accuracy: 0.415800\n"
       ]
      },
      {
       "output_type": "stream",
       "stream": "stdout",
       "text": [
        "Epoch 98, CIFAR-10 Batch 1:  "
       ]
      },
      {
       "output_type": "stream",
       "stream": "stdout",
       "text": [
        "Loss:     1.7880 Validation Accuracy: 0.394200\n"
       ]
      },
      {
       "output_type": "stream",
       "stream": "stdout",
       "text": [
        "Epoch 99, CIFAR-10 Batch 1:  "
       ]
      },
      {
       "output_type": "stream",
       "stream": "stdout",
       "text": [
        "Loss:     1.6316 Validation Accuracy: 0.425600\n"
       ]
      },
      {
       "output_type": "stream",
       "stream": "stdout",
       "text": [
        "Epoch 100, CIFAR-10 Batch 1:  "
       ]
      },
      {
       "output_type": "stream",
       "stream": "stdout",
       "text": [
        "Loss:     1.4746 Validation Accuracy: 0.423600\n"
       ]
      },
      {
       "output_type": "stream",
       "stream": "stdout",
       "text": [
        "Epoch 101, CIFAR-10 Batch 1:  "
       ]
      },
      {
       "output_type": "stream",
       "stream": "stdout",
       "text": [
        "Loss:     1.4809 Validation Accuracy: 0.415200\n"
       ]
      },
      {
       "output_type": "stream",
       "stream": "stdout",
       "text": [
        "Epoch 102, CIFAR-10 Batch 1:  Loss:     1.7678 Validation Accuracy: 0.403600\n"
       ]
      },
      {
       "output_type": "stream",
       "stream": "stdout",
       "text": [
        "Epoch 103, CIFAR-10 Batch 1:  "
       ]
      },
      {
       "output_type": "stream",
       "stream": "stdout",
       "text": [
        "Loss:     1.5374 Validation Accuracy: 0.402600\n"
       ]
      },
      {
       "output_type": "stream",
       "stream": "stdout",
       "text": [
        "Epoch 104, CIFAR-10 Batch 1:  "
       ]
      },
      {
       "output_type": "stream",
       "stream": "stdout",
       "text": [
        "Loss:     1.4619 Validation Accuracy: 0.408800\n"
       ]
      },
      {
       "output_type": "stream",
       "stream": "stdout",
       "text": [
        "Epoch 105, CIFAR-10 Batch 1:  "
       ]
      },
      {
       "output_type": "stream",
       "stream": "stdout",
       "text": [
        "Loss:     1.5897 Validation Accuracy: 0.416000\n"
       ]
      },
      {
       "output_type": "stream",
       "stream": "stdout",
       "text": [
        "Epoch 106, CIFAR-10 Batch 1:  "
       ]
      },
      {
       "output_type": "stream",
       "stream": "stdout",
       "text": [
        "Loss:     1.5222 Validation Accuracy: 0.411800\n"
       ]
      },
      {
       "output_type": "stream",
       "stream": "stdout",
       "text": [
        "Epoch 107, CIFAR-10 Batch 1:  "
       ]
      },
      {
       "output_type": "stream",
       "stream": "stdout",
       "text": [
        "Loss:     1.7288 Validation Accuracy: 0.384400\n"
       ]
      },
      {
       "output_type": "stream",
       "stream": "stdout",
       "text": [
        "Epoch 108, CIFAR-10 Batch 1:  "
       ]
      },
      {
       "output_type": "stream",
       "stream": "stdout",
       "text": [
        "Loss:     1.8952 Validation Accuracy: 0.387600\n"
       ]
      },
      {
       "output_type": "stream",
       "stream": "stdout",
       "text": [
        "Epoch 109, CIFAR-10 Batch 1:  "
       ]
      },
      {
       "output_type": "stream",
       "stream": "stdout",
       "text": [
        "Loss:     1.5093 Validation Accuracy: 0.424600\n"
       ]
      },
      {
       "output_type": "stream",
       "stream": "stdout",
       "text": [
        "Epoch 110, CIFAR-10 Batch 1:  "
       ]
      },
      {
       "output_type": "stream",
       "stream": "stdout",
       "text": [
        "Loss:     1.6211 Validation Accuracy: 0.401000\n"
       ]
      },
      {
       "output_type": "stream",
       "stream": "stdout",
       "text": [
        "Epoch 111, CIFAR-10 Batch 1:  "
       ]
      },
      {
       "output_type": "stream",
       "stream": "stdout",
       "text": [
        "Loss:     1.4934 Validation Accuracy: 0.406400\n"
       ]
      },
      {
       "output_type": "stream",
       "stream": "stdout",
       "text": [
        "Epoch 112, CIFAR-10 Batch 1:  "
       ]
      },
      {
       "output_type": "stream",
       "stream": "stdout",
       "text": [
        "Loss:     1.9836 Validation Accuracy: 0.366000\n"
       ]
      },
      {
       "output_type": "stream",
       "stream": "stdout",
       "text": [
        "Epoch 113, CIFAR-10 Batch 1:  "
       ]
      },
      {
       "output_type": "stream",
       "stream": "stdout",
       "text": [
        "Loss:     1.4568 Validation Accuracy: 0.406400\n"
       ]
      },
      {
       "output_type": "stream",
       "stream": "stdout",
       "text": [
        "Epoch 114, CIFAR-10 Batch 1:  "
       ]
      },
      {
       "output_type": "stream",
       "stream": "stdout",
       "text": [
        "Loss:     1.3887 Validation Accuracy: 0.411600\n"
       ]
      },
      {
       "output_type": "stream",
       "stream": "stdout",
       "text": [
        "Epoch 115, CIFAR-10 Batch 1:  "
       ]
      },
      {
       "output_type": "stream",
       "stream": "stdout",
       "text": [
        "Loss:     1.2628 Validation Accuracy: 0.435800\n"
       ]
      },
      {
       "output_type": "stream",
       "stream": "stdout",
       "text": [
        "Epoch 116, CIFAR-10 Batch 1:  "
       ]
      },
      {
       "output_type": "stream",
       "stream": "stdout",
       "text": [
        "Loss:     1.4801 Validation Accuracy: 0.401200\n"
       ]
      },
      {
       "output_type": "stream",
       "stream": "stdout",
       "text": [
        "Epoch 117, CIFAR-10 Batch 1:  "
       ]
      },
      {
       "output_type": "stream",
       "stream": "stdout",
       "text": [
        "Loss:     1.4669 Validation Accuracy: 0.417000\n"
       ]
      },
      {
       "output_type": "stream",
       "stream": "stdout",
       "text": [
        "Epoch 118, CIFAR-10 Batch 1:  "
       ]
      },
      {
       "output_type": "stream",
       "stream": "stdout",
       "text": [
        "Loss:     1.7116 Validation Accuracy: 0.386200\n"
       ]
      },
      {
       "output_type": "stream",
       "stream": "stdout",
       "text": [
        "Epoch 119, CIFAR-10 Batch 1:  "
       ]
      },
      {
       "output_type": "stream",
       "stream": "stdout",
       "text": [
        "Loss:     1.3882 Validation Accuracy: 0.413400\n"
       ]
      },
      {
       "output_type": "stream",
       "stream": "stdout",
       "text": [
        "Epoch 120, CIFAR-10 Batch 1:  "
       ]
      },
      {
       "output_type": "stream",
       "stream": "stdout",
       "text": [
        "Loss:     1.2105 Validation Accuracy: 0.436200\n"
       ]
      },
      {
       "output_type": "stream",
       "stream": "stdout",
       "text": [
        "Epoch 121, CIFAR-10 Batch 1:  "
       ]
      },
      {
       "output_type": "stream",
       "stream": "stdout",
       "text": [
        "Loss:     1.4107 Validation Accuracy: 0.424000\n"
       ]
      },
      {
       "output_type": "stream",
       "stream": "stdout",
       "text": [
        "Epoch 122, CIFAR-10 Batch 1:  "
       ]
      },
      {
       "output_type": "stream",
       "stream": "stdout",
       "text": [
        "Loss:     1.3138 Validation Accuracy: 0.420400\n"
       ]
      },
      {
       "output_type": "stream",
       "stream": "stdout",
       "text": [
        "Epoch 123, CIFAR-10 Batch 1:  "
       ]
      },
      {
       "output_type": "stream",
       "stream": "stdout",
       "text": [
        "Loss:     1.2526 Validation Accuracy: 0.429000\n"
       ]
      },
      {
       "output_type": "stream",
       "stream": "stdout",
       "text": [
        "Epoch 124, CIFAR-10 Batch 1:  "
       ]
      },
      {
       "output_type": "stream",
       "stream": "stdout",
       "text": [
        "Loss:     1.4753 Validation Accuracy: 0.418000\n"
       ]
      },
      {
       "output_type": "stream",
       "stream": "stdout",
       "text": [
        "Epoch 125, CIFAR-10 Batch 1:  "
       ]
      },
      {
       "output_type": "stream",
       "stream": "stdout",
       "text": [
        "Loss:     1.4014 Validation Accuracy: 0.407600\n"
       ]
      },
      {
       "output_type": "stream",
       "stream": "stdout",
       "text": [
        "Epoch 126, CIFAR-10 Batch 1:  "
       ]
      },
      {
       "output_type": "stream",
       "stream": "stdout",
       "text": [
        "Loss:     1.5855 Validation Accuracy: 0.417200\n"
       ]
      },
      {
       "output_type": "stream",
       "stream": "stdout",
       "text": [
        "Epoch 127, CIFAR-10 Batch 1:  "
       ]
      },
      {
       "output_type": "stream",
       "stream": "stdout",
       "text": [
        "Loss:     1.3993 Validation Accuracy: 0.417400\n"
       ]
      },
      {
       "output_type": "stream",
       "stream": "stdout",
       "text": [
        "Epoch 128, CIFAR-10 Batch 1:  "
       ]
      },
      {
       "output_type": "stream",
       "stream": "stdout",
       "text": [
        "Loss:     1.3066 Validation Accuracy: 0.436200\n"
       ]
      },
      {
       "output_type": "stream",
       "stream": "stdout",
       "text": [
        "Epoch 129, CIFAR-10 Batch 1:  "
       ]
      },
      {
       "output_type": "stream",
       "stream": "stdout",
       "text": [
        "Loss:     1.3377 Validation Accuracy: 0.421200\n"
       ]
      },
      {
       "output_type": "stream",
       "stream": "stdout",
       "text": [
        "Epoch 130, CIFAR-10 Batch 1:  "
       ]
      },
      {
       "output_type": "stream",
       "stream": "stdout",
       "text": [
        "Loss:     1.3675 Validation Accuracy: 0.417600\n"
       ]
      },
      {
       "output_type": "stream",
       "stream": "stdout",
       "text": [
        "Epoch 131, CIFAR-10 Batch 1:  "
       ]
      },
      {
       "output_type": "stream",
       "stream": "stdout",
       "text": [
        "Loss:     1.3126 Validation Accuracy: 0.409200\n"
       ]
      },
      {
       "output_type": "stream",
       "stream": "stdout",
       "text": [
        "Epoch 132, CIFAR-10 Batch 1:  "
       ]
      },
      {
       "output_type": "stream",
       "stream": "stdout",
       "text": [
        "Loss:     1.5383 Validation Accuracy: 0.404200\n"
       ]
      },
      {
       "output_type": "stream",
       "stream": "stdout",
       "text": [
        "Epoch 133, CIFAR-10 Batch 1:  "
       ]
      },
      {
       "output_type": "stream",
       "stream": "stdout",
       "text": [
        "Loss:     1.3588 Validation Accuracy: 0.424400\n"
       ]
      },
      {
       "output_type": "stream",
       "stream": "stdout",
       "text": [
        "Epoch 134, CIFAR-10 Batch 1:  "
       ]
      },
      {
       "output_type": "stream",
       "stream": "stdout",
       "text": [
        "Loss:     1.1726 Validation Accuracy: 0.425200\n"
       ]
      },
      {
       "output_type": "stream",
       "stream": "stdout",
       "text": [
        "Epoch 135, CIFAR-10 Batch 1:  "
       ]
      },
      {
       "output_type": "stream",
       "stream": "stdout",
       "text": [
        "Loss:     1.2107 Validation Accuracy: 0.422000\n"
       ]
      },
      {
       "output_type": "stream",
       "stream": "stdout",
       "text": [
        "Epoch 136, CIFAR-10 Batch 1:  "
       ]
      },
      {
       "output_type": "stream",
       "stream": "stdout",
       "text": [
        "Loss:     1.2432 Validation Accuracy: 0.422600\n"
       ]
      },
      {
       "output_type": "stream",
       "stream": "stdout",
       "text": [
        "Epoch 137, CIFAR-10 Batch 1:  "
       ]
      },
      {
       "output_type": "stream",
       "stream": "stdout",
       "text": [
        "Loss:     1.4008 Validation Accuracy: 0.426400\n"
       ]
      },
      {
       "output_type": "stream",
       "stream": "stdout",
       "text": [
        "Epoch 138, CIFAR-10 Batch 1:  "
       ]
      },
      {
       "output_type": "stream",
       "stream": "stdout",
       "text": [
        "Loss:     1.1644 Validation Accuracy: 0.433200\n"
       ]
      },
      {
       "output_type": "stream",
       "stream": "stdout",
       "text": [
        "Epoch 139, CIFAR-10 Batch 1:  "
       ]
      },
      {
       "output_type": "stream",
       "stream": "stdout",
       "text": [
        "Loss:     1.2751 Validation Accuracy: 0.423000\n"
       ]
      },
      {
       "output_type": "stream",
       "stream": "stdout",
       "text": [
        "Epoch 140, CIFAR-10 Batch 1:  "
       ]
      },
      {
       "output_type": "stream",
       "stream": "stdout",
       "text": [
        "Loss:     1.2226 Validation Accuracy: 0.426200\n"
       ]
      },
      {
       "output_type": "stream",
       "stream": "stdout",
       "text": [
        "Epoch 141, CIFAR-10 Batch 1:  "
       ]
      },
      {
       "output_type": "stream",
       "stream": "stdout",
       "text": [
        "Loss:     1.1312 Validation Accuracy: 0.433000\n"
       ]
      },
      {
       "output_type": "stream",
       "stream": "stdout",
       "text": [
        "Epoch 142, CIFAR-10 Batch 1:  "
       ]
      },
      {
       "output_type": "stream",
       "stream": "stdout",
       "text": [
        "Loss:     1.3974 Validation Accuracy: 0.407600\n"
       ]
      },
      {
       "output_type": "stream",
       "stream": "stdout",
       "text": [
        "Epoch 143, CIFAR-10 Batch 1:  "
       ]
      },
      {
       "output_type": "stream",
       "stream": "stdout",
       "text": [
        "Loss:     1.4392 Validation Accuracy: 0.422400\n"
       ]
      },
      {
       "output_type": "stream",
       "stream": "stdout",
       "text": [
        "Epoch 144, CIFAR-10 Batch 1:  "
       ]
      },
      {
       "output_type": "stream",
       "stream": "stdout",
       "text": [
        "Loss:     1.4488 Validation Accuracy: 0.404400\n"
       ]
      },
      {
       "output_type": "stream",
       "stream": "stdout",
       "text": [
        "Epoch 145, CIFAR-10 Batch 1:  "
       ]
      },
      {
       "output_type": "stream",
       "stream": "stdout",
       "text": [
        "Loss:     1.1415 Validation Accuracy: 0.427600\n"
       ]
      },
      {
       "output_type": "stream",
       "stream": "stdout",
       "text": [
        "Epoch 146, CIFAR-10 Batch 1:  "
       ]
      },
      {
       "output_type": "stream",
       "stream": "stdout",
       "text": [
        "Loss:     1.3777 Validation Accuracy: 0.400600\n"
       ]
      },
      {
       "output_type": "stream",
       "stream": "stdout",
       "text": [
        "Epoch 147, CIFAR-10 Batch 1:  "
       ]
      },
      {
       "output_type": "stream",
       "stream": "stdout",
       "text": [
        "Loss:     1.2010 Validation Accuracy: 0.408800\n"
       ]
      },
      {
       "output_type": "stream",
       "stream": "stdout",
       "text": [
        "Epoch 148, CIFAR-10 Batch 1:  "
       ]
      },
      {
       "output_type": "stream",
       "stream": "stdout",
       "text": [
        "Loss:     1.2483 Validation Accuracy: 0.388800\n"
       ]
      },
      {
       "output_type": "stream",
       "stream": "stdout",
       "text": [
        "Epoch 149, CIFAR-10 Batch 1:  "
       ]
      },
      {
       "output_type": "stream",
       "stream": "stdout",
       "text": [
        "Loss:     1.1645 Validation Accuracy: 0.422800\n"
       ]
      },
      {
       "output_type": "stream",
       "stream": "stdout",
       "text": [
        "Epoch 150, CIFAR-10 Batch 1:  "
       ]
      },
      {
       "output_type": "stream",
       "stream": "stdout",
       "text": [
        "Loss:     1.2039 Validation Accuracy: 0.400600\n"
       ]
      },
      {
       "output_type": "stream",
       "stream": "stdout",
       "text": [
        "Epoch 151, CIFAR-10 Batch 1:  "
       ]
      },
      {
       "output_type": "stream",
       "stream": "stdout",
       "text": [
        "Loss:     1.4313 Validation Accuracy: 0.404600\n"
       ]
      },
      {
       "output_type": "stream",
       "stream": "stdout",
       "text": [
        "Epoch 152, CIFAR-10 Batch 1:  "
       ]
      },
      {
       "output_type": "stream",
       "stream": "stdout",
       "text": [
        "Loss:     1.2749 Validation Accuracy: 0.435400\n"
       ]
      },
      {
       "output_type": "stream",
       "stream": "stdout",
       "text": [
        "Epoch 153, CIFAR-10 Batch 1:  "
       ]
      },
      {
       "output_type": "stream",
       "stream": "stdout",
       "text": [
        "Loss:     1.2383 Validation Accuracy: 0.422800\n"
       ]
      },
      {
       "output_type": "stream",
       "stream": "stdout",
       "text": [
        "Epoch 154, CIFAR-10 Batch 1:  "
       ]
      },
      {
       "output_type": "stream",
       "stream": "stdout",
       "text": [
        "Loss:     1.1242 Validation Accuracy: 0.418600\n"
       ]
      },
      {
       "output_type": "stream",
       "stream": "stdout",
       "text": [
        "Epoch 155, CIFAR-10 Batch 1:  "
       ]
      },
      {
       "output_type": "stream",
       "stream": "stdout",
       "text": [
        "Loss:     1.2817 Validation Accuracy: 0.409400\n"
       ]
      },
      {
       "output_type": "stream",
       "stream": "stdout",
       "text": [
        "Epoch 156, CIFAR-10 Batch 1:  "
       ]
      },
      {
       "output_type": "stream",
       "stream": "stdout",
       "text": [
        "Loss:     1.1437 Validation Accuracy: 0.415400\n"
       ]
      },
      {
       "output_type": "stream",
       "stream": "stdout",
       "text": [
        "Epoch 157, CIFAR-10 Batch 1:  "
       ]
      },
      {
       "output_type": "stream",
       "stream": "stdout",
       "text": [
        "Loss:     1.3347 Validation Accuracy: 0.370600\n"
       ]
      },
      {
       "output_type": "stream",
       "stream": "stdout",
       "text": [
        "Epoch 158, CIFAR-10 Batch 1:  "
       ]
      },
      {
       "output_type": "stream",
       "stream": "stdout",
       "text": [
        "Loss:     1.0841 Validation Accuracy: 0.386800\n"
       ]
      },
      {
       "output_type": "stream",
       "stream": "stdout",
       "text": [
        "Epoch 159, CIFAR-10 Batch 1:  "
       ]
      },
      {
       "output_type": "stream",
       "stream": "stdout",
       "text": [
        "Loss:     0.8439 Validation Accuracy: 0.432200\n"
       ]
      },
      {
       "output_type": "stream",
       "stream": "stdout",
       "text": [
        "Epoch 160, CIFAR-10 Batch 1:  "
       ]
      },
      {
       "output_type": "stream",
       "stream": "stdout",
       "text": [
        "Loss:     0.9118 Validation Accuracy: 0.415200\n"
       ]
      },
      {
       "output_type": "stream",
       "stream": "stdout",
       "text": [
        "Epoch 161, CIFAR-10 Batch 1:  "
       ]
      },
      {
       "output_type": "stream",
       "stream": "stdout",
       "text": [
        "Loss:     0.9696 Validation Accuracy: 0.410400\n"
       ]
      },
      {
       "output_type": "stream",
       "stream": "stdout",
       "text": [
        "Epoch 162, CIFAR-10 Batch 1:  "
       ]
      },
      {
       "output_type": "stream",
       "stream": "stdout",
       "text": [
        "Loss:     0.8506 Validation Accuracy: 0.427200\n"
       ]
      },
      {
       "output_type": "stream",
       "stream": "stdout",
       "text": [
        "Epoch 163, CIFAR-10 Batch 1:  "
       ]
      },
      {
       "output_type": "stream",
       "stream": "stdout",
       "text": [
        "Loss:     0.9780 Validation Accuracy: 0.424600\n"
       ]
      },
      {
       "output_type": "stream",
       "stream": "stdout",
       "text": [
        "Epoch 164, CIFAR-10 Batch 1:  "
       ]
      },
      {
       "output_type": "stream",
       "stream": "stdout",
       "text": [
        "Loss:     1.0210 Validation Accuracy: 0.435200\n"
       ]
      },
      {
       "output_type": "stream",
       "stream": "stdout",
       "text": [
        "Epoch 165, CIFAR-10 Batch 1:  "
       ]
      },
      {
       "output_type": "stream",
       "stream": "stdout",
       "text": [
        "Loss:     1.2277 Validation Accuracy: 0.413600\n"
       ]
      },
      {
       "output_type": "stream",
       "stream": "stdout",
       "text": [
        "Epoch 166, CIFAR-10 Batch 1:  "
       ]
      },
      {
       "output_type": "stream",
       "stream": "stdout",
       "text": [
        "Loss:     0.9658 Validation Accuracy: 0.414600\n"
       ]
      },
      {
       "output_type": "stream",
       "stream": "stdout",
       "text": [
        "Epoch 167, CIFAR-10 Batch 1:  "
       ]
      },
      {
       "output_type": "stream",
       "stream": "stdout",
       "text": [
        "Loss:     1.0862 Validation Accuracy: 0.416600\n"
       ]
      },
      {
       "output_type": "stream",
       "stream": "stdout",
       "text": [
        "Epoch 168, CIFAR-10 Batch 1:  "
       ]
      },
      {
       "output_type": "stream",
       "stream": "stdout",
       "text": [
        "Loss:     1.0110 Validation Accuracy: 0.426600\n"
       ]
      },
      {
       "output_type": "stream",
       "stream": "stdout",
       "text": [
        "Epoch 169, CIFAR-10 Batch 1:  "
       ]
      },
      {
       "output_type": "stream",
       "stream": "stdout",
       "text": [
        "Loss:     1.0629 Validation Accuracy: 0.424000\n"
       ]
      },
      {
       "output_type": "stream",
       "stream": "stdout",
       "text": [
        "Epoch 170, CIFAR-10 Batch 1:  "
       ]
      },
      {
       "output_type": "stream",
       "stream": "stdout",
       "text": [
        "Loss:     1.0384 Validation Accuracy: 0.415400\n"
       ]
      },
      {
       "output_type": "stream",
       "stream": "stdout",
       "text": [
        "Epoch 171, CIFAR-10 Batch 1:  "
       ]
      },
      {
       "output_type": "stream",
       "stream": "stdout",
       "text": [
        "Loss:     1.3494 Validation Accuracy: 0.383400\n"
       ]
      },
      {
       "output_type": "stream",
       "stream": "stdout",
       "text": [
        "Epoch 172, CIFAR-10 Batch 1:  "
       ]
      },
      {
       "output_type": "stream",
       "stream": "stdout",
       "text": [
        "Loss:     1.1115 Validation Accuracy: 0.408200\n"
       ]
      },
      {
       "output_type": "stream",
       "stream": "stdout",
       "text": [
        "Epoch 173, CIFAR-10 Batch 1:  "
       ]
      },
      {
       "output_type": "stream",
       "stream": "stdout",
       "text": [
        "Loss:     1.0125 Validation Accuracy: 0.397200\n"
       ]
      },
      {
       "output_type": "stream",
       "stream": "stdout",
       "text": [
        "Epoch 174, CIFAR-10 Batch 1:  "
       ]
      },
      {
       "output_type": "stream",
       "stream": "stdout",
       "text": [
        "Loss:     0.9938 Validation Accuracy: 0.414400\n"
       ]
      },
      {
       "output_type": "stream",
       "stream": "stdout",
       "text": [
        "Epoch 175, CIFAR-10 Batch 1:  "
       ]
      },
      {
       "output_type": "stream",
       "stream": "stdout",
       "text": [
        "Loss:     1.2370 Validation Accuracy: 0.389800\n"
       ]
      },
      {
       "output_type": "stream",
       "stream": "stdout",
       "text": [
        "Epoch 176, CIFAR-10 Batch 1:  "
       ]
      },
      {
       "output_type": "stream",
       "stream": "stdout",
       "text": [
        "Loss:     1.0956 Validation Accuracy: 0.430200\n"
       ]
      },
      {
       "output_type": "stream",
       "stream": "stdout",
       "text": [
        "Epoch 177, CIFAR-10 Batch 1:  "
       ]
      },
      {
       "output_type": "stream",
       "stream": "stdout",
       "text": [
        "Loss:     1.0673 Validation Accuracy: 0.424600\n"
       ]
      },
      {
       "output_type": "stream",
       "stream": "stdout",
       "text": [
        "Epoch 178, CIFAR-10 Batch 1:  "
       ]
      },
      {
       "output_type": "stream",
       "stream": "stdout",
       "text": [
        "Loss:     0.9116 Validation Accuracy: 0.436600\n"
       ]
      },
      {
       "output_type": "stream",
       "stream": "stdout",
       "text": [
        "Epoch 179, CIFAR-10 Batch 1:  "
       ]
      },
      {
       "output_type": "stream",
       "stream": "stdout",
       "text": [
        "Loss:     0.9851 Validation Accuracy: 0.390600\n"
       ]
      },
      {
       "output_type": "stream",
       "stream": "stdout",
       "text": [
        "Epoch 180, CIFAR-10 Batch 1:  Loss:     1.0485 Validation Accuracy: 0.392200\n"
       ]
      },
      {
       "output_type": "stream",
       "stream": "stdout",
       "text": [
        "Epoch 181, CIFAR-10 Batch 1:  "
       ]
      },
      {
       "output_type": "stream",
       "stream": "stdout",
       "text": [
        "Loss:     0.9711 Validation Accuracy: 0.426400\n"
       ]
      },
      {
       "output_type": "stream",
       "stream": "stdout",
       "text": [
        "Epoch 182, CIFAR-10 Batch 1:  "
       ]
      },
      {
       "output_type": "stream",
       "stream": "stdout",
       "text": [
        "Loss:     1.0145 Validation Accuracy: 0.421800\n"
       ]
      },
      {
       "output_type": "stream",
       "stream": "stdout",
       "text": [
        "Epoch 183, CIFAR-10 Batch 1:  "
       ]
      },
      {
       "output_type": "stream",
       "stream": "stdout",
       "text": [
        "Loss:     0.8283 Validation Accuracy: 0.440000\n"
       ]
      },
      {
       "output_type": "stream",
       "stream": "stdout",
       "text": [
        "Epoch 184, CIFAR-10 Batch 1:  "
       ]
      },
      {
       "output_type": "stream",
       "stream": "stdout",
       "text": [
        "Loss:     0.9897 Validation Accuracy: 0.397200\n"
       ]
      },
      {
       "output_type": "stream",
       "stream": "stdout",
       "text": [
        "Epoch 185, CIFAR-10 Batch 1:  "
       ]
      },
      {
       "output_type": "stream",
       "stream": "stdout",
       "text": [
        "Loss:     1.0594 Validation Accuracy: 0.404800\n"
       ]
      },
      {
       "output_type": "stream",
       "stream": "stdout",
       "text": [
        "Epoch 186, CIFAR-10 Batch 1:  "
       ]
      },
      {
       "output_type": "stream",
       "stream": "stdout",
       "text": [
        "Loss:     0.9160 Validation Accuracy: 0.409800\n"
       ]
      },
      {
       "output_type": "stream",
       "stream": "stdout",
       "text": [
        "Epoch 187, CIFAR-10 Batch 1:  "
       ]
      },
      {
       "output_type": "stream",
       "stream": "stdout",
       "text": [
        "Loss:     0.8273 Validation Accuracy: 0.440400\n"
       ]
      },
      {
       "output_type": "stream",
       "stream": "stdout",
       "text": [
        "Epoch 188, CIFAR-10 Batch 1:  "
       ]
      },
      {
       "output_type": "stream",
       "stream": "stdout",
       "text": [
        "Loss:     1.2783 Validation Accuracy: 0.372000\n"
       ]
      },
      {
       "output_type": "stream",
       "stream": "stdout",
       "text": [
        "Epoch 189, CIFAR-10 Batch 1:  Loss:     0.9385 Validation Accuracy: 0.430800\n"
       ]
      },
      {
       "output_type": "stream",
       "stream": "stdout",
       "text": [
        "Epoch 190, CIFAR-10 Batch 1:  Loss:     0.8358 Validation Accuracy: 0.436200\n"
       ]
      },
      {
       "output_type": "stream",
       "stream": "stdout",
       "text": [
        "Epoch 191, CIFAR-10 Batch 1:  "
       ]
      },
      {
       "output_type": "stream",
       "stream": "stdout",
       "text": [
        "Loss:     1.0169 Validation Accuracy: 0.418800\n"
       ]
      },
      {
       "output_type": "stream",
       "stream": "stdout",
       "text": [
        "Epoch 192, CIFAR-10 Batch 1:  "
       ]
      },
      {
       "output_type": "stream",
       "stream": "stdout",
       "text": [
        "Loss:     1.1306 Validation Accuracy: 0.387200\n"
       ]
      },
      {
       "output_type": "stream",
       "stream": "stdout",
       "text": [
        "Epoch 193, CIFAR-10 Batch 1:  "
       ]
      },
      {
       "output_type": "stream",
       "stream": "stdout",
       "text": [
        "Loss:     0.9156 Validation Accuracy: 0.434800\n"
       ]
      },
      {
       "output_type": "stream",
       "stream": "stdout",
       "text": [
        "Epoch 194, CIFAR-10 Batch 1:  "
       ]
      },
      {
       "output_type": "stream",
       "stream": "stdout",
       "text": [
        "Loss:     0.8413 Validation Accuracy: 0.422200\n"
       ]
      },
      {
       "output_type": "stream",
       "stream": "stdout",
       "text": [
        "Epoch 195, CIFAR-10 Batch 1:  "
       ]
      },
      {
       "output_type": "stream",
       "stream": "stdout",
       "text": [
        "Loss:     0.9419 Validation Accuracy: 0.409400\n"
       ]
      },
      {
       "output_type": "stream",
       "stream": "stdout",
       "text": [
        "Epoch 196, CIFAR-10 Batch 1:  "
       ]
      },
      {
       "output_type": "stream",
       "stream": "stdout",
       "text": [
        "Loss:     0.8877 Validation Accuracy: 0.432800\n"
       ]
      },
      {
       "output_type": "stream",
       "stream": "stdout",
       "text": [
        "Epoch 197, CIFAR-10 Batch 1:  "
       ]
      },
      {
       "output_type": "stream",
       "stream": "stdout",
       "text": [
        "Loss:     1.1428 Validation Accuracy: 0.379200\n",
        "Epoch 198, CIFAR-10 Batch 1:  "
       ]
      },
      {
       "output_type": "stream",
       "stream": "stdout",
       "text": [
        "Loss:     1.1072 Validation Accuracy: 0.402000\n",
        "Epoch 199, CIFAR-10 Batch 1:  "
       ]
      },
      {
       "output_type": "stream",
       "stream": "stdout",
       "text": [
        "Loss:     0.8009 Validation Accuracy: 0.432600\n"
       ]
      },
      {
       "output_type": "stream",
       "stream": "stdout",
       "text": [
        "Epoch 200, CIFAR-10 Batch 1:  "
       ]
      },
      {
       "output_type": "stream",
       "stream": "stdout",
       "text": [
        "Loss:     0.8574 Validation Accuracy: 0.441000\n"
       ]
      }
     ],
     "prompt_number": 16
    },
    {
     "cell_type": "markdown",
     "metadata": {
      "deletable": true,
      "editable": true
     },
     "source": [
      "### Fully Train the Model\n",
      "Now that you got a good accuracy with a single CIFAR-10 batch, try it with all five batches."
     ]
    },
    {
     "cell_type": "code",
     "collapsed": false,
     "input": [
      "\"\"\"\n",
      "DON'T MODIFY ANYTHING IN THIS CELL\n",
      "\"\"\"\n",
      "save_model_path = './image_classification'\n",
      "\n",
      "print('Training...')\n",
      "with tf.Session() as sess:\n",
      "    # Initializing the variables\n",
      "    sess.run(tf.global_variables_initializer())\n",
      "    \n",
      "    # Training cycle\n",
      "    for epoch in range(epochs):\n",
      "        # Loop over all batches\n",
      "        n_batches = 5\n",
      "        for batch_i in range(1, n_batches + 1):\n",
      "            for batch_features, batch_labels in helper.load_preprocess_training_batch(batch_i, batch_size):\n",
      "                train_neural_network(sess, optimizer, keep_probability, batch_features, batch_labels)\n",
      "            print('Epoch {:>2}, CIFAR-10 Batch {}:  '.format(epoch + 1, batch_i), end='')\n",
      "            print_stats(sess, batch_features, batch_labels, cost, accuracy)\n",
      "            \n",
      "    # Save Model\n",
      "    saver = tf.train.Saver()\n",
      "    save_path = saver.save(sess, save_model_path)"
     ],
     "language": "python",
     "metadata": {
      "deletable": true,
      "editable": true
     },
     "outputs": [
      {
       "output_type": "stream",
       "stream": "stdout",
       "text": [
        "Training...\n"
       ]
      },
      {
       "output_type": "stream",
       "stream": "stdout",
       "text": [
        "Epoch  1, CIFAR-10 Batch 1:  "
       ]
      },
      {
       "output_type": "stream",
       "stream": "stdout",
       "text": [
        "Loss:     2.2323 Validation Accuracy: 0.115200\n"
       ]
      },
      {
       "output_type": "stream",
       "stream": "stdout",
       "text": [
        "Epoch  1, CIFAR-10 Batch 2:  "
       ]
      },
      {
       "output_type": "stream",
       "stream": "stdout",
       "text": [
        "Loss:     2.3749 Validation Accuracy: 0.143000\n"
       ]
      },
      {
       "output_type": "stream",
       "stream": "stdout",
       "text": [
        "Epoch  1, CIFAR-10 Batch 3:  "
       ]
      },
      {
       "output_type": "stream",
       "stream": "stdout",
       "text": [
        "Loss:     2.2038 Validation Accuracy: 0.130400\n"
       ]
      },
      {
       "output_type": "stream",
       "stream": "stdout",
       "text": [
        "Epoch  1, CIFAR-10 Batch 4:  "
       ]
      },
      {
       "output_type": "stream",
       "stream": "stdout",
       "text": [
        "Loss:     2.2742 Validation Accuracy: 0.164200\n"
       ]
      },
      {
       "output_type": "stream",
       "stream": "stdout",
       "text": [
        "Epoch  1, CIFAR-10 Batch 5:  "
       ]
      },
      {
       "output_type": "stream",
       "stream": "stdout",
       "text": [
        "Loss:     2.2578 Validation Accuracy: 0.164200\n"
       ]
      },
      {
       "output_type": "stream",
       "stream": "stdout",
       "text": [
        "Epoch  2, CIFAR-10 Batch 1:  "
       ]
      },
      {
       "output_type": "stream",
       "stream": "stdout",
       "text": [
        "Loss:     2.1824 Validation Accuracy: 0.185000\n"
       ]
      },
      {
       "output_type": "stream",
       "stream": "stdout",
       "text": [
        "Epoch  2, CIFAR-10 Batch 2:  "
       ]
      },
      {
       "output_type": "stream",
       "stream": "stdout",
       "text": [
        "Loss:     2.1619 Validation Accuracy: 0.221600\n"
       ]
      },
      {
       "output_type": "stream",
       "stream": "stdout",
       "text": [
        "Epoch  2, CIFAR-10 Batch 3:  "
       ]
      },
      {
       "output_type": "stream",
       "stream": "stdout",
       "text": [
        "Loss:     2.1265 Validation Accuracy: 0.242000\n"
       ]
      },
      {
       "output_type": "stream",
       "stream": "stdout",
       "text": [
        "Epoch  2, CIFAR-10 Batch 4:  "
       ]
      },
      {
       "output_type": "stream",
       "stream": "stdout",
       "text": [
        "Loss:     2.1874 Validation Accuracy: 0.184600\n"
       ]
      },
      {
       "output_type": "stream",
       "stream": "stdout",
       "text": [
        "Epoch  2, CIFAR-10 Batch 5:  "
       ]
      },
      {
       "output_type": "stream",
       "stream": "stdout",
       "text": [
        "Loss:     2.0581 Validation Accuracy: 0.151600\n"
       ]
      },
      {
       "output_type": "stream",
       "stream": "stdout",
       "text": [
        "Epoch  3, CIFAR-10 Batch 1:  "
       ]
      },
      {
       "output_type": "stream",
       "stream": "stdout",
       "text": [
        "Loss:     2.3092 Validation Accuracy: 0.221200\n"
       ]
      },
      {
       "output_type": "stream",
       "stream": "stdout",
       "text": [
        "Epoch  3, CIFAR-10 Batch 2:  "
       ]
      },
      {
       "output_type": "stream",
       "stream": "stdout",
       "text": [
        "Loss:     1.9896 Validation Accuracy: 0.222000\n"
       ]
      },
      {
       "output_type": "stream",
       "stream": "stdout",
       "text": [
        "Epoch  3, CIFAR-10 Batch 3:  "
       ]
      },
      {
       "output_type": "stream",
       "stream": "stdout",
       "text": [
        "Loss:     1.8244 Validation Accuracy: 0.279200\n"
       ]
      },
      {
       "output_type": "stream",
       "stream": "stdout",
       "text": [
        "Epoch  3, CIFAR-10 Batch 4:  Loss:     1.9556 Validation Accuracy: 0.218200\n"
       ]
      },
      {
       "output_type": "stream",
       "stream": "stdout",
       "text": [
        "Epoch  3, CIFAR-10 Batch 5:  "
       ]
      },
      {
       "output_type": "stream",
       "stream": "stdout",
       "text": [
        "Loss:     1.9372 Validation Accuracy: 0.230400\n"
       ]
      },
      {
       "output_type": "stream",
       "stream": "stdout",
       "text": [
        "Epoch  4, CIFAR-10 Batch 1:  "
       ]
      },
      {
       "output_type": "stream",
       "stream": "stdout",
       "text": [
        "Loss:     2.5645 Validation Accuracy: 0.254600\n"
       ]
      },
      {
       "output_type": "stream",
       "stream": "stdout",
       "text": [
        "Epoch  4, CIFAR-10 Batch 2:  "
       ]
      },
      {
       "output_type": "stream",
       "stream": "stdout",
       "text": [
        "Loss:     2.0359 Validation Accuracy: 0.244000\n"
       ]
      },
      {
       "output_type": "stream",
       "stream": "stdout",
       "text": [
        "Epoch  4, CIFAR-10 Batch 3:  "
       ]
      },
      {
       "output_type": "stream",
       "stream": "stdout",
       "text": [
        "Loss:     1.8444 Validation Accuracy: 0.296200\n"
       ]
      },
      {
       "output_type": "stream",
       "stream": "stdout",
       "text": [
        "Epoch  4, CIFAR-10 Batch 4:  "
       ]
      },
      {
       "output_type": "stream",
       "stream": "stdout",
       "text": [
        "Loss:     1.8614 Validation Accuracy: 0.251400\n"
       ]
      },
      {
       "output_type": "stream",
       "stream": "stdout",
       "text": [
        "Epoch  4, CIFAR-10 Batch 5:  "
       ]
      },
      {
       "output_type": "stream",
       "stream": "stdout",
       "text": [
        "Loss:     2.2480 Validation Accuracy: 0.164800\n"
       ]
      },
      {
       "output_type": "stream",
       "stream": "stdout",
       "text": [
        "Epoch  5, CIFAR-10 Batch 1:  "
       ]
      },
      {
       "output_type": "stream",
       "stream": "stdout",
       "text": [
        "Loss:     2.3590 Validation Accuracy: 0.296000\n"
       ]
      },
      {
       "output_type": "stream",
       "stream": "stdout",
       "text": [
        "Epoch  5, CIFAR-10 Batch 2:  "
       ]
      },
      {
       "output_type": "stream",
       "stream": "stdout",
       "text": [
        "Loss:     1.9504 Validation Accuracy: 0.284800\n"
       ]
      },
      {
       "output_type": "stream",
       "stream": "stdout",
       "text": [
        "Epoch  5, CIFAR-10 Batch 3:  "
       ]
      },
      {
       "output_type": "stream",
       "stream": "stdout",
       "text": [
        "Loss:     1.8891 Validation Accuracy: 0.219200\n"
       ]
      },
      {
       "output_type": "stream",
       "stream": "stdout",
       "text": [
        "Epoch  5, CIFAR-10 Batch 4:  "
       ]
      },
      {
       "output_type": "stream",
       "stream": "stdout",
       "text": [
        "Loss:     1.7978 Validation Accuracy: 0.267200\n"
       ]
      },
      {
       "output_type": "stream",
       "stream": "stdout",
       "text": [
        "Epoch  5, CIFAR-10 Batch 5:  "
       ]
      },
      {
       "output_type": "stream",
       "stream": "stdout",
       "text": [
        "Loss:     2.0694 Validation Accuracy: 0.207200\n"
       ]
      },
      {
       "output_type": "stream",
       "stream": "stdout",
       "text": [
        "Epoch  6, CIFAR-10 Batch 1:  "
       ]
      },
      {
       "output_type": "stream",
       "stream": "stdout",
       "text": [
        "Loss:     2.5356 Validation Accuracy: 0.255400\n"
       ]
      },
      {
       "output_type": "stream",
       "stream": "stdout",
       "text": [
        "Epoch  6, CIFAR-10 Batch 2:  "
       ]
      },
      {
       "output_type": "stream",
       "stream": "stdout",
       "text": [
        "Loss:     1.8837 Validation Accuracy: 0.296800\n"
       ]
      },
      {
       "output_type": "stream",
       "stream": "stdout",
       "text": [
        "Epoch  6, CIFAR-10 Batch 3:  "
       ]
      },
      {
       "output_type": "stream",
       "stream": "stdout",
       "text": [
        "Loss:     1.7318 Validation Accuracy: 0.295400\n"
       ]
      },
      {
       "output_type": "stream",
       "stream": "stdout",
       "text": [
        "Epoch  6, CIFAR-10 Batch 4:  "
       ]
      },
      {
       "output_type": "stream",
       "stream": "stdout",
       "text": [
        "Loss:     1.6589 Validation Accuracy: 0.326000\n"
       ]
      },
      {
       "output_type": "stream",
       "stream": "stdout",
       "text": [
        "Epoch  6, CIFAR-10 Batch 5:  "
       ]
      },
      {
       "output_type": "stream",
       "stream": "stdout",
       "text": [
        "Loss:     2.3844 Validation Accuracy: 0.181200\n"
       ]
      },
      {
       "output_type": "stream",
       "stream": "stdout",
       "text": [
        "Epoch  7, CIFAR-10 Batch 1:  "
       ]
      },
      {
       "output_type": "stream",
       "stream": "stdout",
       "text": [
        "Loss:     2.2676 Validation Accuracy: 0.325400\n"
       ]
      },
      {
       "output_type": "stream",
       "stream": "stdout",
       "text": [
        "Epoch  7, CIFAR-10 Batch 2:  "
       ]
      },
      {
       "output_type": "stream",
       "stream": "stdout",
       "text": [
        "Loss:     1.8947 Validation Accuracy: 0.294600\n"
       ]
      },
      {
       "output_type": "stream",
       "stream": "stdout",
       "text": [
        "Epoch  7, CIFAR-10 Batch 3:  "
       ]
      },
      {
       "output_type": "stream",
       "stream": "stdout",
       "text": [
        "Loss:     1.8510 Validation Accuracy: 0.247400\n"
       ]
      },
      {
       "output_type": "stream",
       "stream": "stdout",
       "text": [
        "Epoch  7, CIFAR-10 Batch 4:  "
       ]
      },
      {
       "output_type": "stream",
       "stream": "stdout",
       "text": [
        "Loss:     1.6307 Validation Accuracy: 0.343800\n"
       ]
      },
      {
       "output_type": "stream",
       "stream": "stdout",
       "text": [
        "Epoch  7, CIFAR-10 Batch 5:  "
       ]
      },
      {
       "output_type": "stream",
       "stream": "stdout",
       "text": [
        "Loss:     2.1644 Validation Accuracy: 0.209200\n"
       ]
      },
      {
       "output_type": "stream",
       "stream": "stdout",
       "text": [
        "Epoch  8, CIFAR-10 Batch 1:  "
       ]
      },
      {
       "output_type": "stream",
       "stream": "stdout",
       "text": [
        "Loss:     2.6224 Validation Accuracy: 0.302200\n"
       ]
      },
      {
       "output_type": "stream",
       "stream": "stdout",
       "text": [
        "Epoch  8, CIFAR-10 Batch 2:  "
       ]
      },
      {
       "output_type": "stream",
       "stream": "stdout",
       "text": [
        "Loss:     1.6480 Validation Accuracy: 0.332000\n"
       ]
      },
      {
       "output_type": "stream",
       "stream": "stdout",
       "text": [
        "Epoch  8, CIFAR-10 Batch 3:  "
       ]
      },
      {
       "output_type": "stream",
       "stream": "stdout",
       "text": [
        "Loss:     1.8132 Validation Accuracy: 0.286200\n"
       ]
      },
      {
       "output_type": "stream",
       "stream": "stdout",
       "text": [
        "Epoch  8, CIFAR-10 Batch 4:  "
       ]
      },
      {
       "output_type": "stream",
       "stream": "stdout",
       "text": [
        "Loss:     1.6886 Validation Accuracy: 0.275800\n"
       ]
      },
      {
       "output_type": "stream",
       "stream": "stdout",
       "text": [
        "Epoch  8, CIFAR-10 Batch 5:  "
       ]
      },
      {
       "output_type": "stream",
       "stream": "stdout",
       "text": [
        "Loss:     2.1312 Validation Accuracy: 0.255800\n"
       ]
      },
      {
       "output_type": "stream",
       "stream": "stdout",
       "text": [
        "Epoch  9, CIFAR-10 Batch 1:  "
       ]
      },
      {
       "output_type": "stream",
       "stream": "stdout",
       "text": [
        "Loss:     2.8097 Validation Accuracy: 0.303600\n"
       ]
      },
      {
       "output_type": "stream",
       "stream": "stdout",
       "text": [
        "Epoch  9, CIFAR-10 Batch 2:  "
       ]
      },
      {
       "output_type": "stream",
       "stream": "stdout",
       "text": [
        "Loss:     1.6289 Validation Accuracy: 0.323400\n"
       ]
      },
      {
       "output_type": "stream",
       "stream": "stdout",
       "text": [
        "Epoch  9, CIFAR-10 Batch 3:  "
       ]
      },
      {
       "output_type": "stream",
       "stream": "stdout",
       "text": [
        "Loss:     1.7509 Validation Accuracy: 0.299000\n"
       ]
      },
      {
       "output_type": "stream",
       "stream": "stdout",
       "text": [
        "Epoch  9, CIFAR-10 Batch 4:  "
       ]
      },
      {
       "output_type": "stream",
       "stream": "stdout",
       "text": [
        "Loss:     1.6094 Validation Accuracy: 0.332800\n"
       ]
      },
      {
       "output_type": "stream",
       "stream": "stdout",
       "text": [
        "Epoch  9, CIFAR-10 Batch 5:  "
       ]
      },
      {
       "output_type": "stream",
       "stream": "stdout",
       "text": [
        "Loss:     1.8585 Validation Accuracy: 0.319400\n"
       ]
      },
      {
       "output_type": "stream",
       "stream": "stdout",
       "text": [
        "Epoch 10, CIFAR-10 Batch 1:  "
       ]
      },
      {
       "output_type": "stream",
       "stream": "stdout",
       "text": [
        "Loss:     2.6583 Validation Accuracy: 0.303600\n"
       ]
      },
      {
       "output_type": "stream",
       "stream": "stdout",
       "text": [
        "Epoch 10, CIFAR-10 Batch 2:  "
       ]
      },
      {
       "output_type": "stream",
       "stream": "stdout",
       "text": [
        "Loss:     1.7962 Validation Accuracy: 0.274000\n"
       ]
      },
      {
       "output_type": "stream",
       "stream": "stdout",
       "text": [
        "Epoch 10, CIFAR-10 Batch 3:  "
       ]
      },
      {
       "output_type": "stream",
       "stream": "stdout",
       "text": [
        "Loss:     1.6912 Validation Accuracy: 0.314000\n"
       ]
      },
      {
       "output_type": "stream",
       "stream": "stdout",
       "text": [
        "Epoch 10, CIFAR-10 Batch 4:  "
       ]
      },
      {
       "output_type": "stream",
       "stream": "stdout",
       "text": [
        "Loss:     1.6579 Validation Accuracy: 0.322800\n"
       ]
      },
      {
       "output_type": "stream",
       "stream": "stdout",
       "text": [
        "Epoch 10, CIFAR-10 Batch 5:  "
       ]
      },
      {
       "output_type": "stream",
       "stream": "stdout",
       "text": [
        "Loss:     1.8077 Validation Accuracy: 0.296400\n"
       ]
      },
      {
       "output_type": "stream",
       "stream": "stdout",
       "text": [
        "Epoch 11, CIFAR-10 Batch 1:  "
       ]
      },
      {
       "output_type": "stream",
       "stream": "stdout",
       "text": [
        "Loss:     2.8035 Validation Accuracy: 0.293600\n"
       ]
      },
      {
       "output_type": "stream",
       "stream": "stdout",
       "text": [
        "Epoch 11, CIFAR-10 Batch 2:  "
       ]
      },
      {
       "output_type": "stream",
       "stream": "stdout",
       "text": [
        "Loss:     1.9466 Validation Accuracy: 0.248000\n"
       ]
      },
      {
       "output_type": "stream",
       "stream": "stdout",
       "text": [
        "Epoch 11, CIFAR-10 Batch 3:  "
       ]
      },
      {
       "output_type": "stream",
       "stream": "stdout",
       "text": [
        "Loss:     1.6735 Validation Accuracy: 0.315000\n"
       ]
      },
      {
       "output_type": "stream",
       "stream": "stdout",
       "text": [
        "Epoch 11, CIFAR-10 Batch 4:  Loss:     1.6660 Validation Accuracy: 0.346800\n"
       ]
      },
      {
       "output_type": "stream",
       "stream": "stdout",
       "text": [
        "Epoch 11, CIFAR-10 Batch 5:  "
       ]
      },
      {
       "output_type": "stream",
       "stream": "stdout",
       "text": [
        "Loss:     1.7469 Validation Accuracy: 0.314000\n"
       ]
      },
      {
       "output_type": "stream",
       "stream": "stdout",
       "text": [
        "Epoch 12, CIFAR-10 Batch 1:  "
       ]
      },
      {
       "output_type": "stream",
       "stream": "stdout",
       "text": [
        "Loss:     2.5793 Validation Accuracy: 0.296400\n"
       ]
      },
      {
       "output_type": "stream",
       "stream": "stdout",
       "text": [
        "Epoch 12, CIFAR-10 Batch 2:  "
       ]
      },
      {
       "output_type": "stream",
       "stream": "stdout",
       "text": [
        "Loss:     1.8361 Validation Accuracy: 0.293800\n"
       ]
      },
      {
       "output_type": "stream",
       "stream": "stdout",
       "text": [
        "Epoch 12, CIFAR-10 Batch 3:  "
       ]
      },
      {
       "output_type": "stream",
       "stream": "stdout",
       "text": [
        "Loss:     1.7085 Validation Accuracy: 0.275800\n"
       ]
      },
      {
       "output_type": "stream",
       "stream": "stdout",
       "text": [
        "Epoch 12, CIFAR-10 Batch 4:  "
       ]
      },
      {
       "output_type": "stream",
       "stream": "stdout",
       "text": [
        "Loss:     1.6731 Validation Accuracy: 0.348000\n"
       ]
      },
      {
       "output_type": "stream",
       "stream": "stdout",
       "text": [
        "Epoch 12, CIFAR-10 Batch 5:  "
       ]
      },
      {
       "output_type": "stream",
       "stream": "stdout",
       "text": [
        "Loss:     1.9123 Validation Accuracy: 0.315400\n"
       ]
      },
      {
       "output_type": "stream",
       "stream": "stdout",
       "text": [
        "Epoch 13, CIFAR-10 Batch 1:  "
       ]
      },
      {
       "output_type": "stream",
       "stream": "stdout",
       "text": [
        "Loss:     2.5754 Validation Accuracy: 0.313400\n"
       ]
      },
      {
       "output_type": "stream",
       "stream": "stdout",
       "text": [
        "Epoch 13, CIFAR-10 Batch 2:  "
       ]
      },
      {
       "output_type": "stream",
       "stream": "stdout",
       "text": [
        "Loss:     1.7418 Validation Accuracy: 0.311200\n"
       ]
      },
      {
       "output_type": "stream",
       "stream": "stdout",
       "text": [
        "Epoch 13, CIFAR-10 Batch 3:  "
       ]
      },
      {
       "output_type": "stream",
       "stream": "stdout",
       "text": [
        "Loss:     1.5498 Validation Accuracy: 0.324200\n"
       ]
      },
      {
       "output_type": "stream",
       "stream": "stdout",
       "text": [
        "Epoch 13, CIFAR-10 Batch 4:  "
       ]
      },
      {
       "output_type": "stream",
       "stream": "stdout",
       "text": [
        "Loss:     1.6724 Validation Accuracy: 0.360200\n"
       ]
      },
      {
       "output_type": "stream",
       "stream": "stdout",
       "text": [
        "Epoch 13, CIFAR-10 Batch 5:  "
       ]
      },
      {
       "output_type": "stream",
       "stream": "stdout",
       "text": [
        "Loss:     2.1059 Validation Accuracy: 0.273200\n"
       ]
      },
      {
       "output_type": "stream",
       "stream": "stdout",
       "text": [
        "Epoch 14, CIFAR-10 Batch 1:  "
       ]
      },
      {
       "output_type": "stream",
       "stream": "stdout",
       "text": [
        "Loss:     2.5579 Validation Accuracy: 0.318200\n"
       ]
      },
      {
       "output_type": "stream",
       "stream": "stdout",
       "text": [
        "Epoch 14, CIFAR-10 Batch 2:  "
       ]
      },
      {
       "output_type": "stream",
       "stream": "stdout",
       "text": [
        "Loss:     1.8165 Validation Accuracy: 0.300600\n"
       ]
      },
      {
       "output_type": "stream",
       "stream": "stdout",
       "text": [
        "Epoch 14, CIFAR-10 Batch 3:  "
       ]
      },
      {
       "output_type": "stream",
       "stream": "stdout",
       "text": [
        "Loss:     1.6367 Validation Accuracy: 0.334600\n"
       ]
      },
      {
       "output_type": "stream",
       "stream": "stdout",
       "text": [
        "Epoch 14, CIFAR-10 Batch 4:  "
       ]
      },
      {
       "output_type": "stream",
       "stream": "stdout",
       "text": [
        "Loss:     1.5394 Validation Accuracy: 0.368600\n"
       ]
      },
      {
       "output_type": "stream",
       "stream": "stdout",
       "text": [
        "Epoch 14, CIFAR-10 Batch 5:  "
       ]
      },
      {
       "output_type": "stream",
       "stream": "stdout",
       "text": [
        "Loss:     1.8648 Validation Accuracy: 0.312400\n"
       ]
      },
      {
       "output_type": "stream",
       "stream": "stdout",
       "text": [
        "Epoch 15, CIFAR-10 Batch 1:  "
       ]
      },
      {
       "output_type": "stream",
       "stream": "stdout",
       "text": [
        "Loss:     2.5325 Validation Accuracy: 0.320200\n"
       ]
      },
      {
       "output_type": "stream",
       "stream": "stdout",
       "text": [
        "Epoch 15, CIFAR-10 Batch 2:  "
       ]
      },
      {
       "output_type": "stream",
       "stream": "stdout",
       "text": [
        "Loss:     1.8973 Validation Accuracy: 0.298600\n"
       ]
      },
      {
       "output_type": "stream",
       "stream": "stdout",
       "text": [
        "Epoch 15, CIFAR-10 Batch 3:  "
       ]
      },
      {
       "output_type": "stream",
       "stream": "stdout",
       "text": [
        "Loss:     1.5646 Validation Accuracy: 0.340600\n"
       ]
      },
      {
       "output_type": "stream",
       "stream": "stdout",
       "text": [
        "Epoch 15, CIFAR-10 Batch 4:  "
       ]
      },
      {
       "output_type": "stream",
       "stream": "stdout",
       "text": [
        "Loss:     1.7021 Validation Accuracy: 0.342800\n"
       ]
      },
      {
       "output_type": "stream",
       "stream": "stdout",
       "text": [
        "Epoch 15, CIFAR-10 Batch 5:  "
       ]
      },
      {
       "output_type": "stream",
       "stream": "stdout",
       "text": [
        "Loss:     1.7788 Validation Accuracy: 0.322400\n"
       ]
      },
      {
       "output_type": "stream",
       "stream": "stdout",
       "text": [
        "Epoch 16, CIFAR-10 Batch 1:  "
       ]
      },
      {
       "output_type": "stream",
       "stream": "stdout",
       "text": [
        "Loss:     2.4036 Validation Accuracy: 0.363800\n"
       ]
      },
      {
       "output_type": "stream",
       "stream": "stdout",
       "text": [
        "Epoch 16, CIFAR-10 Batch 2:  "
       ]
      },
      {
       "output_type": "stream",
       "stream": "stdout",
       "text": [
        "Loss:     1.5918 Validation Accuracy: 0.367000\n"
       ]
      },
      {
       "output_type": "stream",
       "stream": "stdout",
       "text": [
        "Epoch 16, CIFAR-10 Batch 3:  Loss:     1.7049 Validation Accuracy: 0.304200"
       ]
      },
      {
       "output_type": "stream",
       "stream": "stdout",
       "text": [
        "\n"
       ]
      },
      {
       "output_type": "stream",
       "stream": "stdout",
       "text": [
        "Epoch 16, CIFAR-10 Batch 4:  "
       ]
      },
      {
       "output_type": "stream",
       "stream": "stdout",
       "text": [
        "Loss:     1.5799 Validation Accuracy: 0.354800\n"
       ]
      },
      {
       "output_type": "stream",
       "stream": "stdout",
       "text": [
        "Epoch 16, CIFAR-10 Batch 5:  "
       ]
      },
      {
       "output_type": "stream",
       "stream": "stdout",
       "text": [
        "Loss:     2.1123 Validation Accuracy: 0.265400\n"
       ]
      },
      {
       "output_type": "stream",
       "stream": "stdout",
       "text": [
        "Epoch 17, CIFAR-10 Batch 1:  "
       ]
      },
      {
       "output_type": "stream",
       "stream": "stdout",
       "text": [
        "Loss:     2.5023 Validation Accuracy: 0.346400\n"
       ]
      },
      {
       "output_type": "stream",
       "stream": "stdout",
       "text": [
        "Epoch 17, CIFAR-10 Batch 2:  Loss:     1.5681 Validation Accuracy: 0.332800\n"
       ]
      },
      {
       "output_type": "stream",
       "stream": "stdout",
       "text": [
        "Epoch 17, CIFAR-10 Batch 3:  "
       ]
      },
      {
       "output_type": "stream",
       "stream": "stdout",
       "text": [
        "Loss:     1.7114 Validation Accuracy: 0.310600\n"
       ]
      },
      {
       "output_type": "stream",
       "stream": "stdout",
       "text": [
        "Epoch 17, CIFAR-10 Batch 4:  "
       ]
      },
      {
       "output_type": "stream",
       "stream": "stdout",
       "text": [
        "Loss:     1.5936 Validation Accuracy: 0.346200\n"
       ]
      },
      {
       "output_type": "stream",
       "stream": "stdout",
       "text": [
        "Epoch 17, CIFAR-10 Batch 5:  Loss:     1.7235 Validation Accuracy: 0.353200"
       ]
      },
      {
       "output_type": "stream",
       "stream": "stdout",
       "text": [
        "\n",
        "Epoch 18, CIFAR-10 Batch 1:  "
       ]
      },
      {
       "output_type": "stream",
       "stream": "stdout",
       "text": [
        "Loss:     2.1607 Validation Accuracy: 0.356400\n"
       ]
      },
      {
       "output_type": "stream",
       "stream": "stdout",
       "text": [
        "Epoch 18, CIFAR-10 Batch 2:  "
       ]
      },
      {
       "output_type": "stream",
       "stream": "stdout",
       "text": [
        "Loss:     1.6053 Validation Accuracy: 0.347800\n"
       ]
      },
      {
       "output_type": "stream",
       "stream": "stdout",
       "text": [
        "Epoch 18, CIFAR-10 Batch 3:  "
       ]
      },
      {
       "output_type": "stream",
       "stream": "stdout",
       "text": [
        "Loss:     1.5027 Validation Accuracy: 0.385000\n"
       ]
      },
      {
       "output_type": "stream",
       "stream": "stdout",
       "text": [
        "Epoch 18, CIFAR-10 Batch 4:  "
       ]
      },
      {
       "output_type": "stream",
       "stream": "stdout",
       "text": [
        "Loss:     1.6104 Validation Accuracy: 0.397600\n"
       ]
      },
      {
       "output_type": "stream",
       "stream": "stdout",
       "text": [
        "Epoch 18, CIFAR-10 Batch 5:  "
       ]
      },
      {
       "output_type": "stream",
       "stream": "stdout",
       "text": [
        "Loss:     2.1146 Validation Accuracy: 0.309400\n"
       ]
      },
      {
       "output_type": "stream",
       "stream": "stdout",
       "text": [
        "Epoch 19, CIFAR-10 Batch 1:  "
       ]
      },
      {
       "output_type": "stream",
       "stream": "stdout",
       "text": [
        "Loss:     2.4157 Validation Accuracy: 0.355800\n"
       ]
      },
      {
       "output_type": "stream",
       "stream": "stdout",
       "text": [
        "Epoch 19, CIFAR-10 Batch 2:  "
       ]
      },
      {
       "output_type": "stream",
       "stream": "stdout",
       "text": [
        "Loss:     1.6002 Validation Accuracy: 0.360000\n"
       ]
      },
      {
       "output_type": "stream",
       "stream": "stdout",
       "text": [
        "Epoch 19, CIFAR-10 Batch 3:  "
       ]
      },
      {
       "output_type": "stream",
       "stream": "stdout",
       "text": [
        "Loss:     1.3916 Validation Accuracy: 0.403400\n"
       ]
      },
      {
       "output_type": "stream",
       "stream": "stdout",
       "text": [
        "Epoch 19, CIFAR-10 Batch 4:  "
       ]
      },
      {
       "output_type": "stream",
       "stream": "stdout",
       "text": [
        "Loss:     1.5472 Validation Accuracy: 0.381400\n"
       ]
      },
      {
       "output_type": "stream",
       "stream": "stdout",
       "text": [
        "Epoch 19, CIFAR-10 Batch 5:  "
       ]
      },
      {
       "output_type": "stream",
       "stream": "stdout",
       "text": [
        "Loss:     1.6597 Validation Accuracy: 0.366000\n"
       ]
      },
      {
       "output_type": "stream",
       "stream": "stdout",
       "text": [
        "Epoch 20, CIFAR-10 Batch 1:  "
       ]
      },
      {
       "output_type": "stream",
       "stream": "stdout",
       "text": [
        "Loss:     2.4934 Validation Accuracy: 0.341200\n"
       ]
      },
      {
       "output_type": "stream",
       "stream": "stdout",
       "text": [
        "Epoch 20, CIFAR-10 Batch 2:  Loss:     1.4318 Validation Accuracy: 0.386400"
       ]
      },
      {
       "output_type": "stream",
       "stream": "stdout",
       "text": [
        "\n"
       ]
      },
      {
       "output_type": "stream",
       "stream": "stdout",
       "text": [
        "Epoch 20, CIFAR-10 Batch 3:  "
       ]
      },
      {
       "output_type": "stream",
       "stream": "stdout",
       "text": [
        "Loss:     1.3495 Validation Accuracy: 0.393600\n"
       ]
      },
      {
       "output_type": "stream",
       "stream": "stdout",
       "text": [
        "Epoch 20, CIFAR-10 Batch 4:  "
       ]
      },
      {
       "output_type": "stream",
       "stream": "stdout",
       "text": [
        "Loss:     1.8512 Validation Accuracy: 0.317600\n"
       ]
      },
      {
       "output_type": "stream",
       "stream": "stdout",
       "text": [
        "Epoch 20, CIFAR-10 Batch 5:  "
       ]
      },
      {
       "output_type": "stream",
       "stream": "stdout",
       "text": [
        "Loss:     1.6234 Validation Accuracy: 0.411000\n"
       ]
      },
      {
       "output_type": "stream",
       "stream": "stdout",
       "text": [
        "Epoch 21, CIFAR-10 Batch 1:  "
       ]
      },
      {
       "output_type": "stream",
       "stream": "stdout",
       "text": [
        "Loss:     2.2030 Validation Accuracy: 0.374600\n"
       ]
      },
      {
       "output_type": "stream",
       "stream": "stdout",
       "text": [
        "Epoch 21, CIFAR-10 Batch 2:  "
       ]
      },
      {
       "output_type": "stream",
       "stream": "stdout",
       "text": [
        "Loss:     1.5106 Validation Accuracy: 0.372800\n"
       ]
      },
      {
       "output_type": "stream",
       "stream": "stdout",
       "text": [
        "Epoch 21, CIFAR-10 Batch 3:  "
       ]
      },
      {
       "output_type": "stream",
       "stream": "stdout",
       "text": [
        "Loss:     1.5619 Validation Accuracy: 0.357800\n"
       ]
      },
      {
       "output_type": "stream",
       "stream": "stdout",
       "text": [
        "Epoch 21, CIFAR-10 Batch 4:  Loss:     1.4087 Validation Accuracy: 0.386800\n"
       ]
      },
      {
       "output_type": "stream",
       "stream": "stdout",
       "text": [
        "Epoch 21, CIFAR-10 Batch 5:  "
       ]
      },
      {
       "output_type": "stream",
       "stream": "stdout",
       "text": [
        "Loss:     1.9602 Validation Accuracy: 0.308200\n"
       ]
      },
      {
       "output_type": "stream",
       "stream": "stdout",
       "text": [
        "Epoch 22, CIFAR-10 Batch 1:  "
       ]
      },
      {
       "output_type": "stream",
       "stream": "stdout",
       "text": [
        "Loss:     2.2512 Validation Accuracy: 0.382000\n"
       ]
      },
      {
       "output_type": "stream",
       "stream": "stdout",
       "text": [
        "Epoch 22, CIFAR-10 Batch 2:  "
       ]
      },
      {
       "output_type": "stream",
       "stream": "stdout",
       "text": [
        "Loss:     1.5654 Validation Accuracy: 0.345400\n"
       ]
      },
      {
       "output_type": "stream",
       "stream": "stdout",
       "text": [
        "Epoch 22, CIFAR-10 Batch 3:  "
       ]
      },
      {
       "output_type": "stream",
       "stream": "stdout",
       "text": [
        "Loss:     1.2936 Validation Accuracy: 0.425200\n"
       ]
      },
      {
       "output_type": "stream",
       "stream": "stdout",
       "text": [
        "Epoch 22, CIFAR-10 Batch 4:  "
       ]
      },
      {
       "output_type": "stream",
       "stream": "stdout",
       "text": [
        "Loss:     1.5933 Validation Accuracy: 0.373800\n"
       ]
      },
      {
       "output_type": "stream",
       "stream": "stdout",
       "text": [
        "Epoch 22, CIFAR-10 Batch 5:  "
       ]
      },
      {
       "output_type": "stream",
       "stream": "stdout",
       "text": [
        "Loss:     1.8594 Validation Accuracy: 0.349800\n"
       ]
      },
      {
       "output_type": "stream",
       "stream": "stdout",
       "text": [
        "Epoch 23, CIFAR-10 Batch 1:  Loss:     2.1567 Validation Accuracy: 0.360600\n"
       ]
      },
      {
       "output_type": "stream",
       "stream": "stdout",
       "text": [
        "Epoch 23, CIFAR-10 Batch 2:  "
       ]
      },
      {
       "output_type": "stream",
       "stream": "stdout",
       "text": [
        "Loss:     1.5528 Validation Accuracy: 0.349000\n"
       ]
      },
      {
       "output_type": "stream",
       "stream": "stdout",
       "text": [
        "Epoch 23, CIFAR-10 Batch 3:  Loss:     1.4614 Validation Accuracy: 0.377800"
       ]
      },
      {
       "output_type": "stream",
       "stream": "stdout",
       "text": [
        "\n",
        "Epoch 23, CIFAR-10 Batch 4:  "
       ]
      },
      {
       "output_type": "stream",
       "stream": "stdout",
       "text": [
        "Loss:     1.5794 Validation Accuracy: 0.395200\n"
       ]
      },
      {
       "output_type": "stream",
       "stream": "stdout",
       "text": [
        "Epoch 23, CIFAR-10 Batch 5:  "
       ]
      },
      {
       "output_type": "stream",
       "stream": "stdout",
       "text": [
        "Loss:     1.7383 Validation Accuracy: 0.416600\n"
       ]
      },
      {
       "output_type": "stream",
       "stream": "stdout",
       "text": [
        "Epoch 24, CIFAR-10 Batch 1:  Loss:     1.7530 Validation Accuracy: 0.403800"
       ]
      },
      {
       "output_type": "stream",
       "stream": "stdout",
       "text": [
        "\n"
       ]
      },
      {
       "output_type": "stream",
       "stream": "stdout",
       "text": [
        "Epoch 24, CIFAR-10 Batch 2:  "
       ]
      },
      {
       "output_type": "stream",
       "stream": "stdout",
       "text": [
        "Loss:     1.5395 Validation Accuracy: 0.369200\n"
       ]
      },
      {
       "output_type": "stream",
       "stream": "stdout",
       "text": [
        "Epoch 24, CIFAR-10 Batch 3:  "
       ]
      },
      {
       "output_type": "stream",
       "stream": "stdout",
       "text": [
        "Loss:     1.4322 Validation Accuracy: 0.384000\n"
       ]
      },
      {
       "output_type": "stream",
       "stream": "stdout",
       "text": [
        "Epoch 24, CIFAR-10 Batch 4:  "
       ]
      },
      {
       "output_type": "stream",
       "stream": "stdout",
       "text": [
        "Loss:     1.5702 Validation Accuracy: 0.378600\n"
       ]
      },
      {
       "output_type": "stream",
       "stream": "stdout",
       "text": [
        "Epoch 24, CIFAR-10 Batch 5:  Loss:     1.6961 Validation Accuracy: 0.381800\n"
       ]
      },
      {
       "output_type": "stream",
       "stream": "stdout",
       "text": [
        "Epoch 25, CIFAR-10 Batch 1:  Loss:     1.8034 Validation Accuracy: 0.403800\n"
       ]
      },
      {
       "output_type": "stream",
       "stream": "stdout",
       "text": [
        "Epoch 25, CIFAR-10 Batch 2:  "
       ]
      },
      {
       "output_type": "stream",
       "stream": "stdout",
       "text": [
        "Loss:     1.4806 Validation Accuracy: 0.360600\n",
        "Epoch 25, CIFAR-10 Batch 3:  "
       ]
      },
      {
       "output_type": "stream",
       "stream": "stdout",
       "text": [
        "Loss:     1.3819 Validation Accuracy: 0.418400\n"
       ]
      },
      {
       "output_type": "stream",
       "stream": "stdout",
       "text": [
        "Epoch 25, CIFAR-10 Batch 4:  "
       ]
      },
      {
       "output_type": "stream",
       "stream": "stdout",
       "text": [
        "Loss:     1.4911 Validation Accuracy: 0.436600\n"
       ]
      },
      {
       "output_type": "stream",
       "stream": "stdout",
       "text": [
        "Epoch 25, CIFAR-10 Batch 5:  "
       ]
      },
      {
       "output_type": "stream",
       "stream": "stdout",
       "text": [
        "Loss:     1.9116 Validation Accuracy: 0.356800\n"
       ]
      },
      {
       "output_type": "stream",
       "stream": "stdout",
       "text": [
        "Epoch 26, CIFAR-10 Batch 1:  "
       ]
      },
      {
       "output_type": "stream",
       "stream": "stdout",
       "text": [
        "Loss:     1.6878 Validation Accuracy: 0.415000\n"
       ]
      },
      {
       "output_type": "stream",
       "stream": "stdout",
       "text": [
        "Epoch 26, CIFAR-10 Batch 2:  Loss:     1.4995 Validation Accuracy: 0.375600\n"
       ]
      },
      {
       "output_type": "stream",
       "stream": "stdout",
       "text": [
        "Epoch 26, CIFAR-10 Batch 3:  "
       ]
      },
      {
       "output_type": "stream",
       "stream": "stdout",
       "text": [
        "Loss:     1.4140 Validation Accuracy: 0.378000\n"
       ]
      },
      {
       "output_type": "stream",
       "stream": "stdout",
       "text": [
        "Epoch 26, CIFAR-10 Batch 4:  Loss:     1.5537 Validation Accuracy: 0.420800\n"
       ]
      },
      {
       "output_type": "stream",
       "stream": "stdout",
       "text": [
        "Epoch 26, CIFAR-10 Batch 5:  Loss:     1.6211 Validation Accuracy: 0.376600\n"
       ]
      },
      {
       "output_type": "stream",
       "stream": "stdout",
       "text": [
        "Epoch 27, CIFAR-10 Batch 1:  "
       ]
      },
      {
       "output_type": "stream",
       "stream": "stdout",
       "text": [
        "Loss:     1.6096 Validation Accuracy: 0.426400\n"
       ]
      },
      {
       "output_type": "stream",
       "stream": "stdout",
       "text": [
        "Epoch 27, CIFAR-10 Batch 2:  "
       ]
      },
      {
       "output_type": "stream",
       "stream": "stdout",
       "text": [
        "Loss:     1.4207 Validation Accuracy: 0.352600\n"
       ]
      },
      {
       "output_type": "stream",
       "stream": "stdout",
       "text": [
        "Epoch 27, CIFAR-10 Batch 3:  "
       ]
      },
      {
       "output_type": "stream",
       "stream": "stdout",
       "text": [
        "Loss:     1.3802 Validation Accuracy: 0.407600\n"
       ]
      },
      {
       "output_type": "stream",
       "stream": "stdout",
       "text": [
        "Epoch 27, CIFAR-10 Batch 4:  "
       ]
      },
      {
       "output_type": "stream",
       "stream": "stdout",
       "text": [
        "Loss:     1.6133 Validation Accuracy: 0.395200\n"
       ]
      },
      {
       "output_type": "stream",
       "stream": "stdout",
       "text": [
        "Epoch 27, CIFAR-10 Batch 5:  "
       ]
      },
      {
       "output_type": "stream",
       "stream": "stdout",
       "text": [
        "Loss:     1.6479 Validation Accuracy: 0.436600\n"
       ]
      },
      {
       "output_type": "stream",
       "stream": "stdout",
       "text": [
        "Epoch 28, CIFAR-10 Batch 1:  "
       ]
      },
      {
       "output_type": "stream",
       "stream": "stdout",
       "text": [
        "Loss:     1.7509 Validation Accuracy: 0.453200\n"
       ]
      },
      {
       "output_type": "stream",
       "stream": "stdout",
       "text": [
        "Epoch 28, CIFAR-10 Batch 2:  "
       ]
      },
      {
       "output_type": "stream",
       "stream": "stdout",
       "text": [
        "Loss:     1.4031 Validation Accuracy: 0.412400\n"
       ]
      },
      {
       "output_type": "stream",
       "stream": "stdout",
       "text": [
        "Epoch 28, CIFAR-10 Batch 3:  "
       ]
      },
      {
       "output_type": "stream",
       "stream": "stdout",
       "text": [
        "Loss:     1.3085 Validation Accuracy: 0.406000\n"
       ]
      },
      {
       "output_type": "stream",
       "stream": "stdout",
       "text": [
        "Epoch 28, CIFAR-10 Batch 4:  "
       ]
      },
      {
       "output_type": "stream",
       "stream": "stdout",
       "text": [
        "Loss:     1.5720 Validation Accuracy: 0.418400\n"
       ]
      },
      {
       "output_type": "stream",
       "stream": "stdout",
       "text": [
        "Epoch 28, CIFAR-10 Batch 5:  "
       ]
      },
      {
       "output_type": "stream",
       "stream": "stdout",
       "text": [
        "Loss:     1.5555 Validation Accuracy: 0.433800\n"
       ]
      },
      {
       "output_type": "stream",
       "stream": "stdout",
       "text": [
        "Epoch 29, CIFAR-10 Batch 1:  "
       ]
      },
      {
       "output_type": "stream",
       "stream": "stdout",
       "text": [
        "Loss:     1.6048 Validation Accuracy: 0.426800\n"
       ]
      },
      {
       "output_type": "stream",
       "stream": "stdout",
       "text": [
        "Epoch 29, CIFAR-10 Batch 2:  "
       ]
      },
      {
       "output_type": "stream",
       "stream": "stdout",
       "text": [
        "Loss:     1.4008 Validation Accuracy: 0.390400\n"
       ]
      },
      {
       "output_type": "stream",
       "stream": "stdout",
       "text": [
        "Epoch 29, CIFAR-10 Batch 3:  Loss:     1.3565 Validation Accuracy: 0.422800"
       ]
      },
      {
       "output_type": "stream",
       "stream": "stdout",
       "text": [
        "\n"
       ]
      },
      {
       "output_type": "stream",
       "stream": "stdout",
       "text": [
        "Epoch 29, CIFAR-10 Batch 4:  "
       ]
      },
      {
       "output_type": "stream",
       "stream": "stdout",
       "text": [
        "Loss:     1.5981 Validation Accuracy: 0.411400\n"
       ]
      },
      {
       "output_type": "stream",
       "stream": "stdout",
       "text": [
        "Epoch 29, CIFAR-10 Batch 5:  "
       ]
      },
      {
       "output_type": "stream",
       "stream": "stdout",
       "text": [
        "Loss:     1.5206 Validation Accuracy: 0.414400\n",
        "Epoch 30, CIFAR-10 Batch 1:  "
       ]
      },
      {
       "output_type": "stream",
       "stream": "stdout",
       "text": [
        "Loss:     1.9413 Validation Accuracy: 0.423400\n"
       ]
      },
      {
       "output_type": "stream",
       "stream": "stdout",
       "text": [
        "Epoch 30, CIFAR-10 Batch 2:  "
       ]
      },
      {
       "output_type": "stream",
       "stream": "stdout",
       "text": [
        "Loss:     1.3095 Validation Accuracy: 0.418800\n"
       ]
      },
      {
       "output_type": "stream",
       "stream": "stdout",
       "text": [
        "Epoch 30, CIFAR-10 Batch 3:  "
       ]
      },
      {
       "output_type": "stream",
       "stream": "stdout",
       "text": [
        "Loss:     1.4366 Validation Accuracy: 0.410800\n"
       ]
      },
      {
       "output_type": "stream",
       "stream": "stdout",
       "text": [
        "Epoch 30, CIFAR-10 Batch 4:  "
       ]
      },
      {
       "output_type": "stream",
       "stream": "stdout",
       "text": [
        "Loss:     1.4166 Validation Accuracy: 0.432800\n"
       ]
      },
      {
       "output_type": "stream",
       "stream": "stdout",
       "text": [
        "Epoch 30, CIFAR-10 Batch 5:  "
       ]
      },
      {
       "output_type": "stream",
       "stream": "stdout",
       "text": [
        "Loss:     1.4599 Validation Accuracy: 0.452800\n"
       ]
      },
      {
       "output_type": "stream",
       "stream": "stdout",
       "text": [
        "Epoch 31, CIFAR-10 Batch 1:  "
       ]
      },
      {
       "output_type": "stream",
       "stream": "stdout",
       "text": [
        "Loss:     1.5933 Validation Accuracy: 0.462800\n"
       ]
      },
      {
       "output_type": "stream",
       "stream": "stdout",
       "text": [
        "Epoch 31, CIFAR-10 Batch 2:  Loss:     1.5695 Validation Accuracy: 0.338000\n"
       ]
      },
      {
       "output_type": "stream",
       "stream": "stdout",
       "text": [
        "Epoch 31, CIFAR-10 Batch 3:  "
       ]
      },
      {
       "output_type": "stream",
       "stream": "stdout",
       "text": [
        "Loss:     1.1715 Validation Accuracy: 0.452600\n"
       ]
      },
      {
       "output_type": "stream",
       "stream": "stdout",
       "text": [
        "Epoch 31, CIFAR-10 Batch 4:  "
       ]
      },
      {
       "output_type": "stream",
       "stream": "stdout",
       "text": [
        "Loss:     1.3795 Validation Accuracy: 0.455200\n"
       ]
      },
      {
       "output_type": "stream",
       "stream": "stdout",
       "text": [
        "Epoch 31, CIFAR-10 Batch 5:  "
       ]
      },
      {
       "output_type": "stream",
       "stream": "stdout",
       "text": [
        "Loss:     1.3918 Validation Accuracy: 0.436800\n"
       ]
      },
      {
       "output_type": "stream",
       "stream": "stdout",
       "text": [
        "Epoch 32, CIFAR-10 Batch 1:  "
       ]
      },
      {
       "output_type": "stream",
       "stream": "stdout",
       "text": [
        "Loss:     1.3777 Validation Accuracy: 0.483200\n"
       ]
      },
      {
       "output_type": "stream",
       "stream": "stdout",
       "text": [
        "Epoch 32, CIFAR-10 Batch 2:  "
       ]
      },
      {
       "output_type": "stream",
       "stream": "stdout",
       "text": [
        "Loss:     1.4277 Validation Accuracy: 0.384400\n",
        "Epoch 32, CIFAR-10 Batch 3:  "
       ]
      },
      {
       "output_type": "stream",
       "stream": "stdout",
       "text": [
        "Loss:     1.3261 Validation Accuracy: 0.457200\n"
       ]
      },
      {
       "output_type": "stream",
       "stream": "stdout",
       "text": [
        "Epoch 32, CIFAR-10 Batch 4:  "
       ]
      },
      {
       "output_type": "stream",
       "stream": "stdout",
       "text": [
        "Loss:     1.3691 Validation Accuracy: 0.416600\n"
       ]
      },
      {
       "output_type": "stream",
       "stream": "stdout",
       "text": [
        "Epoch 32, CIFAR-10 Batch 5:  Loss:     1.4368 Validation Accuracy: 0.453200"
       ]
      },
      {
       "output_type": "stream",
       "stream": "stdout",
       "text": [
        "\n"
       ]
      },
      {
       "output_type": "stream",
       "stream": "stdout",
       "text": [
        "Epoch 33, CIFAR-10 Batch 1:  "
       ]
      },
      {
       "output_type": "stream",
       "stream": "stdout",
       "text": [
        "Loss:     1.4535 Validation Accuracy: 0.463600\n"
       ]
      },
      {
       "output_type": "stream",
       "stream": "stdout",
       "text": [
        "Epoch 33, CIFAR-10 Batch 2:  "
       ]
      },
      {
       "output_type": "stream",
       "stream": "stdout",
       "text": [
        "Loss:     1.2750 Validation Accuracy: 0.435400\n"
       ]
      },
      {
       "output_type": "stream",
       "stream": "stdout",
       "text": [
        "Epoch 33, CIFAR-10 Batch 3:  "
       ]
      },
      {
       "output_type": "stream",
       "stream": "stdout",
       "text": [
        "Loss:     1.5542 Validation Accuracy: 0.425800\n"
       ]
      },
      {
       "output_type": "stream",
       "stream": "stdout",
       "text": [
        "Epoch 33, CIFAR-10 Batch 4:  Loss:     1.3474 Validation Accuracy: 0.418200\n"
       ]
      },
      {
       "output_type": "stream",
       "stream": "stdout",
       "text": [
        "Epoch 33, CIFAR-10 Batch 5:  Loss:     1.4244 Validation Accuracy: 0.411200"
       ]
      },
      {
       "output_type": "stream",
       "stream": "stdout",
       "text": [
        "\n"
       ]
      },
      {
       "output_type": "stream",
       "stream": "stdout",
       "text": [
        "Epoch 34, CIFAR-10 Batch 1:  "
       ]
      },
      {
       "output_type": "stream",
       "stream": "stdout",
       "text": [
        "Loss:     1.3069 Validation Accuracy: 0.454200\n"
       ]
      },
      {
       "output_type": "stream",
       "stream": "stdout",
       "text": [
        "Epoch 34, CIFAR-10 Batch 2:  "
       ]
      },
      {
       "output_type": "stream",
       "stream": "stdout",
       "text": [
        "Loss:     1.4827 Validation Accuracy: 0.415400\n"
       ]
      },
      {
       "output_type": "stream",
       "stream": "stdout",
       "text": [
        "Epoch 34, CIFAR-10 Batch 3:  "
       ]
      },
      {
       "output_type": "stream",
       "stream": "stdout",
       "text": [
        "Loss:     1.1041 Validation Accuracy: 0.468800\n"
       ]
      },
      {
       "output_type": "stream",
       "stream": "stdout",
       "text": [
        "Epoch 34, CIFAR-10 Batch 4:  Loss:     1.4129 Validation Accuracy: 0.495200\n"
       ]
      },
      {
       "output_type": "stream",
       "stream": "stdout",
       "text": [
        "Epoch 34, CIFAR-10 Batch 5:  "
       ]
      },
      {
       "output_type": "stream",
       "stream": "stdout",
       "text": [
        "Loss:     1.4349 Validation Accuracy: 0.462600\n"
       ]
      },
      {
       "output_type": "stream",
       "stream": "stdout",
       "text": [
        "Epoch 35, CIFAR-10 Batch 1:  "
       ]
      },
      {
       "output_type": "stream",
       "stream": "stdout",
       "text": [
        "Loss:     1.5305 Validation Accuracy: 0.467200\n"
       ]
      },
      {
       "output_type": "stream",
       "stream": "stdout",
       "text": [
        "Epoch 35, CIFAR-10 Batch 2:  "
       ]
      },
      {
       "output_type": "stream",
       "stream": "stdout",
       "text": [
        "Loss:     1.3641 Validation Accuracy: 0.471400\n"
       ]
      },
      {
       "output_type": "stream",
       "stream": "stdout",
       "text": [
        "Epoch 35, CIFAR-10 Batch 3:  "
       ]
      },
      {
       "output_type": "stream",
       "stream": "stdout",
       "text": [
        "Loss:     1.2424 Validation Accuracy: 0.456400\n"
       ]
      },
      {
       "output_type": "stream",
       "stream": "stdout",
       "text": [
        "Epoch 35, CIFAR-10 Batch 4:  "
       ]
      },
      {
       "output_type": "stream",
       "stream": "stdout",
       "text": [
        "Loss:     1.4643 Validation Accuracy: 0.463600\n"
       ]
      },
      {
       "output_type": "stream",
       "stream": "stdout",
       "text": [
        "Epoch 35, CIFAR-10 Batch 5:  "
       ]
      },
      {
       "output_type": "stream",
       "stream": "stdout",
       "text": [
        "Loss:     1.3196 Validation Accuracy: 0.477400\n"
       ]
      },
      {
       "output_type": "stream",
       "stream": "stdout",
       "text": [
        "Epoch 36, CIFAR-10 Batch 1:  "
       ]
      },
      {
       "output_type": "stream",
       "stream": "stdout",
       "text": [
        "Loss:     1.5443 Validation Accuracy: 0.474200\n"
       ]
      },
      {
       "output_type": "stream",
       "stream": "stdout",
       "text": [
        "Epoch 36, CIFAR-10 Batch 2:  "
       ]
      },
      {
       "output_type": "stream",
       "stream": "stdout",
       "text": [
        "Loss:     1.2578 Validation Accuracy: 0.465400\n"
       ]
      },
      {
       "output_type": "stream",
       "stream": "stdout",
       "text": [
        "Epoch 36, CIFAR-10 Batch 3:  "
       ]
      },
      {
       "output_type": "stream",
       "stream": "stdout",
       "text": [
        "Loss:     1.4510 Validation Accuracy: 0.461000\n"
       ]
      },
      {
       "output_type": "stream",
       "stream": "stdout",
       "text": [
        "Epoch 36, CIFAR-10 Batch 4:  "
       ]
      },
      {
       "output_type": "stream",
       "stream": "stdout",
       "text": [
        "Loss:     1.3725 Validation Accuracy: 0.479000\n"
       ]
      },
      {
       "output_type": "stream",
       "stream": "stdout",
       "text": [
        "Epoch 36, CIFAR-10 Batch 5:  "
       ]
      },
      {
       "output_type": "stream",
       "stream": "stdout",
       "text": [
        "Loss:     1.4869 Validation Accuracy: 0.455000\n"
       ]
      },
      {
       "output_type": "stream",
       "stream": "stdout",
       "text": [
        "Epoch 37, CIFAR-10 Batch 1:  Loss:     1.3877 Validation Accuracy: 0.472400\n"
       ]
      },
      {
       "output_type": "stream",
       "stream": "stdout",
       "text": [
        "Epoch 37, CIFAR-10 Batch 2:  "
       ]
      },
      {
       "output_type": "stream",
       "stream": "stdout",
       "text": [
        "Loss:     1.3676 Validation Accuracy: 0.433000\n"
       ]
      },
      {
       "output_type": "stream",
       "stream": "stdout",
       "text": [
        "Epoch 37, CIFAR-10 Batch 3:  Loss:     1.2142 Validation Accuracy: 0.477800"
       ]
      },
      {
       "output_type": "stream",
       "stream": "stdout",
       "text": [
        "\n"
       ]
      },
      {
       "output_type": "stream",
       "stream": "stdout",
       "text": [
        "Epoch 37, CIFAR-10 Batch 4:  "
       ]
      },
      {
       "output_type": "stream",
       "stream": "stdout",
       "text": [
        "Loss:     1.3172 Validation Accuracy: 0.480400\n"
       ]
      },
      {
       "output_type": "stream",
       "stream": "stdout",
       "text": [
        "Epoch 37, CIFAR-10 Batch 5:  "
       ]
      },
      {
       "output_type": "stream",
       "stream": "stdout",
       "text": [
        "Loss:     1.2943 Validation Accuracy: 0.463000\n"
       ]
      },
      {
       "output_type": "stream",
       "stream": "stdout",
       "text": [
        "Epoch 38, CIFAR-10 Batch 1:  Loss:     1.4214 Validation Accuracy: 0.482000\n"
       ]
      },
      {
       "output_type": "stream",
       "stream": "stdout",
       "text": [
        "Epoch 38, CIFAR-10 Batch 2:  "
       ]
      },
      {
       "output_type": "stream",
       "stream": "stdout",
       "text": [
        "Loss:     1.3206 Validation Accuracy: 0.435400\n"
       ]
      },
      {
       "output_type": "stream",
       "stream": "stdout",
       "text": [
        "Epoch 38, CIFAR-10 Batch 3:  Loss:     1.2613 Validation Accuracy: 0.475200"
       ]
      },
      {
       "output_type": "stream",
       "stream": "stdout",
       "text": [
        "\n"
       ]
      },
      {
       "output_type": "stream",
       "stream": "stdout",
       "text": [
        "Epoch 38, CIFAR-10 Batch 4:  "
       ]
      },
      {
       "output_type": "stream",
       "stream": "stdout",
       "text": [
        "Loss:     1.3216 Validation Accuracy: 0.457200\n"
       ]
      },
      {
       "output_type": "stream",
       "stream": "stdout",
       "text": [
        "Epoch 38, CIFAR-10 Batch 5:  "
       ]
      },
      {
       "output_type": "stream",
       "stream": "stdout",
       "text": [
        "Loss:     1.4667 Validation Accuracy: 0.472200\n"
       ]
      },
      {
       "output_type": "stream",
       "stream": "stdout",
       "text": [
        "Epoch 39, CIFAR-10 Batch 1:  "
       ]
      },
      {
       "output_type": "stream",
       "stream": "stdout",
       "text": [
        "Loss:     1.3625 Validation Accuracy: 0.502000\n"
       ]
      },
      {
       "output_type": "stream",
       "stream": "stdout",
       "text": [
        "Epoch 39, CIFAR-10 Batch 2:  "
       ]
      },
      {
       "output_type": "stream",
       "stream": "stdout",
       "text": [
        "Loss:     1.2556 Validation Accuracy: 0.451000\n"
       ]
      },
      {
       "output_type": "stream",
       "stream": "stdout",
       "text": [
        "Epoch 39, CIFAR-10 Batch 3:  Loss:     1.3858 Validation Accuracy: 0.482600"
       ]
      },
      {
       "output_type": "stream",
       "stream": "stdout",
       "text": [
        "\n"
       ]
      },
      {
       "output_type": "stream",
       "stream": "stdout",
       "text": [
        "Epoch 39, CIFAR-10 Batch 4:  "
       ]
      },
      {
       "output_type": "stream",
       "stream": "stdout",
       "text": [
        "Loss:     1.2891 Validation Accuracy: 0.471200\n"
       ]
      },
      {
       "output_type": "stream",
       "stream": "stdout",
       "text": [
        "Epoch 39, CIFAR-10 Batch 5:  "
       ]
      },
      {
       "output_type": "stream",
       "stream": "stdout",
       "text": [
        "Loss:     1.5256 Validation Accuracy: 0.437800\n"
       ]
      },
      {
       "output_type": "stream",
       "stream": "stdout",
       "text": [
        "Epoch 40, CIFAR-10 Batch 1:  "
       ]
      },
      {
       "output_type": "stream",
       "stream": "stdout",
       "text": [
        "Loss:     1.3516 Validation Accuracy: 0.477600\n"
       ]
      },
      {
       "output_type": "stream",
       "stream": "stdout",
       "text": [
        "Epoch 40, CIFAR-10 Batch 2:  "
       ]
      },
      {
       "output_type": "stream",
       "stream": "stdout",
       "text": [
        "Loss:     1.2046 Validation Accuracy: 0.470800\n"
       ]
      },
      {
       "output_type": "stream",
       "stream": "stdout",
       "text": [
        "Epoch 40, CIFAR-10 Batch 3:  "
       ]
      },
      {
       "output_type": "stream",
       "stream": "stdout",
       "text": [
        "Loss:     1.3823 Validation Accuracy: 0.484200\n"
       ]
      },
      {
       "output_type": "stream",
       "stream": "stdout",
       "text": [
        "Epoch 40, CIFAR-10 Batch 4:  "
       ]
      },
      {
       "output_type": "stream",
       "stream": "stdout",
       "text": [
        "Loss:     1.2097 Validation Accuracy: 0.434200\n"
       ]
      },
      {
       "output_type": "stream",
       "stream": "stdout",
       "text": [
        "Epoch 40, CIFAR-10 Batch 5:  "
       ]
      },
      {
       "output_type": "stream",
       "stream": "stdout",
       "text": [
        "Loss:     1.3451 Validation Accuracy: 0.462000\n"
       ]
      },
      {
       "output_type": "stream",
       "stream": "stdout",
       "text": [
        "Epoch 41, CIFAR-10 Batch 1:  Loss:     1.5523 Validation Accuracy: 0.484000\n"
       ]
      },
      {
       "output_type": "stream",
       "stream": "stdout",
       "text": [
        "Epoch 41, CIFAR-10 Batch 2:  "
       ]
      },
      {
       "output_type": "stream",
       "stream": "stdout",
       "text": [
        "Loss:     1.3180 Validation Accuracy: 0.462200\n"
       ]
      },
      {
       "output_type": "stream",
       "stream": "stdout",
       "text": [
        "Epoch 41, CIFAR-10 Batch 3:  "
       ]
      },
      {
       "output_type": "stream",
       "stream": "stdout",
       "text": [
        "Loss:     1.3541 Validation Accuracy: 0.485000\n"
       ]
      },
      {
       "output_type": "stream",
       "stream": "stdout",
       "text": [
        "Epoch 41, CIFAR-10 Batch 4:  "
       ]
      },
      {
       "output_type": "stream",
       "stream": "stdout",
       "text": [
        "Loss:     1.2994 Validation Accuracy: 0.412000\n"
       ]
      },
      {
       "output_type": "stream",
       "stream": "stdout",
       "text": [
        "Epoch 41, CIFAR-10 Batch 5:  Loss:     1.3003 Validation Accuracy: 0.494400"
       ]
      },
      {
       "output_type": "stream",
       "stream": "stdout",
       "text": [
        "\n"
       ]
      },
      {
       "output_type": "stream",
       "stream": "stdout",
       "text": [
        "Epoch 42, CIFAR-10 Batch 1:  Loss:     1.6913 Validation Accuracy: 0.454200"
       ]
      },
      {
       "output_type": "stream",
       "stream": "stdout",
       "text": [
        "\n"
       ]
      },
      {
       "output_type": "stream",
       "stream": "stdout",
       "text": [
        "Epoch 42, CIFAR-10 Batch 2:  "
       ]
      },
      {
       "output_type": "stream",
       "stream": "stdout",
       "text": [
        "Loss:     1.1285 Validation Accuracy: 0.484200\n"
       ]
      },
      {
       "output_type": "stream",
       "stream": "stdout",
       "text": [
        "Epoch 42, CIFAR-10 Batch 3:  "
       ]
      },
      {
       "output_type": "stream",
       "stream": "stdout",
       "text": [
        "Loss:     1.4583 Validation Accuracy: 0.488800\n"
       ]
      },
      {
       "output_type": "stream",
       "stream": "stdout",
       "text": [
        "Epoch 42, CIFAR-10 Batch 4:  Loss:     1.1228 Validation Accuracy: 0.471000"
       ]
      },
      {
       "output_type": "stream",
       "stream": "stdout",
       "text": [
        "\n"
       ]
      },
      {
       "output_type": "stream",
       "stream": "stdout",
       "text": [
        "Epoch 42, CIFAR-10 Batch 5:  "
       ]
      },
      {
       "output_type": "stream",
       "stream": "stdout",
       "text": [
        "Loss:     1.3762 Validation Accuracy: 0.476000\n"
       ]
      },
      {
       "output_type": "stream",
       "stream": "stdout",
       "text": [
        "Epoch 43, CIFAR-10 Batch 1:  "
       ]
      },
      {
       "output_type": "stream",
       "stream": "stdout",
       "text": [
        "Loss:     1.2264 Validation Accuracy: 0.497600\n"
       ]
      },
      {
       "output_type": "stream",
       "stream": "stdout",
       "text": [
        "Epoch 43, CIFAR-10 Batch 2:  "
       ]
      },
      {
       "output_type": "stream",
       "stream": "stdout",
       "text": [
        "Loss:     1.4564 Validation Accuracy: 0.432600\n"
       ]
      },
      {
       "output_type": "stream",
       "stream": "stdout",
       "text": [
        "Epoch 43, CIFAR-10 Batch 3:  "
       ]
      },
      {
       "output_type": "stream",
       "stream": "stdout",
       "text": [
        "Loss:     1.4009 Validation Accuracy: 0.463800\n"
       ]
      },
      {
       "output_type": "stream",
       "stream": "stdout",
       "text": [
        "Epoch 43, CIFAR-10 Batch 4:  "
       ]
      },
      {
       "output_type": "stream",
       "stream": "stdout",
       "text": [
        "Loss:     1.3038 Validation Accuracy: 0.462600\n"
       ]
      },
      {
       "output_type": "stream",
       "stream": "stdout",
       "text": [
        "Epoch 43, CIFAR-10 Batch 5:  "
       ]
      },
      {
       "output_type": "stream",
       "stream": "stdout",
       "text": [
        "Loss:     1.2451 Validation Accuracy: 0.462400\n"
       ]
      },
      {
       "output_type": "stream",
       "stream": "stdout",
       "text": [
        "Epoch 44, CIFAR-10 Batch 1:  "
       ]
      },
      {
       "output_type": "stream",
       "stream": "stdout",
       "text": [
        "Loss:     1.2047 Validation Accuracy: 0.490800\n"
       ]
      },
      {
       "output_type": "stream",
       "stream": "stdout",
       "text": [
        "Epoch 44, CIFAR-10 Batch 2:  "
       ]
      },
      {
       "output_type": "stream",
       "stream": "stdout",
       "text": [
        "Loss:     1.4170 Validation Accuracy: 0.451800\n"
       ]
      },
      {
       "output_type": "stream",
       "stream": "stdout",
       "text": [
        "Epoch 44, CIFAR-10 Batch 3:  "
       ]
      },
      {
       "output_type": "stream",
       "stream": "stdout",
       "text": [
        "Loss:     1.1069 Validation Accuracy: 0.460000\n"
       ]
      },
      {
       "output_type": "stream",
       "stream": "stdout",
       "text": [
        "Epoch 44, CIFAR-10 Batch 4:  "
       ]
      },
      {
       "output_type": "stream",
       "stream": "stdout",
       "text": [
        "Loss:     1.1121 Validation Accuracy: 0.494400\n"
       ]
      },
      {
       "output_type": "stream",
       "stream": "stdout",
       "text": [
        "Epoch 44, CIFAR-10 Batch 5:  "
       ]
      },
      {
       "output_type": "stream",
       "stream": "stdout",
       "text": [
        "Loss:     1.5309 Validation Accuracy: 0.472400\n"
       ]
      },
      {
       "output_type": "stream",
       "stream": "stdout",
       "text": [
        "Epoch 45, CIFAR-10 Batch 1:  "
       ]
      },
      {
       "output_type": "stream",
       "stream": "stdout",
       "text": [
        "Loss:     1.2553 Validation Accuracy: 0.500800\n"
       ]
      },
      {
       "output_type": "stream",
       "stream": "stdout",
       "text": [
        "Epoch 45, CIFAR-10 Batch 2:  Loss:     1.3883 Validation Accuracy: 0.500800\n"
       ]
      },
      {
       "output_type": "stream",
       "stream": "stdout",
       "text": [
        "Epoch 45, CIFAR-10 Batch 3:  "
       ]
      },
      {
       "output_type": "stream",
       "stream": "stdout",
       "text": [
        "Loss:     1.1051 Validation Accuracy: 0.512400\n"
       ]
      },
      {
       "output_type": "stream",
       "stream": "stdout",
       "text": [
        "Epoch 45, CIFAR-10 Batch 4:  "
       ]
      },
      {
       "output_type": "stream",
       "stream": "stdout",
       "text": [
        "Loss:     1.1109 Validation Accuracy: 0.504400\n"
       ]
      },
      {
       "output_type": "stream",
       "stream": "stdout",
       "text": [
        "Epoch 45, CIFAR-10 Batch 5:  "
       ]
      },
      {
       "output_type": "stream",
       "stream": "stdout",
       "text": [
        "Loss:     1.3560 Validation Accuracy: 0.477000\n"
       ]
      },
      {
       "output_type": "stream",
       "stream": "stdout",
       "text": [
        "Epoch 46, CIFAR-10 Batch 1:  "
       ]
      },
      {
       "output_type": "stream",
       "stream": "stdout",
       "text": [
        "Loss:     1.3251 Validation Accuracy: 0.515400\n"
       ]
      },
      {
       "output_type": "stream",
       "stream": "stdout",
       "text": [
        "Epoch 46, CIFAR-10 Batch 2:  "
       ]
      },
      {
       "output_type": "stream",
       "stream": "stdout",
       "text": [
        "Loss:     1.4259 Validation Accuracy: 0.461600\n"
       ]
      },
      {
       "output_type": "stream",
       "stream": "stdout",
       "text": [
        "Epoch 46, CIFAR-10 Batch 3:  Loss:     1.1690 Validation Accuracy: 0.505000"
       ]
      },
      {
       "output_type": "stream",
       "stream": "stdout",
       "text": [
        "\n",
        "Epoch 46, CIFAR-10 Batch 4:  "
       ]
      },
      {
       "output_type": "stream",
       "stream": "stdout",
       "text": [
        "Loss:     1.3085 Validation Accuracy: 0.426200\n"
       ]
      },
      {
       "output_type": "stream",
       "stream": "stdout",
       "text": [
        "Epoch 46, CIFAR-10 Batch 5:  "
       ]
      },
      {
       "output_type": "stream",
       "stream": "stdout",
       "text": [
        "Loss:     1.4955 Validation Accuracy: 0.446000\n"
       ]
      },
      {
       "output_type": "stream",
       "stream": "stdout",
       "text": [
        "Epoch 47, CIFAR-10 Batch 1:  Loss:     0.9472 Validation Accuracy: 0.533400"
       ]
      },
      {
       "output_type": "stream",
       "stream": "stdout",
       "text": [
        "\n"
       ]
      },
      {
       "output_type": "stream",
       "stream": "stdout",
       "text": [
        "Epoch 47, CIFAR-10 Batch 2:  "
       ]
      },
      {
       "output_type": "stream",
       "stream": "stdout",
       "text": [
        "Loss:     1.2574 Validation Accuracy: 0.523800\n"
       ]
      },
      {
       "output_type": "stream",
       "stream": "stdout",
       "text": [
        "Epoch 47, CIFAR-10 Batch 3:  Loss:     1.2789 Validation Accuracy: 0.506200"
       ]
      },
      {
       "output_type": "stream",
       "stream": "stdout",
       "text": [
        "\n"
       ]
      },
      {
       "output_type": "stream",
       "stream": "stdout",
       "text": [
        "Epoch 47, CIFAR-10 Batch 4:  Loss:     1.2826 Validation Accuracy: 0.521800"
       ]
      },
      {
       "output_type": "stream",
       "stream": "stdout",
       "text": [
        "\n"
       ]
      },
      {
       "output_type": "stream",
       "stream": "stdout",
       "text": [
        "Epoch 47, CIFAR-10 Batch 5:  "
       ]
      },
      {
       "output_type": "stream",
       "stream": "stdout",
       "text": [
        "Loss:     1.4522 Validation Accuracy: 0.468000\n"
       ]
      },
      {
       "output_type": "stream",
       "stream": "stdout",
       "text": [
        "Epoch 48, CIFAR-10 Batch 1:  "
       ]
      },
      {
       "output_type": "stream",
       "stream": "stdout",
       "text": [
        "Loss:     1.0656 Validation Accuracy: 0.506000\n"
       ]
      },
      {
       "output_type": "stream",
       "stream": "stdout",
       "text": [
        "Epoch 48, CIFAR-10 Batch 2:  "
       ]
      },
      {
       "output_type": "stream",
       "stream": "stdout",
       "text": [
        "Loss:     1.3547 Validation Accuracy: 0.493000\n"
       ]
      },
      {
       "output_type": "stream",
       "stream": "stdout",
       "text": [
        "Epoch 48, CIFAR-10 Batch 3:  "
       ]
      },
      {
       "output_type": "stream",
       "stream": "stdout",
       "text": [
        "Loss:     1.2114 Validation Accuracy: 0.527200\n"
       ]
      },
      {
       "output_type": "stream",
       "stream": "stdout",
       "text": [
        "Epoch 48, CIFAR-10 Batch 4:  "
       ]
      },
      {
       "output_type": "stream",
       "stream": "stdout",
       "text": [
        "Loss:     1.0314 Validation Accuracy: 0.499600\n"
       ]
      },
      {
       "output_type": "stream",
       "stream": "stdout",
       "text": [
        "Epoch 48, CIFAR-10 Batch 5:  "
       ]
      },
      {
       "output_type": "stream",
       "stream": "stdout",
       "text": [
        "Loss:     1.2776 Validation Accuracy: 0.501600\n"
       ]
      },
      {
       "output_type": "stream",
       "stream": "stdout",
       "text": [
        "Epoch 49, CIFAR-10 Batch 1:  "
       ]
      },
      {
       "output_type": "stream",
       "stream": "stdout",
       "text": [
        "Loss:     1.0168 Validation Accuracy: 0.543000\n"
       ]
      },
      {
       "output_type": "stream",
       "stream": "stdout",
       "text": [
        "Epoch 49, CIFAR-10 Batch 2:  "
       ]
      },
      {
       "output_type": "stream",
       "stream": "stdout",
       "text": [
        "Loss:     1.3593 Validation Accuracy: 0.502200\n"
       ]
      },
      {
       "output_type": "stream",
       "stream": "stdout",
       "text": [
        "Epoch 49, CIFAR-10 Batch 3:  "
       ]
      },
      {
       "output_type": "stream",
       "stream": "stdout",
       "text": [
        "Loss:     1.2728 Validation Accuracy: 0.502400\n"
       ]
      },
      {
       "output_type": "stream",
       "stream": "stdout",
       "text": [
        "Epoch 49, CIFAR-10 Batch 4:  "
       ]
      },
      {
       "output_type": "stream",
       "stream": "stdout",
       "text": [
        "Loss:     1.1111 Validation Accuracy: 0.503200\n"
       ]
      },
      {
       "output_type": "stream",
       "stream": "stdout",
       "text": [
        "Epoch 49, CIFAR-10 Batch 5:  "
       ]
      },
      {
       "output_type": "stream",
       "stream": "stdout",
       "text": [
        "Loss:     1.3870 Validation Accuracy: 0.491000\n"
       ]
      },
      {
       "output_type": "stream",
       "stream": "stdout",
       "text": [
        "Epoch 50, CIFAR-10 Batch 1:  "
       ]
      },
      {
       "output_type": "stream",
       "stream": "stdout",
       "text": [
        "Loss:     1.2043 Validation Accuracy: 0.494000\n"
       ]
      },
      {
       "output_type": "stream",
       "stream": "stdout",
       "text": [
        "Epoch 50, CIFAR-10 Batch 2:  "
       ]
      },
      {
       "output_type": "stream",
       "stream": "stdout",
       "text": [
        "Loss:     1.2674 Validation Accuracy: 0.523200\n"
       ]
      },
      {
       "output_type": "stream",
       "stream": "stdout",
       "text": [
        "Epoch 50, CIFAR-10 Batch 3:  Loss:     1.2557 Validation Accuracy: 0.518400"
       ]
      },
      {
       "output_type": "stream",
       "stream": "stdout",
       "text": [
        "\n"
       ]
      },
      {
       "output_type": "stream",
       "stream": "stdout",
       "text": [
        "Epoch 50, CIFAR-10 Batch 4:  "
       ]
      },
      {
       "output_type": "stream",
       "stream": "stdout",
       "text": [
        "Loss:     1.0268 Validation Accuracy: 0.491400\n"
       ]
      },
      {
       "output_type": "stream",
       "stream": "stdout",
       "text": [
        "Epoch 50, CIFAR-10 Batch 5:  "
       ]
      },
      {
       "output_type": "stream",
       "stream": "stdout",
       "text": [
        "Loss:     1.4379 Validation Accuracy: 0.469000\n"
       ]
      },
      {
       "output_type": "stream",
       "stream": "stdout",
       "text": [
        "Epoch 51, CIFAR-10 Batch 1:  "
       ]
      },
      {
       "output_type": "stream",
       "stream": "stdout",
       "text": [
        "Loss:     1.0508 Validation Accuracy: 0.550600\n"
       ]
      },
      {
       "output_type": "stream",
       "stream": "stdout",
       "text": [
        "Epoch 51, CIFAR-10 Batch 2:  "
       ]
      },
      {
       "output_type": "stream",
       "stream": "stdout",
       "text": [
        "Loss:     1.4841 Validation Accuracy: 0.424600\n"
       ]
      },
      {
       "output_type": "stream",
       "stream": "stdout",
       "text": [
        "Epoch 51, CIFAR-10 Batch 3:  "
       ]
      },
      {
       "output_type": "stream",
       "stream": "stdout",
       "text": [
        "Loss:     1.2717 Validation Accuracy: 0.504200\n"
       ]
      },
      {
       "output_type": "stream",
       "stream": "stdout",
       "text": [
        "Epoch 51, CIFAR-10 Batch 4:  "
       ]
      },
      {
       "output_type": "stream",
       "stream": "stdout",
       "text": [
        "Loss:     1.0308 Validation Accuracy: 0.508000\n"
       ]
      },
      {
       "output_type": "stream",
       "stream": "stdout",
       "text": [
        "Epoch 51, CIFAR-10 Batch 5:  "
       ]
      },
      {
       "output_type": "stream",
       "stream": "stdout",
       "text": [
        "Loss:     1.4363 Validation Accuracy: 0.458800\n"
       ]
      },
      {
       "output_type": "stream",
       "stream": "stdout",
       "text": [
        "Epoch 52, CIFAR-10 Batch 1:  Loss:     1.3093 Validation Accuracy: 0.513200\n"
       ]
      },
      {
       "output_type": "stream",
       "stream": "stdout",
       "text": [
        "Epoch 52, CIFAR-10 Batch 2:  "
       ]
      },
      {
       "output_type": "stream",
       "stream": "stdout",
       "text": [
        "Loss:     1.3433 Validation Accuracy: 0.486600\n"
       ]
      },
      {
       "output_type": "stream",
       "stream": "stdout",
       "text": [
        "Epoch 52, CIFAR-10 Batch 3:  "
       ]
      },
      {
       "output_type": "stream",
       "stream": "stdout",
       "text": [
        "Loss:     1.1458 Validation Accuracy: 0.523400\n"
       ]
      },
      {
       "output_type": "stream",
       "stream": "stdout",
       "text": [
        "Epoch 52, CIFAR-10 Batch 4:  Loss:     1.2264 Validation Accuracy: 0.516400"
       ]
      },
      {
       "output_type": "stream",
       "stream": "stdout",
       "text": [
        "\n"
       ]
      },
      {
       "output_type": "stream",
       "stream": "stdout",
       "text": [
        "Epoch 52, CIFAR-10 Batch 5:  "
       ]
      },
      {
       "output_type": "stream",
       "stream": "stdout",
       "text": [
        "Loss:     1.4379 Validation Accuracy: 0.489600\n"
       ]
      },
      {
       "output_type": "stream",
       "stream": "stdout",
       "text": [
        "Epoch 53, CIFAR-10 Batch 1:  Loss:     1.2644 Validation Accuracy: 0.526800\n"
       ]
      },
      {
       "output_type": "stream",
       "stream": "stdout",
       "text": [
        "Epoch 53, CIFAR-10 Batch 2:  "
       ]
      },
      {
       "output_type": "stream",
       "stream": "stdout",
       "text": [
        "Loss:     1.3088 Validation Accuracy: 0.513000\n"
       ]
      },
      {
       "output_type": "stream",
       "stream": "stdout",
       "text": [
        "Epoch 53, CIFAR-10 Batch 3:  "
       ]
      },
      {
       "output_type": "stream",
       "stream": "stdout",
       "text": [
        "Loss:     1.2978 Validation Accuracy: 0.474400\n"
       ]
      },
      {
       "output_type": "stream",
       "stream": "stdout",
       "text": [
        "Epoch 53, CIFAR-10 Batch 4:  "
       ]
      },
      {
       "output_type": "stream",
       "stream": "stdout",
       "text": [
        "Loss:     1.1260 Validation Accuracy: 0.476000\n"
       ]
      },
      {
       "output_type": "stream",
       "stream": "stdout",
       "text": [
        "Epoch 53, CIFAR-10 Batch 5:  "
       ]
      },
      {
       "output_type": "stream",
       "stream": "stdout",
       "text": [
        "Loss:     1.2380 Validation Accuracy: 0.462000\n"
       ]
      },
      {
       "output_type": "stream",
       "stream": "stdout",
       "text": [
        "Epoch 54, CIFAR-10 Batch 1:  "
       ]
      },
      {
       "output_type": "stream",
       "stream": "stdout",
       "text": [
        "Loss:     1.0947 Validation Accuracy: 0.524200\n"
       ]
      },
      {
       "output_type": "stream",
       "stream": "stdout",
       "text": [
        "Epoch 54, CIFAR-10 Batch 2:  "
       ]
      },
      {
       "output_type": "stream",
       "stream": "stdout",
       "text": [
        "Loss:     1.4497 Validation Accuracy: 0.466200\n"
       ]
      },
      {
       "output_type": "stream",
       "stream": "stdout",
       "text": [
        "Epoch 54, CIFAR-10 Batch 3:  "
       ]
      },
      {
       "output_type": "stream",
       "stream": "stdout",
       "text": [
        "Loss:     1.2507 Validation Accuracy: 0.482600\n"
       ]
      },
      {
       "output_type": "stream",
       "stream": "stdout",
       "text": [
        "Epoch 54, CIFAR-10 Batch 4:  "
       ]
      },
      {
       "output_type": "stream",
       "stream": "stdout",
       "text": [
        "Loss:     1.1049 Validation Accuracy: 0.483000\n"
       ]
      },
      {
       "output_type": "stream",
       "stream": "stdout",
       "text": [
        "Epoch 54, CIFAR-10 Batch 5:  Loss:     1.3418 Validation Accuracy: 0.484600\n"
       ]
      },
      {
       "output_type": "stream",
       "stream": "stdout",
       "text": [
        "Epoch 55, CIFAR-10 Batch 1:  "
       ]
      },
      {
       "output_type": "stream",
       "stream": "stdout",
       "text": [
        "Loss:     1.0721 Validation Accuracy: 0.546800\n"
       ]
      },
      {
       "output_type": "stream",
       "stream": "stdout",
       "text": [
        "Epoch 55, CIFAR-10 Batch 2:  "
       ]
      },
      {
       "output_type": "stream",
       "stream": "stdout",
       "text": [
        "Loss:     1.2924 Validation Accuracy: 0.496200\n"
       ]
      },
      {
       "output_type": "stream",
       "stream": "stdout",
       "text": [
        "Epoch 55, CIFAR-10 Batch 3:  "
       ]
      },
      {
       "output_type": "stream",
       "stream": "stdout",
       "text": [
        "Loss:     1.3229 Validation Accuracy: 0.522000\n"
       ]
      },
      {
       "output_type": "stream",
       "stream": "stdout",
       "text": [
        "Epoch 55, CIFAR-10 Batch 4:  "
       ]
      },
      {
       "output_type": "stream",
       "stream": "stdout",
       "text": [
        "Loss:     0.9959 Validation Accuracy: 0.516800\n"
       ]
      },
      {
       "output_type": "stream",
       "stream": "stdout",
       "text": [
        "Epoch 55, CIFAR-10 Batch 5:  "
       ]
      },
      {
       "output_type": "stream",
       "stream": "stdout",
       "text": [
        "Loss:     1.3445 Validation Accuracy: 0.459200\n"
       ]
      },
      {
       "output_type": "stream",
       "stream": "stdout",
       "text": [
        "Epoch 56, CIFAR-10 Batch 1:  "
       ]
      },
      {
       "output_type": "stream",
       "stream": "stdout",
       "text": [
        "Loss:     0.9858 Validation Accuracy: 0.532800\n"
       ]
      },
      {
       "output_type": "stream",
       "stream": "stdout",
       "text": [
        "Epoch 56, CIFAR-10 Batch 2:  "
       ]
      },
      {
       "output_type": "stream",
       "stream": "stdout",
       "text": [
        "Loss:     1.3439 Validation Accuracy: 0.518000\n"
       ]
      },
      {
       "output_type": "stream",
       "stream": "stdout",
       "text": [
        "Epoch 56, CIFAR-10 Batch 3:  "
       ]
      },
      {
       "output_type": "stream",
       "stream": "stdout",
       "text": [
        "Loss:     1.2503 Validation Accuracy: 0.460800\n"
       ]
      },
      {
       "output_type": "stream",
       "stream": "stdout",
       "text": [
        "Epoch 56, CIFAR-10 Batch 4:  "
       ]
      },
      {
       "output_type": "stream",
       "stream": "stdout",
       "text": [
        "Loss:     0.9928 Validation Accuracy: 0.484000\n"
       ]
      },
      {
       "output_type": "stream",
       "stream": "stdout",
       "text": [
        "Epoch 56, CIFAR-10 Batch 5:  "
       ]
      },
      {
       "output_type": "stream",
       "stream": "stdout",
       "text": [
        "Loss:     1.1512 Validation Accuracy: 0.490600\n"
       ]
      },
      {
       "output_type": "stream",
       "stream": "stdout",
       "text": [
        "Epoch 57, CIFAR-10 Batch 1:  "
       ]
      },
      {
       "output_type": "stream",
       "stream": "stdout",
       "text": [
        "Loss:     1.1389 Validation Accuracy: 0.522800\n"
       ]
      },
      {
       "output_type": "stream",
       "stream": "stdout",
       "text": [
        "Epoch 57, CIFAR-10 Batch 2:  "
       ]
      },
      {
       "output_type": "stream",
       "stream": "stdout",
       "text": [
        "Loss:     1.2068 Validation Accuracy: 0.519600\n"
       ]
      },
      {
       "output_type": "stream",
       "stream": "stdout",
       "text": [
        "Epoch 57, CIFAR-10 Batch 3:  Loss:     1.1144 Validation Accuracy: 0.520000\n"
       ]
      },
      {
       "output_type": "stream",
       "stream": "stdout",
       "text": [
        "Epoch 57, CIFAR-10 Batch 4:  Loss:     1.0353 Validation Accuracy: 0.494400"
       ]
      },
      {
       "output_type": "stream",
       "stream": "stdout",
       "text": [
        "\n"
       ]
      },
      {
       "output_type": "stream",
       "stream": "stdout",
       "text": [
        "Epoch 57, CIFAR-10 Batch 5:  "
       ]
      },
      {
       "output_type": "stream",
       "stream": "stdout",
       "text": [
        "Loss:     1.2474 Validation Accuracy: 0.501200\n"
       ]
      },
      {
       "output_type": "stream",
       "stream": "stdout",
       "text": [
        "Epoch 58, CIFAR-10 Batch 1:  "
       ]
      },
      {
       "output_type": "stream",
       "stream": "stdout",
       "text": [
        "Loss:     0.9747 Validation Accuracy: 0.571000\n"
       ]
      },
      {
       "output_type": "stream",
       "stream": "stdout",
       "text": [
        "Epoch 58, CIFAR-10 Batch 2:  "
       ]
      },
      {
       "output_type": "stream",
       "stream": "stdout",
       "text": [
        "Loss:     1.2176 Validation Accuracy: 0.559400\n"
       ]
      },
      {
       "output_type": "stream",
       "stream": "stdout",
       "text": [
        "Epoch 58, CIFAR-10 Batch 3:  Loss:     1.1067 Validation Accuracy: 0.532000\n"
       ]
      },
      {
       "output_type": "stream",
       "stream": "stdout",
       "text": [
        "Epoch 58, CIFAR-10 Batch 4:  "
       ]
      },
      {
       "output_type": "stream",
       "stream": "stdout",
       "text": [
        "Loss:     0.9669 Validation Accuracy: 0.482000\n"
       ]
      },
      {
       "output_type": "stream",
       "stream": "stdout",
       "text": [
        "Epoch 58, CIFAR-10 Batch 5:  "
       ]
      },
      {
       "output_type": "stream",
       "stream": "stdout",
       "text": [
        "Loss:     1.3526 Validation Accuracy: 0.496400\n"
       ]
      },
      {
       "output_type": "stream",
       "stream": "stdout",
       "text": [
        "Epoch 59, CIFAR-10 Batch 1:  "
       ]
      },
      {
       "output_type": "stream",
       "stream": "stdout",
       "text": [
        "Loss:     1.1431 Validation Accuracy: 0.526400\n"
       ]
      },
      {
       "output_type": "stream",
       "stream": "stdout",
       "text": [
        "Epoch 59, CIFAR-10 Batch 2:  "
       ]
      },
      {
       "output_type": "stream",
       "stream": "stdout",
       "text": [
        "Loss:     1.1608 Validation Accuracy: 0.546400\n"
       ]
      },
      {
       "output_type": "stream",
       "stream": "stdout",
       "text": [
        "Epoch 59, CIFAR-10 Batch 3:  "
       ]
      },
      {
       "output_type": "stream",
       "stream": "stdout",
       "text": [
        "Loss:     1.0260 Validation Accuracy: 0.523600\n"
       ]
      },
      {
       "output_type": "stream",
       "stream": "stdout",
       "text": [
        "Epoch 59, CIFAR-10 Batch 4:  "
       ]
      },
      {
       "output_type": "stream",
       "stream": "stdout",
       "text": [
        "Loss:     0.9651 Validation Accuracy: 0.580400\n"
       ]
      },
      {
       "output_type": "stream",
       "stream": "stdout",
       "text": [
        "Epoch 59, CIFAR-10 Batch 5:  "
       ]
      },
      {
       "output_type": "stream",
       "stream": "stdout",
       "text": [
        "Loss:     1.2459 Validation Accuracy: 0.512200\n"
       ]
      },
      {
       "output_type": "stream",
       "stream": "stdout",
       "text": [
        "Epoch 60, CIFAR-10 Batch 1:  "
       ]
      },
      {
       "output_type": "stream",
       "stream": "stdout",
       "text": [
        "Loss:     1.1168 Validation Accuracy: 0.563400\n"
       ]
      },
      {
       "output_type": "stream",
       "stream": "stdout",
       "text": [
        "Epoch 60, CIFAR-10 Batch 2:  "
       ]
      },
      {
       "output_type": "stream",
       "stream": "stdout",
       "text": [
        "Loss:     1.2870 Validation Accuracy: 0.504400\n"
       ]
      },
      {
       "output_type": "stream",
       "stream": "stdout",
       "text": [
        "Epoch 60, CIFAR-10 Batch 3:  "
       ]
      },
      {
       "output_type": "stream",
       "stream": "stdout",
       "text": [
        "Loss:     1.1293 Validation Accuracy: 0.532600\n"
       ]
      },
      {
       "output_type": "stream",
       "stream": "stdout",
       "text": [
        "Epoch 60, CIFAR-10 Batch 4:  "
       ]
      },
      {
       "output_type": "stream",
       "stream": "stdout",
       "text": [
        "Loss:     1.0317 Validation Accuracy: 0.517800\n"
       ]
      },
      {
       "output_type": "stream",
       "stream": "stdout",
       "text": [
        "Epoch 60, CIFAR-10 Batch 5:  "
       ]
      },
      {
       "output_type": "stream",
       "stream": "stdout",
       "text": [
        "Loss:     1.1700 Validation Accuracy: 0.525800\n"
       ]
      },
      {
       "output_type": "stream",
       "stream": "stdout",
       "text": [
        "Epoch 61, CIFAR-10 Batch 1:  Loss:     0.9567 Validation Accuracy: 0.552400"
       ]
      },
      {
       "output_type": "stream",
       "stream": "stdout",
       "text": [
        "\n"
       ]
      },
      {
       "output_type": "stream",
       "stream": "stdout",
       "text": [
        "Epoch 61, CIFAR-10 Batch 2:  "
       ]
      },
      {
       "output_type": "stream",
       "stream": "stdout",
       "text": [
        "Loss:     1.6211 Validation Accuracy: 0.422600\n"
       ]
      },
      {
       "output_type": "stream",
       "stream": "stdout",
       "text": [
        "Epoch 61, CIFAR-10 Batch 3:  Loss:     1.0555 Validation Accuracy: 0.512000\n"
       ]
      },
      {
       "output_type": "stream",
       "stream": "stdout",
       "text": [
        "Epoch 61, CIFAR-10 Batch 4:  Loss:     0.9029 Validation Accuracy: 0.522800"
       ]
      },
      {
       "output_type": "stream",
       "stream": "stdout",
       "text": [
        "\n"
       ]
      },
      {
       "output_type": "stream",
       "stream": "stdout",
       "text": [
        "Epoch 61, CIFAR-10 Batch 5:  "
       ]
      },
      {
       "output_type": "stream",
       "stream": "stdout",
       "text": [
        "Loss:     1.3655 Validation Accuracy: 0.487600\n"
       ]
      },
      {
       "output_type": "stream",
       "stream": "stdout",
       "text": [
        "Epoch 62, CIFAR-10 Batch 1:  "
       ]
      },
      {
       "output_type": "stream",
       "stream": "stdout",
       "text": [
        "Loss:     0.9113 Validation Accuracy: 0.553400\n"
       ]
      },
      {
       "output_type": "stream",
       "stream": "stdout",
       "text": [
        "Epoch 62, CIFAR-10 Batch 2:  "
       ]
      },
      {
       "output_type": "stream",
       "stream": "stdout",
       "text": [
        "Loss:     1.4190 Validation Accuracy: 0.483800\n"
       ]
      },
      {
       "output_type": "stream",
       "stream": "stdout",
       "text": [
        "Epoch 62, CIFAR-10 Batch 3:  "
       ]
      },
      {
       "output_type": "stream",
       "stream": "stdout",
       "text": [
        "Loss:     1.1266 Validation Accuracy: 0.529400\n"
       ]
      },
      {
       "output_type": "stream",
       "stream": "stdout",
       "text": [
        "Epoch 62, CIFAR-10 Batch 4:  Loss:     1.0287 Validation Accuracy: 0.531800"
       ]
      },
      {
       "output_type": "stream",
       "stream": "stdout",
       "text": [
        "\n"
       ]
      },
      {
       "output_type": "stream",
       "stream": "stdout",
       "text": [
        "Epoch 62, CIFAR-10 Batch 5:  "
       ]
      },
      {
       "output_type": "stream",
       "stream": "stdout",
       "text": [
        "Loss:     1.2951 Validation Accuracy: 0.496800\n"
       ]
      },
      {
       "output_type": "stream",
       "stream": "stdout",
       "text": [
        "Epoch 63, CIFAR-10 Batch 1:  "
       ]
      },
      {
       "output_type": "stream",
       "stream": "stdout",
       "text": [
        "Loss:     0.9778 Validation Accuracy: 0.553800\n"
       ]
      },
      {
       "output_type": "stream",
       "stream": "stdout",
       "text": [
        "Epoch 63, CIFAR-10 Batch 2:  Loss:     1.5657 Validation Accuracy: 0.457200\n"
       ]
      },
      {
       "output_type": "stream",
       "stream": "stdout",
       "text": [
        "Epoch 63, CIFAR-10 Batch 3:  "
       ]
      },
      {
       "output_type": "stream",
       "stream": "stdout",
       "text": [
        "Loss:     1.1784 Validation Accuracy: 0.556400\n"
       ]
      },
      {
       "output_type": "stream",
       "stream": "stdout",
       "text": [
        "Epoch 63, CIFAR-10 Batch 4:  "
       ]
      },
      {
       "output_type": "stream",
       "stream": "stdout",
       "text": [
        "Loss:     1.1232 Validation Accuracy: 0.502400\n"
       ]
      },
      {
       "output_type": "stream",
       "stream": "stdout",
       "text": [
        "Epoch 63, CIFAR-10 Batch 5:  "
       ]
      },
      {
       "output_type": "stream",
       "stream": "stdout",
       "text": [
        "Loss:     1.3393 Validation Accuracy: 0.502400\n"
       ]
      },
      {
       "output_type": "stream",
       "stream": "stdout",
       "text": [
        "Epoch 64, CIFAR-10 Batch 1:  "
       ]
      },
      {
       "output_type": "stream",
       "stream": "stdout",
       "text": [
        "Loss:     0.8762 Validation Accuracy: 0.574600\n"
       ]
      },
      {
       "output_type": "stream",
       "stream": "stdout",
       "text": [
        "Epoch 64, CIFAR-10 Batch 2:  Loss:     1.4002 Validation Accuracy: 0.485600\n"
       ]
      },
      {
       "output_type": "stream",
       "stream": "stdout",
       "text": [
        "Epoch 64, CIFAR-10 Batch 3:  "
       ]
      },
      {
       "output_type": "stream",
       "stream": "stdout",
       "text": [
        "Loss:     1.0945 Validation Accuracy: 0.517200\n"
       ]
      },
      {
       "output_type": "stream",
       "stream": "stdout",
       "text": [
        "Epoch 64, CIFAR-10 Batch 4:  Loss:     0.9494 Validation Accuracy: 0.526400"
       ]
      },
      {
       "output_type": "stream",
       "stream": "stdout",
       "text": [
        "\n"
       ]
      },
      {
       "output_type": "stream",
       "stream": "stdout",
       "text": [
        "Epoch 64, CIFAR-10 Batch 5:  "
       ]
      },
      {
       "output_type": "stream",
       "stream": "stdout",
       "text": [
        "Loss:     1.2388 Validation Accuracy: 0.506600\n"
       ]
      },
      {
       "output_type": "stream",
       "stream": "stdout",
       "text": [
        "Epoch 65, CIFAR-10 Batch 1:  "
       ]
      },
      {
       "output_type": "stream",
       "stream": "stdout",
       "text": [
        "Loss:     0.9216 Validation Accuracy: 0.548800\n"
       ]
      },
      {
       "output_type": "stream",
       "stream": "stdout",
       "text": [
        "Epoch 65, CIFAR-10 Batch 2:  Loss:     1.4155 Validation Accuracy: 0.515400\n"
       ]
      },
      {
       "output_type": "stream",
       "stream": "stdout",
       "text": [
        "Epoch 65, CIFAR-10 Batch 3:  "
       ]
      },
      {
       "output_type": "stream",
       "stream": "stdout",
       "text": [
        "Loss:     1.1081 Validation Accuracy: 0.536600\n"
       ]
      },
      {
       "output_type": "stream",
       "stream": "stdout",
       "text": [
        "Epoch 65, CIFAR-10 Batch 4:  "
       ]
      },
      {
       "output_type": "stream",
       "stream": "stdout",
       "text": [
        "Loss:     1.3501 Validation Accuracy: 0.430800\n"
       ]
      },
      {
       "output_type": "stream",
       "stream": "stdout",
       "text": [
        "Epoch 65, CIFAR-10 Batch 5:  Loss:     1.3689 Validation Accuracy: 0.480800"
       ]
      },
      {
       "output_type": "stream",
       "stream": "stdout",
       "text": [
        "\n"
       ]
      },
      {
       "output_type": "stream",
       "stream": "stdout",
       "text": [
        "Epoch 66, CIFAR-10 Batch 1:  "
       ]
      },
      {
       "output_type": "stream",
       "stream": "stdout",
       "text": [
        "Loss:     0.9331 Validation Accuracy: 0.556200\n"
       ]
      },
      {
       "output_type": "stream",
       "stream": "stdout",
       "text": [
        "Epoch 66, CIFAR-10 Batch 2:  "
       ]
      },
      {
       "output_type": "stream",
       "stream": "stdout",
       "text": [
        "Loss:     1.2702 Validation Accuracy: 0.528800\n"
       ]
      },
      {
       "output_type": "stream",
       "stream": "stdout",
       "text": [
        "Epoch 66, CIFAR-10 Batch 3:  "
       ]
      },
      {
       "output_type": "stream",
       "stream": "stdout",
       "text": [
        "Loss:     1.3096 Validation Accuracy: 0.478000\n"
       ]
      },
      {
       "output_type": "stream",
       "stream": "stdout",
       "text": [
        "Epoch 66, CIFAR-10 Batch 4:  "
       ]
      },
      {
       "output_type": "stream",
       "stream": "stdout",
       "text": [
        "Loss:     0.8991 Validation Accuracy: 0.545800\n"
       ]
      },
      {
       "output_type": "stream",
       "stream": "stdout",
       "text": [
        "Epoch 66, CIFAR-10 Batch 5:  Loss:     1.0791 Validation Accuracy: 0.527200\n"
       ]
      },
      {
       "output_type": "stream",
       "stream": "stdout",
       "text": [
        "Epoch 67, CIFAR-10 Batch 1:  "
       ]
      },
      {
       "output_type": "stream",
       "stream": "stdout",
       "text": [
        "Loss:     0.9468 Validation Accuracy: 0.568000\n"
       ]
      },
      {
       "output_type": "stream",
       "stream": "stdout",
       "text": [
        "Epoch 67, CIFAR-10 Batch 2:  "
       ]
      },
      {
       "output_type": "stream",
       "stream": "stdout",
       "text": [
        "Loss:     1.2293 Validation Accuracy: 0.557600\n"
       ]
      },
      {
       "output_type": "stream",
       "stream": "stdout",
       "text": [
        "Epoch 67, CIFAR-10 Batch 3:  "
       ]
      },
      {
       "output_type": "stream",
       "stream": "stdout",
       "text": [
        "Loss:     0.9484 Validation Accuracy: 0.536200\n"
       ]
      },
      {
       "output_type": "stream",
       "stream": "stdout",
       "text": [
        "Epoch 67, CIFAR-10 Batch 4:  Loss:     0.9501 Validation Accuracy: 0.541400\n"
       ]
      },
      {
       "output_type": "stream",
       "stream": "stdout",
       "text": [
        "Epoch 67, CIFAR-10 Batch 5:  "
       ]
      },
      {
       "output_type": "stream",
       "stream": "stdout",
       "text": [
        "Loss:     1.3326 Validation Accuracy: 0.528400\n"
       ]
      },
      {
       "output_type": "stream",
       "stream": "stdout",
       "text": [
        "Epoch 68, CIFAR-10 Batch 1:  "
       ]
      },
      {
       "output_type": "stream",
       "stream": "stdout",
       "text": [
        "Loss:     1.0929 Validation Accuracy: 0.567800\n"
       ]
      },
      {
       "output_type": "stream",
       "stream": "stdout",
       "text": [
        "Epoch 68, CIFAR-10 Batch 2:  "
       ]
      },
      {
       "output_type": "stream",
       "stream": "stdout",
       "text": [
        "Loss:     1.2528 Validation Accuracy: 0.555800\n"
       ]
      },
      {
       "output_type": "stream",
       "stream": "stdout",
       "text": [
        "Epoch 68, CIFAR-10 Batch 3:  Loss:     1.0966 Validation Accuracy: 0.532600\n"
       ]
      },
      {
       "output_type": "stream",
       "stream": "stdout",
       "text": [
        "Epoch 68, CIFAR-10 Batch 4:  "
       ]
      },
      {
       "output_type": "stream",
       "stream": "stdout",
       "text": [
        "Loss:     0.8417 Validation Accuracy: 0.494000\n"
       ]
      },
      {
       "output_type": "stream",
       "stream": "stdout",
       "text": [
        "Epoch 68, CIFAR-10 Batch 5:  Loss:     1.4080 Validation Accuracy: 0.500600\n"
       ]
      },
      {
       "output_type": "stream",
       "stream": "stdout",
       "text": [
        "Epoch 69, CIFAR-10 Batch 1:  "
       ]
      },
      {
       "output_type": "stream",
       "stream": "stdout",
       "text": [
        "Loss:     1.0631 Validation Accuracy: 0.558000\n"
       ]
      },
      {
       "output_type": "stream",
       "stream": "stdout",
       "text": [
        "Epoch 69, CIFAR-10 Batch 2:  "
       ]
      },
      {
       "output_type": "stream",
       "stream": "stdout",
       "text": [
        "Loss:     1.1101 Validation Accuracy: 0.526800\n"
       ]
      },
      {
       "output_type": "stream",
       "stream": "stdout",
       "text": [
        "Epoch 69, CIFAR-10 Batch 3:  Loss:     1.0097 Validation Accuracy: 0.525800"
       ]
      },
      {
       "output_type": "stream",
       "stream": "stdout",
       "text": [
        "\n"
       ]
      },
      {
       "output_type": "stream",
       "stream": "stdout",
       "text": [
        "Epoch 69, CIFAR-10 Batch 4:  "
       ]
      },
      {
       "output_type": "stream",
       "stream": "stdout",
       "text": [
        "Loss:     0.8650 Validation Accuracy: 0.548800\n"
       ]
      },
      {
       "output_type": "stream",
       "stream": "stdout",
       "text": [
        "Epoch 69, CIFAR-10 Batch 5:  Loss:     1.3126 Validation Accuracy: 0.502800\n"
       ]
      },
      {
       "output_type": "stream",
       "stream": "stdout",
       "text": [
        "Epoch 70, CIFAR-10 Batch 1:  Loss:     1.1251 Validation Accuracy: 0.557800\n"
       ]
      },
      {
       "output_type": "stream",
       "stream": "stdout",
       "text": [
        "Epoch 70, CIFAR-10 Batch 2:  "
       ]
      },
      {
       "output_type": "stream",
       "stream": "stdout",
       "text": [
        "Loss:     1.1720 Validation Accuracy: 0.530600\n"
       ]
      },
      {
       "output_type": "stream",
       "stream": "stdout",
       "text": [
        "Epoch 70, CIFAR-10 Batch 3:  "
       ]
      },
      {
       "output_type": "stream",
       "stream": "stdout",
       "text": [
        "Loss:     1.0431 Validation Accuracy: 0.563200\n"
       ]
      },
      {
       "output_type": "stream",
       "stream": "stdout",
       "text": [
        "Epoch 70, CIFAR-10 Batch 4:  "
       ]
      },
      {
       "output_type": "stream",
       "stream": "stdout",
       "text": [
        "Loss:     0.9575 Validation Accuracy: 0.527400\n"
       ]
      },
      {
       "output_type": "stream",
       "stream": "stdout",
       "text": [
        "Epoch 70, CIFAR-10 Batch 5:  Loss:     1.1554 Validation Accuracy: 0.513800\n"
       ]
      },
      {
       "output_type": "stream",
       "stream": "stdout",
       "text": [
        "Epoch 71, CIFAR-10 Batch 1:  Loss:     1.0863 Validation Accuracy: 0.563800"
       ]
      },
      {
       "output_type": "stream",
       "stream": "stdout",
       "text": [
        "\n"
       ]
      },
      {
       "output_type": "stream",
       "stream": "stdout",
       "text": [
        "Epoch 71, CIFAR-10 Batch 2:  "
       ]
      },
      {
       "output_type": "stream",
       "stream": "stdout",
       "text": [
        "Loss:     1.0459 Validation Accuracy: 0.575200\n"
       ]
      },
      {
       "output_type": "stream",
       "stream": "stdout",
       "text": [
        "Epoch 71, CIFAR-10 Batch 3:  "
       ]
      },
      {
       "output_type": "stream",
       "stream": "stdout",
       "text": [
        "Loss:     0.9781 Validation Accuracy: 0.527000\n"
       ]
      },
      {
       "output_type": "stream",
       "stream": "stdout",
       "text": [
        "Epoch 71, CIFAR-10 Batch 4:  "
       ]
      },
      {
       "output_type": "stream",
       "stream": "stdout",
       "text": [
        "Loss:     0.9643 Validation Accuracy: 0.576400\n"
       ]
      },
      {
       "output_type": "stream",
       "stream": "stdout",
       "text": [
        "Epoch 71, CIFAR-10 Batch 5:  "
       ]
      },
      {
       "output_type": "stream",
       "stream": "stdout",
       "text": [
        "Loss:     1.2561 Validation Accuracy: 0.516000\n"
       ]
      },
      {
       "output_type": "stream",
       "stream": "stdout",
       "text": [
        "Epoch 72, CIFAR-10 Batch 1:  Loss:     0.9640 Validation Accuracy: 0.559400\n"
       ]
      },
      {
       "output_type": "stream",
       "stream": "stdout",
       "text": [
        "Epoch 72, CIFAR-10 Batch 2:  "
       ]
      },
      {
       "output_type": "stream",
       "stream": "stdout",
       "text": [
        "Loss:     1.3608 Validation Accuracy: 0.494600\n"
       ]
      },
      {
       "output_type": "stream",
       "stream": "stdout",
       "text": [
        "Epoch 72, CIFAR-10 Batch 3:  "
       ]
      },
      {
       "output_type": "stream",
       "stream": "stdout",
       "text": [
        "Loss:     1.0654 Validation Accuracy: 0.534800\n"
       ]
      },
      {
       "output_type": "stream",
       "stream": "stdout",
       "text": [
        "Epoch 72, CIFAR-10 Batch 4:  "
       ]
      },
      {
       "output_type": "stream",
       "stream": "stdout",
       "text": [
        "Loss:     0.8522 Validation Accuracy: 0.545200\n"
       ]
      },
      {
       "output_type": "stream",
       "stream": "stdout",
       "text": [
        "Epoch 72, CIFAR-10 Batch 5:  "
       ]
      },
      {
       "output_type": "stream",
       "stream": "stdout",
       "text": [
        "Loss:     1.2749 Validation Accuracy: 0.528800\n"
       ]
      },
      {
       "output_type": "stream",
       "stream": "stdout",
       "text": [
        "Epoch 73, CIFAR-10 Batch 1:  "
       ]
      },
      {
       "output_type": "stream",
       "stream": "stdout",
       "text": [
        "Loss:     1.1622 Validation Accuracy: 0.554000\n"
       ]
      },
      {
       "output_type": "stream",
       "stream": "stdout",
       "text": [
        "Epoch 73, CIFAR-10 Batch 2:  "
       ]
      },
      {
       "output_type": "stream",
       "stream": "stdout",
       "text": [
        "Loss:     1.2102 Validation Accuracy: 0.537600\n"
       ]
      },
      {
       "output_type": "stream",
       "stream": "stdout",
       "text": [
        "Epoch 73, CIFAR-10 Batch 3:  "
       ]
      },
      {
       "output_type": "stream",
       "stream": "stdout",
       "text": [
        "Loss:     1.0132 Validation Accuracy: 0.520400\n"
       ]
      },
      {
       "output_type": "stream",
       "stream": "stdout",
       "text": [
        "Epoch 73, CIFAR-10 Batch 4:  "
       ]
      },
      {
       "output_type": "stream",
       "stream": "stdout",
       "text": [
        "Loss:     0.9231 Validation Accuracy: 0.550200\n"
       ]
      },
      {
       "output_type": "stream",
       "stream": "stdout",
       "text": [
        "Epoch 73, CIFAR-10 Batch 5:  "
       ]
      },
      {
       "output_type": "stream",
       "stream": "stdout",
       "text": [
        "Loss:     1.4679 Validation Accuracy: 0.506400\n"
       ]
      },
      {
       "output_type": "stream",
       "stream": "stdout",
       "text": [
        "Epoch 74, CIFAR-10 Batch 1:  "
       ]
      },
      {
       "output_type": "stream",
       "stream": "stdout",
       "text": [
        "Loss:     1.0128 Validation Accuracy: 0.556400\n"
       ]
      },
      {
       "output_type": "stream",
       "stream": "stdout",
       "text": [
        "Epoch 74, CIFAR-10 Batch 2:  "
       ]
      },
      {
       "output_type": "stream",
       "stream": "stdout",
       "text": [
        "Loss:     1.7241 Validation Accuracy: 0.474400\n"
       ]
      },
      {
       "output_type": "stream",
       "stream": "stdout",
       "text": [
        "Epoch 74, CIFAR-10 Batch 3:  "
       ]
      },
      {
       "output_type": "stream",
       "stream": "stdout",
       "text": [
        "Loss:     1.1173 Validation Accuracy: 0.568600\n"
       ]
      },
      {
       "output_type": "stream",
       "stream": "stdout",
       "text": [
        "Epoch 74, CIFAR-10 Batch 4:  "
       ]
      },
      {
       "output_type": "stream",
       "stream": "stdout",
       "text": [
        "Loss:     0.8749 Validation Accuracy: 0.539600\n"
       ]
      },
      {
       "output_type": "stream",
       "stream": "stdout",
       "text": [
        "Epoch 74, CIFAR-10 Batch 5:  "
       ]
      },
      {
       "output_type": "stream",
       "stream": "stdout",
       "text": [
        "Loss:     1.4384 Validation Accuracy: 0.493800\n"
       ]
      },
      {
       "output_type": "stream",
       "stream": "stdout",
       "text": [
        "Epoch 75, CIFAR-10 Batch 1:  Loss:     1.0313 Validation Accuracy: 0.540400\n"
       ]
      },
      {
       "output_type": "stream",
       "stream": "stdout",
       "text": [
        "Epoch 75, CIFAR-10 Batch 2:  Loss:     1.1986 Validation Accuracy: 0.566400\n"
       ]
      },
      {
       "output_type": "stream",
       "stream": "stdout",
       "text": [
        "Epoch 75, CIFAR-10 Batch 3:  "
       ]
      },
      {
       "output_type": "stream",
       "stream": "stdout",
       "text": [
        "Loss:     0.9720 Validation Accuracy: 0.566400\n"
       ]
      },
      {
       "output_type": "stream",
       "stream": "stdout",
       "text": [
        "Epoch 75, CIFAR-10 Batch 4:  "
       ]
      },
      {
       "output_type": "stream",
       "stream": "stdout",
       "text": [
        "Loss:     0.8291 Validation Accuracy: 0.570000\n"
       ]
      },
      {
       "output_type": "stream",
       "stream": "stdout",
       "text": [
        "Epoch 75, CIFAR-10 Batch 5:  "
       ]
      },
      {
       "output_type": "stream",
       "stream": "stdout",
       "text": [
        "Loss:     1.1970 Validation Accuracy: 0.526600\n"
       ]
      },
      {
       "output_type": "stream",
       "stream": "stdout",
       "text": [
        "Epoch 76, CIFAR-10 Batch 1:  "
       ]
      },
      {
       "output_type": "stream",
       "stream": "stdout",
       "text": [
        "Loss:     1.1567 Validation Accuracy: 0.553600\n"
       ]
      },
      {
       "output_type": "stream",
       "stream": "stdout",
       "text": [
        "Epoch 76, CIFAR-10 Batch 2:  "
       ]
      },
      {
       "output_type": "stream",
       "stream": "stdout",
       "text": [
        "Loss:     1.0748 Validation Accuracy: 0.556200\n"
       ]
      },
      {
       "output_type": "stream",
       "stream": "stdout",
       "text": [
        "Epoch 76, CIFAR-10 Batch 3:  "
       ]
      },
      {
       "output_type": "stream",
       "stream": "stdout",
       "text": [
        "Loss:     1.1198 Validation Accuracy: 0.561200\n"
       ]
      },
      {
       "output_type": "stream",
       "stream": "stdout",
       "text": [
        "Epoch 76, CIFAR-10 Batch 4:  "
       ]
      },
      {
       "output_type": "stream",
       "stream": "stdout",
       "text": [
        "Loss:     0.8999 Validation Accuracy: 0.553200\n"
       ]
      },
      {
       "output_type": "stream",
       "stream": "stdout",
       "text": [
        "Epoch 76, CIFAR-10 Batch 5:  "
       ]
      },
      {
       "output_type": "stream",
       "stream": "stdout",
       "text": [
        "Loss:     1.2012 Validation Accuracy: 0.552200\n"
       ]
      },
      {
       "output_type": "stream",
       "stream": "stdout",
       "text": [
        "Epoch 77, CIFAR-10 Batch 1:  Loss:     1.0199 Validation Accuracy: 0.566200\n"
       ]
      },
      {
       "output_type": "stream",
       "stream": "stdout",
       "text": [
        "Epoch 77, CIFAR-10 Batch 2:  "
       ]
      },
      {
       "output_type": "stream",
       "stream": "stdout",
       "text": [
        "Loss:     1.1165 Validation Accuracy: 0.530200\n"
       ]
      },
      {
       "output_type": "stream",
       "stream": "stdout",
       "text": [
        "Epoch 77, CIFAR-10 Batch 3:  "
       ]
      },
      {
       "output_type": "stream",
       "stream": "stdout",
       "text": [
        "Loss:     1.0536 Validation Accuracy: 0.538200\n"
       ]
      },
      {
       "output_type": "stream",
       "stream": "stdout",
       "text": [
        "Epoch 77, CIFAR-10 Batch 4:  "
       ]
      },
      {
       "output_type": "stream",
       "stream": "stdout",
       "text": [
        "Loss:     1.1239 Validation Accuracy: 0.499000\n"
       ]
      },
      {
       "output_type": "stream",
       "stream": "stdout",
       "text": [
        "Epoch 77, CIFAR-10 Batch 5:  "
       ]
      },
      {
       "output_type": "stream",
       "stream": "stdout",
       "text": [
        "Loss:     1.2500 Validation Accuracy: 0.508200\n"
       ]
      },
      {
       "output_type": "stream",
       "stream": "stdout",
       "text": [
        "Epoch 78, CIFAR-10 Batch 1:  "
       ]
      },
      {
       "output_type": "stream",
       "stream": "stdout",
       "text": [
        "Loss:     0.9261 Validation Accuracy: 0.535800\n"
       ]
      },
      {
       "output_type": "stream",
       "stream": "stdout",
       "text": [
        "Epoch 78, CIFAR-10 Batch 2:  "
       ]
      },
      {
       "output_type": "stream",
       "stream": "stdout",
       "text": [
        "Loss:     1.1400 Validation Accuracy: 0.582400\n"
       ]
      },
      {
       "output_type": "stream",
       "stream": "stdout",
       "text": [
        "Epoch 78, CIFAR-10 Batch 3:  Loss:     0.9315 Validation Accuracy: 0.572600\n"
       ]
      },
      {
       "output_type": "stream",
       "stream": "stdout",
       "text": [
        "Epoch 78, CIFAR-10 Batch 4:  "
       ]
      },
      {
       "output_type": "stream",
       "stream": "stdout",
       "text": [
        "Loss:     0.8789 Validation Accuracy: 0.562000\n"
       ]
      },
      {
       "output_type": "stream",
       "stream": "stdout",
       "text": [
        "Epoch 78, CIFAR-10 Batch 5:  "
       ]
      },
      {
       "output_type": "stream",
       "stream": "stdout",
       "text": [
        "Loss:     1.3652 Validation Accuracy: 0.527800\n"
       ]
      },
      {
       "output_type": "stream",
       "stream": "stdout",
       "text": [
        "Epoch 79, CIFAR-10 Batch 1:  "
       ]
      },
      {
       "output_type": "stream",
       "stream": "stdout",
       "text": [
        "Loss:     0.9140 Validation Accuracy: 0.566800\n"
       ]
      },
      {
       "output_type": "stream",
       "stream": "stdout",
       "text": [
        "Epoch 79, CIFAR-10 Batch 2:  Loss:     1.5497 Validation Accuracy: 0.453200\n"
       ]
      },
      {
       "output_type": "stream",
       "stream": "stdout",
       "text": [
        "Epoch 79, CIFAR-10 Batch 3:  "
       ]
      },
      {
       "output_type": "stream",
       "stream": "stdout",
       "text": [
        "Loss:     0.9546 Validation Accuracy: 0.564800\n"
       ]
      },
      {
       "output_type": "stream",
       "stream": "stdout",
       "text": [
        "Epoch 79, CIFAR-10 Batch 4:  Loss:     0.8817 Validation Accuracy: 0.567600\n"
       ]
      },
      {
       "output_type": "stream",
       "stream": "stdout",
       "text": [
        "Epoch 79, CIFAR-10 Batch 5:  "
       ]
      },
      {
       "output_type": "stream",
       "stream": "stdout",
       "text": [
        "Loss:     1.3742 Validation Accuracy: 0.530400\n"
       ]
      },
      {
       "output_type": "stream",
       "stream": "stdout",
       "text": [
        "Epoch 80, CIFAR-10 Batch 1:  "
       ]
      },
      {
       "output_type": "stream",
       "stream": "stdout",
       "text": [
        "Loss:     0.8251 Validation Accuracy: 0.577000\n"
       ]
      },
      {
       "output_type": "stream",
       "stream": "stdout",
       "text": [
        "Epoch 80, CIFAR-10 Batch 2:  Loss:     1.2645 Validation Accuracy: 0.542800\n"
       ]
      },
      {
       "output_type": "stream",
       "stream": "stdout",
       "text": [
        "Epoch 80, CIFAR-10 Batch 3:  Loss:     0.9017 Validation Accuracy: 0.574000\n"
       ]
      },
      {
       "output_type": "stream",
       "stream": "stdout",
       "text": [
        "Epoch 80, CIFAR-10 Batch 4:  Loss:     1.1141 Validation Accuracy: 0.511400\n"
       ]
      },
      {
       "output_type": "stream",
       "stream": "stdout",
       "text": [
        "Epoch 80, CIFAR-10 Batch 5:  "
       ]
      },
      {
       "output_type": "stream",
       "stream": "stdout",
       "text": [
        "Loss:     1.1524 Validation Accuracy: 0.552800\n"
       ]
      },
      {
       "output_type": "stream",
       "stream": "stdout",
       "text": [
        "Epoch 81, CIFAR-10 Batch 1:  Loss:     0.9045 Validation Accuracy: 0.573800\n"
       ]
      },
      {
       "output_type": "stream",
       "stream": "stdout",
       "text": [
        "Epoch 81, CIFAR-10 Batch 2:  "
       ]
      },
      {
       "output_type": "stream",
       "stream": "stdout",
       "text": [
        "Loss:     1.1093 Validation Accuracy: 0.546000\n"
       ]
      },
      {
       "output_type": "stream",
       "stream": "stdout",
       "text": [
        "Epoch 81, CIFAR-10 Batch 3:  "
       ]
      },
      {
       "output_type": "stream",
       "stream": "stdout",
       "text": [
        "Loss:     0.9653 Validation Accuracy: 0.576200\n"
       ]
      },
      {
       "output_type": "stream",
       "stream": "stdout",
       "text": [
        "Epoch 81, CIFAR-10 Batch 4:  "
       ]
      },
      {
       "output_type": "stream",
       "stream": "stdout",
       "text": [
        "Loss:     0.8886 Validation Accuracy: 0.576200\n"
       ]
      },
      {
       "output_type": "stream",
       "stream": "stdout",
       "text": [
        "Epoch 81, CIFAR-10 Batch 5:  "
       ]
      },
      {
       "output_type": "stream",
       "stream": "stdout",
       "text": [
        "Loss:     1.2472 Validation Accuracy: 0.496600\n"
       ]
      },
      {
       "output_type": "stream",
       "stream": "stdout",
       "text": [
        "Epoch 82, CIFAR-10 Batch 1:  "
       ]
      },
      {
       "output_type": "stream",
       "stream": "stdout",
       "text": [
        "Loss:     0.8670 Validation Accuracy: 0.570400\n"
       ]
      },
      {
       "output_type": "stream",
       "stream": "stdout",
       "text": [
        "Epoch 82, CIFAR-10 Batch 2:  "
       ]
      },
      {
       "output_type": "stream",
       "stream": "stdout",
       "text": [
        "Loss:     1.3127 Validation Accuracy: 0.520800\n"
       ]
      },
      {
       "output_type": "stream",
       "stream": "stdout",
       "text": [
        "Epoch 82, CIFAR-10 Batch 3:  Loss:     1.0374 Validation Accuracy: 0.530200"
       ]
      },
      {
       "output_type": "stream",
       "stream": "stdout",
       "text": [
        "\n"
       ]
      },
      {
       "output_type": "stream",
       "stream": "stdout",
       "text": [
        "Epoch 82, CIFAR-10 Batch 4:  Loss:     0.8906 Validation Accuracy: 0.528000\n"
       ]
      },
      {
       "output_type": "stream",
       "stream": "stdout",
       "text": [
        "Epoch 82, CIFAR-10 Batch 5:  "
       ]
      },
      {
       "output_type": "stream",
       "stream": "stdout",
       "text": [
        "Loss:     1.2327 Validation Accuracy: 0.514000\n"
       ]
      },
      {
       "output_type": "stream",
       "stream": "stdout",
       "text": [
        "Epoch 83, CIFAR-10 Batch 1:  Loss:     0.8137 Validation Accuracy: 0.567000\n"
       ]
      },
      {
       "output_type": "stream",
       "stream": "stdout",
       "text": [
        "Epoch 83, CIFAR-10 Batch 2:  Loss:     1.1797 Validation Accuracy: 0.551200\n"
       ]
      },
      {
       "output_type": "stream",
       "stream": "stdout",
       "text": [
        "Epoch 83, CIFAR-10 Batch 3:  "
       ]
      },
      {
       "output_type": "stream",
       "stream": "stdout",
       "text": [
        "Loss:     1.0097 Validation Accuracy: 0.537800\n"
       ]
      },
      {
       "output_type": "stream",
       "stream": "stdout",
       "text": [
        "Epoch 83, CIFAR-10 Batch 4:  "
       ]
      },
      {
       "output_type": "stream",
       "stream": "stdout",
       "text": [
        "Loss:     0.8114 Validation Accuracy: 0.569200\n"
       ]
      },
      {
       "output_type": "stream",
       "stream": "stdout",
       "text": [
        "Epoch 83, CIFAR-10 Batch 5:  "
       ]
      },
      {
       "output_type": "stream",
       "stream": "stdout",
       "text": [
        "Loss:     1.2080 Validation Accuracy: 0.553800\n"
       ]
      },
      {
       "output_type": "stream",
       "stream": "stdout",
       "text": [
        "Epoch 84, CIFAR-10 Batch 1:  "
       ]
      },
      {
       "output_type": "stream",
       "stream": "stdout",
       "text": [
        "Loss:     0.6538 Validation Accuracy: 0.581600\n"
       ]
      },
      {
       "output_type": "stream",
       "stream": "stdout",
       "text": [
        "Epoch 84, CIFAR-10 Batch 2:  Loss:     1.3300 Validation Accuracy: 0.493200\n"
       ]
      },
      {
       "output_type": "stream",
       "stream": "stdout",
       "text": [
        "Epoch 84, CIFAR-10 Batch 3:  "
       ]
      },
      {
       "output_type": "stream",
       "stream": "stdout",
       "text": [
        "Loss:     0.9739 Validation Accuracy: 0.571600\n"
       ]
      },
      {
       "output_type": "stream",
       "stream": "stdout",
       "text": [
        "Epoch 84, CIFAR-10 Batch 4:  Loss:     0.8314 Validation Accuracy: 0.579000\n"
       ]
      },
      {
       "output_type": "stream",
       "stream": "stdout",
       "text": [
        "Epoch 84, CIFAR-10 Batch 5:  Loss:     1.1314 Validation Accuracy: 0.517000\n"
       ]
      },
      {
       "output_type": "stream",
       "stream": "stdout",
       "text": [
        "Epoch 85, CIFAR-10 Batch 1:  "
       ]
      },
      {
       "output_type": "stream",
       "stream": "stdout",
       "text": [
        "Loss:     0.7493 Validation Accuracy: 0.568400\n"
       ]
      },
      {
       "output_type": "stream",
       "stream": "stdout",
       "text": [
        "Epoch 85, CIFAR-10 Batch 2:  "
       ]
      },
      {
       "output_type": "stream",
       "stream": "stdout",
       "text": [
        "Loss:     1.0540 Validation Accuracy: 0.561200\n"
       ]
      },
      {
       "output_type": "stream",
       "stream": "stdout",
       "text": [
        "Epoch 85, CIFAR-10 Batch 3:  "
       ]
      },
      {
       "output_type": "stream",
       "stream": "stdout",
       "text": [
        "Loss:     0.9644 Validation Accuracy: 0.535200\n"
       ]
      },
      {
       "output_type": "stream",
       "stream": "stdout",
       "text": [
        "Epoch 85, CIFAR-10 Batch 4:  "
       ]
      },
      {
       "output_type": "stream",
       "stream": "stdout",
       "text": [
        "Loss:     0.8239 Validation Accuracy: 0.569400\n"
       ]
      },
      {
       "output_type": "stream",
       "stream": "stdout",
       "text": [
        "Epoch 85, CIFAR-10 Batch 5:  "
       ]
      },
      {
       "output_type": "stream",
       "stream": "stdout",
       "text": [
        "Loss:     1.3569 Validation Accuracy: 0.502000\n"
       ]
      },
      {
       "output_type": "stream",
       "stream": "stdout",
       "text": [
        "Epoch 86, CIFAR-10 Batch 1:  "
       ]
      },
      {
       "output_type": "stream",
       "stream": "stdout",
       "text": [
        "Loss:     0.8552 Validation Accuracy: 0.570800\n"
       ]
      },
      {
       "output_type": "stream",
       "stream": "stdout",
       "text": [
        "Epoch 86, CIFAR-10 Batch 2:  "
       ]
      },
      {
       "output_type": "stream",
       "stream": "stdout",
       "text": [
        "Loss:     1.2504 Validation Accuracy: 0.556800\n"
       ]
      },
      {
       "output_type": "stream",
       "stream": "stdout",
       "text": [
        "Epoch 86, CIFAR-10 Batch 3:  "
       ]
      },
      {
       "output_type": "stream",
       "stream": "stdout",
       "text": [
        "Loss:     0.9394 Validation Accuracy: 0.582600\n"
       ]
      },
      {
       "output_type": "stream",
       "stream": "stdout",
       "text": [
        "Epoch 86, CIFAR-10 Batch 4:  "
       ]
      },
      {
       "output_type": "stream",
       "stream": "stdout",
       "text": [
        "Loss:     0.7593 Validation Accuracy: 0.602600\n"
       ]
      },
      {
       "output_type": "stream",
       "stream": "stdout",
       "text": [
        "Epoch 86, CIFAR-10 Batch 5:  "
       ]
      },
      {
       "output_type": "stream",
       "stream": "stdout",
       "text": [
        "Loss:     1.2408 Validation Accuracy: 0.511600\n"
       ]
      },
      {
       "output_type": "stream",
       "stream": "stdout",
       "text": [
        "Epoch 87, CIFAR-10 Batch 1:  "
       ]
      },
      {
       "output_type": "stream",
       "stream": "stdout",
       "text": [
        "Loss:     0.7975 Validation Accuracy: 0.585400\n"
       ]
      },
      {
       "output_type": "stream",
       "stream": "stdout",
       "text": [
        "Epoch 87, CIFAR-10 Batch 2:  "
       ]
      },
      {
       "output_type": "stream",
       "stream": "stdout",
       "text": [
        "Loss:     1.1679 Validation Accuracy: 0.574800\n",
        "Epoch 87, CIFAR-10 Batch 3:  "
       ]
      },
      {
       "output_type": "stream",
       "stream": "stdout",
       "text": [
        "Loss:     1.0849 Validation Accuracy: 0.535200\n"
       ]
      },
      {
       "output_type": "stream",
       "stream": "stdout",
       "text": [
        "Epoch 87, CIFAR-10 Batch 4:  Loss:     0.8121 Validation Accuracy: 0.561000\n"
       ]
      },
      {
       "output_type": "stream",
       "stream": "stdout",
       "text": [
        "Epoch 87, CIFAR-10 Batch 5:  "
       ]
      },
      {
       "output_type": "stream",
       "stream": "stdout",
       "text": [
        "Loss:     1.1834 Validation Accuracy: 0.534400\n"
       ]
      },
      {
       "output_type": "stream",
       "stream": "stdout",
       "text": [
        "Epoch 88, CIFAR-10 Batch 1:  "
       ]
      },
      {
       "output_type": "stream",
       "stream": "stdout",
       "text": [
        "Loss:     0.9171 Validation Accuracy: 0.510800\n"
       ]
      },
      {
       "output_type": "stream",
       "stream": "stdout",
       "text": [
        "Epoch 88, CIFAR-10 Batch 2:  "
       ]
      },
      {
       "output_type": "stream",
       "stream": "stdout",
       "text": [
        "Loss:     1.4820 Validation Accuracy: 0.513400\n"
       ]
      },
      {
       "output_type": "stream",
       "stream": "stdout",
       "text": [
        "Epoch 88, CIFAR-10 Batch 3:  "
       ]
      },
      {
       "output_type": "stream",
       "stream": "stdout",
       "text": [
        "Loss:     1.0367 Validation Accuracy: 0.555200\n"
       ]
      },
      {
       "output_type": "stream",
       "stream": "stdout",
       "text": [
        "Epoch 88, CIFAR-10 Batch 4:  "
       ]
      },
      {
       "output_type": "stream",
       "stream": "stdout",
       "text": [
        "Loss:     0.8117 Validation Accuracy: 0.575000\n"
       ]
      },
      {
       "output_type": "stream",
       "stream": "stdout",
       "text": [
        "Epoch 88, CIFAR-10 Batch 5:  "
       ]
      },
      {
       "output_type": "stream",
       "stream": "stdout",
       "text": [
        "Loss:     1.2585 Validation Accuracy: 0.489800\n"
       ]
      },
      {
       "output_type": "stream",
       "stream": "stdout",
       "text": [
        "Epoch 89, CIFAR-10 Batch 1:  "
       ]
      },
      {
       "output_type": "stream",
       "stream": "stdout",
       "text": [
        "Loss:     0.7759 Validation Accuracy: 0.583200\n"
       ]
      },
      {
       "output_type": "stream",
       "stream": "stdout",
       "text": [
        "Epoch 89, CIFAR-10 Batch 2:  Loss:     1.2600 Validation Accuracy: 0.523600"
       ]
      },
      {
       "output_type": "stream",
       "stream": "stdout",
       "text": [
        "\n"
       ]
      },
      {
       "output_type": "stream",
       "stream": "stdout",
       "text": [
        "Epoch 89, CIFAR-10 Batch 3:  "
       ]
      },
      {
       "output_type": "stream",
       "stream": "stdout",
       "text": [
        "Loss:     1.0686 Validation Accuracy: 0.529000\n"
       ]
      },
      {
       "output_type": "stream",
       "stream": "stdout",
       "text": [
        "Epoch 89, CIFAR-10 Batch 4:  Loss:     0.7452 Validation Accuracy: 0.563200\n"
       ]
      },
      {
       "output_type": "stream",
       "stream": "stdout",
       "text": [
        "Epoch 89, CIFAR-10 Batch 5:  Loss:     1.3612 Validation Accuracy: 0.488400"
       ]
      },
      {
       "output_type": "stream",
       "stream": "stdout",
       "text": [
        "\n"
       ]
      },
      {
       "output_type": "stream",
       "stream": "stdout",
       "text": [
        "Epoch 90, CIFAR-10 Batch 1:  "
       ]
      },
      {
       "output_type": "stream",
       "stream": "stdout",
       "text": [
        "Loss:     0.7323 Validation Accuracy: 0.564200\n"
       ]
      },
      {
       "output_type": "stream",
       "stream": "stdout",
       "text": [
        "Epoch 90, CIFAR-10 Batch 2:  "
       ]
      },
      {
       "output_type": "stream",
       "stream": "stdout",
       "text": [
        "Loss:     1.0651 Validation Accuracy: 0.599200\n"
       ]
      },
      {
       "output_type": "stream",
       "stream": "stdout",
       "text": [
        "Epoch 90, CIFAR-10 Batch 3:  "
       ]
      },
      {
       "output_type": "stream",
       "stream": "stdout",
       "text": [
        "Loss:     0.8659 Validation Accuracy: 0.566000\n"
       ]
      },
      {
       "output_type": "stream",
       "stream": "stdout",
       "text": [
        "Epoch 90, CIFAR-10 Batch 4:  Loss:     0.8199 Validation Accuracy: 0.538200"
       ]
      },
      {
       "output_type": "stream",
       "stream": "stdout",
       "text": [
        "\n"
       ]
      },
      {
       "output_type": "stream",
       "stream": "stdout",
       "text": [
        "Epoch 90, CIFAR-10 Batch 5:  "
       ]
      },
      {
       "output_type": "stream",
       "stream": "stdout",
       "text": [
        "Loss:     1.2768 Validation Accuracy: 0.553800\n"
       ]
      },
      {
       "output_type": "stream",
       "stream": "stdout",
       "text": [
        "Epoch 91, CIFAR-10 Batch 1:  "
       ]
      },
      {
       "output_type": "stream",
       "stream": "stdout",
       "text": [
        "Loss:     0.7724 Validation Accuracy: 0.600000\n"
       ]
      },
      {
       "output_type": "stream",
       "stream": "stdout",
       "text": [
        "Epoch 91, CIFAR-10 Batch 2:  "
       ]
      },
      {
       "output_type": "stream",
       "stream": "stdout",
       "text": [
        "Loss:     1.2105 Validation Accuracy: 0.539000\n"
       ]
      },
      {
       "output_type": "stream",
       "stream": "stdout",
       "text": [
        "Epoch 91, CIFAR-10 Batch 3:  Loss:     1.0801 Validation Accuracy: 0.544400\n"
       ]
      },
      {
       "output_type": "stream",
       "stream": "stdout",
       "text": [
        "Epoch 91, CIFAR-10 Batch 4:  "
       ]
      },
      {
       "output_type": "stream",
       "stream": "stdout",
       "text": [
        "Loss:     0.6791 Validation Accuracy: 0.587000\n"
       ]
      },
      {
       "output_type": "stream",
       "stream": "stdout",
       "text": [
        "Epoch 91, CIFAR-10 Batch 5:  Loss:     1.2099 Validation Accuracy: 0.507200\n"
       ]
      },
      {
       "output_type": "stream",
       "stream": "stdout",
       "text": [
        "Epoch 92, CIFAR-10 Batch 1:  "
       ]
      },
      {
       "output_type": "stream",
       "stream": "stdout",
       "text": [
        "Loss:     0.7996 Validation Accuracy: 0.582000\n"
       ]
      },
      {
       "output_type": "stream",
       "stream": "stdout",
       "text": [
        "Epoch 92, CIFAR-10 Batch 2:  Loss:     1.1274 Validation Accuracy: 0.561400\n"
       ]
      },
      {
       "output_type": "stream",
       "stream": "stdout",
       "text": [
        "Epoch 92, CIFAR-10 Batch 3:  "
       ]
      },
      {
       "output_type": "stream",
       "stream": "stdout",
       "text": [
        "Loss:     1.1459 Validation Accuracy: 0.570200\n"
       ]
      },
      {
       "output_type": "stream",
       "stream": "stdout",
       "text": [
        "Epoch 92, CIFAR-10 Batch 4:  "
       ]
      },
      {
       "output_type": "stream",
       "stream": "stdout",
       "text": [
        "Loss:     0.6776 Validation Accuracy: 0.557000\n"
       ]
      },
      {
       "output_type": "stream",
       "stream": "stdout",
       "text": [
        "Epoch 92, CIFAR-10 Batch 5:  Loss:     1.4321 Validation Accuracy: 0.506000"
       ]
      },
      {
       "output_type": "stream",
       "stream": "stdout",
       "text": [
        "\n"
       ]
      },
      {
       "output_type": "stream",
       "stream": "stdout",
       "text": [
        "Epoch 93, CIFAR-10 Batch 1:  "
       ]
      },
      {
       "output_type": "stream",
       "stream": "stdout",
       "text": [
        "Loss:     0.9691 Validation Accuracy: 0.563800\n"
       ]
      },
      {
       "output_type": "stream",
       "stream": "stdout",
       "text": [
        "Epoch 93, CIFAR-10 Batch 2:  "
       ]
      },
      {
       "output_type": "stream",
       "stream": "stdout",
       "text": [
        "Loss:     1.0950 Validation Accuracy: 0.586200\n"
       ]
      },
      {
       "output_type": "stream",
       "stream": "stdout",
       "text": [
        "Epoch 93, CIFAR-10 Batch 3:  "
       ]
      },
      {
       "output_type": "stream",
       "stream": "stdout",
       "text": [
        "Loss:     0.9454 Validation Accuracy: 0.588200\n"
       ]
      },
      {
       "output_type": "stream",
       "stream": "stdout",
       "text": [
        "Epoch 93, CIFAR-10 Batch 4:  "
       ]
      },
      {
       "output_type": "stream",
       "stream": "stdout",
       "text": [
        "Loss:     0.7342 Validation Accuracy: 0.582800\n"
       ]
      },
      {
       "output_type": "stream",
       "stream": "stdout",
       "text": [
        "Epoch 93, CIFAR-10 Batch 5:  "
       ]
      },
      {
       "output_type": "stream",
       "stream": "stdout",
       "text": [
        "Loss:     1.3331 Validation Accuracy: 0.486400\n"
       ]
      },
      {
       "output_type": "stream",
       "stream": "stdout",
       "text": [
        "Epoch 94, CIFAR-10 Batch 1:  Loss:     0.9659 Validation Accuracy: 0.556600\n"
       ]
      },
      {
       "output_type": "stream",
       "stream": "stdout",
       "text": [
        "Epoch 94, CIFAR-10 Batch 2:  "
       ]
      },
      {
       "output_type": "stream",
       "stream": "stdout",
       "text": [
        "Loss:     1.2333 Validation Accuracy: 0.545600\n"
       ]
      },
      {
       "output_type": "stream",
       "stream": "stdout",
       "text": [
        "Epoch 94, CIFAR-10 Batch 3:  "
       ]
      },
      {
       "output_type": "stream",
       "stream": "stdout",
       "text": [
        "Loss:     1.1558 Validation Accuracy: 0.550200\n"
       ]
      },
      {
       "output_type": "stream",
       "stream": "stdout",
       "text": [
        "Epoch 94, CIFAR-10 Batch 4:  "
       ]
      },
      {
       "output_type": "stream",
       "stream": "stdout",
       "text": [
        "Loss:     0.7494 Validation Accuracy: 0.582200\n"
       ]
      },
      {
       "output_type": "stream",
       "stream": "stdout",
       "text": [
        "Epoch 94, CIFAR-10 Batch 5:  "
       ]
      },
      {
       "output_type": "stream",
       "stream": "stdout",
       "text": [
        "Loss:     1.1274 Validation Accuracy: 0.555000\n"
       ]
      },
      {
       "output_type": "stream",
       "stream": "stdout",
       "text": [
        "Epoch 95, CIFAR-10 Batch 1:  "
       ]
      },
      {
       "output_type": "stream",
       "stream": "stdout",
       "text": [
        "Loss:     0.9681 Validation Accuracy: 0.567000\n"
       ]
      },
      {
       "output_type": "stream",
       "stream": "stdout",
       "text": [
        "Epoch 95, CIFAR-10 Batch 2:  Loss:     1.1744 Validation Accuracy: 0.561200\n"
       ]
      },
      {
       "output_type": "stream",
       "stream": "stdout",
       "text": [
        "Epoch 95, CIFAR-10 Batch 3:  "
       ]
      },
      {
       "output_type": "stream",
       "stream": "stdout",
       "text": [
        "Loss:     1.3100 Validation Accuracy: 0.506400\n"
       ]
      },
      {
       "output_type": "stream",
       "stream": "stdout",
       "text": [
        "Epoch 95, CIFAR-10 Batch 4:  "
       ]
      },
      {
       "output_type": "stream",
       "stream": "stdout",
       "text": [
        "Loss:     0.7233 Validation Accuracy: 0.557600\n"
       ]
      },
      {
       "output_type": "stream",
       "stream": "stdout",
       "text": [
        "Epoch 95, CIFAR-10 Batch 5:  "
       ]
      },
      {
       "output_type": "stream",
       "stream": "stdout",
       "text": [
        "Loss:     1.1753 Validation Accuracy: 0.532400\n"
       ]
      },
      {
       "output_type": "stream",
       "stream": "stdout",
       "text": [
        "Epoch 96, CIFAR-10 Batch 1:  "
       ]
      },
      {
       "output_type": "stream",
       "stream": "stdout",
       "text": [
        "Loss:     0.8117 Validation Accuracy: 0.590600\n"
       ]
      },
      {
       "output_type": "stream",
       "stream": "stdout",
       "text": [
        "Epoch 96, CIFAR-10 Batch 2:  "
       ]
      },
      {
       "output_type": "stream",
       "stream": "stdout",
       "text": [
        "Loss:     1.1848 Validation Accuracy: 0.546800\n"
       ]
      },
      {
       "output_type": "stream",
       "stream": "stdout",
       "text": [
        "Epoch 96, CIFAR-10 Batch 3:  "
       ]
      },
      {
       "output_type": "stream",
       "stream": "stdout",
       "text": [
        "Loss:     1.1678 Validation Accuracy: 0.518400\n"
       ]
      },
      {
       "output_type": "stream",
       "stream": "stdout",
       "text": [
        "Epoch 96, CIFAR-10 Batch 4:  "
       ]
      },
      {
       "output_type": "stream",
       "stream": "stdout",
       "text": [
        "Loss:     0.8676 Validation Accuracy: 0.585400\n"
       ]
      },
      {
       "output_type": "stream",
       "stream": "stdout",
       "text": [
        "Epoch 96, CIFAR-10 Batch 5:  "
       ]
      },
      {
       "output_type": "stream",
       "stream": "stdout",
       "text": [
        "Loss:     1.1970 Validation Accuracy: 0.536400\n"
       ]
      },
      {
       "output_type": "stream",
       "stream": "stdout",
       "text": [
        "Epoch 97, CIFAR-10 Batch 1:  "
       ]
      },
      {
       "output_type": "stream",
       "stream": "stdout",
       "text": [
        "Loss:     0.7987 Validation Accuracy: 0.599000\n"
       ]
      },
      {
       "output_type": "stream",
       "stream": "stdout",
       "text": [
        "Epoch 97, CIFAR-10 Batch 2:  "
       ]
      },
      {
       "output_type": "stream",
       "stream": "stdout",
       "text": [
        "Loss:     1.1785 Validation Accuracy: 0.585600\n"
       ]
      },
      {
       "output_type": "stream",
       "stream": "stdout",
       "text": [
        "Epoch 97, CIFAR-10 Batch 3:  "
       ]
      },
      {
       "output_type": "stream",
       "stream": "stdout",
       "text": [
        "Loss:     1.1558 Validation Accuracy: 0.524600\n"
       ]
      },
      {
       "output_type": "stream",
       "stream": "stdout",
       "text": [
        "Epoch 97, CIFAR-10 Batch 4:  Loss:     0.7449 Validation Accuracy: 0.561400\n"
       ]
      },
      {
       "output_type": "stream",
       "stream": "stdout",
       "text": [
        "Epoch 97, CIFAR-10 Batch 5:  Loss:     1.5152 Validation Accuracy: 0.444600"
       ]
      },
      {
       "output_type": "stream",
       "stream": "stdout",
       "text": [
        "\n"
       ]
      },
      {
       "output_type": "stream",
       "stream": "stdout",
       "text": [
        "Epoch 98, CIFAR-10 Batch 1:  "
       ]
      },
      {
       "output_type": "stream",
       "stream": "stdout",
       "text": [
        "Loss:     0.7028 Validation Accuracy: 0.583800\n"
       ]
      },
      {
       "output_type": "stream",
       "stream": "stdout",
       "text": [
        "Epoch 98, CIFAR-10 Batch 2:  "
       ]
      },
      {
       "output_type": "stream",
       "stream": "stdout",
       "text": [
        "Loss:     1.2909 Validation Accuracy: 0.531800\n"
       ]
      },
      {
       "output_type": "stream",
       "stream": "stdout",
       "text": [
        "Epoch 98, CIFAR-10 Batch 3:  "
       ]
      },
      {
       "output_type": "stream",
       "stream": "stdout",
       "text": [
        "Loss:     0.9261 Validation Accuracy: 0.588400\n"
       ]
      },
      {
       "output_type": "stream",
       "stream": "stdout",
       "text": [
        "Epoch 98, CIFAR-10 Batch 4:  Loss:     0.8024 Validation Accuracy: 0.569800\n"
       ]
      },
      {
       "output_type": "stream",
       "stream": "stdout",
       "text": [
        "Epoch 98, CIFAR-10 Batch 5:  "
       ]
      },
      {
       "output_type": "stream",
       "stream": "stdout",
       "text": [
        "Loss:     1.1752 Validation Accuracy: 0.501200\n"
       ]
      },
      {
       "output_type": "stream",
       "stream": "stdout",
       "text": [
        "Epoch 99, CIFAR-10 Batch 1:  Loss:     0.7722 Validation Accuracy: 0.575400\n"
       ]
      },
      {
       "output_type": "stream",
       "stream": "stdout",
       "text": [
        "Epoch 99, CIFAR-10 Batch 2:  Loss:     1.1189 Validation Accuracy: 0.534000\n"
       ]
      },
      {
       "output_type": "stream",
       "stream": "stdout",
       "text": [
        "Epoch 99, CIFAR-10 Batch 3:  "
       ]
      },
      {
       "output_type": "stream",
       "stream": "stdout",
       "text": [
        "Loss:     0.9436 Validation Accuracy: 0.569000\n"
       ]
      },
      {
       "output_type": "stream",
       "stream": "stdout",
       "text": [
        "Epoch 99, CIFAR-10 Batch 4:  Loss:     0.9333 Validation Accuracy: 0.524600\n"
       ]
      },
      {
       "output_type": "stream",
       "stream": "stdout",
       "text": [
        "Epoch 99, CIFAR-10 Batch 5:  "
       ]
      },
      {
       "output_type": "stream",
       "stream": "stdout",
       "text": [
        "Loss:     1.1927 Validation Accuracy: 0.526000\n"
       ]
      },
      {
       "output_type": "stream",
       "stream": "stdout",
       "text": [
        "Epoch 100, CIFAR-10 Batch 1:  "
       ]
      },
      {
       "output_type": "stream",
       "stream": "stdout",
       "text": [
        "Loss:     0.7387 Validation Accuracy: 0.588400\n"
       ]
      },
      {
       "output_type": "stream",
       "stream": "stdout",
       "text": [
        "Epoch 100, CIFAR-10 Batch 2:  "
       ]
      },
      {
       "output_type": "stream",
       "stream": "stdout",
       "text": [
        "Loss:     1.2891 Validation Accuracy: 0.534400\n"
       ]
      },
      {
       "output_type": "stream",
       "stream": "stdout",
       "text": [
        "Epoch 100, CIFAR-10 Batch 3:  "
       ]
      },
      {
       "output_type": "stream",
       "stream": "stdout",
       "text": [
        "Loss:     0.9255 Validation Accuracy: 0.566800\n"
       ]
      },
      {
       "output_type": "stream",
       "stream": "stdout",
       "text": [
        "Epoch 100, CIFAR-10 Batch 4:  "
       ]
      },
      {
       "output_type": "stream",
       "stream": "stdout",
       "text": [
        "Loss:     0.9157 Validation Accuracy: 0.578000\n"
       ]
      },
      {
       "output_type": "stream",
       "stream": "stdout",
       "text": [
        "Epoch 100, CIFAR-10 Batch 5:  "
       ]
      },
      {
       "output_type": "stream",
       "stream": "stdout",
       "text": [
        "Loss:     1.1719 Validation Accuracy: 0.546600\n"
       ]
      },
      {
       "output_type": "stream",
       "stream": "stdout",
       "text": [
        "Epoch 101, CIFAR-10 Batch 1:  "
       ]
      },
      {
       "output_type": "stream",
       "stream": "stdout",
       "text": [
        "Loss:     0.7278 Validation Accuracy: 0.569400\n"
       ]
      },
      {
       "output_type": "stream",
       "stream": "stdout",
       "text": [
        "Epoch 101, CIFAR-10 Batch 2:  "
       ]
      },
      {
       "output_type": "stream",
       "stream": "stdout",
       "text": [
        "Loss:     1.6096 Validation Accuracy: 0.467200\n"
       ]
      },
      {
       "output_type": "stream",
       "stream": "stdout",
       "text": [
        "Epoch 101, CIFAR-10 Batch 3:  Loss:     1.1248 Validation Accuracy: 0.570000"
       ]
      },
      {
       "output_type": "stream",
       "stream": "stdout",
       "text": [
        "\n"
       ]
      },
      {
       "output_type": "stream",
       "stream": "stdout",
       "text": [
        "Epoch 101, CIFAR-10 Batch 4:  "
       ]
      },
      {
       "output_type": "stream",
       "stream": "stdout",
       "text": [
        "Loss:     0.7797 Validation Accuracy: 0.535000\n"
       ]
      },
      {
       "output_type": "stream",
       "stream": "stdout",
       "text": [
        "Epoch 101, CIFAR-10 Batch 5:  "
       ]
      },
      {
       "output_type": "stream",
       "stream": "stdout",
       "text": [
        "Loss:     1.1515 Validation Accuracy: 0.534800\n"
       ]
      },
      {
       "output_type": "stream",
       "stream": "stdout",
       "text": [
        "Epoch 102, CIFAR-10 Batch 1:  "
       ]
      },
      {
       "output_type": "stream",
       "stream": "stdout",
       "text": [
        "Loss:     0.7925 Validation Accuracy: 0.581200\n"
       ]
      },
      {
       "output_type": "stream",
       "stream": "stdout",
       "text": [
        "Epoch 102, CIFAR-10 Batch 2:  "
       ]
      },
      {
       "output_type": "stream",
       "stream": "stdout",
       "text": [
        "Loss:     1.1262 Validation Accuracy: 0.559200\n"
       ]
      },
      {
       "output_type": "stream",
       "stream": "stdout",
       "text": [
        "Epoch 102, CIFAR-10 Batch 3:  Loss:     0.9221 Validation Accuracy: 0.552200\n"
       ]
      },
      {
       "output_type": "stream",
       "stream": "stdout",
       "text": [
        "Epoch 102, CIFAR-10 Batch 4:  "
       ]
      },
      {
       "output_type": "stream",
       "stream": "stdout",
       "text": [
        "Loss:     0.8169 Validation Accuracy: 0.564800\n"
       ]
      },
      {
       "output_type": "stream",
       "stream": "stdout",
       "text": [
        "Epoch 102, CIFAR-10 Batch 5:  Loss:     1.2806 Validation Accuracy: 0.494800\n"
       ]
      },
      {
       "output_type": "stream",
       "stream": "stdout",
       "text": [
        "Epoch 103, CIFAR-10 Batch 1:  "
       ]
      },
      {
       "output_type": "stream",
       "stream": "stdout",
       "text": [
        "Loss:     0.8335 Validation Accuracy: 0.588000\n"
       ]
      },
      {
       "output_type": "stream",
       "stream": "stdout",
       "text": [
        "Epoch 103, CIFAR-10 Batch 2:  Loss:     1.0303 Validation Accuracy: 0.544400"
       ]
      },
      {
       "output_type": "stream",
       "stream": "stdout",
       "text": [
        "\n"
       ]
      },
      {
       "output_type": "stream",
       "stream": "stdout",
       "text": [
        "Epoch 103, CIFAR-10 Batch 3:  "
       ]
      },
      {
       "output_type": "stream",
       "stream": "stdout",
       "text": [
        "Loss:     1.1631 Validation Accuracy: 0.561000\n"
       ]
      },
      {
       "output_type": "stream",
       "stream": "stdout",
       "text": [
        "Epoch 103, CIFAR-10 Batch 4:  "
       ]
      },
      {
       "output_type": "stream",
       "stream": "stdout",
       "text": [
        "Loss:     0.7666 Validation Accuracy: 0.562400\n"
       ]
      },
      {
       "output_type": "stream",
       "stream": "stdout",
       "text": [
        "Epoch 103, CIFAR-10 Batch 5:  "
       ]
      },
      {
       "output_type": "stream",
       "stream": "stdout",
       "text": [
        "Loss:     1.2564 Validation Accuracy: 0.537800\n"
       ]
      },
      {
       "output_type": "stream",
       "stream": "stdout",
       "text": [
        "Epoch 104, CIFAR-10 Batch 1:  "
       ]
      },
      {
       "output_type": "stream",
       "stream": "stdout",
       "text": [
        "Loss:     0.6965 Validation Accuracy: 0.612000\n"
       ]
      },
      {
       "output_type": "stream",
       "stream": "stdout",
       "text": [
        "Epoch 104, CIFAR-10 Batch 2:  "
       ]
      },
      {
       "output_type": "stream",
       "stream": "stdout",
       "text": [
        "Loss:     1.5021 Validation Accuracy: 0.466400\n"
       ]
      },
      {
       "output_type": "stream",
       "stream": "stdout",
       "text": [
        "Epoch 104, CIFAR-10 Batch 3:  "
       ]
      },
      {
       "output_type": "stream",
       "stream": "stdout",
       "text": [
        "Loss:     1.0607 Validation Accuracy: 0.524200\n"
       ]
      },
      {
       "output_type": "stream",
       "stream": "stdout",
       "text": [
        "Epoch 104, CIFAR-10 Batch 4:  "
       ]
      },
      {
       "output_type": "stream",
       "stream": "stdout",
       "text": [
        "Loss:     0.7069 Validation Accuracy: 0.563200\n"
       ]
      },
      {
       "output_type": "stream",
       "stream": "stdout",
       "text": [
        "Epoch 104, CIFAR-10 Batch 5:  "
       ]
      },
      {
       "output_type": "stream",
       "stream": "stdout",
       "text": [
        "Loss:     1.5719 Validation Accuracy: 0.461600\n"
       ]
      },
      {
       "output_type": "stream",
       "stream": "stdout",
       "text": [
        "Epoch 105, CIFAR-10 Batch 1:  "
       ]
      },
      {
       "output_type": "stream",
       "stream": "stdout",
       "text": [
        "Loss:     0.7558 Validation Accuracy: 0.557200\n"
       ]
      },
      {
       "output_type": "stream",
       "stream": "stdout",
       "text": [
        "Epoch 105, CIFAR-10 Batch 2:  "
       ]
      },
      {
       "output_type": "stream",
       "stream": "stdout",
       "text": [
        "Loss:     1.3572 Validation Accuracy: 0.523600\n"
       ]
      },
      {
       "output_type": "stream",
       "stream": "stdout",
       "text": [
        "Epoch 105, CIFAR-10 Batch 3:  "
       ]
      },
      {
       "output_type": "stream",
       "stream": "stdout",
       "text": [
        "Loss:     0.9697 Validation Accuracy: 0.587600\n"
       ]
      },
      {
       "output_type": "stream",
       "stream": "stdout",
       "text": [
        "Epoch 105, CIFAR-10 Batch 4:  "
       ]
      },
      {
       "output_type": "stream",
       "stream": "stdout",
       "text": [
        "Loss:     0.7456 Validation Accuracy: 0.565800\n"
       ]
      },
      {
       "output_type": "stream",
       "stream": "stdout",
       "text": [
        "Epoch 105, CIFAR-10 Batch 5:  Loss:     1.1910 Validation Accuracy: 0.507000\n"
       ]
      },
      {
       "output_type": "stream",
       "stream": "stdout",
       "text": [
        "Epoch 106, CIFAR-10 Batch 1:  "
       ]
      },
      {
       "output_type": "stream",
       "stream": "stdout",
       "text": [
        "Loss:     0.6688 Validation Accuracy: 0.606400\n"
       ]
      },
      {
       "output_type": "stream",
       "stream": "stdout",
       "text": [
        "Epoch 106, CIFAR-10 Batch 2:  "
       ]
      },
      {
       "output_type": "stream",
       "stream": "stdout",
       "text": [
        "Loss:     1.0824 Validation Accuracy: 0.549600\n"
       ]
      },
      {
       "output_type": "stream",
       "stream": "stdout",
       "text": [
        "Epoch 106, CIFAR-10 Batch 3:  "
       ]
      },
      {
       "output_type": "stream",
       "stream": "stdout",
       "text": [
        "Loss:     1.0336 Validation Accuracy: 0.591000\n"
       ]
      },
      {
       "output_type": "stream",
       "stream": "stdout",
       "text": [
        "Epoch 106, CIFAR-10 Batch 4:  "
       ]
      },
      {
       "output_type": "stream",
       "stream": "stdout",
       "text": [
        "Loss:     0.7565 Validation Accuracy: 0.576600\n"
       ]
      },
      {
       "output_type": "stream",
       "stream": "stdout",
       "text": [
        "Epoch 106, CIFAR-10 Batch 5:  "
       ]
      },
      {
       "output_type": "stream",
       "stream": "stdout",
       "text": [
        "Loss:     1.1253 Validation Accuracy: 0.550800\n"
       ]
      },
      {
       "output_type": "stream",
       "stream": "stdout",
       "text": [
        "Epoch 107, CIFAR-10 Batch 1:  "
       ]
      },
      {
       "output_type": "stream",
       "stream": "stdout",
       "text": [
        "Loss:     0.6596 Validation Accuracy: 0.591800\n"
       ]
      },
      {
       "output_type": "stream",
       "stream": "stdout",
       "text": [
        "Epoch 107, CIFAR-10 Batch 2:  "
       ]
      },
      {
       "output_type": "stream",
       "stream": "stdout",
       "text": [
        "Loss:     1.0245 Validation Accuracy: 0.582200\n"
       ]
      },
      {
       "output_type": "stream",
       "stream": "stdout",
       "text": [
        "Epoch 107, CIFAR-10 Batch 3:  "
       ]
      },
      {
       "output_type": "stream",
       "stream": "stdout",
       "text": [
        "Loss:     1.2622 Validation Accuracy: 0.562200\n"
       ]
      },
      {
       "output_type": "stream",
       "stream": "stdout",
       "text": [
        "Epoch 107, CIFAR-10 Batch 4:  "
       ]
      },
      {
       "output_type": "stream",
       "stream": "stdout",
       "text": [
        "Loss:     0.7612 Validation Accuracy: 0.582800\n"
       ]
      },
      {
       "output_type": "stream",
       "stream": "stdout",
       "text": [
        "Epoch 107, CIFAR-10 Batch 5:  "
       ]
      },
      {
       "output_type": "stream",
       "stream": "stdout",
       "text": [
        "Loss:     1.1150 Validation Accuracy: 0.546600\n"
       ]
      },
      {
       "output_type": "stream",
       "stream": "stdout",
       "text": [
        "Epoch 108, CIFAR-10 Batch 1:  "
       ]
      },
      {
       "output_type": "stream",
       "stream": "stdout",
       "text": [
        "Loss:     0.6847 Validation Accuracy: 0.579600\n"
       ]
      },
      {
       "output_type": "stream",
       "stream": "stdout",
       "text": [
        "Epoch 108, CIFAR-10 Batch 2:  "
       ]
      },
      {
       "output_type": "stream",
       "stream": "stdout",
       "text": [
        "Loss:     1.1886 Validation Accuracy: 0.559400\n"
       ]
      },
      {
       "output_type": "stream",
       "stream": "stdout",
       "text": [
        "Epoch 108, CIFAR-10 Batch 3:  "
       ]
      },
      {
       "output_type": "stream",
       "stream": "stdout",
       "text": [
        "Loss:     1.1057 Validation Accuracy: 0.569200\n"
       ]
      },
      {
       "output_type": "stream",
       "stream": "stdout",
       "text": [
        "Epoch 108, CIFAR-10 Batch 4:  Loss:     0.8134 Validation Accuracy: 0.563000\n"
       ]
      },
      {
       "output_type": "stream",
       "stream": "stdout",
       "text": [
        "Epoch 108, CIFAR-10 Batch 5:  Loss:     1.3160 Validation Accuracy: 0.502000"
       ]
      },
      {
       "output_type": "stream",
       "stream": "stdout",
       "text": [
        "\n"
       ]
      },
      {
       "output_type": "stream",
       "stream": "stdout",
       "text": [
        "Epoch 109, CIFAR-10 Batch 1:  "
       ]
      },
      {
       "output_type": "stream",
       "stream": "stdout",
       "text": [
        "Loss:     0.7142 Validation Accuracy: 0.590600\n"
       ]
      },
      {
       "output_type": "stream",
       "stream": "stdout",
       "text": [
        "Epoch 109, CIFAR-10 Batch 2:  Loss:     1.2427 Validation Accuracy: 0.572800"
       ]
      },
      {
       "output_type": "stream",
       "stream": "stdout",
       "text": [
        "\n"
       ]
      },
      {
       "output_type": "stream",
       "stream": "stdout",
       "text": [
        "Epoch 109, CIFAR-10 Batch 3:  "
       ]
      },
      {
       "output_type": "stream",
       "stream": "stdout",
       "text": [
        "Loss:     1.0196 Validation Accuracy: 0.571000\n"
       ]
      },
      {
       "output_type": "stream",
       "stream": "stdout",
       "text": [
        "Epoch 109, CIFAR-10 Batch 4:  Loss:     0.7565 Validation Accuracy: 0.544600\n"
       ]
      },
      {
       "output_type": "stream",
       "stream": "stdout",
       "text": [
        "Epoch 109, CIFAR-10 Batch 5:  Loss:     1.2289 Validation Accuracy: 0.542600\n"
       ]
      },
      {
       "output_type": "stream",
       "stream": "stdout",
       "text": [
        "Epoch 110, CIFAR-10 Batch 1:  "
       ]
      },
      {
       "output_type": "stream",
       "stream": "stdout",
       "text": [
        "Loss:     0.7109 Validation Accuracy: 0.574600\n"
       ]
      },
      {
       "output_type": "stream",
       "stream": "stdout",
       "text": [
        "Epoch 110, CIFAR-10 Batch 2:  "
       ]
      },
      {
       "output_type": "stream",
       "stream": "stdout",
       "text": [
        "Loss:     1.2936 Validation Accuracy: 0.554000\n"
       ]
      },
      {
       "output_type": "stream",
       "stream": "stdout",
       "text": [
        "Epoch 110, CIFAR-10 Batch 3:  "
       ]
      },
      {
       "output_type": "stream",
       "stream": "stdout",
       "text": [
        "Loss:     1.0368 Validation Accuracy: 0.571400\n"
       ]
      },
      {
       "output_type": "stream",
       "stream": "stdout",
       "text": [
        "Epoch 110, CIFAR-10 Batch 4:  "
       ]
      },
      {
       "output_type": "stream",
       "stream": "stdout",
       "text": [
        "Loss:     0.6842 Validation Accuracy: 0.542800\n"
       ]
      },
      {
       "output_type": "stream",
       "stream": "stdout",
       "text": [
        "Epoch 110, CIFAR-10 Batch 5:  Loss:     1.1628 Validation Accuracy: 0.548200"
       ]
      },
      {
       "output_type": "stream",
       "stream": "stdout",
       "text": [
        "\n"
       ]
      },
      {
       "output_type": "stream",
       "stream": "stdout",
       "text": [
        "Epoch 111, CIFAR-10 Batch 1:  Loss:     0.7025 Validation Accuracy: 0.568000"
       ]
      },
      {
       "output_type": "stream",
       "stream": "stdout",
       "text": [
        "\n",
        "Epoch 111, CIFAR-10 Batch 2:  "
       ]
      },
      {
       "output_type": "stream",
       "stream": "stdout",
       "text": [
        "Loss:     1.0375 Validation Accuracy: 0.562400\n"
       ]
      },
      {
       "output_type": "stream",
       "stream": "stdout",
       "text": [
        "Epoch 111, CIFAR-10 Batch 3:  Loss:     1.3196 Validation Accuracy: 0.498200"
       ]
      },
      {
       "output_type": "stream",
       "stream": "stdout",
       "text": [
        "\n"
       ]
      },
      {
       "output_type": "stream",
       "stream": "stdout",
       "text": [
        "Epoch 111, CIFAR-10 Batch 4:  "
       ]
      },
      {
       "output_type": "stream",
       "stream": "stdout",
       "text": [
        "Loss:     0.7437 Validation Accuracy: 0.570400\n"
       ]
      },
      {
       "output_type": "stream",
       "stream": "stdout",
       "text": [
        "Epoch 111, CIFAR-10 Batch 5:  "
       ]
      },
      {
       "output_type": "stream",
       "stream": "stdout",
       "text": [
        "Loss:     1.1409 Validation Accuracy: 0.528400\n"
       ]
      },
      {
       "output_type": "stream",
       "stream": "stdout",
       "text": [
        "Epoch 112, CIFAR-10 Batch 1:  "
       ]
      },
      {
       "output_type": "stream",
       "stream": "stdout",
       "text": [
        "Loss:     0.7353 Validation Accuracy: 0.590800\n"
       ]
      },
      {
       "output_type": "stream",
       "stream": "stdout",
       "text": [
        "Epoch 112, CIFAR-10 Batch 2:  "
       ]
      },
      {
       "output_type": "stream",
       "stream": "stdout",
       "text": [
        "Loss:     1.1715 Validation Accuracy: 0.576200\n"
       ]
      },
      {
       "output_type": "stream",
       "stream": "stdout",
       "text": [
        "Epoch 112, CIFAR-10 Batch 3:  "
       ]
      },
      {
       "output_type": "stream",
       "stream": "stdout",
       "text": [
        "Loss:     1.1285 Validation Accuracy: 0.548200\n"
       ]
      },
      {
       "output_type": "stream",
       "stream": "stdout",
       "text": [
        "Epoch 112, CIFAR-10 Batch 4:  Loss:     0.7909 Validation Accuracy: 0.571400\n"
       ]
      },
      {
       "output_type": "stream",
       "stream": "stdout",
       "text": [
        "Epoch 112, CIFAR-10 Batch 5:  Loss:     1.0784 Validation Accuracy: 0.558000\n"
       ]
      },
      {
       "output_type": "stream",
       "stream": "stdout",
       "text": [
        "Epoch 113, CIFAR-10 Batch 1:  "
       ]
      },
      {
       "output_type": "stream",
       "stream": "stdout",
       "text": [
        "Loss:     0.6687 Validation Accuracy: 0.600200\n"
       ]
      },
      {
       "output_type": "stream",
       "stream": "stdout",
       "text": [
        "Epoch 113, CIFAR-10 Batch 2:  Loss:     1.1325 Validation Accuracy: 0.547200\n"
       ]
      },
      {
       "output_type": "stream",
       "stream": "stdout",
       "text": [
        "Epoch 113, CIFAR-10 Batch 3:  "
       ]
      },
      {
       "output_type": "stream",
       "stream": "stdout",
       "text": [
        "Loss:     1.0408 Validation Accuracy: 0.558200\n"
       ]
      },
      {
       "output_type": "stream",
       "stream": "stdout",
       "text": [
        "Epoch 113, CIFAR-10 Batch 4:  Loss:     0.8128 Validation Accuracy: 0.564000"
       ]
      },
      {
       "output_type": "stream",
       "stream": "stdout",
       "text": [
        "\n",
        "Epoch 113, CIFAR-10 Batch 5:  "
       ]
      },
      {
       "output_type": "stream",
       "stream": "stdout",
       "text": [
        "Loss:     1.1521 Validation Accuracy: 0.567800\n"
       ]
      },
      {
       "output_type": "stream",
       "stream": "stdout",
       "text": [
        "Epoch 114, CIFAR-10 Batch 1:  "
       ]
      },
      {
       "output_type": "stream",
       "stream": "stdout",
       "text": [
        "Loss:     0.6450 Validation Accuracy: 0.611000\n"
       ]
      },
      {
       "output_type": "stream",
       "stream": "stdout",
       "text": [
        "Epoch 114, CIFAR-10 Batch 2:  Loss:     0.9246 Validation Accuracy: 0.566200\n"
       ]
      },
      {
       "output_type": "stream",
       "stream": "stdout",
       "text": [
        "Epoch 114, CIFAR-10 Batch 3:  "
       ]
      },
      {
       "output_type": "stream",
       "stream": "stdout",
       "text": [
        "Loss:     1.0637 Validation Accuracy: 0.554400\n"
       ]
      },
      {
       "output_type": "stream",
       "stream": "stdout",
       "text": [
        "Epoch 114, CIFAR-10 Batch 4:  "
       ]
      },
      {
       "output_type": "stream",
       "stream": "stdout",
       "text": [
        "Loss:     0.8481 Validation Accuracy: 0.543600\n"
       ]
      },
      {
       "output_type": "stream",
       "stream": "stdout",
       "text": [
        "Epoch 114, CIFAR-10 Batch 5:  "
       ]
      },
      {
       "output_type": "stream",
       "stream": "stdout",
       "text": [
        "Loss:     1.1785 Validation Accuracy: 0.549000\n"
       ]
      },
      {
       "output_type": "stream",
       "stream": "stdout",
       "text": [
        "Epoch 115, CIFAR-10 Batch 1:  "
       ]
      },
      {
       "output_type": "stream",
       "stream": "stdout",
       "text": [
        "Loss:     0.6982 Validation Accuracy: 0.588400\n"
       ]
      },
      {
       "output_type": "stream",
       "stream": "stdout",
       "text": [
        "Epoch 115, CIFAR-10 Batch 2:  "
       ]
      },
      {
       "output_type": "stream",
       "stream": "stdout",
       "text": [
        "Loss:     1.4486 Validation Accuracy: 0.485200\n"
       ]
      },
      {
       "output_type": "stream",
       "stream": "stdout",
       "text": [
        "Epoch 115, CIFAR-10 Batch 3:  "
       ]
      },
      {
       "output_type": "stream",
       "stream": "stdout",
       "text": [
        "Loss:     1.2484 Validation Accuracy: 0.577800\n"
       ]
      },
      {
       "output_type": "stream",
       "stream": "stdout",
       "text": [
        "Epoch 115, CIFAR-10 Batch 4:  "
       ]
      },
      {
       "output_type": "stream",
       "stream": "stdout",
       "text": [
        "Loss:     0.8258 Validation Accuracy: 0.563400\n"
       ]
      },
      {
       "output_type": "stream",
       "stream": "stdout",
       "text": [
        "Epoch 115, CIFAR-10 Batch 5:  Loss:     1.2137 Validation Accuracy: 0.553200\n"
       ]
      },
      {
       "output_type": "stream",
       "stream": "stdout",
       "text": [
        "Epoch 116, CIFAR-10 Batch 1:  Loss:     0.6427 Validation Accuracy: 0.587400"
       ]
      },
      {
       "output_type": "stream",
       "stream": "stdout",
       "text": [
        "\n"
       ]
      },
      {
       "output_type": "stream",
       "stream": "stdout",
       "text": [
        "Epoch 116, CIFAR-10 Batch 2:  "
       ]
      },
      {
       "output_type": "stream",
       "stream": "stdout",
       "text": [
        "Loss:     0.9049 Validation Accuracy: 0.596600\n"
       ]
      },
      {
       "output_type": "stream",
       "stream": "stdout",
       "text": [
        "Epoch 116, CIFAR-10 Batch 3:  "
       ]
      },
      {
       "output_type": "stream",
       "stream": "stdout",
       "text": [
        "Loss:     1.0329 Validation Accuracy: 0.559000\n"
       ]
      },
      {
       "output_type": "stream",
       "stream": "stdout",
       "text": [
        "Epoch 116, CIFAR-10 Batch 4:  "
       ]
      },
      {
       "output_type": "stream",
       "stream": "stdout",
       "text": [
        "Loss:     0.6761 Validation Accuracy: 0.600200\n"
       ]
      },
      {
       "output_type": "stream",
       "stream": "stdout",
       "text": [
        "Epoch 116, CIFAR-10 Batch 5:  "
       ]
      },
      {
       "output_type": "stream",
       "stream": "stdout",
       "text": [
        "Loss:     1.2188 Validation Accuracy: 0.535200\n"
       ]
      },
      {
       "output_type": "stream",
       "stream": "stdout",
       "text": [
        "Epoch 117, CIFAR-10 Batch 1:  "
       ]
      },
      {
       "output_type": "stream",
       "stream": "stdout",
       "text": [
        "Loss:     0.5712 Validation Accuracy: 0.584400\n"
       ]
      },
      {
       "output_type": "stream",
       "stream": "stdout",
       "text": [
        "Epoch 117, CIFAR-10 Batch 2:  "
       ]
      },
      {
       "output_type": "stream",
       "stream": "stdout",
       "text": [
        "Loss:     1.2012 Validation Accuracy: 0.561400\n"
       ]
      },
      {
       "output_type": "stream",
       "stream": "stdout",
       "text": [
        "Epoch 117, CIFAR-10 Batch 3:  "
       ]
      },
      {
       "output_type": "stream",
       "stream": "stdout",
       "text": [
        "Loss:     1.2890 Validation Accuracy: 0.574800\n"
       ]
      },
      {
       "output_type": "stream",
       "stream": "stdout",
       "text": [
        "Epoch 117, CIFAR-10 Batch 4:  Loss:     0.6170 Validation Accuracy: 0.600600\n"
       ]
      },
      {
       "output_type": "stream",
       "stream": "stdout",
       "text": [
        "Epoch 117, CIFAR-10 Batch 5:  "
       ]
      },
      {
       "output_type": "stream",
       "stream": "stdout",
       "text": [
        "Loss:     1.1667 Validation Accuracy: 0.572600\n"
       ]
      },
      {
       "output_type": "stream",
       "stream": "stdout",
       "text": [
        "Epoch 118, CIFAR-10 Batch 1:  "
       ]
      },
      {
       "output_type": "stream",
       "stream": "stdout",
       "text": [
        "Loss:     0.7413 Validation Accuracy: 0.561800\n"
       ]
      },
      {
       "output_type": "stream",
       "stream": "stdout",
       "text": [
        "Epoch 118, CIFAR-10 Batch 2:  "
       ]
      },
      {
       "output_type": "stream",
       "stream": "stdout",
       "text": [
        "Loss:     0.9858 Validation Accuracy: 0.587400\n"
       ]
      },
      {
       "output_type": "stream",
       "stream": "stdout",
       "text": [
        "Epoch 118, CIFAR-10 Batch 3:  "
       ]
      },
      {
       "output_type": "stream",
       "stream": "stdout",
       "text": [
        "Loss:     1.1233 Validation Accuracy: 0.538400\n"
       ]
      },
      {
       "output_type": "stream",
       "stream": "stdout",
       "text": [
        "Epoch 118, CIFAR-10 Batch 4:  "
       ]
      },
      {
       "output_type": "stream",
       "stream": "stdout",
       "text": [
        "Loss:     0.7066 Validation Accuracy: 0.590800\n"
       ]
      },
      {
       "output_type": "stream",
       "stream": "stdout",
       "text": [
        "Epoch 118, CIFAR-10 Batch 5:  "
       ]
      },
      {
       "output_type": "stream",
       "stream": "stdout",
       "text": [
        "Loss:     1.2159 Validation Accuracy: 0.541400\n"
       ]
      },
      {
       "output_type": "stream",
       "stream": "stdout",
       "text": [
        "Epoch 119, CIFAR-10 Batch 1:  "
       ]
      },
      {
       "output_type": "stream",
       "stream": "stdout",
       "text": [
        "Loss:     0.6554 Validation Accuracy: 0.575400\n"
       ]
      },
      {
       "output_type": "stream",
       "stream": "stdout",
       "text": [
        "Epoch 119, CIFAR-10 Batch 2:  "
       ]
      },
      {
       "output_type": "stream",
       "stream": "stdout",
       "text": [
        "Loss:     1.2053 Validation Accuracy: 0.493200\n"
       ]
      },
      {
       "output_type": "stream",
       "stream": "stdout",
       "text": [
        "Epoch 119, CIFAR-10 Batch 3:  "
       ]
      },
      {
       "output_type": "stream",
       "stream": "stdout",
       "text": [
        "Loss:     1.1547 Validation Accuracy: 0.561400\n"
       ]
      },
      {
       "output_type": "stream",
       "stream": "stdout",
       "text": [
        "Epoch 119, CIFAR-10 Batch 4:  "
       ]
      },
      {
       "output_type": "stream",
       "stream": "stdout",
       "text": [
        "Loss:     0.7818 Validation Accuracy: 0.576800\n"
       ]
      },
      {
       "output_type": "stream",
       "stream": "stdout",
       "text": [
        "Epoch 119, CIFAR-10 Batch 5:  "
       ]
      },
      {
       "output_type": "stream",
       "stream": "stdout",
       "text": [
        "Loss:     1.3595 Validation Accuracy: 0.514200\n"
       ]
      },
      {
       "output_type": "stream",
       "stream": "stdout",
       "text": [
        "Epoch 120, CIFAR-10 Batch 1:  "
       ]
      },
      {
       "output_type": "stream",
       "stream": "stdout",
       "text": [
        "Loss:     0.7110 Validation Accuracy: 0.572400\n"
       ]
      },
      {
       "output_type": "stream",
       "stream": "stdout",
       "text": [
        "Epoch 120, CIFAR-10 Batch 2:  "
       ]
      },
      {
       "output_type": "stream",
       "stream": "stdout",
       "text": [
        "Loss:     1.0247 Validation Accuracy: 0.598800\n"
       ]
      },
      {
       "output_type": "stream",
       "stream": "stdout",
       "text": [
        "Epoch 120, CIFAR-10 Batch 3:  "
       ]
      },
      {
       "output_type": "stream",
       "stream": "stdout",
       "text": [
        "Loss:     0.9355 Validation Accuracy: 0.593200\n"
       ]
      },
      {
       "output_type": "stream",
       "stream": "stdout",
       "text": [
        "Epoch 120, CIFAR-10 Batch 4:  "
       ]
      },
      {
       "output_type": "stream",
       "stream": "stdout",
       "text": [
        "Loss:     0.8566 Validation Accuracy: 0.607000\n"
       ]
      },
      {
       "output_type": "stream",
       "stream": "stdout",
       "text": [
        "Epoch 120, CIFAR-10 Batch 5:  "
       ]
      },
      {
       "output_type": "stream",
       "stream": "stdout",
       "text": [
        "Loss:     1.0679 Validation Accuracy: 0.535200\n"
       ]
      },
      {
       "output_type": "stream",
       "stream": "stdout",
       "text": [
        "Epoch 121, CIFAR-10 Batch 1:  Loss:     0.6380 Validation Accuracy: 0.591400\n"
       ]
      },
      {
       "output_type": "stream",
       "stream": "stdout",
       "text": [
        "Epoch 121, CIFAR-10 Batch 2:  Loss:     0.9861 Validation Accuracy: 0.576200\n"
       ]
      },
      {
       "output_type": "stream",
       "stream": "stdout",
       "text": [
        "Epoch 121, CIFAR-10 Batch 3:  "
       ]
      },
      {
       "output_type": "stream",
       "stream": "stdout",
       "text": [
        "Loss:     1.1375 Validation Accuracy: 0.574800\n"
       ]
      },
      {
       "output_type": "stream",
       "stream": "stdout",
       "text": [
        "Epoch 121, CIFAR-10 Batch 4:  "
       ]
      },
      {
       "output_type": "stream",
       "stream": "stdout",
       "text": [
        "Loss:     0.7052 Validation Accuracy: 0.595200\n"
       ]
      },
      {
       "output_type": "stream",
       "stream": "stdout",
       "text": [
        "Epoch 121, CIFAR-10 Batch 5:  "
       ]
      },
      {
       "output_type": "stream",
       "stream": "stdout",
       "text": [
        "Loss:     1.2762 Validation Accuracy: 0.486800\n"
       ]
      },
      {
       "output_type": "stream",
       "stream": "stdout",
       "text": [
        "Epoch 122, CIFAR-10 Batch 1:  "
       ]
      },
      {
       "output_type": "stream",
       "stream": "stdout",
       "text": [
        "Loss:     0.7685 Validation Accuracy: 0.606600\n"
       ]
      },
      {
       "output_type": "stream",
       "stream": "stdout",
       "text": [
        "Epoch 122, CIFAR-10 Batch 2:  "
       ]
      },
      {
       "output_type": "stream",
       "stream": "stdout",
       "text": [
        "Loss:     0.8555 Validation Accuracy: 0.608000\n"
       ]
      },
      {
       "output_type": "stream",
       "stream": "stdout",
       "text": [
        "Epoch 122, CIFAR-10 Batch 3:  "
       ]
      },
      {
       "output_type": "stream",
       "stream": "stdout",
       "text": [
        "Loss:     0.9475 Validation Accuracy: 0.579600\n"
       ]
      },
      {
       "output_type": "stream",
       "stream": "stdout",
       "text": [
        "Epoch 122, CIFAR-10 Batch 4:  "
       ]
      },
      {
       "output_type": "stream",
       "stream": "stdout",
       "text": [
        "Loss:     0.8627 Validation Accuracy: 0.539800\n"
       ]
      },
      {
       "output_type": "stream",
       "stream": "stdout",
       "text": [
        "Epoch 122, CIFAR-10 Batch 5:  "
       ]
      },
      {
       "output_type": "stream",
       "stream": "stdout",
       "text": [
        "Loss:     1.1269 Validation Accuracy: 0.597200\n"
       ]
      },
      {
       "output_type": "stream",
       "stream": "stdout",
       "text": [
        "Epoch 123, CIFAR-10 Batch 1:  "
       ]
      },
      {
       "output_type": "stream",
       "stream": "stdout",
       "text": [
        "Loss:     0.5611 Validation Accuracy: 0.591000\n"
       ]
      },
      {
       "output_type": "stream",
       "stream": "stdout",
       "text": [
        "Epoch 123, CIFAR-10 Batch 2:  Loss:     1.0296 Validation Accuracy: 0.544000"
       ]
      },
      {
       "output_type": "stream",
       "stream": "stdout",
       "text": [
        "\n"
       ]
      },
      {
       "output_type": "stream",
       "stream": "stdout",
       "text": [
        "Epoch 123, CIFAR-10 Batch 3:  "
       ]
      },
      {
       "output_type": "stream",
       "stream": "stdout",
       "text": [
        "Loss:     0.9942 Validation Accuracy: 0.591600\n"
       ]
      },
      {
       "output_type": "stream",
       "stream": "stdout",
       "text": [
        "Epoch 123, CIFAR-10 Batch 4:  "
       ]
      },
      {
       "output_type": "stream",
       "stream": "stdout",
       "text": [
        "Loss:     0.6597 Validation Accuracy: 0.570800\n"
       ]
      },
      {
       "output_type": "stream",
       "stream": "stdout",
       "text": [
        "Epoch 123, CIFAR-10 Batch 5:  "
       ]
      },
      {
       "output_type": "stream",
       "stream": "stdout",
       "text": [
        "Loss:     1.0865 Validation Accuracy: 0.548800\n"
       ]
      },
      {
       "output_type": "stream",
       "stream": "stdout",
       "text": [
        "Epoch 124, CIFAR-10 Batch 1:  "
       ]
      },
      {
       "output_type": "stream",
       "stream": "stdout",
       "text": [
        "Loss:     0.6572 Validation Accuracy: 0.597200\n"
       ]
      },
      {
       "output_type": "stream",
       "stream": "stdout",
       "text": [
        "Epoch 124, CIFAR-10 Batch 2:  "
       ]
      },
      {
       "output_type": "stream",
       "stream": "stdout",
       "text": [
        "Loss:     1.2262 Validation Accuracy: 0.531400\n"
       ]
      },
      {
       "output_type": "stream",
       "stream": "stdout",
       "text": [
        "Epoch 124, CIFAR-10 Batch 3:  "
       ]
      },
      {
       "output_type": "stream",
       "stream": "stdout",
       "text": [
        "Loss:     0.9684 Validation Accuracy: 0.588000\n"
       ]
      },
      {
       "output_type": "stream",
       "stream": "stdout",
       "text": [
        "Epoch 124, CIFAR-10 Batch 4:  "
       ]
      },
      {
       "output_type": "stream",
       "stream": "stdout",
       "text": [
        "Loss:     0.8513 Validation Accuracy: 0.508600\n"
       ]
      },
      {
       "output_type": "stream",
       "stream": "stdout",
       "text": [
        "Epoch 124, CIFAR-10 Batch 5:  Loss:     1.0226 Validation Accuracy: 0.555400"
       ]
      },
      {
       "output_type": "stream",
       "stream": "stdout",
       "text": [
        "\n"
       ]
      },
      {
       "output_type": "stream",
       "stream": "stdout",
       "text": [
        "Epoch 125, CIFAR-10 Batch 1:  "
       ]
      },
      {
       "output_type": "stream",
       "stream": "stdout",
       "text": [
        "Loss:     0.6398 Validation Accuracy: 0.586800\n"
       ]
      },
      {
       "output_type": "stream",
       "stream": "stdout",
       "text": [
        "Epoch 125, CIFAR-10 Batch 2:  "
       ]
      },
      {
       "output_type": "stream",
       "stream": "stdout",
       "text": [
        "Loss:     1.2506 Validation Accuracy: 0.583600\n"
       ]
      },
      {
       "output_type": "stream",
       "stream": "stdout",
       "text": [
        "Epoch 125, CIFAR-10 Batch 3:  Loss:     0.9405 Validation Accuracy: 0.585800\n"
       ]
      },
      {
       "output_type": "stream",
       "stream": "stdout",
       "text": [
        "Epoch 125, CIFAR-10 Batch 4:  "
       ]
      },
      {
       "output_type": "stream",
       "stream": "stdout",
       "text": [
        "Loss:     0.7560 Validation Accuracy: 0.577800\n"
       ]
      },
      {
       "output_type": "stream",
       "stream": "stdout",
       "text": [
        "Epoch 125, CIFAR-10 Batch 5:  "
       ]
      },
      {
       "output_type": "stream",
       "stream": "stdout",
       "text": [
        "Loss:     1.1259 Validation Accuracy: 0.508600\n"
       ]
      },
      {
       "output_type": "stream",
       "stream": "stdout",
       "text": [
        "Epoch 126, CIFAR-10 Batch 1:  "
       ]
      },
      {
       "output_type": "stream",
       "stream": "stdout",
       "text": [
        "Loss:     0.6705 Validation Accuracy: 0.593000\n"
       ]
      },
      {
       "output_type": "stream",
       "stream": "stdout",
       "text": [
        "Epoch 126, CIFAR-10 Batch 2:  "
       ]
      },
      {
       "output_type": "stream",
       "stream": "stdout",
       "text": [
        "Loss:     0.9907 Validation Accuracy: 0.578800\n"
       ]
      },
      {
       "output_type": "stream",
       "stream": "stdout",
       "text": [
        "Epoch 126, CIFAR-10 Batch 3:  Loss:     1.1544 Validation Accuracy: 0.547000"
       ]
      },
      {
       "output_type": "stream",
       "stream": "stdout",
       "text": [
        "\n"
       ]
      },
      {
       "output_type": "stream",
       "stream": "stdout",
       "text": [
        "Epoch 126, CIFAR-10 Batch 4:  "
       ]
      },
      {
       "output_type": "stream",
       "stream": "stdout",
       "text": [
        "Loss:     0.7117 Validation Accuracy: 0.560200\n"
       ]
      },
      {
       "output_type": "stream",
       "stream": "stdout",
       "text": [
        "Epoch 126, CIFAR-10 Batch 5:  "
       ]
      },
      {
       "output_type": "stream",
       "stream": "stdout",
       "text": [
        "Loss:     1.0796 Validation Accuracy: 0.552000\n"
       ]
      },
      {
       "output_type": "stream",
       "stream": "stdout",
       "text": [
        "Epoch 127, CIFAR-10 Batch 1:  Loss:     0.7714 Validation Accuracy: 0.546400\n"
       ]
      },
      {
       "output_type": "stream",
       "stream": "stdout",
       "text": [
        "Epoch 127, CIFAR-10 Batch 2:  "
       ]
      },
      {
       "output_type": "stream",
       "stream": "stdout",
       "text": [
        "Loss:     0.9186 Validation Accuracy: 0.602000\n"
       ]
      },
      {
       "output_type": "stream",
       "stream": "stdout",
       "text": [
        "Epoch 127, CIFAR-10 Batch 3:  "
       ]
      },
      {
       "output_type": "stream",
       "stream": "stdout",
       "text": [
        "Loss:     0.9779 Validation Accuracy: 0.614600\n"
       ]
      },
      {
       "output_type": "stream",
       "stream": "stdout",
       "text": [
        "Epoch 127, CIFAR-10 Batch 4:  "
       ]
      },
      {
       "output_type": "stream",
       "stream": "stdout",
       "text": [
        "Loss:     0.7331 Validation Accuracy: 0.567400\n"
       ]
      },
      {
       "output_type": "stream",
       "stream": "stdout",
       "text": [
        "Epoch 127, CIFAR-10 Batch 5:  "
       ]
      },
      {
       "output_type": "stream",
       "stream": "stdout",
       "text": [
        "Loss:     1.2625 Validation Accuracy: 0.488400\n"
       ]
      },
      {
       "output_type": "stream",
       "stream": "stdout",
       "text": [
        "Epoch 128, CIFAR-10 Batch 1:  "
       ]
      },
      {
       "output_type": "stream",
       "stream": "stdout",
       "text": [
        "Loss:     0.6595 Validation Accuracy: 0.595800\n"
       ]
      },
      {
       "output_type": "stream",
       "stream": "stdout",
       "text": [
        "Epoch 128, CIFAR-10 Batch 2:  "
       ]
      },
      {
       "output_type": "stream",
       "stream": "stdout",
       "text": [
        "Loss:     1.3002 Validation Accuracy: 0.528200\n"
       ]
      },
      {
       "output_type": "stream",
       "stream": "stdout",
       "text": [
        "Epoch 128, CIFAR-10 Batch 3:  "
       ]
      },
      {
       "output_type": "stream",
       "stream": "stdout",
       "text": [
        "Loss:     0.9862 Validation Accuracy: 0.582000\n"
       ]
      },
      {
       "output_type": "stream",
       "stream": "stdout",
       "text": [
        "Epoch 128, CIFAR-10 Batch 4:  Loss:     0.7126 Validation Accuracy: 0.587000"
       ]
      },
      {
       "output_type": "stream",
       "stream": "stdout",
       "text": [
        "\n"
       ]
      },
      {
       "output_type": "stream",
       "stream": "stdout",
       "text": [
        "Epoch 128, CIFAR-10 Batch 5:  "
       ]
      },
      {
       "output_type": "stream",
       "stream": "stdout",
       "text": [
        "Loss:     1.0679 Validation Accuracy: 0.551000\n"
       ]
      },
      {
       "output_type": "stream",
       "stream": "stdout",
       "text": [
        "Epoch 129, CIFAR-10 Batch 1:  "
       ]
      },
      {
       "output_type": "stream",
       "stream": "stdout",
       "text": [
        "Loss:     0.6637 Validation Accuracy: 0.582200\n"
       ]
      },
      {
       "output_type": "stream",
       "stream": "stdout",
       "text": [
        "Epoch 129, CIFAR-10 Batch 2:  "
       ]
      },
      {
       "output_type": "stream",
       "stream": "stdout",
       "text": [
        "Loss:     1.1537 Validation Accuracy: 0.566000\n"
       ]
      },
      {
       "output_type": "stream",
       "stream": "stdout",
       "text": [
        "Epoch 129, CIFAR-10 Batch 3:  "
       ]
      },
      {
       "output_type": "stream",
       "stream": "stdout",
       "text": [
        "Loss:     1.2128 Validation Accuracy: 0.545400\n"
       ]
      },
      {
       "output_type": "stream",
       "stream": "stdout",
       "text": [
        "Epoch 129, CIFAR-10 Batch 4:  Loss:     0.7998 Validation Accuracy: 0.548000\n"
       ]
      },
      {
       "output_type": "stream",
       "stream": "stdout",
       "text": [
        "Epoch 129, CIFAR-10 Batch 5:  "
       ]
      },
      {
       "output_type": "stream",
       "stream": "stdout",
       "text": [
        "Loss:     1.1298 Validation Accuracy: 0.511800\n"
       ]
      },
      {
       "output_type": "stream",
       "stream": "stdout",
       "text": [
        "Epoch 130, CIFAR-10 Batch 1:  Loss:     0.7960 Validation Accuracy: 0.561400\n"
       ]
      },
      {
       "output_type": "stream",
       "stream": "stdout",
       "text": [
        "Epoch 130, CIFAR-10 Batch 2:  Loss:     1.2495 Validation Accuracy: 0.552800\n"
       ]
      },
      {
       "output_type": "stream",
       "stream": "stdout",
       "text": [
        "Epoch 130, CIFAR-10 Batch 3:  "
       ]
      },
      {
       "output_type": "stream",
       "stream": "stdout",
       "text": [
        "Loss:     0.9248 Validation Accuracy: 0.595600\n"
       ]
      },
      {
       "output_type": "stream",
       "stream": "stdout",
       "text": [
        "Epoch 130, CIFAR-10 Batch 4:  "
       ]
      },
      {
       "output_type": "stream",
       "stream": "stdout",
       "text": [
        "Loss:     0.7736 Validation Accuracy: 0.592600\n"
       ]
      },
      {
       "output_type": "stream",
       "stream": "stdout",
       "text": [
        "Epoch 130, CIFAR-10 Batch 5:  Loss:     1.1551 Validation Accuracy: 0.569000\n"
       ]
      },
      {
       "output_type": "stream",
       "stream": "stdout",
       "text": [
        "Epoch 131, CIFAR-10 Batch 1:  Loss:     0.9005 Validation Accuracy: 0.557600"
       ]
      },
      {
       "output_type": "stream",
       "stream": "stdout",
       "text": [
        "\n"
       ]
      },
      {
       "output_type": "stream",
       "stream": "stdout",
       "text": [
        "Epoch 131, CIFAR-10 Batch 2:  "
       ]
      },
      {
       "output_type": "stream",
       "stream": "stdout",
       "text": [
        "Loss:     1.1525 Validation Accuracy: 0.555400\n"
       ]
      },
      {
       "output_type": "stream",
       "stream": "stdout",
       "text": [
        "Epoch 131, CIFAR-10 Batch 3:  "
       ]
      },
      {
       "output_type": "stream",
       "stream": "stdout",
       "text": [
        "Loss:     1.1523 Validation Accuracy: 0.584600\n"
       ]
      },
      {
       "output_type": "stream",
       "stream": "stdout",
       "text": [
        "Epoch 131, CIFAR-10 Batch 4:  "
       ]
      },
      {
       "output_type": "stream",
       "stream": "stdout",
       "text": [
        "Loss:     0.9806 Validation Accuracy: 0.521400\n"
       ]
      },
      {
       "output_type": "stream",
       "stream": "stdout",
       "text": [
        "Epoch 131, CIFAR-10 Batch 5:  "
       ]
      },
      {
       "output_type": "stream",
       "stream": "stdout",
       "text": [
        "Loss:     1.4953 Validation Accuracy: 0.488600\n"
       ]
      },
      {
       "output_type": "stream",
       "stream": "stdout",
       "text": [
        "Epoch 132, CIFAR-10 Batch 1:  "
       ]
      },
      {
       "output_type": "stream",
       "stream": "stdout",
       "text": [
        "Loss:     0.6259 Validation Accuracy: 0.600000\n"
       ]
      },
      {
       "output_type": "stream",
       "stream": "stdout",
       "text": [
        "Epoch 132, CIFAR-10 Batch 2:  Loss:     1.0847 Validation Accuracy: 0.591400\n"
       ]
      },
      {
       "output_type": "stream",
       "stream": "stdout",
       "text": [
        "Epoch 132, CIFAR-10 Batch 3:  Loss:     1.0006 Validation Accuracy: 0.599600\n"
       ]
      },
      {
       "output_type": "stream",
       "stream": "stdout",
       "text": [
        "Epoch 132, CIFAR-10 Batch 4:  "
       ]
      },
      {
       "output_type": "stream",
       "stream": "stdout",
       "text": [
        "Loss:     0.7060 Validation Accuracy: 0.599600\n"
       ]
      },
      {
       "output_type": "stream",
       "stream": "stdout",
       "text": [
        "Epoch 132, CIFAR-10 Batch 5:  "
       ]
      },
      {
       "output_type": "stream",
       "stream": "stdout",
       "text": [
        "Loss:     1.4171 Validation Accuracy: 0.475200\n"
       ]
      },
      {
       "output_type": "stream",
       "stream": "stdout",
       "text": [
        "Epoch 133, CIFAR-10 Batch 1:  "
       ]
      },
      {
       "output_type": "stream",
       "stream": "stdout",
       "text": [
        "Loss:     0.6957 Validation Accuracy: 0.594000\n"
       ]
      },
      {
       "output_type": "stream",
       "stream": "stdout",
       "text": [
        "Epoch 133, CIFAR-10 Batch 2:  "
       ]
      },
      {
       "output_type": "stream",
       "stream": "stdout",
       "text": [
        "Loss:     1.1992 Validation Accuracy: 0.568000\n"
       ]
      },
      {
       "output_type": "stream",
       "stream": "stdout",
       "text": [
        "Epoch 133, CIFAR-10 Batch 3:  "
       ]
      },
      {
       "output_type": "stream",
       "stream": "stdout",
       "text": [
        "Loss:     1.2053 Validation Accuracy: 0.571400\n",
        "Epoch 133, CIFAR-10 Batch 4:  "
       ]
      },
      {
       "output_type": "stream",
       "stream": "stdout",
       "text": [
        "Loss:     0.7093 Validation Accuracy: 0.530400\n"
       ]
      },
      {
       "output_type": "stream",
       "stream": "stdout",
       "text": [
        "Epoch 133, CIFAR-10 Batch 5:  "
       ]
      },
      {
       "output_type": "stream",
       "stream": "stdout",
       "text": [
        "Loss:     1.2880 Validation Accuracy: 0.520000\n"
       ]
      },
      {
       "output_type": "stream",
       "stream": "stdout",
       "text": [
        "Epoch 134, CIFAR-10 Batch 1:  Loss:     0.6536 Validation Accuracy: 0.596400"
       ]
      },
      {
       "output_type": "stream",
       "stream": "stdout",
       "text": [
        "\n"
       ]
      },
      {
       "output_type": "stream",
       "stream": "stdout",
       "text": [
        "Epoch 134, CIFAR-10 Batch 2:  Loss:     1.1523 Validation Accuracy: 0.542200"
       ]
      },
      {
       "output_type": "stream",
       "stream": "stdout",
       "text": [
        "\n"
       ]
      },
      {
       "output_type": "stream",
       "stream": "stdout",
       "text": [
        "Epoch 134, CIFAR-10 Batch 3:  "
       ]
      },
      {
       "output_type": "stream",
       "stream": "stdout",
       "text": [
        "Loss:     0.9148 Validation Accuracy: 0.586800\n"
       ]
      },
      {
       "output_type": "stream",
       "stream": "stdout",
       "text": [
        "Epoch 134, CIFAR-10 Batch 4:  "
       ]
      },
      {
       "output_type": "stream",
       "stream": "stdout",
       "text": [
        "Loss:     0.7404 Validation Accuracy: 0.591000\n"
       ]
      },
      {
       "output_type": "stream",
       "stream": "stdout",
       "text": [
        "Epoch 134, CIFAR-10 Batch 5:  "
       ]
      },
      {
       "output_type": "stream",
       "stream": "stdout",
       "text": [
        "Loss:     1.0325 Validation Accuracy: 0.556000\n"
       ]
      },
      {
       "output_type": "stream",
       "stream": "stdout",
       "text": [
        "Epoch 135, CIFAR-10 Batch 1:  "
       ]
      },
      {
       "output_type": "stream",
       "stream": "stdout",
       "text": [
        "Loss:     0.7106 Validation Accuracy: 0.585200\n"
       ]
      },
      {
       "output_type": "stream",
       "stream": "stdout",
       "text": [
        "Epoch 135, CIFAR-10 Batch 2:  "
       ]
      },
      {
       "output_type": "stream",
       "stream": "stdout",
       "text": [
        "Loss:     1.0495 Validation Accuracy: 0.560200\n"
       ]
      },
      {
       "output_type": "stream",
       "stream": "stdout",
       "text": [
        "Epoch 135, CIFAR-10 Batch 3:  "
       ]
      },
      {
       "output_type": "stream",
       "stream": "stdout",
       "text": [
        "Loss:     1.0339 Validation Accuracy: 0.582800\n"
       ]
      },
      {
       "output_type": "stream",
       "stream": "stdout",
       "text": [
        "Epoch 135, CIFAR-10 Batch 4:  "
       ]
      },
      {
       "output_type": "stream",
       "stream": "stdout",
       "text": [
        "Loss:     0.6372 Validation Accuracy: 0.577200\n"
       ]
      },
      {
       "output_type": "stream",
       "stream": "stdout",
       "text": [
        "Epoch 135, CIFAR-10 Batch 5:  "
       ]
      },
      {
       "output_type": "stream",
       "stream": "stdout",
       "text": [
        "Loss:     1.0523 Validation Accuracy: 0.555400\n"
       ]
      },
      {
       "output_type": "stream",
       "stream": "stdout",
       "text": [
        "Epoch 136, CIFAR-10 Batch 1:  Loss:     0.6992 Validation Accuracy: 0.587000\n"
       ]
      },
      {
       "output_type": "stream",
       "stream": "stdout",
       "text": [
        "Epoch 136, CIFAR-10 Batch 2:  "
       ]
      },
      {
       "output_type": "stream",
       "stream": "stdout",
       "text": [
        "Loss:     1.0463 Validation Accuracy: 0.582400\n"
       ]
      },
      {
       "output_type": "stream",
       "stream": "stdout",
       "text": [
        "Epoch 136, CIFAR-10 Batch 3:  "
       ]
      },
      {
       "output_type": "stream",
       "stream": "stdout",
       "text": [
        "Loss:     1.0602 Validation Accuracy: 0.556200\n"
       ]
      },
      {
       "output_type": "stream",
       "stream": "stdout",
       "text": [
        "Epoch 136, CIFAR-10 Batch 4:  "
       ]
      },
      {
       "output_type": "stream",
       "stream": "stdout",
       "text": [
        "Loss:     0.6198 Validation Accuracy: 0.592600\n"
       ]
      },
      {
       "output_type": "stream",
       "stream": "stdout",
       "text": [
        "Epoch 136, CIFAR-10 Batch 5:  Loss:     1.1437 Validation Accuracy: 0.519600\n"
       ]
      },
      {
       "output_type": "stream",
       "stream": "stdout",
       "text": [
        "Epoch 137, CIFAR-10 Batch 1:  "
       ]
      },
      {
       "output_type": "stream",
       "stream": "stdout",
       "text": [
        "Loss:     0.6648 Validation Accuracy: 0.571400\n"
       ]
      },
      {
       "output_type": "stream",
       "stream": "stdout",
       "text": [
        "Epoch 137, CIFAR-10 Batch 2:  "
       ]
      },
      {
       "output_type": "stream",
       "stream": "stdout",
       "text": [
        "Loss:     1.1259 Validation Accuracy: 0.566200\n"
       ]
      },
      {
       "output_type": "stream",
       "stream": "stdout",
       "text": [
        "Epoch 137, CIFAR-10 Batch 3:  Loss:     0.9841 Validation Accuracy: 0.599000"
       ]
      },
      {
       "output_type": "stream",
       "stream": "stdout",
       "text": [
        "\n"
       ]
      },
      {
       "output_type": "stream",
       "stream": "stdout",
       "text": [
        "Epoch 137, CIFAR-10 Batch 4:  "
       ]
      },
      {
       "output_type": "stream",
       "stream": "stdout",
       "text": [
        "Loss:     0.7711 Validation Accuracy: 0.527600\n"
       ]
      },
      {
       "output_type": "stream",
       "stream": "stdout",
       "text": [
        "Epoch 137, CIFAR-10 Batch 5:  "
       ]
      },
      {
       "output_type": "stream",
       "stream": "stdout",
       "text": [
        "Loss:     1.4272 Validation Accuracy: 0.525400\n"
       ]
      },
      {
       "output_type": "stream",
       "stream": "stdout",
       "text": [
        "Epoch 138, CIFAR-10 Batch 1:  Loss:     0.5867 Validation Accuracy: 0.604000\n"
       ]
      },
      {
       "output_type": "stream",
       "stream": "stdout",
       "text": [
        "Epoch 138, CIFAR-10 Batch 2:  "
       ]
      },
      {
       "output_type": "stream",
       "stream": "stdout",
       "text": [
        "Loss:     0.9401 Validation Accuracy: 0.595000\n"
       ]
      },
      {
       "output_type": "stream",
       "stream": "stdout",
       "text": [
        "Epoch 138, CIFAR-10 Batch 3:  "
       ]
      },
      {
       "output_type": "stream",
       "stream": "stdout",
       "text": [
        "Loss:     1.0523 Validation Accuracy: 0.586400\n"
       ]
      },
      {
       "output_type": "stream",
       "stream": "stdout",
       "text": [
        "Epoch 138, CIFAR-10 Batch 4:  Loss:     0.7210 Validation Accuracy: 0.596200\n"
       ]
      },
      {
       "output_type": "stream",
       "stream": "stdout",
       "text": [
        "Epoch 138, CIFAR-10 Batch 5:  "
       ]
      },
      {
       "output_type": "stream",
       "stream": "stdout",
       "text": [
        "Loss:     1.2740 Validation Accuracy: 0.516600\n"
       ]
      },
      {
       "output_type": "stream",
       "stream": "stdout",
       "text": [
        "Epoch 139, CIFAR-10 Batch 1:  Loss:     0.6563 Validation Accuracy: 0.591800"
       ]
      },
      {
       "output_type": "stream",
       "stream": "stdout",
       "text": [
        "\n"
       ]
      },
      {
       "output_type": "stream",
       "stream": "stdout",
       "text": [
        "Epoch 139, CIFAR-10 Batch 2:  Loss:     1.1456 Validation Accuracy: 0.589800"
       ]
      },
      {
       "output_type": "stream",
       "stream": "stdout",
       "text": [
        "\n"
       ]
      },
      {
       "output_type": "stream",
       "stream": "stdout",
       "text": [
        "Epoch 139, CIFAR-10 Batch 3:  "
       ]
      },
      {
       "output_type": "stream",
       "stream": "stdout",
       "text": [
        "Loss:     0.9120 Validation Accuracy: 0.593800\n"
       ]
      },
      {
       "output_type": "stream",
       "stream": "stdout",
       "text": [
        "Epoch 139, CIFAR-10 Batch 4:  "
       ]
      },
      {
       "output_type": "stream",
       "stream": "stdout",
       "text": [
        "Loss:     0.7706 Validation Accuracy: 0.519600\n"
       ]
      },
      {
       "output_type": "stream",
       "stream": "stdout",
       "text": [
        "Epoch 139, CIFAR-10 Batch 5:  Loss:     1.5465 Validation Accuracy: 0.456600\n"
       ]
      },
      {
       "output_type": "stream",
       "stream": "stdout",
       "text": [
        "Epoch 140, CIFAR-10 Batch 1:  "
       ]
      },
      {
       "output_type": "stream",
       "stream": "stdout",
       "text": [
        "Loss:     0.6538 Validation Accuracy: 0.572200\n"
       ]
      },
      {
       "output_type": "stream",
       "stream": "stdout",
       "text": [
        "Epoch 140, CIFAR-10 Batch 2:  "
       ]
      },
      {
       "output_type": "stream",
       "stream": "stdout",
       "text": [
        "Loss:     1.1886 Validation Accuracy: 0.538600\n"
       ]
      },
      {
       "output_type": "stream",
       "stream": "stdout",
       "text": [
        "Epoch 140, CIFAR-10 Batch 3:  "
       ]
      },
      {
       "output_type": "stream",
       "stream": "stdout",
       "text": [
        "Loss:     1.0881 Validation Accuracy: 0.597800\n"
       ]
      },
      {
       "output_type": "stream",
       "stream": "stdout",
       "text": [
        "Epoch 140, CIFAR-10 Batch 4:  "
       ]
      },
      {
       "output_type": "stream",
       "stream": "stdout",
       "text": [
        "Loss:     0.7318 Validation Accuracy: 0.606400\n"
       ]
      },
      {
       "output_type": "stream",
       "stream": "stdout",
       "text": [
        "Epoch 140, CIFAR-10 Batch 5:  "
       ]
      },
      {
       "output_type": "stream",
       "stream": "stdout",
       "text": [
        "Loss:     1.2909 Validation Accuracy: 0.473200\n"
       ]
      },
      {
       "output_type": "stream",
       "stream": "stdout",
       "text": [
        "Epoch 141, CIFAR-10 Batch 1:  "
       ]
      },
      {
       "output_type": "stream",
       "stream": "stdout",
       "text": [
        "Loss:     0.8065 Validation Accuracy: 0.581400\n"
       ]
      },
      {
       "output_type": "stream",
       "stream": "stdout",
       "text": [
        "Epoch 141, CIFAR-10 Batch 2:  "
       ]
      },
      {
       "output_type": "stream",
       "stream": "stdout",
       "text": [
        "Loss:     1.1713 Validation Accuracy: 0.541200\n"
       ]
      },
      {
       "output_type": "stream",
       "stream": "stdout",
       "text": [
        "Epoch 141, CIFAR-10 Batch 3:  Loss:     0.9632 Validation Accuracy: 0.602200\n"
       ]
      },
      {
       "output_type": "stream",
       "stream": "stdout",
       "text": [
        "Epoch 141, CIFAR-10 Batch 4:  "
       ]
      },
      {
       "output_type": "stream",
       "stream": "stdout",
       "text": [
        "Loss:     0.7697 Validation Accuracy: 0.584400\n"
       ]
      },
      {
       "output_type": "stream",
       "stream": "stdout",
       "text": [
        "Epoch 141, CIFAR-10 Batch 5:  "
       ]
      },
      {
       "output_type": "stream",
       "stream": "stdout",
       "text": [
        "Loss:     1.0888 Validation Accuracy: 0.566400\n"
       ]
      },
      {
       "output_type": "stream",
       "stream": "stdout",
       "text": [
        "Epoch 142, CIFAR-10 Batch 1:  "
       ]
      },
      {
       "output_type": "stream",
       "stream": "stdout",
       "text": [
        "Loss:     0.6481 Validation Accuracy: 0.586000\n"
       ]
      },
      {
       "output_type": "stream",
       "stream": "stdout",
       "text": [
        "Epoch 142, CIFAR-10 Batch 2:  Loss:     0.8725 Validation Accuracy: 0.613800\n"
       ]
      },
      {
       "output_type": "stream",
       "stream": "stdout",
       "text": [
        "Epoch 142, CIFAR-10 Batch 3:  Loss:     1.3049 Validation Accuracy: 0.542400\n"
       ]
      },
      {
       "output_type": "stream",
       "stream": "stdout",
       "text": [
        "Epoch 142, CIFAR-10 Batch 4:  "
       ]
      },
      {
       "output_type": "stream",
       "stream": "stdout",
       "text": [
        "Loss:     0.7180 Validation Accuracy: 0.614000\n"
       ]
      },
      {
       "output_type": "stream",
       "stream": "stdout",
       "text": [
        "Epoch 142, CIFAR-10 Batch 5:  "
       ]
      },
      {
       "output_type": "stream",
       "stream": "stdout",
       "text": [
        "Loss:     1.3244 Validation Accuracy: 0.546400\n"
       ]
      },
      {
       "output_type": "stream",
       "stream": "stdout",
       "text": [
        "Epoch 143, CIFAR-10 Batch 1:  "
       ]
      },
      {
       "output_type": "stream",
       "stream": "stdout",
       "text": [
        "Loss:     0.6741 Validation Accuracy: 0.609200\n",
        "Epoch 143, CIFAR-10 Batch 2:  "
       ]
      },
      {
       "output_type": "stream",
       "stream": "stdout",
       "text": [
        "Loss:     0.8560 Validation Accuracy: 0.587600\n"
       ]
      },
      {
       "output_type": "stream",
       "stream": "stdout",
       "text": [
        "Epoch 143, CIFAR-10 Batch 3:  "
       ]
      },
      {
       "output_type": "stream",
       "stream": "stdout",
       "text": [
        "Loss:     1.1828 Validation Accuracy: 0.569000\n"
       ]
      },
      {
       "output_type": "stream",
       "stream": "stdout",
       "text": [
        "Epoch 143, CIFAR-10 Batch 4:  "
       ]
      },
      {
       "output_type": "stream",
       "stream": "stdout",
       "text": [
        "Loss:     0.6468 Validation Accuracy: 0.577400\n"
       ]
      },
      {
       "output_type": "stream",
       "stream": "stdout",
       "text": [
        "Epoch 143, CIFAR-10 Batch 5:  "
       ]
      },
      {
       "output_type": "stream",
       "stream": "stdout",
       "text": [
        "Loss:     1.0633 Validation Accuracy: 0.530200\n"
       ]
      },
      {
       "output_type": "stream",
       "stream": "stdout",
       "text": [
        "Epoch 144, CIFAR-10 Batch 1:  Loss:     0.5482 Validation Accuracy: 0.620600\n"
       ]
      },
      {
       "output_type": "stream",
       "stream": "stdout",
       "text": [
        "Epoch 144, CIFAR-10 Batch 2:  "
       ]
      },
      {
       "output_type": "stream",
       "stream": "stdout",
       "text": [
        "Loss:     1.0232 Validation Accuracy: 0.609400\n"
       ]
      },
      {
       "output_type": "stream",
       "stream": "stdout",
       "text": [
        "Epoch 144, CIFAR-10 Batch 3:  Loss:     1.0356 Validation Accuracy: 0.587800"
       ]
      },
      {
       "output_type": "stream",
       "stream": "stdout",
       "text": [
        "\n"
       ]
      },
      {
       "output_type": "stream",
       "stream": "stdout",
       "text": [
        "Epoch 144, CIFAR-10 Batch 4:  "
       ]
      },
      {
       "output_type": "stream",
       "stream": "stdout",
       "text": [
        "Loss:     0.6997 Validation Accuracy: 0.609800\n"
       ]
      },
      {
       "output_type": "stream",
       "stream": "stdout",
       "text": [
        "Epoch 144, CIFAR-10 Batch 5:  "
       ]
      },
      {
       "output_type": "stream",
       "stream": "stdout",
       "text": [
        "Loss:     1.0794 Validation Accuracy: 0.566000\n"
       ]
      },
      {
       "output_type": "stream",
       "stream": "stdout",
       "text": [
        "Epoch 145, CIFAR-10 Batch 1:  "
       ]
      },
      {
       "output_type": "stream",
       "stream": "stdout",
       "text": [
        "Loss:     0.5571 Validation Accuracy: 0.602000\n"
       ]
      },
      {
       "output_type": "stream",
       "stream": "stdout",
       "text": [
        "Epoch 145, CIFAR-10 Batch 2:  "
       ]
      },
      {
       "output_type": "stream",
       "stream": "stdout",
       "text": [
        "Loss:     1.3217 Validation Accuracy: 0.499200\n"
       ]
      },
      {
       "output_type": "stream",
       "stream": "stdout",
       "text": [
        "Epoch 145, CIFAR-10 Batch 3:  "
       ]
      },
      {
       "output_type": "stream",
       "stream": "stdout",
       "text": [
        "Loss:     1.2308 Validation Accuracy: 0.569600\n"
       ]
      },
      {
       "output_type": "stream",
       "stream": "stdout",
       "text": [
        "Epoch 145, CIFAR-10 Batch 4:  "
       ]
      },
      {
       "output_type": "stream",
       "stream": "stdout",
       "text": [
        "Loss:     0.6699 Validation Accuracy: 0.579800\n"
       ]
      },
      {
       "output_type": "stream",
       "stream": "stdout",
       "text": [
        "Epoch 145, CIFAR-10 Batch 5:  "
       ]
      },
      {
       "output_type": "stream",
       "stream": "stdout",
       "text": [
        "Loss:     1.2493 Validation Accuracy: 0.495800\n"
       ]
      },
      {
       "output_type": "stream",
       "stream": "stdout",
       "text": [
        "Epoch 146, CIFAR-10 Batch 1:  "
       ]
      },
      {
       "output_type": "stream",
       "stream": "stdout",
       "text": [
        "Loss:     0.7615 Validation Accuracy: 0.565000\n"
       ]
      },
      {
       "output_type": "stream",
       "stream": "stdout",
       "text": [
        "Epoch 146, CIFAR-10 Batch 2:  "
       ]
      },
      {
       "output_type": "stream",
       "stream": "stdout",
       "text": [
        "Loss:     1.0117 Validation Accuracy: 0.585200\n"
       ]
      },
      {
       "output_type": "stream",
       "stream": "stdout",
       "text": [
        "Epoch 146, CIFAR-10 Batch 3:  Loss:     1.0898 Validation Accuracy: 0.599800\n"
       ]
      },
      {
       "output_type": "stream",
       "stream": "stdout",
       "text": [
        "Epoch 146, CIFAR-10 Batch 4:  "
       ]
      },
      {
       "output_type": "stream",
       "stream": "stdout",
       "text": [
        "Loss:     0.6789 Validation Accuracy: 0.578600\n"
       ]
      },
      {
       "output_type": "stream",
       "stream": "stdout",
       "text": [
        "Epoch 146, CIFAR-10 Batch 5:  "
       ]
      },
      {
       "output_type": "stream",
       "stream": "stdout",
       "text": [
        "Loss:     1.4228 Validation Accuracy: 0.509000\n"
       ]
      },
      {
       "output_type": "stream",
       "stream": "stdout",
       "text": [
        "Epoch 147, CIFAR-10 Batch 1:  "
       ]
      },
      {
       "output_type": "stream",
       "stream": "stdout",
       "text": [
        "Loss:     0.5896 Validation Accuracy: 0.611400\n"
       ]
      },
      {
       "output_type": "stream",
       "stream": "stdout",
       "text": [
        "Epoch 147, CIFAR-10 Batch 2:  "
       ]
      },
      {
       "output_type": "stream",
       "stream": "stdout",
       "text": [
        "Loss:     0.9433 Validation Accuracy: 0.566400\n"
       ]
      },
      {
       "output_type": "stream",
       "stream": "stdout",
       "text": [
        "Epoch 147, CIFAR-10 Batch 3:  "
       ]
      },
      {
       "output_type": "stream",
       "stream": "stdout",
       "text": [
        "Loss:     0.9391 Validation Accuracy: 0.599800\n"
       ]
      },
      {
       "output_type": "stream",
       "stream": "stdout",
       "text": [
        "Epoch 147, CIFAR-10 Batch 4:  "
       ]
      },
      {
       "output_type": "stream",
       "stream": "stdout",
       "text": [
        "Loss:     0.6156 Validation Accuracy: 0.594600\n"
       ]
      },
      {
       "output_type": "stream",
       "stream": "stdout",
       "text": [
        "Epoch 147, CIFAR-10 Batch 5:  "
       ]
      },
      {
       "output_type": "stream",
       "stream": "stdout",
       "text": [
        "Loss:     1.0925 Validation Accuracy: 0.571200\n"
       ]
      },
      {
       "output_type": "stream",
       "stream": "stdout",
       "text": [
        "Epoch 148, CIFAR-10 Batch 1:  "
       ]
      },
      {
       "output_type": "stream",
       "stream": "stdout",
       "text": [
        "Loss:     0.6029 Validation Accuracy: 0.578600\n"
       ]
      },
      {
       "output_type": "stream",
       "stream": "stdout",
       "text": [
        "Epoch 148, CIFAR-10 Batch 2:  Loss:     1.0204 Validation Accuracy: 0.540200"
       ]
      },
      {
       "output_type": "stream",
       "stream": "stdout",
       "text": [
        "\n"
       ]
      },
      {
       "output_type": "stream",
       "stream": "stdout",
       "text": [
        "Epoch 148, CIFAR-10 Batch 3:  "
       ]
      },
      {
       "output_type": "stream",
       "stream": "stdout",
       "text": [
        "Loss:     0.9248 Validation Accuracy: 0.603400\n"
       ]
      },
      {
       "output_type": "stream",
       "stream": "stdout",
       "text": [
        "Epoch 148, CIFAR-10 Batch 4:  "
       ]
      },
      {
       "output_type": "stream",
       "stream": "stdout",
       "text": [
        "Loss:     0.7240 Validation Accuracy: 0.578800\n"
       ]
      },
      {
       "output_type": "stream",
       "stream": "stdout",
       "text": [
        "Epoch 148, CIFAR-10 Batch 5:  "
       ]
      },
      {
       "output_type": "stream",
       "stream": "stdout",
       "text": [
        "Loss:     1.0923 Validation Accuracy: 0.525400\n"
       ]
      },
      {
       "output_type": "stream",
       "stream": "stdout",
       "text": [
        "Epoch 149, CIFAR-10 Batch 1:  "
       ]
      },
      {
       "output_type": "stream",
       "stream": "stdout",
       "text": [
        "Loss:     0.6401 Validation Accuracy: 0.601800\n"
       ]
      },
      {
       "output_type": "stream",
       "stream": "stdout",
       "text": [
        "Epoch 149, CIFAR-10 Batch 2:  "
       ]
      },
      {
       "output_type": "stream",
       "stream": "stdout",
       "text": [
        "Loss:     0.9757 Validation Accuracy: 0.554600\n"
       ]
      },
      {
       "output_type": "stream",
       "stream": "stdout",
       "text": [
        "Epoch 149, CIFAR-10 Batch 3:  "
       ]
      },
      {
       "output_type": "stream",
       "stream": "stdout",
       "text": [
        "Loss:     1.1009 Validation Accuracy: 0.577800\n"
       ]
      },
      {
       "output_type": "stream",
       "stream": "stdout",
       "text": [
        "Epoch 149, CIFAR-10 Batch 4:  Loss:     0.7928 Validation Accuracy: 0.572800"
       ]
      },
      {
       "output_type": "stream",
       "stream": "stdout",
       "text": [
        "\n"
       ]
      },
      {
       "output_type": "stream",
       "stream": "stdout",
       "text": [
        "Epoch 149, CIFAR-10 Batch 5:  "
       ]
      },
      {
       "output_type": "stream",
       "stream": "stdout",
       "text": [
        "Loss:     0.9764 Validation Accuracy: 0.584200\n"
       ]
      },
      {
       "output_type": "stream",
       "stream": "stdout",
       "text": [
        "Epoch 150, CIFAR-10 Batch 1:  Loss:     0.6641 Validation Accuracy: 0.629000\n"
       ]
      },
      {
       "output_type": "stream",
       "stream": "stdout",
       "text": [
        "Epoch 150, CIFAR-10 Batch 2:  "
       ]
      },
      {
       "output_type": "stream",
       "stream": "stdout",
       "text": [
        "Loss:     0.9906 Validation Accuracy: 0.574200\n"
       ]
      },
      {
       "output_type": "stream",
       "stream": "stdout",
       "text": [
        "Epoch 150, CIFAR-10 Batch 3:  "
       ]
      },
      {
       "output_type": "stream",
       "stream": "stdout",
       "text": [
        "Loss:     1.0416 Validation Accuracy: 0.561600\n"
       ]
      },
      {
       "output_type": "stream",
       "stream": "stdout",
       "text": [
        "Epoch 150, CIFAR-10 Batch 4:  "
       ]
      },
      {
       "output_type": "stream",
       "stream": "stdout",
       "text": [
        "Loss:     0.7027 Validation Accuracy: 0.622200\n"
       ]
      },
      {
       "output_type": "stream",
       "stream": "stdout",
       "text": [
        "Epoch 150, CIFAR-10 Batch 5:  "
       ]
      },
      {
       "output_type": "stream",
       "stream": "stdout",
       "text": [
        "Loss:     0.9907 Validation Accuracy: 0.554200\n"
       ]
      },
      {
       "output_type": "stream",
       "stream": "stdout",
       "text": [
        "Epoch 151, CIFAR-10 Batch 1:  "
       ]
      },
      {
       "output_type": "stream",
       "stream": "stdout",
       "text": [
        "Loss:     0.5604 Validation Accuracy: 0.608000\n"
       ]
      },
      {
       "output_type": "stream",
       "stream": "stdout",
       "text": [
        "Epoch 151, CIFAR-10 Batch 2:  "
       ]
      },
      {
       "output_type": "stream",
       "stream": "stdout",
       "text": [
        "Loss:     1.0093 Validation Accuracy: 0.564800\n"
       ]
      },
      {
       "output_type": "stream",
       "stream": "stdout",
       "text": [
        "Epoch 151, CIFAR-10 Batch 3:  "
       ]
      },
      {
       "output_type": "stream",
       "stream": "stdout",
       "text": [
        "Loss:     1.0131 Validation Accuracy: 0.592200\n"
       ]
      },
      {
       "output_type": "stream",
       "stream": "stdout",
       "text": [
        "Epoch 151, CIFAR-10 Batch 4:  Loss:     0.7019 Validation Accuracy: 0.604400"
       ]
      },
      {
       "output_type": "stream",
       "stream": "stdout",
       "text": [
        "\n"
       ]
      },
      {
       "output_type": "stream",
       "stream": "stdout",
       "text": [
        "Epoch 151, CIFAR-10 Batch 5:  "
       ]
      },
      {
       "output_type": "stream",
       "stream": "stdout",
       "text": [
        "Loss:     1.0878 Validation Accuracy: 0.604000\n"
       ]
      },
      {
       "output_type": "stream",
       "stream": "stdout",
       "text": [
        "Epoch 152, CIFAR-10 Batch 1:  "
       ]
      },
      {
       "output_type": "stream",
       "stream": "stdout",
       "text": [
        "Loss:     0.6083 Validation Accuracy: 0.619600\n"
       ]
      },
      {
       "output_type": "stream",
       "stream": "stdout",
       "text": [
        "Epoch 152, CIFAR-10 Batch 2:  "
       ]
      },
      {
       "output_type": "stream",
       "stream": "stdout",
       "text": [
        "Loss:     0.7497 Validation Accuracy: 0.612400\n"
       ]
      },
      {
       "output_type": "stream",
       "stream": "stdout",
       "text": [
        "Epoch 152, CIFAR-10 Batch 3:  "
       ]
      },
      {
       "output_type": "stream",
       "stream": "stdout",
       "text": [
        "Loss:     0.9334 Validation Accuracy: 0.620200\n"
       ]
      },
      {
       "output_type": "stream",
       "stream": "stdout",
       "text": [
        "Epoch 152, CIFAR-10 Batch 4:  "
       ]
      },
      {
       "output_type": "stream",
       "stream": "stdout",
       "text": [
        "Loss:     0.5112 Validation Accuracy: 0.616600\n"
       ]
      },
      {
       "output_type": "stream",
       "stream": "stdout",
       "text": [
        "Epoch 152, CIFAR-10 Batch 5:  "
       ]
      },
      {
       "output_type": "stream",
       "stream": "stdout",
       "text": [
        "Loss:     0.9152 Validation Accuracy: 0.569400\n"
       ]
      },
      {
       "output_type": "stream",
       "stream": "stdout",
       "text": [
        "Epoch 153, CIFAR-10 Batch 1:  "
       ]
      },
      {
       "output_type": "stream",
       "stream": "stdout",
       "text": [
        "Loss:     0.6240 Validation Accuracy: 0.619800\n"
       ]
      },
      {
       "output_type": "stream",
       "stream": "stdout",
       "text": [
        "Epoch 153, CIFAR-10 Batch 2:  "
       ]
      },
      {
       "output_type": "stream",
       "stream": "stdout",
       "text": [
        "Loss:     0.9516 Validation Accuracy: 0.549800\n"
       ]
      },
      {
       "output_type": "stream",
       "stream": "stdout",
       "text": [
        "Epoch 153, CIFAR-10 Batch 3:  "
       ]
      },
      {
       "output_type": "stream",
       "stream": "stdout",
       "text": [
        "Loss:     0.9731 Validation Accuracy: 0.558000\n"
       ]
      },
      {
       "output_type": "stream",
       "stream": "stdout",
       "text": [
        "Epoch 153, CIFAR-10 Batch 4:  Loss:     0.6289 Validation Accuracy: 0.612400\n"
       ]
      },
      {
       "output_type": "stream",
       "stream": "stdout",
       "text": [
        "Epoch 153, CIFAR-10 Batch 5:  Loss:     1.4877 Validation Accuracy: 0.510800\n"
       ]
      },
      {
       "output_type": "stream",
       "stream": "stdout",
       "text": [
        "Epoch 154, CIFAR-10 Batch 1:  "
       ]
      },
      {
       "output_type": "stream",
       "stream": "stdout",
       "text": [
        "Loss:     0.6519 Validation Accuracy: 0.601600\n"
       ]
      },
      {
       "output_type": "stream",
       "stream": "stdout",
       "text": [
        "Epoch 154, CIFAR-10 Batch 2:  Loss:     1.0765 Validation Accuracy: 0.530600\n"
       ]
      },
      {
       "output_type": "stream",
       "stream": "stdout",
       "text": [
        "Epoch 154, CIFAR-10 Batch 3:  "
       ]
      },
      {
       "output_type": "stream",
       "stream": "stdout",
       "text": [
        "Loss:     1.2086 Validation Accuracy: 0.585400\n"
       ]
      },
      {
       "output_type": "stream",
       "stream": "stdout",
       "text": [
        "Epoch 154, CIFAR-10 Batch 4:  "
       ]
      },
      {
       "output_type": "stream",
       "stream": "stdout",
       "text": [
        "Loss:     0.5919 Validation Accuracy: 0.599400\n"
       ]
      },
      {
       "output_type": "stream",
       "stream": "stdout",
       "text": [
        "Epoch 154, CIFAR-10 Batch 5:  Loss:     0.9935 Validation Accuracy: 0.523800\n"
       ]
      },
      {
       "output_type": "stream",
       "stream": "stdout",
       "text": [
        "Epoch 155, CIFAR-10 Batch 1:  "
       ]
      },
      {
       "output_type": "stream",
       "stream": "stdout",
       "text": [
        "Loss:     0.5563 Validation Accuracy: 0.610600\n"
       ]
      },
      {
       "output_type": "stream",
       "stream": "stdout",
       "text": [
        "Epoch 155, CIFAR-10 Batch 2:  Loss:     0.9335 Validation Accuracy: 0.580000\n"
       ]
      },
      {
       "output_type": "stream",
       "stream": "stdout",
       "text": [
        "Epoch 155, CIFAR-10 Batch 3:  Loss:     1.1051 Validation Accuracy: 0.575800\n"
       ]
      },
      {
       "output_type": "stream",
       "stream": "stdout",
       "text": [
        "Epoch 155, CIFAR-10 Batch 4:  "
       ]
      },
      {
       "output_type": "stream",
       "stream": "stdout",
       "text": [
        "Loss:     0.7053 Validation Accuracy: 0.594800\n"
       ]
      },
      {
       "output_type": "stream",
       "stream": "stdout",
       "text": [
        "Epoch 155, CIFAR-10 Batch 5:  Loss:     0.9934 Validation Accuracy: 0.583800\n"
       ]
      },
      {
       "output_type": "stream",
       "stream": "stdout",
       "text": [
        "Epoch 156, CIFAR-10 Batch 1:  Loss:     0.5393 Validation Accuracy: 0.613800\n"
       ]
      },
      {
       "output_type": "stream",
       "stream": "stdout",
       "text": [
        "Epoch 156, CIFAR-10 Batch 2:  "
       ]
      },
      {
       "output_type": "stream",
       "stream": "stdout",
       "text": [
        "Loss:     1.1144 Validation Accuracy: 0.545800\n"
       ]
      },
      {
       "output_type": "stream",
       "stream": "stdout",
       "text": [
        "Epoch 156, CIFAR-10 Batch 3:  "
       ]
      },
      {
       "output_type": "stream",
       "stream": "stdout",
       "text": [
        "Loss:     1.1534 Validation Accuracy: 0.558400\n"
       ]
      },
      {
       "output_type": "stream",
       "stream": "stdout",
       "text": [
        "Epoch 156, CIFAR-10 Batch 4:  Loss:     0.7597 Validation Accuracy: 0.587200\n"
       ]
      },
      {
       "output_type": "stream",
       "stream": "stdout",
       "text": [
        "Epoch 156, CIFAR-10 Batch 5:  "
       ]
      },
      {
       "output_type": "stream",
       "stream": "stdout",
       "text": [
        "Loss:     1.0528 Validation Accuracy: 0.559200\n"
       ]
      },
      {
       "output_type": "stream",
       "stream": "stdout",
       "text": [
        "Epoch 157, CIFAR-10 Batch 1:  "
       ]
      },
      {
       "output_type": "stream",
       "stream": "stdout",
       "text": [
        "Loss:     0.7493 Validation Accuracy: 0.601400\n"
       ]
      },
      {
       "output_type": "stream",
       "stream": "stdout",
       "text": [
        "Epoch 157, CIFAR-10 Batch 2:  Loss:     0.9672 Validation Accuracy: 0.560200\n"
       ]
      },
      {
       "output_type": "stream",
       "stream": "stdout",
       "text": [
        "Epoch 157, CIFAR-10 Batch 3:  Loss:     0.9976 Validation Accuracy: 0.553200\n"
       ]
      },
      {
       "output_type": "stream",
       "stream": "stdout",
       "text": [
        "Epoch 157, CIFAR-10 Batch 4:  Loss:     0.7706 Validation Accuracy: 0.588200\n"
       ]
      },
      {
       "output_type": "stream",
       "stream": "stdout",
       "text": [
        "Epoch 157, CIFAR-10 Batch 5:  "
       ]
      },
      {
       "output_type": "stream",
       "stream": "stdout",
       "text": [
        "Loss:     1.2613 Validation Accuracy: 0.531600\n"
       ]
      },
      {
       "output_type": "stream",
       "stream": "stdout",
       "text": [
        "Epoch 158, CIFAR-10 Batch 1:  "
       ]
      },
      {
       "output_type": "stream",
       "stream": "stdout",
       "text": [
        "Loss:     0.5714 Validation Accuracy: 0.608200\n"
       ]
      },
      {
       "output_type": "stream",
       "stream": "stdout",
       "text": [
        "Epoch 158, CIFAR-10 Batch 2:  "
       ]
      },
      {
       "output_type": "stream",
       "stream": "stdout",
       "text": [
        "Loss:     0.9341 Validation Accuracy: 0.589000\n"
       ]
      },
      {
       "output_type": "stream",
       "stream": "stdout",
       "text": [
        "Epoch 158, CIFAR-10 Batch 3:  "
       ]
      },
      {
       "output_type": "stream",
       "stream": "stdout",
       "text": [
        "Loss:     0.8540 Validation Accuracy: 0.610400\n"
       ]
      },
      {
       "output_type": "stream",
       "stream": "stdout",
       "text": [
        "Epoch 158, CIFAR-10 Batch 4:  "
       ]
      },
      {
       "output_type": "stream",
       "stream": "stdout",
       "text": [
        "Loss:     0.8201 Validation Accuracy: 0.571800\n"
       ]
      },
      {
       "output_type": "stream",
       "stream": "stdout",
       "text": [
        "Epoch 158, CIFAR-10 Batch 5:  "
       ]
      },
      {
       "output_type": "stream",
       "stream": "stdout",
       "text": [
        "Loss:     1.2989 Validation Accuracy: 0.539800\n"
       ]
      },
      {
       "output_type": "stream",
       "stream": "stdout",
       "text": [
        "Epoch 159, CIFAR-10 Batch 1:  "
       ]
      },
      {
       "output_type": "stream",
       "stream": "stdout",
       "text": [
        "Loss:     0.5454 Validation Accuracy: 0.627000\n"
       ]
      },
      {
       "output_type": "stream",
       "stream": "stdout",
       "text": [
        "Epoch 159, CIFAR-10 Batch 2:  "
       ]
      },
      {
       "output_type": "stream",
       "stream": "stdout",
       "text": [
        "Loss:     0.8185 Validation Accuracy: 0.603000\n"
       ]
      },
      {
       "output_type": "stream",
       "stream": "stdout",
       "text": [
        "Epoch 159, CIFAR-10 Batch 3:  "
       ]
      },
      {
       "output_type": "stream",
       "stream": "stdout",
       "text": [
        "Loss:     1.0637 Validation Accuracy: 0.588000\n"
       ]
      },
      {
       "output_type": "stream",
       "stream": "stdout",
       "text": [
        "Epoch 159, CIFAR-10 Batch 4:  Loss:     0.6672 Validation Accuracy: 0.595400\n"
       ]
      },
      {
       "output_type": "stream",
       "stream": "stdout",
       "text": [
        "Epoch 159, CIFAR-10 Batch 5:  Loss:     1.2291 Validation Accuracy: 0.599200\n"
       ]
      },
      {
       "output_type": "stream",
       "stream": "stdout",
       "text": [
        "Epoch 160, CIFAR-10 Batch 1:  Loss:     0.5108 Validation Accuracy: 0.614800\n"
       ]
      },
      {
       "output_type": "stream",
       "stream": "stdout",
       "text": [
        "Epoch 160, CIFAR-10 Batch 2:  "
       ]
      },
      {
       "output_type": "stream",
       "stream": "stdout",
       "text": [
        "Loss:     0.8087 Validation Accuracy: 0.608800\n"
       ]
      },
      {
       "output_type": "stream",
       "stream": "stdout",
       "text": [
        "Epoch 160, CIFAR-10 Batch 3:  "
       ]
      },
      {
       "output_type": "stream",
       "stream": "stdout",
       "text": [
        "Loss:     0.9806 Validation Accuracy: 0.576800\n"
       ]
      },
      {
       "output_type": "stream",
       "stream": "stdout",
       "text": [
        "Epoch 160, CIFAR-10 Batch 4:  "
       ]
      },
      {
       "output_type": "stream",
       "stream": "stdout",
       "text": [
        "Loss:     0.7307 Validation Accuracy: 0.584000\n"
       ]
      },
      {
       "output_type": "stream",
       "stream": "stdout",
       "text": [
        "Epoch 160, CIFAR-10 Batch 5:  "
       ]
      },
      {
       "output_type": "stream",
       "stream": "stdout",
       "text": [
        "Loss:     1.0725 Validation Accuracy: 0.583200\n"
       ]
      },
      {
       "output_type": "stream",
       "stream": "stdout",
       "text": [
        "Epoch 161, CIFAR-10 Batch 1:  "
       ]
      },
      {
       "output_type": "stream",
       "stream": "stdout",
       "text": [
        "Loss:     0.5143 Validation Accuracy: 0.623600\n"
       ]
      },
      {
       "output_type": "stream",
       "stream": "stdout",
       "text": [
        "Epoch 161, CIFAR-10 Batch 2:  "
       ]
      },
      {
       "output_type": "stream",
       "stream": "stdout",
       "text": [
        "Loss:     1.0177 Validation Accuracy: 0.560000\n"
       ]
      },
      {
       "output_type": "stream",
       "stream": "stdout",
       "text": [
        "Epoch 161, CIFAR-10 Batch 3:  "
       ]
      },
      {
       "output_type": "stream",
       "stream": "stdout",
       "text": [
        "Loss:     1.1500 Validation Accuracy: 0.566000\n"
       ]
      },
      {
       "output_type": "stream",
       "stream": "stdout",
       "text": [
        "Epoch 161, CIFAR-10 Batch 4:  "
       ]
      },
      {
       "output_type": "stream",
       "stream": "stdout",
       "text": [
        "Loss:     0.6346 Validation Accuracy: 0.619800\n"
       ]
      },
      {
       "output_type": "stream",
       "stream": "stdout",
       "text": [
        "Epoch 161, CIFAR-10 Batch 5:  "
       ]
      },
      {
       "output_type": "stream",
       "stream": "stdout",
       "text": [
        "Loss:     1.0434 Validation Accuracy: 0.557200\n"
       ]
      },
      {
       "output_type": "stream",
       "stream": "stdout",
       "text": [
        "Epoch 162, CIFAR-10 Batch 1:  "
       ]
      },
      {
       "output_type": "stream",
       "stream": "stdout",
       "text": [
        "Loss:     0.5667 Validation Accuracy: 0.629000\n"
       ]
      },
      {
       "output_type": "stream",
       "stream": "stdout",
       "text": [
        "Epoch 162, CIFAR-10 Batch 2:  "
       ]
      },
      {
       "output_type": "stream",
       "stream": "stdout",
       "text": [
        "Loss:     0.8802 Validation Accuracy: 0.594400\n"
       ]
      },
      {
       "output_type": "stream",
       "stream": "stdout",
       "text": [
        "Epoch 162, CIFAR-10 Batch 3:  "
       ]
      },
      {
       "output_type": "stream",
       "stream": "stdout",
       "text": [
        "Loss:     1.1264 Validation Accuracy: 0.577400\n"
       ]
      },
      {
       "output_type": "stream",
       "stream": "stdout",
       "text": [
        "Epoch 162, CIFAR-10 Batch 4:  "
       ]
      },
      {
       "output_type": "stream",
       "stream": "stdout",
       "text": [
        "Loss:     0.5511 Validation Accuracy: 0.617600\n"
       ]
      },
      {
       "output_type": "stream",
       "stream": "stdout",
       "text": [
        "Epoch 162, CIFAR-10 Batch 5:  Loss:     1.2463 Validation Accuracy: 0.540200\n"
       ]
      },
      {
       "output_type": "stream",
       "stream": "stdout",
       "text": [
        "Epoch 163, CIFAR-10 Batch 1:  "
       ]
      },
      {
       "output_type": "stream",
       "stream": "stdout",
       "text": [
        "Loss:     0.5865 Validation Accuracy: 0.608200\n"
       ]
      },
      {
       "output_type": "stream",
       "stream": "stdout",
       "text": [
        "Epoch 163, CIFAR-10 Batch 2:  "
       ]
      },
      {
       "output_type": "stream",
       "stream": "stdout",
       "text": [
        "Loss:     0.8100 Validation Accuracy: 0.580400\n"
       ]
      },
      {
       "output_type": "stream",
       "stream": "stdout",
       "text": [
        "Epoch 163, CIFAR-10 Batch 3:  "
       ]
      },
      {
       "output_type": "stream",
       "stream": "stdout",
       "text": [
        "Loss:     1.3508 Validation Accuracy: 0.492800\n"
       ]
      },
      {
       "output_type": "stream",
       "stream": "stdout",
       "text": [
        "Epoch 163, CIFAR-10 Batch 4:  "
       ]
      },
      {
       "output_type": "stream",
       "stream": "stdout",
       "text": [
        "Loss:     0.6982 Validation Accuracy: 0.583600\n"
       ]
      },
      {
       "output_type": "stream",
       "stream": "stdout",
       "text": [
        "Epoch 163, CIFAR-10 Batch 5:  Loss:     1.1866 Validation Accuracy: 0.608200\n"
       ]
      },
      {
       "output_type": "stream",
       "stream": "stdout",
       "text": [
        "Epoch 164, CIFAR-10 Batch 1:  "
       ]
      },
      {
       "output_type": "stream",
       "stream": "stdout",
       "text": [
        "Loss:     0.5810 Validation Accuracy: 0.638000\n"
       ]
      },
      {
       "output_type": "stream",
       "stream": "stdout",
       "text": [
        "Epoch 164, CIFAR-10 Batch 2:  "
       ]
      },
      {
       "output_type": "stream",
       "stream": "stdout",
       "text": [
        "Loss:     1.1138 Validation Accuracy: 0.516200\n"
       ]
      },
      {
       "output_type": "stream",
       "stream": "stdout",
       "text": [
        "Epoch 164, CIFAR-10 Batch 3:  Loss:     1.0657 Validation Accuracy: 0.558800\n"
       ]
      },
      {
       "output_type": "stream",
       "stream": "stdout",
       "text": [
        "Epoch 164, CIFAR-10 Batch 4:  "
       ]
      },
      {
       "output_type": "stream",
       "stream": "stdout",
       "text": [
        "Loss:     0.6401 Validation Accuracy: 0.626600\n"
       ]
      },
      {
       "output_type": "stream",
       "stream": "stdout",
       "text": [
        "Epoch 164, CIFAR-10 Batch 5:  "
       ]
      },
      {
       "output_type": "stream",
       "stream": "stdout",
       "text": [
        "Loss:     1.3621 Validation Accuracy: 0.517400\n"
       ]
      },
      {
       "output_type": "stream",
       "stream": "stdout",
       "text": [
        "Epoch 165, CIFAR-10 Batch 1:  "
       ]
      },
      {
       "output_type": "stream",
       "stream": "stdout",
       "text": [
        "Loss:     0.5558 Validation Accuracy: 0.595200\n"
       ]
      },
      {
       "output_type": "stream",
       "stream": "stdout",
       "text": [
        "Epoch 165, CIFAR-10 Batch 2:  Loss:     1.0545 Validation Accuracy: 0.590200"
       ]
      },
      {
       "output_type": "stream",
       "stream": "stdout",
       "text": [
        "\n"
       ]
      },
      {
       "output_type": "stream",
       "stream": "stdout",
       "text": [
        "Epoch 165, CIFAR-10 Batch 3:  Loss:     0.8090 Validation Accuracy: 0.603600"
       ]
      },
      {
       "output_type": "stream",
       "stream": "stdout",
       "text": [
        "\n"
       ]
      },
      {
       "output_type": "stream",
       "stream": "stdout",
       "text": [
        "Epoch 165, CIFAR-10 Batch 4:  "
       ]
      },
      {
       "output_type": "stream",
       "stream": "stdout",
       "text": [
        "Loss:     0.6642 Validation Accuracy: 0.569200\n"
       ]
      },
      {
       "output_type": "stream",
       "stream": "stdout",
       "text": [
        "Epoch 165, CIFAR-10 Batch 5:  Loss:     1.1253 Validation Accuracy: 0.561400\n"
       ]
      },
      {
       "output_type": "stream",
       "stream": "stdout",
       "text": [
        "Epoch 166, CIFAR-10 Batch 1:  "
       ]
      },
      {
       "output_type": "stream",
       "stream": "stdout",
       "text": [
        "Loss:     0.5310 Validation Accuracy: 0.615800\n"
       ]
      },
      {
       "output_type": "stream",
       "stream": "stdout",
       "text": [
        "Epoch 166, CIFAR-10 Batch 2:  Loss:     0.8492 Validation Accuracy: 0.562200"
       ]
      },
      {
       "output_type": "stream",
       "stream": "stdout",
       "text": [
        "\n"
       ]
      },
      {
       "output_type": "stream",
       "stream": "stdout",
       "text": [
        "Epoch 166, CIFAR-10 Batch 3:  "
       ]
      },
      {
       "output_type": "stream",
       "stream": "stdout",
       "text": [
        "Loss:     0.8869 Validation Accuracy: 0.601800\n"
       ]
      },
      {
       "output_type": "stream",
       "stream": "stdout",
       "text": [
        "Epoch 166, CIFAR-10 Batch 4:  "
       ]
      },
      {
       "output_type": "stream",
       "stream": "stdout",
       "text": [
        "Loss:     0.5245 Validation Accuracy: 0.609200\n"
       ]
      },
      {
       "output_type": "stream",
       "stream": "stdout",
       "text": [
        "Epoch 166, CIFAR-10 Batch 5:  "
       ]
      },
      {
       "output_type": "stream",
       "stream": "stdout",
       "text": [
        "Loss:     1.4255 Validation Accuracy: 0.508200\n"
       ]
      },
      {
       "output_type": "stream",
       "stream": "stdout",
       "text": [
        "Epoch 167, CIFAR-10 Batch 1:  "
       ]
      },
      {
       "output_type": "stream",
       "stream": "stdout",
       "text": [
        "Loss:     0.5447 Validation Accuracy: 0.624800\n"
       ]
      },
      {
       "output_type": "stream",
       "stream": "stdout",
       "text": [
        "Epoch 167, CIFAR-10 Batch 2:  "
       ]
      },
      {
       "output_type": "stream",
       "stream": "stdout",
       "text": [
        "Loss:     0.8357 Validation Accuracy: 0.583800\n"
       ]
      },
      {
       "output_type": "stream",
       "stream": "stdout",
       "text": [
        "Epoch 167, CIFAR-10 Batch 3:  "
       ]
      },
      {
       "output_type": "stream",
       "stream": "stdout",
       "text": [
        "Loss:     0.8318 Validation Accuracy: 0.589600\n"
       ]
      },
      {
       "output_type": "stream",
       "stream": "stdout",
       "text": [
        "Epoch 167, CIFAR-10 Batch 4:  "
       ]
      },
      {
       "output_type": "stream",
       "stream": "stdout",
       "text": [
        "Loss:     0.6774 Validation Accuracy: 0.594000\n"
       ]
      },
      {
       "output_type": "stream",
       "stream": "stdout",
       "text": [
        "Epoch 167, CIFAR-10 Batch 5:  Loss:     1.1307 Validation Accuracy: 0.567800\n"
       ]
      },
      {
       "output_type": "stream",
       "stream": "stdout",
       "text": [
        "Epoch 168, CIFAR-10 Batch 1:  "
       ]
      },
      {
       "output_type": "stream",
       "stream": "stdout",
       "text": [
        "Loss:     0.7229 Validation Accuracy: 0.582400\n"
       ]
      },
      {
       "output_type": "stream",
       "stream": "stdout",
       "text": [
        "Epoch 168, CIFAR-10 Batch 2:  "
       ]
      },
      {
       "output_type": "stream",
       "stream": "stdout",
       "text": [
        "Loss:     1.1474 Validation Accuracy: 0.510600\n"
       ]
      },
      {
       "output_type": "stream",
       "stream": "stdout",
       "text": [
        "Epoch 168, CIFAR-10 Batch 3:  "
       ]
      },
      {
       "output_type": "stream",
       "stream": "stdout",
       "text": [
        "Loss:     1.1556 Validation Accuracy: 0.568000\n"
       ]
      },
      {
       "output_type": "stream",
       "stream": "stdout",
       "text": [
        "Epoch 168, CIFAR-10 Batch 4:  "
       ]
      },
      {
       "output_type": "stream",
       "stream": "stdout",
       "text": [
        "Loss:     0.6160 Validation Accuracy: 0.585600\n"
       ]
      },
      {
       "output_type": "stream",
       "stream": "stdout",
       "text": [
        "Epoch 168, CIFAR-10 Batch 5:  "
       ]
      },
      {
       "output_type": "stream",
       "stream": "stdout",
       "text": [
        "Loss:     1.1586 Validation Accuracy: 0.530800\n"
       ]
      },
      {
       "output_type": "stream",
       "stream": "stdout",
       "text": [
        "Epoch 169, CIFAR-10 Batch 1:  "
       ]
      },
      {
       "output_type": "stream",
       "stream": "stdout",
       "text": [
        "Loss:     0.5728 Validation Accuracy: 0.617000\n"
       ]
      },
      {
       "output_type": "stream",
       "stream": "stdout",
       "text": [
        "Epoch 169, CIFAR-10 Batch 2:  "
       ]
      },
      {
       "output_type": "stream",
       "stream": "stdout",
       "text": [
        "Loss:     1.1512 Validation Accuracy: 0.553400\n"
       ]
      },
      {
       "output_type": "stream",
       "stream": "stdout",
       "text": [
        "Epoch 169, CIFAR-10 Batch 3:  "
       ]
      },
      {
       "output_type": "stream",
       "stream": "stdout",
       "text": [
        "Loss:     1.0491 Validation Accuracy: 0.577200\n"
       ]
      },
      {
       "output_type": "stream",
       "stream": "stdout",
       "text": [
        "Epoch 169, CIFAR-10 Batch 4:  "
       ]
      },
      {
       "output_type": "stream",
       "stream": "stdout",
       "text": [
        "Loss:     0.7834 Validation Accuracy: 0.526600\n"
       ]
      },
      {
       "output_type": "stream",
       "stream": "stdout",
       "text": [
        "Epoch 169, CIFAR-10 Batch 5:  "
       ]
      },
      {
       "output_type": "stream",
       "stream": "stdout",
       "text": [
        "Loss:     1.0192 Validation Accuracy: 0.573200\n"
       ]
      },
      {
       "output_type": "stream",
       "stream": "stdout",
       "text": [
        "Epoch 170, CIFAR-10 Batch 1:  "
       ]
      },
      {
       "output_type": "stream",
       "stream": "stdout",
       "text": [
        "Loss:     0.6642 Validation Accuracy: 0.570400\n"
       ]
      },
      {
       "output_type": "stream",
       "stream": "stdout",
       "text": [
        "Epoch 170, CIFAR-10 Batch 2:  "
       ]
      },
      {
       "output_type": "stream",
       "stream": "stdout",
       "text": [
        "Loss:     0.8380 Validation Accuracy: 0.592000\n"
       ]
      },
      {
       "output_type": "stream",
       "stream": "stdout",
       "text": [
        "Epoch 170, CIFAR-10 Batch 3:  "
       ]
      },
      {
       "output_type": "stream",
       "stream": "stdout",
       "text": [
        "Loss:     1.0917 Validation Accuracy: 0.566200\n"
       ]
      },
      {
       "output_type": "stream",
       "stream": "stdout",
       "text": [
        "Epoch 170, CIFAR-10 Batch 4:  "
       ]
      },
      {
       "output_type": "stream",
       "stream": "stdout",
       "text": [
        "Loss:     0.6792 Validation Accuracy: 0.605400\n"
       ]
      },
      {
       "output_type": "stream",
       "stream": "stdout",
       "text": [
        "Epoch 170, CIFAR-10 Batch 5:  "
       ]
      },
      {
       "output_type": "stream",
       "stream": "stdout",
       "text": [
        "Loss:     1.2618 Validation Accuracy: 0.586000\n"
       ]
      },
      {
       "output_type": "stream",
       "stream": "stdout",
       "text": [
        "Epoch 171, CIFAR-10 Batch 1:  Loss:     0.5584 Validation Accuracy: 0.630400\n"
       ]
      },
      {
       "output_type": "stream",
       "stream": "stdout",
       "text": [
        "Epoch 171, CIFAR-10 Batch 2:  "
       ]
      },
      {
       "output_type": "stream",
       "stream": "stdout",
       "text": [
        "Loss:     0.9252 Validation Accuracy: 0.587000\n",
        "Epoch 171, CIFAR-10 Batch 3:  "
       ]
      },
      {
       "output_type": "stream",
       "stream": "stdout",
       "text": [
        "Loss:     0.8578 Validation Accuracy: 0.584400\n"
       ]
      },
      {
       "output_type": "stream",
       "stream": "stdout",
       "text": [
        "Epoch 171, CIFAR-10 Batch 4:  "
       ]
      },
      {
       "output_type": "stream",
       "stream": "stdout",
       "text": [
        "Loss:     0.7085 Validation Accuracy: 0.613400\n"
       ]
      },
      {
       "output_type": "stream",
       "stream": "stdout",
       "text": [
        "Epoch 171, CIFAR-10 Batch 5:  Loss:     0.9566 Validation Accuracy: 0.567400"
       ]
      },
      {
       "output_type": "stream",
       "stream": "stdout",
       "text": [
        "\n"
       ]
      },
      {
       "output_type": "stream",
       "stream": "stdout",
       "text": [
        "Epoch 172, CIFAR-10 Batch 1:  "
       ]
      },
      {
       "output_type": "stream",
       "stream": "stdout",
       "text": [
        "Loss:     0.6842 Validation Accuracy: 0.600400\n"
       ]
      },
      {
       "output_type": "stream",
       "stream": "stdout",
       "text": [
        "Epoch 172, CIFAR-10 Batch 2:  "
       ]
      },
      {
       "output_type": "stream",
       "stream": "stdout",
       "text": [
        "Loss:     0.9446 Validation Accuracy: 0.593600\n"
       ]
      },
      {
       "output_type": "stream",
       "stream": "stdout",
       "text": [
        "Epoch 172, CIFAR-10 Batch 3:  "
       ]
      },
      {
       "output_type": "stream",
       "stream": "stdout",
       "text": [
        "Loss:     0.9972 Validation Accuracy: 0.573400\n"
       ]
      },
      {
       "output_type": "stream",
       "stream": "stdout",
       "text": [
        "Epoch 172, CIFAR-10 Batch 4:  "
       ]
      },
      {
       "output_type": "stream",
       "stream": "stdout",
       "text": [
        "Loss:     0.9275 Validation Accuracy: 0.544200\n",
        "Epoch 172, CIFAR-10 Batch 5:  "
       ]
      },
      {
       "output_type": "stream",
       "stream": "stdout",
       "text": [
        "Loss:     1.3092 Validation Accuracy: 0.487400\n"
       ]
      },
      {
       "output_type": "stream",
       "stream": "stdout",
       "text": [
        "Epoch 173, CIFAR-10 Batch 1:  Loss:     0.6890 Validation Accuracy: 0.595400\n"
       ]
      },
      {
       "output_type": "stream",
       "stream": "stdout",
       "text": [
        "Epoch 173, CIFAR-10 Batch 2:  "
       ]
      },
      {
       "output_type": "stream",
       "stream": "stdout",
       "text": [
        "Loss:     0.8511 Validation Accuracy: 0.579000\n"
       ]
      },
      {
       "output_type": "stream",
       "stream": "stdout",
       "text": [
        "Epoch 173, CIFAR-10 Batch 3:  "
       ]
      },
      {
       "output_type": "stream",
       "stream": "stdout",
       "text": [
        "Loss:     0.7371 Validation Accuracy: 0.608600\n"
       ]
      },
      {
       "output_type": "stream",
       "stream": "stdout",
       "text": [
        "Epoch 173, CIFAR-10 Batch 4:  "
       ]
      },
      {
       "output_type": "stream",
       "stream": "stdout",
       "text": [
        "Loss:     0.5855 Validation Accuracy: 0.619000\n"
       ]
      },
      {
       "output_type": "stream",
       "stream": "stdout",
       "text": [
        "Epoch 173, CIFAR-10 Batch 5:  "
       ]
      },
      {
       "output_type": "stream",
       "stream": "stdout",
       "text": [
        "Loss:     1.2745 Validation Accuracy: 0.524200\n"
       ]
      },
      {
       "output_type": "stream",
       "stream": "stdout",
       "text": [
        "Epoch 174, CIFAR-10 Batch 1:  "
       ]
      },
      {
       "output_type": "stream",
       "stream": "stdout",
       "text": [
        "Loss:     0.8992 Validation Accuracy: 0.551600\n"
       ]
      },
      {
       "output_type": "stream",
       "stream": "stdout",
       "text": [
        "Epoch 174, CIFAR-10 Batch 2:  "
       ]
      },
      {
       "output_type": "stream",
       "stream": "stdout",
       "text": [
        "Loss:     0.8529 Validation Accuracy: 0.620800\n"
       ]
      },
      {
       "output_type": "stream",
       "stream": "stdout",
       "text": [
        "Epoch 174, CIFAR-10 Batch 3:  "
       ]
      },
      {
       "output_type": "stream",
       "stream": "stdout",
       "text": [
        "Loss:     0.9984 Validation Accuracy: 0.578400\n"
       ]
      },
      {
       "output_type": "stream",
       "stream": "stdout",
       "text": [
        "Epoch 174, CIFAR-10 Batch 4:  "
       ]
      },
      {
       "output_type": "stream",
       "stream": "stdout",
       "text": [
        "Loss:     0.6605 Validation Accuracy: 0.611800\n"
       ]
      },
      {
       "output_type": "stream",
       "stream": "stdout",
       "text": [
        "Epoch 174, CIFAR-10 Batch 5:  "
       ]
      },
      {
       "output_type": "stream",
       "stream": "stdout",
       "text": [
        "Loss:     1.2363 Validation Accuracy: 0.537200\n"
       ]
      },
      {
       "output_type": "stream",
       "stream": "stdout",
       "text": [
        "Epoch 175, CIFAR-10 Batch 1:  Loss:     0.6368 Validation Accuracy: 0.612600"
       ]
      },
      {
       "output_type": "stream",
       "stream": "stdout",
       "text": [
        "\n"
       ]
      },
      {
       "output_type": "stream",
       "stream": "stdout",
       "text": [
        "Epoch 175, CIFAR-10 Batch 2:  Loss:     1.0741 Validation Accuracy: 0.599200\n"
       ]
      },
      {
       "output_type": "stream",
       "stream": "stdout",
       "text": [
        "Epoch 175, CIFAR-10 Batch 3:  "
       ]
      },
      {
       "output_type": "stream",
       "stream": "stdout",
       "text": [
        "Loss:     0.8453 Validation Accuracy: 0.587000\n"
       ]
      },
      {
       "output_type": "stream",
       "stream": "stdout",
       "text": [
        "Epoch 175, CIFAR-10 Batch 4:  "
       ]
      },
      {
       "output_type": "stream",
       "stream": "stdout",
       "text": [
        "Loss:     0.8035 Validation Accuracy: 0.615200\n"
       ]
      },
      {
       "output_type": "stream",
       "stream": "stdout",
       "text": [
        "Epoch 175, CIFAR-10 Batch 5:  "
       ]
      },
      {
       "output_type": "stream",
       "stream": "stdout",
       "text": [
        "Loss:     1.1197 Validation Accuracy: 0.561600\n"
       ]
      },
      {
       "output_type": "stream",
       "stream": "stdout",
       "text": [
        "Epoch 176, CIFAR-10 Batch 1:  "
       ]
      },
      {
       "output_type": "stream",
       "stream": "stdout",
       "text": [
        "Loss:     0.7361 Validation Accuracy: 0.583600\n"
       ]
      },
      {
       "output_type": "stream",
       "stream": "stdout",
       "text": [
        "Epoch 176, CIFAR-10 Batch 2:  "
       ]
      },
      {
       "output_type": "stream",
       "stream": "stdout",
       "text": [
        "Loss:     0.9249 Validation Accuracy: 0.570800\n"
       ]
      },
      {
       "output_type": "stream",
       "stream": "stdout",
       "text": [
        "Epoch 176, CIFAR-10 Batch 3:  "
       ]
      },
      {
       "output_type": "stream",
       "stream": "stdout",
       "text": [
        "Loss:     0.7827 Validation Accuracy: 0.598600\n"
       ]
      },
      {
       "output_type": "stream",
       "stream": "stdout",
       "text": [
        "Epoch 176, CIFAR-10 Batch 4:  Loss:     0.7585 Validation Accuracy: 0.557400\n"
       ]
      },
      {
       "output_type": "stream",
       "stream": "stdout",
       "text": [
        "Epoch 176, CIFAR-10 Batch 5:  Loss:     1.0898 Validation Accuracy: 0.532200\n"
       ]
      },
      {
       "output_type": "stream",
       "stream": "stdout",
       "text": [
        "Epoch 177, CIFAR-10 Batch 1:  "
       ]
      },
      {
       "output_type": "stream",
       "stream": "stdout",
       "text": [
        "Loss:     0.5715 Validation Accuracy: 0.603200\n"
       ]
      },
      {
       "output_type": "stream",
       "stream": "stdout",
       "text": [
        "Epoch 177, CIFAR-10 Batch 2:  "
       ]
      },
      {
       "output_type": "stream",
       "stream": "stdout",
       "text": [
        "Loss:     0.8113 Validation Accuracy: 0.604000\n"
       ]
      },
      {
       "output_type": "stream",
       "stream": "stdout",
       "text": [
        "Epoch 177, CIFAR-10 Batch 3:  Loss:     0.9314 Validation Accuracy: 0.629800\n"
       ]
      },
      {
       "output_type": "stream",
       "stream": "stdout",
       "text": [
        "Epoch 177, CIFAR-10 Batch 4:  Loss:     0.6143 Validation Accuracy: 0.599600\n"
       ]
      },
      {
       "output_type": "stream",
       "stream": "stdout",
       "text": [
        "Epoch 177, CIFAR-10 Batch 5:  "
       ]
      },
      {
       "output_type": "stream",
       "stream": "stdout",
       "text": [
        "Loss:     1.2429 Validation Accuracy: 0.479400\n"
       ]
      },
      {
       "output_type": "stream",
       "stream": "stdout",
       "text": [
        "Epoch 178, CIFAR-10 Batch 1:  "
       ]
      },
      {
       "output_type": "stream",
       "stream": "stdout",
       "text": [
        "Loss:     0.5525 Validation Accuracy: 0.615600\n"
       ]
      },
      {
       "output_type": "stream",
       "stream": "stdout",
       "text": [
        "Epoch 178, CIFAR-10 Batch 2:  "
       ]
      },
      {
       "output_type": "stream",
       "stream": "stdout",
       "text": [
        "Loss:     0.7764 Validation Accuracy: 0.593800\n"
       ]
      },
      {
       "output_type": "stream",
       "stream": "stdout",
       "text": [
        "Epoch 178, CIFAR-10 Batch 3:  "
       ]
      },
      {
       "output_type": "stream",
       "stream": "stdout",
       "text": [
        "Loss:     0.6928 Validation Accuracy: 0.596600\n"
       ]
      },
      {
       "output_type": "stream",
       "stream": "stdout",
       "text": [
        "Epoch 178, CIFAR-10 Batch 4:  "
       ]
      },
      {
       "output_type": "stream",
       "stream": "stdout",
       "text": [
        "Loss:     0.7007 Validation Accuracy: 0.586800\n"
       ]
      },
      {
       "output_type": "stream",
       "stream": "stdout",
       "text": [
        "Epoch 178, CIFAR-10 Batch 5:  "
       ]
      },
      {
       "output_type": "stream",
       "stream": "stdout",
       "text": [
        "Loss:     0.9009 Validation Accuracy: 0.575000\n"
       ]
      },
      {
       "output_type": "stream",
       "stream": "stdout",
       "text": [
        "Epoch 179, CIFAR-10 Batch 1:  "
       ]
      },
      {
       "output_type": "stream",
       "stream": "stdout",
       "text": [
        "Loss:     0.6044 Validation Accuracy: 0.585000\n"
       ]
      },
      {
       "output_type": "stream",
       "stream": "stdout",
       "text": [
        "Epoch 179, CIFAR-10 Batch 2:  "
       ]
      },
      {
       "output_type": "stream",
       "stream": "stdout",
       "text": [
        "Loss:     0.6898 Validation Accuracy: 0.583600\n"
       ]
      },
      {
       "output_type": "stream",
       "stream": "stdout",
       "text": [
        "Epoch 179, CIFAR-10 Batch 3:  "
       ]
      },
      {
       "output_type": "stream",
       "stream": "stdout",
       "text": [
        "Loss:     0.8712 Validation Accuracy: 0.605000\n"
       ]
      },
      {
       "output_type": "stream",
       "stream": "stdout",
       "text": [
        "Epoch 179, CIFAR-10 Batch 4:  "
       ]
      },
      {
       "output_type": "stream",
       "stream": "stdout",
       "text": [
        "Loss:     0.6518 Validation Accuracy: 0.574200\n"
       ]
      },
      {
       "output_type": "stream",
       "stream": "stdout",
       "text": [
        "Epoch 179, CIFAR-10 Batch 5:  "
       ]
      },
      {
       "output_type": "stream",
       "stream": "stdout",
       "text": [
        "Loss:     1.3235 Validation Accuracy: 0.505200\n"
       ]
      },
      {
       "output_type": "stream",
       "stream": "stdout",
       "text": [
        "Epoch 180, CIFAR-10 Batch 1:  "
       ]
      },
      {
       "output_type": "stream",
       "stream": "stdout",
       "text": [
        "Loss:     0.5609 Validation Accuracy: 0.623200\n"
       ]
      },
      {
       "output_type": "stream",
       "stream": "stdout",
       "text": [
        "Epoch 180, CIFAR-10 Batch 2:  Loss:     1.0602 Validation Accuracy: 0.521400"
       ]
      },
      {
       "output_type": "stream",
       "stream": "stdout",
       "text": [
        "\n"
       ]
      },
      {
       "output_type": "stream",
       "stream": "stdout",
       "text": [
        "Epoch 180, CIFAR-10 Batch 3:  "
       ]
      },
      {
       "output_type": "stream",
       "stream": "stdout",
       "text": [
        "Loss:     1.0160 Validation Accuracy: 0.563200\n"
       ]
      },
      {
       "output_type": "stream",
       "stream": "stdout",
       "text": [
        "Epoch 180, CIFAR-10 Batch 4:  "
       ]
      },
      {
       "output_type": "stream",
       "stream": "stdout",
       "text": [
        "Loss:     0.8824 Validation Accuracy: 0.536200\n"
       ]
      },
      {
       "output_type": "stream",
       "stream": "stdout",
       "text": [
        "Epoch 180, CIFAR-10 Batch 5:  "
       ]
      },
      {
       "output_type": "stream",
       "stream": "stdout",
       "text": [
        "Loss:     0.9480 Validation Accuracy: 0.568800\n"
       ]
      },
      {
       "output_type": "stream",
       "stream": "stdout",
       "text": [
        "Epoch 181, CIFAR-10 Batch 1:  Loss:     0.5324 Validation Accuracy: 0.620600"
       ]
      },
      {
       "output_type": "stream",
       "stream": "stdout",
       "text": [
        "\n"
       ]
      },
      {
       "output_type": "stream",
       "stream": "stdout",
       "text": [
        "Epoch 181, CIFAR-10 Batch 2:  Loss:     0.8961 Validation Accuracy: 0.588800\n"
       ]
      },
      {
       "output_type": "stream",
       "stream": "stdout",
       "text": [
        "Epoch 181, CIFAR-10 Batch 3:  "
       ]
      },
      {
       "output_type": "stream",
       "stream": "stdout",
       "text": [
        "Loss:     0.9144 Validation Accuracy: 0.579600\n"
       ]
      },
      {
       "output_type": "stream",
       "stream": "stdout",
       "text": [
        "Epoch 181, CIFAR-10 Batch 4:  "
       ]
      },
      {
       "output_type": "stream",
       "stream": "stdout",
       "text": [
        "Loss:     0.7473 Validation Accuracy: 0.572200\n"
       ]
      },
      {
       "output_type": "stream",
       "stream": "stdout",
       "text": [
        "Epoch 181, CIFAR-10 Batch 5:  "
       ]
      },
      {
       "output_type": "stream",
       "stream": "stdout",
       "text": [
        "Loss:     1.1094 Validation Accuracy: 0.505400\n"
       ]
      },
      {
       "output_type": "stream",
       "stream": "stdout",
       "text": [
        "Epoch 182, CIFAR-10 Batch 1:  "
       ]
      },
      {
       "output_type": "stream",
       "stream": "stdout",
       "text": [
        "Loss:     0.6930 Validation Accuracy: 0.629600\n"
       ]
      },
      {
       "output_type": "stream",
       "stream": "stdout",
       "text": [
        "Epoch 182, CIFAR-10 Batch 2:  "
       ]
      },
      {
       "output_type": "stream",
       "stream": "stdout",
       "text": [
        "Loss:     0.9624 Validation Accuracy: 0.581800\n"
       ]
      },
      {
       "output_type": "stream",
       "stream": "stdout",
       "text": [
        "Epoch 182, CIFAR-10 Batch 3:  Loss:     1.2373 Validation Accuracy: 0.572600\n"
       ]
      },
      {
       "output_type": "stream",
       "stream": "stdout",
       "text": [
        "Epoch 182, CIFAR-10 Batch 4:  "
       ]
      },
      {
       "output_type": "stream",
       "stream": "stdout",
       "text": [
        "Loss:     0.5436 Validation Accuracy: 0.625000\n"
       ]
      },
      {
       "output_type": "stream",
       "stream": "stdout",
       "text": [
        "Epoch 182, CIFAR-10 Batch 5:  "
       ]
      },
      {
       "output_type": "stream",
       "stream": "stdout",
       "text": [
        "Loss:     1.0051 Validation Accuracy: 0.590800\n"
       ]
      },
      {
       "output_type": "stream",
       "stream": "stdout",
       "text": [
        "Epoch 183, CIFAR-10 Batch 1:  Loss:     0.6265 Validation Accuracy: 0.586200\n"
       ]
      },
      {
       "output_type": "stream",
       "stream": "stdout",
       "text": [
        "Epoch 183, CIFAR-10 Batch 2:  Loss:     0.8018 Validation Accuracy: 0.615000\n"
       ]
      },
      {
       "output_type": "stream",
       "stream": "stdout",
       "text": [
        "Epoch 183, CIFAR-10 Batch 3:  "
       ]
      },
      {
       "output_type": "stream",
       "stream": "stdout",
       "text": [
        "Loss:     0.8632 Validation Accuracy: 0.631200\n"
       ]
      },
      {
       "output_type": "stream",
       "stream": "stdout",
       "text": [
        "Epoch 183, CIFAR-10 Batch 4:  Loss:     0.7683 Validation Accuracy: 0.594800"
       ]
      },
      {
       "output_type": "stream",
       "stream": "stdout",
       "text": [
        "\n"
       ]
      },
      {
       "output_type": "stream",
       "stream": "stdout",
       "text": [
        "Epoch 183, CIFAR-10 Batch 5:  "
       ]
      },
      {
       "output_type": "stream",
       "stream": "stdout",
       "text": [
        "Loss:     1.0521 Validation Accuracy: 0.559200\n"
       ]
      },
      {
       "output_type": "stream",
       "stream": "stdout",
       "text": [
        "Epoch 184, CIFAR-10 Batch 1:  "
       ]
      },
      {
       "output_type": "stream",
       "stream": "stdout",
       "text": [
        "Loss:     0.6977 Validation Accuracy: 0.599200\n"
       ]
      },
      {
       "output_type": "stream",
       "stream": "stdout",
       "text": [
        "Epoch 184, CIFAR-10 Batch 2:  "
       ]
      },
      {
       "output_type": "stream",
       "stream": "stdout",
       "text": [
        "Loss:     0.7894 Validation Accuracy: 0.579200\n"
       ]
      },
      {
       "output_type": "stream",
       "stream": "stdout",
       "text": [
        "Epoch 184, CIFAR-10 Batch 3:  "
       ]
      },
      {
       "output_type": "stream",
       "stream": "stdout",
       "text": [
        "Loss:     0.8376 Validation Accuracy: 0.611400\n"
       ]
      },
      {
       "output_type": "stream",
       "stream": "stdout",
       "text": [
        "Epoch 184, CIFAR-10 Batch 4:  "
       ]
      },
      {
       "output_type": "stream",
       "stream": "stdout",
       "text": [
        "Loss:     0.6500 Validation Accuracy: 0.613600\n"
       ]
      },
      {
       "output_type": "stream",
       "stream": "stdout",
       "text": [
        "Epoch 184, CIFAR-10 Batch 5:  Loss:     0.9001 Validation Accuracy: 0.528000\n"
       ]
      },
      {
       "output_type": "stream",
       "stream": "stdout",
       "text": [
        "Epoch 185, CIFAR-10 Batch 1:  "
       ]
      },
      {
       "output_type": "stream",
       "stream": "stdout",
       "text": [
        "Loss:     0.5608 Validation Accuracy: 0.621200\n"
       ]
      },
      {
       "output_type": "stream",
       "stream": "stdout",
       "text": [
        "Epoch 185, CIFAR-10 Batch 2:  "
       ]
      },
      {
       "output_type": "stream",
       "stream": "stdout",
       "text": [
        "Loss:     0.8639 Validation Accuracy: 0.590200\n"
       ]
      },
      {
       "output_type": "stream",
       "stream": "stdout",
       "text": [
        "Epoch 185, CIFAR-10 Batch 3:  Loss:     0.8062 Validation Accuracy: 0.565400"
       ]
      },
      {
       "output_type": "stream",
       "stream": "stdout",
       "text": [
        "\n",
        "Epoch 185, CIFAR-10 Batch 4:  "
       ]
      },
      {
       "output_type": "stream",
       "stream": "stdout",
       "text": [
        "Loss:     0.6930 Validation Accuracy: 0.608600\n"
       ]
      },
      {
       "output_type": "stream",
       "stream": "stdout",
       "text": [
        "Epoch 185, CIFAR-10 Batch 5:  Loss:     0.9533 Validation Accuracy: 0.548000"
       ]
      },
      {
       "output_type": "stream",
       "stream": "stdout",
       "text": [
        "\n",
        "Epoch 186, CIFAR-10 Batch 1:  "
       ]
      },
      {
       "output_type": "stream",
       "stream": "stdout",
       "text": [
        "Loss:     0.5962 Validation Accuracy: 0.611400\n"
       ]
      },
      {
       "output_type": "stream",
       "stream": "stdout",
       "text": [
        "Epoch 186, CIFAR-10 Batch 2:  "
       ]
      },
      {
       "output_type": "stream",
       "stream": "stdout",
       "text": [
        "Loss:     0.8056 Validation Accuracy: 0.598000\n"
       ]
      },
      {
       "output_type": "stream",
       "stream": "stdout",
       "text": [
        "Epoch 186, CIFAR-10 Batch 3:  "
       ]
      },
      {
       "output_type": "stream",
       "stream": "stdout",
       "text": [
        "Loss:     0.8904 Validation Accuracy: 0.555600\n"
       ]
      },
      {
       "output_type": "stream",
       "stream": "stdout",
       "text": [
        "Epoch 186, CIFAR-10 Batch 4:  "
       ]
      },
      {
       "output_type": "stream",
       "stream": "stdout",
       "text": [
        "Loss:     0.7186 Validation Accuracy: 0.641000\n"
       ]
      },
      {
       "output_type": "stream",
       "stream": "stdout",
       "text": [
        "Epoch 186, CIFAR-10 Batch 5:  "
       ]
      },
      {
       "output_type": "stream",
       "stream": "stdout",
       "text": [
        "Loss:     0.9755 Validation Accuracy: 0.547600\n"
       ]
      },
      {
       "output_type": "stream",
       "stream": "stdout",
       "text": [
        "Epoch 187, CIFAR-10 Batch 1:  "
       ]
      },
      {
       "output_type": "stream",
       "stream": "stdout",
       "text": [
        "Loss:     0.8201 Validation Accuracy: 0.611200\n"
       ]
      },
      {
       "output_type": "stream",
       "stream": "stdout",
       "text": [
        "Epoch 187, CIFAR-10 Batch 2:  "
       ]
      },
      {
       "output_type": "stream",
       "stream": "stdout",
       "text": [
        "Loss:     0.8755 Validation Accuracy: 0.625800\n"
       ]
      },
      {
       "output_type": "stream",
       "stream": "stdout",
       "text": [
        "Epoch 187, CIFAR-10 Batch 3:  Loss:     0.8187 Validation Accuracy: 0.600600\n"
       ]
      },
      {
       "output_type": "stream",
       "stream": "stdout",
       "text": [
        "Epoch 187, CIFAR-10 Batch 4:  Loss:     0.7026 Validation Accuracy: 0.619400"
       ]
      },
      {
       "output_type": "stream",
       "stream": "stdout",
       "text": [
        "\n"
       ]
      },
      {
       "output_type": "stream",
       "stream": "stdout",
       "text": [
        "Epoch 187, CIFAR-10 Batch 5:  "
       ]
      },
      {
       "output_type": "stream",
       "stream": "stdout",
       "text": [
        "Loss:     1.2069 Validation Accuracy: 0.461000\n"
       ]
      },
      {
       "output_type": "stream",
       "stream": "stdout",
       "text": [
        "Epoch 188, CIFAR-10 Batch 1:  "
       ]
      },
      {
       "output_type": "stream",
       "stream": "stdout",
       "text": [
        "Loss:     0.6748 Validation Accuracy: 0.604600\n"
       ]
      },
      {
       "output_type": "stream",
       "stream": "stdout",
       "text": [
        "Epoch 188, CIFAR-10 Batch 2:  "
       ]
      },
      {
       "output_type": "stream",
       "stream": "stdout",
       "text": [
        "Loss:     0.8792 Validation Accuracy: 0.564600\n"
       ]
      },
      {
       "output_type": "stream",
       "stream": "stdout",
       "text": [
        "Epoch 188, CIFAR-10 Batch 3:  "
       ]
      },
      {
       "output_type": "stream",
       "stream": "stdout",
       "text": [
        "Loss:     0.8860 Validation Accuracy: 0.581800\n"
       ]
      },
      {
       "output_type": "stream",
       "stream": "stdout",
       "text": [
        "Epoch 188, CIFAR-10 Batch 4:  "
       ]
      },
      {
       "output_type": "stream",
       "stream": "stdout",
       "text": [
        "Loss:     0.7237 Validation Accuracy: 0.558600\n"
       ]
      },
      {
       "output_type": "stream",
       "stream": "stdout",
       "text": [
        "Epoch 188, CIFAR-10 Batch 5:  "
       ]
      },
      {
       "output_type": "stream",
       "stream": "stdout",
       "text": [
        "Loss:     1.1090 Validation Accuracy: 0.541400\n"
       ]
      },
      {
       "output_type": "stream",
       "stream": "stdout",
       "text": [
        "Epoch 189, CIFAR-10 Batch 1:  "
       ]
      },
      {
       "output_type": "stream",
       "stream": "stdout",
       "text": [
        "Loss:     0.5837 Validation Accuracy: 0.599600\n"
       ]
      },
      {
       "output_type": "stream",
       "stream": "stdout",
       "text": [
        "Epoch 189, CIFAR-10 Batch 2:  "
       ]
      },
      {
       "output_type": "stream",
       "stream": "stdout",
       "text": [
        "Loss:     0.9511 Validation Accuracy: 0.596600\n"
       ]
      },
      {
       "output_type": "stream",
       "stream": "stdout",
       "text": [
        "Epoch 189, CIFAR-10 Batch 3:  "
       ]
      },
      {
       "output_type": "stream",
       "stream": "stdout",
       "text": [
        "Loss:     0.9606 Validation Accuracy: 0.583200\n"
       ]
      },
      {
       "output_type": "stream",
       "stream": "stdout",
       "text": [
        "Epoch 189, CIFAR-10 Batch 4:  Loss:     0.6262 Validation Accuracy: 0.606800\n"
       ]
      },
      {
       "output_type": "stream",
       "stream": "stdout",
       "text": [
        "Epoch 189, CIFAR-10 Batch 5:  "
       ]
      },
      {
       "output_type": "stream",
       "stream": "stdout",
       "text": [
        "Loss:     1.1626 Validation Accuracy: 0.560400\n"
       ]
      },
      {
       "output_type": "stream",
       "stream": "stdout",
       "text": [
        "Epoch 190, CIFAR-10 Batch 1:  Loss:     0.4978 Validation Accuracy: 0.606400"
       ]
      },
      {
       "output_type": "stream",
       "stream": "stdout",
       "text": [
        "\n"
       ]
      },
      {
       "output_type": "stream",
       "stream": "stdout",
       "text": [
        "Epoch 190, CIFAR-10 Batch 2:  "
       ]
      },
      {
       "output_type": "stream",
       "stream": "stdout",
       "text": [
        "Loss:     0.9547 Validation Accuracy: 0.528600\n"
       ]
      },
      {
       "output_type": "stream",
       "stream": "stdout",
       "text": [
        "Epoch 190, CIFAR-10 Batch 3:  "
       ]
      },
      {
       "output_type": "stream",
       "stream": "stdout",
       "text": [
        "Loss:     1.1923 Validation Accuracy: 0.554000\n"
       ]
      },
      {
       "output_type": "stream",
       "stream": "stdout",
       "text": [
        "Epoch 190, CIFAR-10 Batch 4:  "
       ]
      },
      {
       "output_type": "stream",
       "stream": "stdout",
       "text": [
        "Loss:     0.8330 Validation Accuracy: 0.629600\n"
       ]
      },
      {
       "output_type": "stream",
       "stream": "stdout",
       "text": [
        "Epoch 190, CIFAR-10 Batch 5:  "
       ]
      },
      {
       "output_type": "stream",
       "stream": "stdout",
       "text": [
        "Loss:     1.1920 Validation Accuracy: 0.479400\n"
       ]
      },
      {
       "output_type": "stream",
       "stream": "stdout",
       "text": [
        "Epoch 191, CIFAR-10 Batch 1:  "
       ]
      },
      {
       "output_type": "stream",
       "stream": "stdout",
       "text": [
        "Loss:     0.5001 Validation Accuracy: 0.604000\n"
       ]
      },
      {
       "output_type": "stream",
       "stream": "stdout",
       "text": [
        "Epoch 191, CIFAR-10 Batch 2:  Loss:     0.8535 Validation Accuracy: 0.577800\n"
       ]
      },
      {
       "output_type": "stream",
       "stream": "stdout",
       "text": [
        "Epoch 191, CIFAR-10 Batch 3:  "
       ]
      },
      {
       "output_type": "stream",
       "stream": "stdout",
       "text": [
        "Loss:     0.8133 Validation Accuracy: 0.580400\n"
       ]
      },
      {
       "output_type": "stream",
       "stream": "stdout",
       "text": [
        "Epoch 191, CIFAR-10 Batch 4:  "
       ]
      },
      {
       "output_type": "stream",
       "stream": "stdout",
       "text": [
        "Loss:     0.8508 Validation Accuracy: 0.540600\n"
       ]
      },
      {
       "output_type": "stream",
       "stream": "stdout",
       "text": [
        "Epoch 191, CIFAR-10 Batch 5:  "
       ]
      },
      {
       "output_type": "stream",
       "stream": "stdout",
       "text": [
        "Loss:     0.9182 Validation Accuracy: 0.598600\n"
       ]
      },
      {
       "output_type": "stream",
       "stream": "stdout",
       "text": [
        "Epoch 192, CIFAR-10 Batch 1:  "
       ]
      },
      {
       "output_type": "stream",
       "stream": "stdout",
       "text": [
        "Loss:     0.4768 Validation Accuracy: 0.640200\n"
       ]
      },
      {
       "output_type": "stream",
       "stream": "stdout",
       "text": [
        "Epoch 192, CIFAR-10 Batch 2:  "
       ]
      },
      {
       "output_type": "stream",
       "stream": "stdout",
       "text": [
        "Loss:     0.9345 Validation Accuracy: 0.576800\n"
       ]
      },
      {
       "output_type": "stream",
       "stream": "stdout",
       "text": [
        "Epoch 192, CIFAR-10 Batch 3:  "
       ]
      },
      {
       "output_type": "stream",
       "stream": "stdout",
       "text": [
        "Loss:     0.8834 Validation Accuracy: 0.609000\n"
       ]
      },
      {
       "output_type": "stream",
       "stream": "stdout",
       "text": [
        "Epoch 192, CIFAR-10 Batch 4:  "
       ]
      },
      {
       "output_type": "stream",
       "stream": "stdout",
       "text": [
        "Loss:     0.6071 Validation Accuracy: 0.640600\n"
       ]
      },
      {
       "output_type": "stream",
       "stream": "stdout",
       "text": [
        "Epoch 192, CIFAR-10 Batch 5:  "
       ]
      },
      {
       "output_type": "stream",
       "stream": "stdout",
       "text": [
        "Loss:     1.2888 Validation Accuracy: 0.551800\n"
       ]
      },
      {
       "output_type": "stream",
       "stream": "stdout",
       "text": [
        "Epoch 193, CIFAR-10 Batch 1:  "
       ]
      },
      {
       "output_type": "stream",
       "stream": "stdout",
       "text": [
        "Loss:     0.8220 Validation Accuracy: 0.544800\n"
       ]
      },
      {
       "output_type": "stream",
       "stream": "stdout",
       "text": [
        "Epoch 193, CIFAR-10 Batch 2:  "
       ]
      },
      {
       "output_type": "stream",
       "stream": "stdout",
       "text": [
        "Loss:     0.8257 Validation Accuracy: 0.645200\n"
       ]
      },
      {
       "output_type": "stream",
       "stream": "stdout",
       "text": [
        "Epoch 193, CIFAR-10 Batch 3:  "
       ]
      },
      {
       "output_type": "stream",
       "stream": "stdout",
       "text": [
        "Loss:     1.0616 Validation Accuracy: 0.523200\n"
       ]
      },
      {
       "output_type": "stream",
       "stream": "stdout",
       "text": [
        "Epoch 193, CIFAR-10 Batch 4:  "
       ]
      },
      {
       "output_type": "stream",
       "stream": "stdout",
       "text": [
        "Loss:     0.6287 Validation Accuracy: 0.637400\n"
       ]
      },
      {
       "output_type": "stream",
       "stream": "stdout",
       "text": [
        "Epoch 193, CIFAR-10 Batch 5:  "
       ]
      },
      {
       "output_type": "stream",
       "stream": "stdout",
       "text": [
        "Loss:     1.0099 Validation Accuracy: 0.554600\n"
       ]
      },
      {
       "output_type": "stream",
       "stream": "stdout",
       "text": [
        "Epoch 194, CIFAR-10 Batch 1:  "
       ]
      },
      {
       "output_type": "stream",
       "stream": "stdout",
       "text": [
        "Loss:     0.5397 Validation Accuracy: 0.626600\n"
       ]
      },
      {
       "output_type": "stream",
       "stream": "stdout",
       "text": [
        "Epoch 194, CIFAR-10 Batch 2:  "
       ]
      },
      {
       "output_type": "stream",
       "stream": "stdout",
       "text": [
        "Loss:     1.0080 Validation Accuracy: 0.597400\n"
       ]
      },
      {
       "output_type": "stream",
       "stream": "stdout",
       "text": [
        "Epoch 194, CIFAR-10 Batch 3:  "
       ]
      },
      {
       "output_type": "stream",
       "stream": "stdout",
       "text": [
        "Loss:     0.9403 Validation Accuracy: 0.589000\n"
       ]
      },
      {
       "output_type": "stream",
       "stream": "stdout",
       "text": [
        "Epoch 194, CIFAR-10 Batch 4:  "
       ]
      },
      {
       "output_type": "stream",
       "stream": "stdout",
       "text": [
        "Loss:     0.6544 Validation Accuracy: 0.605000\n"
       ]
      },
      {
       "output_type": "stream",
       "stream": "stdout",
       "text": [
        "Epoch 194, CIFAR-10 Batch 5:  "
       ]
      },
      {
       "output_type": "stream",
       "stream": "stdout",
       "text": [
        "Loss:     1.4061 Validation Accuracy: 0.535200\n"
       ]
      },
      {
       "output_type": "stream",
       "stream": "stdout",
       "text": [
        "Epoch 195, CIFAR-10 Batch 1:  Loss:     0.5214 Validation Accuracy: 0.619600"
       ]
      },
      {
       "output_type": "stream",
       "stream": "stdout",
       "text": [
        "\n"
       ]
      },
      {
       "output_type": "stream",
       "stream": "stdout",
       "text": [
        "Epoch 195, CIFAR-10 Batch 2:  "
       ]
      },
      {
       "output_type": "stream",
       "stream": "stdout",
       "text": [
        "Loss:     1.0038 Validation Accuracy: 0.573200\n"
       ]
      },
      {
       "output_type": "stream",
       "stream": "stdout",
       "text": [
        "Epoch 195, CIFAR-10 Batch 3:  "
       ]
      },
      {
       "output_type": "stream",
       "stream": "stdout",
       "text": [
        "Loss:     1.1044 Validation Accuracy: 0.555600\n"
       ]
      },
      {
       "output_type": "stream",
       "stream": "stdout",
       "text": [
        "Epoch 195, CIFAR-10 Batch 4:  "
       ]
      },
      {
       "output_type": "stream",
       "stream": "stdout",
       "text": [
        "Loss:     0.6779 Validation Accuracy: 0.591400\n"
       ]
      },
      {
       "output_type": "stream",
       "stream": "stdout",
       "text": [
        "Epoch 195, CIFAR-10 Batch 5:  "
       ]
      },
      {
       "output_type": "stream",
       "stream": "stdout",
       "text": [
        "Loss:     1.1060 Validation Accuracy: 0.591000\n"
       ]
      },
      {
       "output_type": "stream",
       "stream": "stdout",
       "text": [
        "Epoch 196, CIFAR-10 Batch 1:  "
       ]
      },
      {
       "output_type": "stream",
       "stream": "stdout",
       "text": [
        "Loss:     0.6147 Validation Accuracy: 0.619600\n"
       ]
      },
      {
       "output_type": "stream",
       "stream": "stdout",
       "text": [
        "Epoch 196, CIFAR-10 Batch 2:  Loss:     0.9608 Validation Accuracy: 0.593400\n"
       ]
      },
      {
       "output_type": "stream",
       "stream": "stdout",
       "text": [
        "Epoch 196, CIFAR-10 Batch 3:  "
       ]
      },
      {
       "output_type": "stream",
       "stream": "stdout",
       "text": [
        "Loss:     0.7655 Validation Accuracy: 0.602000\n"
       ]
      },
      {
       "output_type": "stream",
       "stream": "stdout",
       "text": [
        "Epoch 196, CIFAR-10 Batch 4:  "
       ]
      },
      {
       "output_type": "stream",
       "stream": "stdout",
       "text": [
        "Loss:     0.6340 Validation Accuracy: 0.592800\n"
       ]
      },
      {
       "output_type": "stream",
       "stream": "stdout",
       "text": [
        "Epoch 196, CIFAR-10 Batch 5:  Loss:     1.0086 Validation Accuracy: 0.595200"
       ]
      },
      {
       "output_type": "stream",
       "stream": "stdout",
       "text": [
        "\n"
       ]
      },
      {
       "output_type": "stream",
       "stream": "stdout",
       "text": [
        "Epoch 197, CIFAR-10 Batch 1:  Loss:     0.6403 Validation Accuracy: 0.626000"
       ]
      },
      {
       "output_type": "stream",
       "stream": "stdout",
       "text": [
        "\n"
       ]
      },
      {
       "output_type": "stream",
       "stream": "stdout",
       "text": [
        "Epoch 197, CIFAR-10 Batch 2:  "
       ]
      },
      {
       "output_type": "stream",
       "stream": "stdout",
       "text": [
        "Loss:     1.0491 Validation Accuracy: 0.542400\n"
       ]
      },
      {
       "output_type": "stream",
       "stream": "stdout",
       "text": [
        "Epoch 197, CIFAR-10 Batch 3:  "
       ]
      },
      {
       "output_type": "stream",
       "stream": "stdout",
       "text": [
        "Loss:     0.9781 Validation Accuracy: 0.586000\n"
       ]
      },
      {
       "output_type": "stream",
       "stream": "stdout",
       "text": [
        "Epoch 197, CIFAR-10 Batch 4:  "
       ]
      },
      {
       "output_type": "stream",
       "stream": "stdout",
       "text": [
        "Loss:     0.6420 Validation Accuracy: 0.603200\n"
       ]
      },
      {
       "output_type": "stream",
       "stream": "stdout",
       "text": [
        "Epoch 197, CIFAR-10 Batch 5:  Loss:     1.6287 Validation Accuracy: 0.488800\n"
       ]
      },
      {
       "output_type": "stream",
       "stream": "stdout",
       "text": [
        "Epoch 198, CIFAR-10 Batch 1:  "
       ]
      },
      {
       "output_type": "stream",
       "stream": "stdout",
       "text": [
        "Loss:     0.5718 Validation Accuracy: 0.623400\n"
       ]
      },
      {
       "output_type": "stream",
       "stream": "stdout",
       "text": [
        "Epoch 198, CIFAR-10 Batch 2:  Loss:     1.0106 Validation Accuracy: 0.563000"
       ]
      },
      {
       "output_type": "stream",
       "stream": "stdout",
       "text": [
        "\n"
       ]
      },
      {
       "output_type": "stream",
       "stream": "stdout",
       "text": [
        "Epoch 198, CIFAR-10 Batch 3:  "
       ]
      },
      {
       "output_type": "stream",
       "stream": "stdout",
       "text": [
        "Loss:     0.8555 Validation Accuracy: 0.604000\n"
       ]
      },
      {
       "output_type": "stream",
       "stream": "stdout",
       "text": [
        "Epoch 198, CIFAR-10 Batch 4:  "
       ]
      },
      {
       "output_type": "stream",
       "stream": "stdout",
       "text": [
        "Loss:     1.0555 Validation Accuracy: 0.522200\n"
       ]
      },
      {
       "output_type": "stream",
       "stream": "stdout",
       "text": [
        "Epoch 198, CIFAR-10 Batch 5:  "
       ]
      },
      {
       "output_type": "stream",
       "stream": "stdout",
       "text": [
        "Loss:     0.8935 Validation Accuracy: 0.593400\n"
       ]
      },
      {
       "output_type": "stream",
       "stream": "stdout",
       "text": [
        "Epoch 199, CIFAR-10 Batch 1:  Loss:     0.5801 Validation Accuracy: 0.588000\n"
       ]
      },
      {
       "output_type": "stream",
       "stream": "stdout",
       "text": [
        "Epoch 199, CIFAR-10 Batch 2:  Loss:     0.9463 Validation Accuracy: 0.574000"
       ]
      },
      {
       "output_type": "stream",
       "stream": "stdout",
       "text": [
        "\n"
       ]
      },
      {
       "output_type": "stream",
       "stream": "stdout",
       "text": [
        "Epoch 199, CIFAR-10 Batch 3:  "
       ]
      },
      {
       "output_type": "stream",
       "stream": "stdout",
       "text": [
        "Loss:     0.8454 Validation Accuracy: 0.584400\n"
       ]
      },
      {
       "output_type": "stream",
       "stream": "stdout",
       "text": [
        "Epoch 199, CIFAR-10 Batch 4:  "
       ]
      },
      {
       "output_type": "stream",
       "stream": "stdout",
       "text": [
        "Loss:     0.6230 Validation Accuracy: 0.623000\n"
       ]
      },
      {
       "output_type": "stream",
       "stream": "stdout",
       "text": [
        "Epoch 199, CIFAR-10 Batch 5:  "
       ]
      },
      {
       "output_type": "stream",
       "stream": "stdout",
       "text": [
        "Loss:     0.9077 Validation Accuracy: 0.566800\n"
       ]
      },
      {
       "output_type": "stream",
       "stream": "stdout",
       "text": [
        "Epoch 200, CIFAR-10 Batch 1:  "
       ]
      },
      {
       "output_type": "stream",
       "stream": "stdout",
       "text": [
        "Loss:     0.4742 Validation Accuracy: 0.608600\n"
       ]
      },
      {
       "output_type": "stream",
       "stream": "stdout",
       "text": [
        "Epoch 200, CIFAR-10 Batch 2:  Loss:     1.0816 Validation Accuracy: 0.538400\n"
       ]
      },
      {
       "output_type": "stream",
       "stream": "stdout",
       "text": [
        "Epoch 200, CIFAR-10 Batch 3:  "
       ]
      },
      {
       "output_type": "stream",
       "stream": "stdout",
       "text": [
        "Loss:     0.9758 Validation Accuracy: 0.592200\n"
       ]
      },
      {
       "output_type": "stream",
       "stream": "stdout",
       "text": [
        "Epoch 200, CIFAR-10 Batch 4:  "
       ]
      },
      {
       "output_type": "stream",
       "stream": "stdout",
       "text": [
        "Loss:     0.7092 Validation Accuracy: 0.610200\n"
       ]
      },
      {
       "output_type": "stream",
       "stream": "stdout",
       "text": [
        "Epoch 200, CIFAR-10 Batch 5:  "
       ]
      },
      {
       "output_type": "stream",
       "stream": "stdout",
       "text": [
        "Loss:     1.0592 Validation Accuracy: 0.524200\n"
       ]
      }
     ],
     "prompt_number": 17
    },
    {
     "cell_type": "markdown",
     "metadata": {
      "deletable": true,
      "editable": true
     },
     "source": [
      "# Checkpoint\n",
      "The model has been saved to disk.\n",
      "## Test Model\n",
      "Test your model against the test dataset.  This will be your final accuracy. You should have an accuracy greater than 50%. If you don't, keep tweaking the model architecture and parameters."
     ]
    },
    {
     "cell_type": "code",
     "collapsed": false,
     "input": [
      "\"\"\"\n",
      "DON'T MODIFY ANYTHING IN THIS CELL\n",
      "\"\"\"\n",
      "%matplotlib inline\n",
      "%config InlineBackend.figure_format = 'retina'\n",
      "\n",
      "import tensorflow as tf\n",
      "import pickle\n",
      "import helper\n",
      "import random\n",
      "\n",
      "# Set batch size if not already set\n",
      "try:\n",
      "    if batch_size:\n",
      "        pass\n",
      "except NameError:\n",
      "    batch_size = 64\n",
      "\n",
      "save_model_path = './image_classification'\n",
      "n_samples = 4\n",
      "top_n_predictions = 3\n",
      "\n",
      "def test_model():\n",
      "    \"\"\"\n",
      "    Test the saved model against the test dataset\n",
      "    \"\"\"\n",
      "\n",
      "    test_features, test_labels = pickle.load(open('preprocess_test.p', mode='rb'))\n",
      "    loaded_graph = tf.Graph()\n",
      "\n",
      "    with tf.Session(graph=loaded_graph) as sess:\n",
      "        # Load model\n",
      "        loader = tf.train.import_meta_graph(save_model_path + '.meta')\n",
      "        loader.restore(sess, save_model_path)\n",
      "\n",
      "        # Get Tensors from loaded model\n",
      "        loaded_x = loaded_graph.get_tensor_by_name('x:0')\n",
      "        loaded_y = loaded_graph.get_tensor_by_name('y:0')\n",
      "        loaded_keep_prob = loaded_graph.get_tensor_by_name('keep_prob:0')\n",
      "        loaded_logits = loaded_graph.get_tensor_by_name('logits:0')\n",
      "        loaded_acc = loaded_graph.get_tensor_by_name('accuracy:0')\n",
      "        \n",
      "        # Get accuracy in batches for memory limitations\n",
      "        test_batch_acc_total = 0\n",
      "        test_batch_count = 0\n",
      "        \n",
      "        for test_feature_batch, test_label_batch in helper.batch_features_labels(test_features, test_labels, batch_size):\n",
      "            test_batch_acc_total += sess.run(\n",
      "                loaded_acc,\n",
      "                feed_dict={loaded_x: test_feature_batch, loaded_y: test_label_batch, loaded_keep_prob: 1.0})\n",
      "            test_batch_count += 1\n",
      "\n",
      "        print('Testing Accuracy: {}\\n'.format(test_batch_acc_total/test_batch_count))\n",
      "\n",
      "        # Print Random Samples\n",
      "        random_test_features, random_test_labels = tuple(zip(*random.sample(list(zip(test_features, test_labels)), n_samples)))\n",
      "        random_test_predictions = sess.run(\n",
      "            tf.nn.top_k(tf.nn.softmax(loaded_logits), top_n_predictions),\n",
      "            feed_dict={loaded_x: random_test_features, loaded_y: random_test_labels, loaded_keep_prob: 1.0})\n",
      "        helper.display_image_predictions(random_test_features, random_test_labels, random_test_predictions)\n",
      "\n",
      "\n",
      "test_model()"
     ],
     "language": "python",
     "metadata": {
      "deletable": true,
      "editable": true
     },
     "outputs": [
      {
       "output_type": "stream",
       "stream": "stdout",
       "text": [
        "Testing Accuracy: 0.49940095846645366\n",
        "\n"
       ]
      },
      {
       "output_type": "display_data",
       "png": "[encoded data removed]",
       "text": [
        "<matplotlib.figure.Figure at 0x7f3ed29964e0>"
       ]
      }
     ],
     "prompt_number": 18
    },
    {
     "cell_type": "markdown",
     "metadata": {
      "deletable": true,
      "editable": true
     },
     "source": [
      "## Why 50-80% Accuracy?\n",
      "You might be wondering why you can't get an accuracy any higher. First things first, 50% isn't bad for a simple CNN.  Pure guessing would get you 10% accuracy. However, you might notice people are getting scores [well above 80%](http://rodrigob.github.io/are_we_there_yet/build/classification_datasets_results.html#43494641522d3130).  That's because we haven't taught you all there is to know about neural networks. We still need to cover a few more techniques.\n",
      "## Submitting This Project\n",
      "When submitting this project, make sure to run all the cells before saving the notebook.  Save the notebook file as \"dlnd_image_classification.ipynb\" and save it as a HTML file under \"File\" -> \"Download as\".  Include the \"helper.py\" and \"problem_unittests.py\" files in your submission."
     ]
    },
    {
     "cell_type": "code",
     "collapsed": true,
     "input": [],
     "language": "python",
     "metadata": {
      "deletable": true,
      "editable": true
     },
     "outputs": [],
     "prompt_number": 19
    }
   ],
   "metadata": {}
  }
 ]
}
